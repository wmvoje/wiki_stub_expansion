{
 "cells": [
  {
   "cell_type": "code",
   "execution_count": null,
   "metadata": {},
   "outputs": [],
   "source": [
    "\n",
    "\n",
    "(pd.read_csv(f, encoding='UTF-16') for f in path_to_revisions.iterdir() if f.lstat().st_size>100)"
   ]
  },
  {
   "cell_type": "code",
   "execution_count": 1,
   "metadata": {},
   "outputs": [],
   "source": [
    "import mwapi\n",
    "import pathlib\n",
    "import pandas as pd"
   ]
  },
  {
   "cell_type": "code",
   "execution_count": 2,
   "metadata": {},
   "outputs": [],
   "source": [
    "path_to_revisions = pathlib.Path('../data/test15/revisions/')"
   ]
  },
  {
   "cell_type": "code",
   "execution_count": 3,
   "metadata": {},
   "outputs": [
    {
     "name": "stderr",
     "output_type": "stream",
     "text": [
      "Sending requests with default User-Agent.  Set 'user_agent' on mwapi.Session to quiet this message.\n"
     ]
    }
   ],
   "source": [
    "session = mwapi.Session('https://en.wikipedia.org')"
   ]
  },
  {
   "cell_type": "code",
   "execution_count": null,
   "metadata": {},
   "outputs": [],
   "source": [
    "dictionary_of_links = dict()\n",
    "\n",
    "for pagename in (f.name.split('.csv')[0] for f in path_to_revisions.iterdir() if f.lstat().st_size>200):\n",
    "    dictionary_of_links[pagename] = []\n",
    "    for dump in session.get(continuation=True, action='query', bltitle =pagename, list='backlinks', bllimit='500'):\n",
    "        for link in dump['query']['backlinks']:\n",
    "            pageid = link['pageid']\n",
    "            title = link['title']\n",
    "            dictionary_of_links[pagename].append((pageid, title))\n"
   ]
  },
  {
   "cell_type": "code",
   "execution_count": null,
   "metadata": {},
   "outputs": [],
   "source": [
    "import json"
   ]
  },
  {
   "cell_type": "code",
   "execution_count": null,
   "metadata": {},
   "outputs": [],
   "source": [
    "with open(pathlib.Path('../data/test15/links_pointing_to_pages.json'), 'w') as jsonpath:\n",
    "    json.dump(dictionary_of_links, jsonpath)"
   ]
  },
  {
   "cell_type": "code",
   "execution_count": null,
   "metadata": {},
   "outputs": [],
   "source": []
  }
 ],
 "metadata": {
  "kernelspec": {
   "display_name": "Python 3",
   "language": "python",
   "name": "python3"
  },
  "language_info": {
   "codemirror_mode": {
    "name": "ipython",
    "version": 3
   },
   "file_extension": ".py",
   "mimetype": "text/x-python",
   "name": "python",
   "nbconvert_exporter": "python",
   "pygments_lexer": "ipython3",
   "version": "3.6.6"
  }
 },
 "nbformat": 4,
 "nbformat_minor": 2
}
