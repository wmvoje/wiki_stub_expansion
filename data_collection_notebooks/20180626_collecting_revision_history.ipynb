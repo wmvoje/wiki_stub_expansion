{
 "cells": [
  {
   "cell_type": "code",
   "execution_count": 1,
   "metadata": {},
   "outputs": [],
   "source": [
    "import sys\n",
    "import pandas as pd\n",
    "import os\n",
    "import pathlib\n",
    "\n",
    "sys.path.append('../scripts/')\n"
   ]
  },
  {
   "cell_type": "code",
   "execution_count": 2,
   "metadata": {},
   "outputs": [],
   "source": [
    "import wikipedia_scripts"
   ]
  },
  {
   "cell_type": "code",
   "execution_count": 3,
   "metadata": {},
   "outputs": [
    {
     "name": "stdout",
     "output_type": "stream",
     "text": [
      "['Vagina', 837948295, 837425542, 'JCW-CleanerBot', 31737083, '2018-04-24T00:33:11Z', '[[User:JCW-CleanerBot#Logic|task]], replaced: PloS One → PLOS One using [[Project:AWB|AWB]]', 57462, 9051, 191, 28, 461, 10]\n",
      "['Vagina', 830730820, 829787196, 'JCW-CleanerBot', 31737083, '2018-03-16T16:21:10Z', '[[User:JCW-CleanerBot#Logic|task]], replaced: Biology of reproduction → Biology of Reproduction', 58244, 9170, 185, 28, 473, 10]\n",
      "['Vagina', 829632481, 829559531, 'Bender the Bot', 28903366, '2018-03-09T20:37:26Z', '/* Other animals */HTTP→HTTPS for [[Science Daily]], replaced: http://www.sciencedaily.com/ → https://www.sciencedaily.com/ using [[Project:AWB|AWB]]', 58229, 9168, 185, 28, 473, 10]\n",
      "['Vagina', 816130594, 816037476, 'Samuelpla7z', 29022503, '2017-12-19T13:43:01Z', \"[[WP:AES|←]]Replaced content with 'VAGINA TASTES AMAZING EAT IT A LOT'\", 34, 7, 0, 0, 0, 0]\n",
      "['Vagina', 813365217, 812664879, 'KolbertBot', 31691822, '2017-12-03T08:27:08Z', 'Bot: [[User:KolbertBot|HTTP→HTTPS]] (v477)', 45438, 7194, 122, 26, 390, 11]\n",
      "['Vagina', 806913224, 806911607, 'JCW-CleanerBot', 31737083, '2017-10-24T22:32:01Z', '/* Other animals */[[User:JCW-CleanerBot#Logic|task]], replaced: Proceedings: Biological Sciences / The Royal Society → Proceedings: Biological Sciences using [[Project:AWB|AWB]]', 45029, 7114, 122, 26, 388, 11]\n",
      "['Vagina', 806911607, 805849756, 'JCW-CleanerBot', 31737083, '2017-10-24T22:22:10Z', '[[User:JCW-CleanerBot#Logic|task]], replaced: Proceedings. Biological sciences → Proceedings: Biological Sciences using [[Project:AWB|AWB]]', 45049, 7117, 122, 26, 388, 11]\n",
      "['Vagina', 801086536, 797536734, 'KolbertBot', 31691822, '2017-09-17T15:48:15Z', 'Bot: [[User:KolbertBot|HTTP→HTTPS]]', 45098, 7122, 122, 26, 387, 11]\n",
      "['Vagina', 771858755, 766846225, 'Emir of Wikipedia', 28856560, '2017-03-23T22:39:20Z', 'Disambiguated: [[posterior]] → [[posterior (anatomy)]]', 42955, 6804, 115, 25, 366, 11]\n",
      "['Vagina', 708767490, 708706350, 'WereSpielChequers', 4071608, '2016-03-07T13:54:05Z', '/* Etymology and definition */[[WP:AWB/T|Typo fixing]], replaced: into into → into using [[Project:AWB|AWB]]', 41650, 6575, 110, 23, 358, 11]\n",
      "['Vagina', 703023853, 701156649, 'Flyer22 Reborn', 4293477, '2016-02-03T01:07:22Z', 'Expanded the \"Etymology and definition\" section, as promised in with my \"16:48, 21 December 2015\\u200e\" edit.', 41641, 6574, 111, 23, 357, 11]\n",
      "['Vagina', 696856713, 696205511, 'John of Reading', 11308236, '2015-12-26T12:18:31Z', 'Typo/[[WP:AWB/GF|general]] fixes, replaced: miniscule → minuscule using [[Project:AWB|AWB]]', 41216, 6507, 108, 23, 354, 11]\n",
      "['Vagina', 689504808, 689348742, 'Iridescent', 937705, '2015-11-07T16:53:17Z', '/* Perceptions, symbolism and vulgarity */[[WP:AWB/T|Typo fixing]], [[WP:AWB/T|typo(s) fixed]]: a a → a using [[Project:AWB|AWB]]', 42399, 6697, 110, 23, 364, 11]\n"
     ]
    },
    {
     "name": "stderr",
     "output_type": "stream",
     "text": [
      "The following query raised warnings: {'action': 'query', 'titles': 'World_War_I', 'prop': 'revisions', 'rvprop': 'ids|flags|timestamp|comment|user|userid|content', 'rvlimit': 'max', 'continue': '', 'format': 'json'}\n",
      "\t- result -- {'*': 'This result was truncated because it would otherwise be larger than the limit of 12,582,912 bytes.'}\n"
     ]
    },
    {
     "name": "stdout",
     "output_type": "stream",
     "text": [
      "['World_War_I', 846970197, 846901435, 'KolbertBot', 31691822, '2018-06-22T01:19:57Z', 'Bot: [[User:KolbertBot|HTTP→HTTPS]] (v485)', 158098, 24443, 184, 87, 984, 80]\n",
      "['World_War_I', 844426915, 844381132, 'Rich Farmbrough', 82835, '2018-06-04T21:06:11Z', 'clean up, replaced: {{Main article| → {{Main| (2), {{further information| → {{Further| (2), Cambridge, Mass → Cambridge, Massachusetts using [[Project:AWB|AWB]]', 158098, 24443, 184, 87, 984, 80]\n"
     ]
    },
    {
     "name": "stderr",
     "output_type": "stream",
     "text": [
      "The following query raised warnings: {'action': 'query', 'titles': 'World_War_I', 'prop': 'revisions', 'rvprop': 'ids|flags|timestamp|comment|user|userid|content', 'rvlimit': 'max', 'continue': '||', 'format': 'json', 'rvcontinue': '20180508112253|840203919'}\n",
      "\t- result -- {'*': 'This result was truncated because it would otherwise be larger than the limit of 12,582,912 bytes.'}\n"
     ]
    },
    {
     "name": "stdout",
     "output_type": "stream",
     "text": [
      "['World_War_I', 834371508, 833408489, 'KolbertBot', 31691822, '2018-04-05T11:16:18Z', 'Bot: [[User:KolbertBot|HTTP→HTTPS]] (v485)', 157904, 24418, 183, 87, 977, 79]\n"
     ]
    },
    {
     "name": "stderr",
     "output_type": "stream",
     "text": [
      "The following query raised warnings: {'action': 'query', 'titles': 'World_War_I', 'prop': 'revisions', 'rvprop': 'ids|flags|timestamp|comment|user|userid|content', 'rvlimit': 'max', 'continue': '||', 'format': 'json', 'rvcontinue': '20180310050958|829691657'}\n",
      "\t- result -- {'*': 'This result was truncated because it would otherwise be larger than the limit of 12,582,912 bytes.'}\n",
      "The following query raised warnings: {'action': 'query', 'titles': 'World_War_I', 'prop': 'revisions', 'rvprop': 'ids|flags|timestamp|comment|user|userid|content', 'rvlimit': 'max', 'continue': '||', 'format': 'json', 'rvcontinue': '20180121194334|821646629'}\n",
      "\t- result -- {'*': 'This result was truncated because it would otherwise be larger than the limit of 12,582,912 bytes.'}\n"
     ]
    },
    {
     "name": "stdout",
     "output_type": "stream",
     "text": [
      "['World_War_I', 821599734, 821364445, 'ネイ', 17218515, '2018-01-21T13:36:41Z', '/* Bibliography */ Remove duplicate book', 153488, 23736, 181, 85, 968, 80]\n",
      "['World_War_I', 817643344, 815601199, 'KolbertBot', 31691822, '2017-12-29T18:03:22Z', 'Bot: [[User:KolbertBot|HTTP→HTTPS]] (v481)', 153215, 23744, 181, 85, 963, 80]\n",
      "['World_War_I', 812991229, 812899382, 'Mediatech492', 9904943, '2017-12-01T02:32:19Z', 'Reverted 1 edit by [[Special:Contributions/Учхљёная|Учхљёная]] ([[User talk:Учхљёная|talk]]) to last revision by The Bushranger. ([[WP:TW|TW]])', 151708, 23491, 180, 84, 960, 79]\n",
      "['World_War_I', 812899382, 812673121, 'Учхљёная', 30241636, '2017-11-30T15:11:51Z', 'Added links', 151708, 23491, 180, 84, 961, 79]\n"
     ]
    },
    {
     "name": "stderr",
     "output_type": "stream",
     "text": [
      "The following query raised warnings: {'action': 'query', 'titles': 'World_War_I', 'prop': 'revisions', 'rvprop': 'ids|flags|timestamp|comment|user|userid|content', 'rvlimit': 'max', 'continue': '||', 'format': 'json', 'rvcontinue': '20171120073837|811223812'}\n",
      "\t- result -- {'*': 'This result was truncated because it would otherwise be larger than the limit of 12,582,912 bytes.'}\n",
      "The following query raised warnings: {'action': 'query', 'titles': 'World_War_I', 'prop': 'revisions', 'rvprop': 'ids|flags|timestamp|comment|user|userid|content', 'rvlimit': 'max', 'continue': '||', 'format': 'json', 'rvcontinue': '20170925061719|802290796'}\n",
      "\t- result -- {'*': 'This result was truncated because it would otherwise be larger than the limit of 12,582,912 bytes.'}\n"
     ]
    },
    {
     "name": "stdout",
     "output_type": "stream",
     "text": [
      "['World_War_I', 801292644, 801265109, 'KolbertBot', 31691822, '2017-09-18T20:46:19Z', 'Bot: [[User:KolbertBot|HTTP→HTTPS]]', 151587, 23473, 178, 84, 960, 78]\n",
      "['World_War_I', 797081499, 796998930, 'PKT', 1382933, '2017-08-24T21:11:08Z', 'Disambiguated: [[Battle of the Marne]] → [[First Battle of the Marne]]', 151334, 23438, 174, 83, 955, 78]\n"
     ]
    },
    {
     "name": "stderr",
     "output_type": "stream",
     "text": [
      "The following query raised warnings: {'action': 'query', 'titles': 'World_War_I', 'prop': 'revisions', 'rvprop': 'ids|flags|timestamp|comment|user|userid|content', 'rvlimit': 'max', 'continue': '||', 'format': 'json', 'rvcontinue': '20170823194216|796908748'}\n",
      "\t- result -- {'*': 'This result was truncated because it would otherwise be larger than the limit of 12,582,912 bytes.'}\n"
     ]
    },
    {
     "name": "stdout",
     "output_type": "stream",
     "text": [
      "['World_War_I', 796175684, 795997510, 'ชาวไทย', 28545658, '2017-08-19T00:50:44Z', '', 151471, 23462, 174, 83, 963, 78]\n",
      "['World_War_I', 792448134, 792448098, 'Jennica', 623801, '2017-07-26T15:46:31Z', 'Section heading change: References → Bibliography using a [[User:The Evil IP address/hdedit|script]]', 150682, 23342, 174, 82, 956, 78]\n",
      "['World_War_I', 792448098, 792447730, 'Jennica', 623801, '2017-07-26T15:46:14Z', 'Section heading change: Notes → References using a [[User:The Evil IP address/hdedit|script]]', 150680, 23342, 174, 82, 956, 78]\n"
     ]
    },
    {
     "name": "stderr",
     "output_type": "stream",
     "text": [
      "The following query raised warnings: {'action': 'query', 'titles': 'World_War_I', 'prop': 'revisions', 'rvprop': 'ids|flags|timestamp|comment|user|userid|content', 'rvlimit': 'max', 'continue': '||', 'format': 'json', 'rvcontinue': '20170713202301|790448193'}\n",
      "\t- result -- {'*': 'This result was truncated because it would otherwise be larger than the limit of 12,582,912 bytes.'}\n",
      "The following query raised warnings: {'action': 'query', 'titles': 'World_War_I', 'prop': 'revisions', 'rvprop': 'ids|flags|timestamp|comment|user|userid|content', 'rvlimit': 'max', 'continue': '||', 'format': 'json', 'rvcontinue': '20170523220150|781904360'}\n",
      "\t- result -- {'*': 'This result was truncated because it would otherwise be larger than the limit of 12,582,912 bytes.'}\n"
     ]
    },
    {
     "name": "stdout",
     "output_type": "stream",
     "text": [
      "['World_War_I', 776990721, 776891873, 'Stevietheman', 53396, '2017-04-24T16:04:30Z', \"typo seek/cleanup recent articles I've edited, [[WP:AWB/T|typo(s) fixed]]: french → French using [[Project:AWB|AWB]]\", 149410, 23110, 159, 79, 940, 77]\n"
     ]
    },
    {
     "name": "stderr",
     "output_type": "stream",
     "text": [
      "The following query raised warnings: {'action': 'query', 'titles': 'World_War_I', 'prop': 'revisions', 'rvprop': 'ids|flags|timestamp|comment|user|userid|content', 'rvlimit': 'max', 'continue': '||', 'format': 'json', 'rvcontinue': '20170413224222|775292441'}\n",
      "\t- result -- {'*': 'This result was truncated because it would otherwise be larger than the limit of 12,582,912 bytes.'}\n"
     ]
    },
    {
     "name": "stdout",
     "output_type": "stream",
     "text": [
      "['World_War_I', 773169396, 773149003, 'Marek69', 1469567, '2017-03-31T19:14:06Z', 'clean up and [[Wikipedia:AutoWikiBrowser/General fixes|general fixes]], wikichecks, [[WP:AWB/T|typo(s) fixed]]: Nevertheless → Nevertheless, using [[Project:AWB|AWB]]', 147585, 22818, 159, 78, 940, 77]\n"
     ]
    },
    {
     "name": "stderr",
     "output_type": "stream",
     "text": [
      "The following query raised warnings: {'action': 'query', 'titles': 'World_War_I', 'prop': 'revisions', 'rvprop': 'ids|flags|timestamp|comment|user|userid|content', 'rvlimit': 'max', 'continue': '||', 'format': 'json', 'rvcontinue': '20170314210527|770341838'}\n",
      "\t- result -- {'*': 'This result was truncated because it would otherwise be larger than the limit of 12,582,912 bytes.'}\n"
     ]
    },
    {
     "name": "stdout",
     "output_type": "stream",
     "text": [
      "['World_War_I', 753125591, 751852197, 'Marek69', 1469567, '2016-12-05T09:08:09Z', '[[WP:AWB/T|Typo fixing]], [[Wikipedia:AutoWikiBrowser/General fixes|general fixes]] and clean up, [[WP:AWB/T|typo(s) fixed]]: 6&nbsp;inch → 6-inch using [[Project:AWB|AWB]]', 145157, 22422, 147, 78, 887, 70]\n",
      "['World_War_I', 703418041, 703216074, 'John of Reading', 11308236, '2016-02-05T11:47:41Z', 'Typo fixing, replaced: demoblised → demobilised, in 11 November 1918 → on 11 November 1918, a Egyptian → an Egyptian using [[Project:AWB|AWB]]', 144300, 22295, 144, 79, 886, 70]\n",
      "['World_War_I', 697263837, 697263518, '♥Golf', 20996381, '2015-12-29T09:19:55Z', \"/* Continuation of trench warfare */ I suppose a link on the guy wouldn't hurt\", 144042, 22227, 143, 79, 882, 70]\n",
      "['World_War_I', 697263518, 697261838, '♥Golf', 20996381, '2015-12-29T09:16:06Z', '/* Continuation of trench warfare */ better caption to identify the King', 144042, 22227, 143, 79, 881, 70]\n",
      "['World_War_I', 697261838, 697206165, '♥Golf', 20996381, '2015-12-29T09:02:16Z', '/* Continuation of trench warfare */ added a great photo', 144029, 22225, 143, 79, 881, 70]\n",
      "['World_War_I', 694043057, 693955239, 'Mark Ironie', 285310, '2015-12-06T19:20:47Z', 'clean up, [[WP:AWB/T|typo(s) fixed]]: a effort → an effort using [[Project:AWB|AWB]]', 143249, 22092, 142, 79, 881, 68]\n",
      "['American Civil War', 829624557, 829489896, 'Bender the Bot', 28903366, '2018-03-09T19:45:17Z', '/* Costs */HTTP→HTTPS for [[Science Daily]], replaced: http://www.sciencedaily.com/ → https://www.sciencedaily.com/ using [[Project:AWB|AWB]]', 108562, 16557, 120, 57, 558, 20]\n",
      "['American Civil War', 826789944, 826672389, 'Jabberjaw', 9895903, '2018-02-21T00:49:33Z', 'clean up, replaced: →   (6) using [[Project:AWB|AWB]]', 108684, 16571, 121, 57, 558, 20]\n",
      "['American Civil War', 826350631, 826259294, 'Emir of Wikipedia', 28856560, '2018-02-18T17:13:27Z', 'Disambiguated: [[Civil War]] → [[Civil War (disambiguation)]]', 108694, 16571, 121, 57, 559, 20]\n",
      "['American Civil War', 817650434, 816260463, 'KolbertBot', 31691822, '2017-12-29T19:01:14Z', 'Bot: [[User:KolbertBot|HTTP→HTTPS]] (v481)', 107166, 16335, 120, 57, 540, 20]\n",
      "['American Civil War', 797901123, 797215170, 'KolbertBot', 31691822, '2017-08-29T20:44:06Z', 'Bot: [[Wikipedia:Bots/Requests for approval/KolbertBot|HTTP→HTTPS]]', 103584, 15785, 113, 56, 537, 20]\n",
      "['American Civil War', 797215170, 796974685, 'Jon Kolbert', 29727696, '2017-08-25T17:02:55Z', 'Bot: [[Wikipedia:Bots/Requests for approval/KolbertBot|HTTP→HTTPS]]', 103584, 15785, 113, 56, 537, 20]\n",
      "['American Civil War', 796974685, 796958231, 'KolbertBot', 31691822, '2017-08-24T05:52:45Z', 'Bot: [[Wikipedia:Bots/Requests for approval/KolbertBot|HTTP→HTTPS]]', 103584, 15785, 113, 56, 537, 20]\n",
      "['American Civil War', 796958231, 796872020, 'KolbertBot', 31691822, '2017-08-24T02:59:59Z', 'Bot: [[Wikipedia:Bots/Requests for approval/KolbertBot|HTTP→HTTPS]]', 103584, 15785, 113, 56, 537, 20]\n",
      "['American Civil War', 795131637, 794890898, 'Lotje', 10434788, '2017-08-12T06:23:21Z', '([[c:GR|GR]]) [[c:COM:FR|File renamed]]: [[File:AndersonvilleCemetary.JPG]] → [[File:Andersonville National Cemetery.jpg]] #3', 103578, 15784, 113, 56, 532, 20]\n",
      "['American Civil War', 792026333, 791989731, 'Josve05a', 12023796, '2017-07-24T00:28:33Z', 'cleanup, [[WP:AWB/T|typo(s) fixed]]: long standing → long-standing using [[Project:AWB|AWB]]', 103546, 15780, 113, 56, 532, 20]\n",
      "['American Civil War', 763338013, 763317482, 'Stevietheman', 53396, '2017-02-02T17:44:11Z', '/* top */typo seek/cleanup articles linked from main Louisville history articles for [[WP:LOU|WikiProject Louisville]], [[WP:AWB/T|typo(s) fixed]]: ,  → , using [[Project:AWB|AWB]]', 102024, 15544, 111, 55, 513, 22]\n",
      "['American Civil War', 746154692, 745812577, 'Rubbish computer', 23085006, '2016-10-25T16:01:29Z', '/* top */typo fixing, replaced: Conneticut → Connecticut using [[Project:AWB|AWB]]', 100034, 15264, 109, 54, 480, 22]\n",
      "['American Civil War', 741256023, 741228386, 'Feminist', 25530780, '2016-09-26T10:30:00Z', 'Clean up per RM at [[Talk:Gone with the Wind (novel)]], replaced: [[Gone with the Wind]] → [[Gone with the Wind (novel)|Gone with the Wind]] using [[Project:AWB|AWB]]', 97242, 14838, 107, 52, 463, 22]\n",
      "['American Civil War', 716683799, 716386639, 'John of Reading', 11308236, '2016-04-23T05:28:11Z', '/* Battle of Fort Sumter */Typo fixing, replaced: toped → topped using [[Project:AWB|AWB]]', 97206, 14850, 105, 52, 460, 22]\n",
      "['American Civil War', 715066136, 714979588, 'Dewritech', 11498870, '2016-04-13T14:26:45Z', '/* Confederacy surrenders */clean up, [[WP:AWB/T|typo(s) fixed]]: present day → present-day using [[Project:AWB|AWB]]', 97206, 14850, 105, 52, 460, 22]\n",
      "['American Civil War', 711244460, 710030380, 'Kharkiv07', 18907122, '2016-03-21T18:56:15Z', 'Disambiguated: [[freemen]] → [[Freedman]]', 96669, 14767, 104, 51, 457, 21]\n",
      "['American Civil War', 706553560, 704687423, 'PBS-AWB', 11989454, '2016-02-23T23:20:02Z', '/* Further reading */modification to EB1911  and some other similar templates, replaced: {{cite EB1911| → {{cite EB1911|wstitle=, Further reading==\\n* Gugliotta, Guy. [http://www.nytimes.com/2012/04/03/science/civil-war-to using [[Project:AWB|AWB]]', 96675, 14771, 104, 51, 459, 21]\n",
      "['India', 834442564, 834273126, 'KolbertBot', 31691822, '2018-04-05T19:21:25Z', 'Bot: [[User:KolbertBot|HTTP→HTTPS]] (v485)', 65864, 9771, 325, 30, 979, 71]\n",
      "['India', 832761079, 832662405, 'JCW-CleanerBot', 31737083, '2018-03-27T21:16:11Z', '[[User:JCW-CleanerBot#Logic|task]], replaced: Bulletin of Atomic Scientists → Bulletin of the Atomic Scientists using [[Project:AWB|AWB]]', 66059, 9795, 326, 30, 979, 71]\n",
      "['India', 826380688, 826310301, '0xF8E8', 22197028, '2018-02-18T20:07:39Z', 'clean up, [[WP:AWB/T|typo(s) fixed]]: occured → occurred using [[Project:AWB|AWB]]', 65987, 9786, 323, 30, 976, 71]\n",
      "['India', 803254855, 803254769, 'Srainywall', 12980942, '2017-10-01T12:23:39Z', \"[[WP:AES|←]]Replaced content with '{{about|the Republic of India}} {{pp-protected|reason=restore Mark Arsten's semi protection that I accidentally removed while removing full protection|small=...'\", 82, 7, 0, 0, 0, 0]\n",
      "['India', 797664932, 797613941, 'Yobot', 7328338, '2017-08-28T14:17:33Z', 'Removed invisible unicode characters + other fixes ([[User:Yobot/55|Task 55]]), replaced: → using [[Project:AWB|AWB]] (12151)', 65466, 9702, 267, 30, 968, 71]\n",
      "['India', 796655127, 796645971, 'KolbertBot', 31691822, '2017-08-22T08:49:28Z', 'Bot: [[Wikipedia:Bots/Requests for approval/KolbertBot|HTTP→HTTPS]]', 65771, 9745, 268, 30, 972, 72]\n",
      "['India', 785572052, 785435159, 'Jn045', 28396170, '2017-06-14T08:10:52Z', 'Disambiguated: [[Chambal]] → [[Chambal Division]]', 65492, 9699, 262, 30, 983, 71]\n",
      "['India', 784875011, 784274262, 'पाटलिपुत्र', 29495465, '2017-06-10T13:57:51Z', '/* Ancient India */ link to Indo-Roman trade', 65493, 9700, 261, 30, 983, 71]\n",
      "['India', 778517042, 778502780, 'SM7', 19109963, '2017-05-03T16:31:14Z', '/* Geography */ longitude→latitude', 62369, 9428, 258, 30, 982, 71]\n",
      "['India', 774724066, 774712870, 'Fowler&fowler', 2400126, '2017-04-10T08:30:30Z', 'Undid revision 774615494 by [[Special:Contributions/বঙ্গভূমি|বঙ্গভূমি]] ([[User talk:বঙ্গভূমি|talk]]) Please see Indian government portal which explicitly says it is Hindi: https://india.gov.in/india-glance/', 62392, 9429, 258, 30, 981, 71]\n",
      "['India', 774615494, 773957309, 'বঙ্গভূমি', 29986761, '2017-04-09T17:15:23Z', '', 62392, 9429, 256, 30, 981, 71]\n",
      "['India', 773957309, 773953634, 'Fowler&fowler', 2400126, '2017-04-05T12:52:10Z', 'Reverted edits by [[Special:Contribs/বঙ্গভূমি|বঙ্গভূমি]] ([[User talk:বঙ্গভূমি|talk]]) to last version by Ugog Nizdast', 62392, 9429, 256, 30, 981, 71]\n",
      "['India', 773953634, 773923589, 'বঙ্গভূমি', 29986761, '2017-04-05T12:18:26Z', '', 62392, 9429, 256, 30, 981, 71]\n",
      "['India', 772007405, 771897841, 'Emir of Wikipedia', 28856560, '2017-03-24T19:39:44Z', 'Disambiguated: [[Orissa]] → [[Odisha]]', 62400, 9430, 256, 30, 981, 71]\n",
      "['India', 771578876, 771432079, 'Ugog Nizdast', 18935077, '2017-03-22T10:09:42Z', \"/* Biodiversity */ per F&f's  13:30, 14 March 2017\\u200e edit, italics for caption as well\", 62400, 9430, 256, 30, 982, 71]\n",
      "['India', 771286417, 771262957, 'Fowler&fowler', 2400126, '2017-03-20T17:45:53Z', 'Undid revision 771262957 by [[Special:Contributions/বঙ্গভূমি|বঙ্গভূমি]] ([[User talk:বঙ্গভূমি|talk]]) please see explicit mention in National Portal of India that it is adopted in its Hindi version', 62400, 9430, 256, 30, 982, 71]\n"
     ]
    },
    {
     "name": "stdout",
     "output_type": "stream",
     "text": [
      "['India', 771262957, 771236868, 'বঙ্গভূমি', 29986761, '2017-03-20T15:04:22Z', '', 62400, 9430, 256, 30, 982, 71]\n",
      "['India', 769413636, 769412528, 'Ugog Nizdast', 18935077, '2017-03-09T11:07:02Z', \"Undid GDP ranking; doesn't seem official (everything post-2015 IMF are estimates) [[Economy of India]] is wrong versus the list, it has the same dubious ref removed here (13:35, 23 December 2016\\u200e by SpacemanSpiff); in any case, needs prior checking\", 62385, 9427, 256, 30, 983, 71]\n",
      "['India', 769411231, 769246943, 'Shivasnsh Mathur', 30315746, '2017-03-09T10:38:28Z', '/* Etymology */भारत', 62388, 9427, 256, 30, 983, 71]\n",
      "['India', 767333589, 767326737, 'सुबोध कुलकर्णी', 26644628, '2017-02-25T07:46:47Z', 'wikidata code added', 62461, 9436, 255, 30, 983, 71]\n",
      "['India', 764408305, 764168566, 'BG19bot', 14508071, '2017-02-08T19:50:04Z', '/* Demographics */[[WP:CHECKWIKI]] error fix for #16.  Remove invisible Unicode characters. Do [[Wikipedia:GENFIXES|general fixes]] if a problem exists. -, replaced: →   (2)', 62054, 9373, 254, 30, 977, 73]\n",
      "['India', 763678546, 763493831, 'John of Reading', 11308236, '2017-02-04T16:28:35Z', 'Typo/[[WP:AWB/GF|general]] fixes, replaced: traslations → translations, Chattisgarh → Chhattisgarh using [[Project:AWB|AWB]]', 62043, 9370, 255, 30, 977, 73]\n",
      "['India', 755487312, 755482701, 'Ugog Nizdast', 18935077, '2016-12-18T09:37:52Z', 'Reverted [[WP:AGF|good faith]] edits by [[Special:Contributions/عاقب نذیر|عاقب نذیر]] ([[User talk:عاقب نذیر|talk]]): See [[MOS:BOLD]]. ([[WP:TW|WT]])', 62333, 9407, 257, 30, 984, 74]\n",
      "['India', 755482701, 755480799, 'عاقب نذیر', 28889584, '2016-12-18T08:44:10Z', '', 62333, 9407, 257, 30, 984, 74]\n",
      "['India', 753875488, 753867829, 'Ugog Nizdast', 18935077, '2016-12-09T17:58:20Z', 'reverting most of Pppooojjjaaa\\u200e per talk', 62379, 9416, 258, 30, 985, 74]\n",
      "['India', 753120304, 753106932, 'Marek69', 1469567, '2016-12-05T08:16:29Z', 'Disambiguated: [[Left Front (India)]] → [[Communist Party of India (Marxist)]]', 62378, 9415, 258, 30, 986, 74]\n",
      "['India', 752732035, 752678596, 'Dhtwiki', 9475572, '2016-12-02T23:24:37Z', 'Reverted 1 edit by [[Special:Contributions/Ish ishwar|Ish ishwar]] ([[User talk:Ish ishwar|talk]]): This needs discussion; until then 15:42, 29 November 2016\\u200e version should stand per [[WP:BRD]]. ([[WP:TW|TW]])', 62378, 9415, 258, 30, 986, 74]\n",
      "['India', 745802159, 745792314, 'SpacemanSpiff', 9661331, '2016-10-23T11:22:52Z', 'Undid revision 745792314 by [[Special:Contributions/ה-זפר|ה-זפר]] ([[User talk:ה-זפר|talk]]) long standing consensus not to have all this clutter here', 62534, 9444, 261, 30, 978, 71]\n",
      "['India', 745792314, 745774588, 'ה-זפר', 20911476, '2016-10-23T09:34:08Z', 'added map in infobox, union and state official languages, minor fix,.', 62534, 9444, 260, 30, 973, 71]\n",
      "['India', 733251595, 733159770, 'Nomian', 17350000, '2016-08-06T13:34:06Z', 'Disambiguated: [[Look East policy]] → [[Look East policy (India)]]', 61977, 9350, 257, 29, 961, 71]\n",
      "['India', 730589461, 730586791, 'Krishna Chaitanya Velaga', 23619103, '2016-07-20T00:31:10Z', 'Disambiguated: [[Indian society]] → [[Culture of India]]', 61985, 9351, 254, 29, 960, 71]\n",
      "['India', 726336574, 726335998, 'Headbomb', 1461430, '2016-06-21T14:39:07Z', 'clean up, replaced: Electronic Journal of Vedic Studies 7-3 (EJVS) 2001(1-115) → Electronic Journal of Vedic Studies |volume=7 |issue=3 |pages=1-115 |year=2001 using [[Project:AWB|AWB]]', 61981, 9346, 254, 29, 961, 71]\n",
      "['India', 722404903, 722366101, 'Tom.Reding', 9784415, '2016-05-27T22:09:06Z', '[[Mojibake#HungarianUTF8|UTF-8 mojinbake]] fixes ([[WP:GenFixes]] on), replaced: Ã¶ → ö using [[Project:AWB|AWB]]', 62678, 9456, 254, 29, 975, 71]\n",
      "['India', 721404783, 721392316, 'Vijayapur club', 28209471, '2016-05-21T16:43:51Z', 'ಸಾಂವಿಧಾನಿಕ ಹೆಸರು ಸೆರಿಸಲಾಗಿದೆ', 62757, 9469, 255, 29, 974, 71]\n",
      "['India', 709398107, 709397285, 'Rupertgrint1', 21494981, '2016-03-10T18:10:39Z', 'येस additional information', 62670, 9451, 249, 29, 962, 71]\n",
      "['India', 705219596, 705217405, 'MPikli', 27512975, '2016-02-16T05:39:35Z', 'Added भारत गणराज्य to the name of Bharat Ganarajya', 62720, 9462, 250, 28, 962, 71]\n",
      "['India', 703016737, 702944291, 'Fowler&fowler', 2400126, '2016-02-03T00:14:01Z', 'Undid revision 702944291 by [[Special:Contributions/Tiger7253|Tiger7253]] ([[User talk:Tiger7253|talk]]) not sanskrit, according to GOI, but in the official language of the union, hindi; sanskrit name is Bhāratamahārājyam', 62438, 9416, 250, 28, 964, 71]\n",
      "['India', 699605863, 699144007, 'GSS', 26778615, '2016-01-13T09:51:48Z', 'Disambiguated: [[Cinema of Bengal]] → [[Cinema of West Bengal]]', 62324, 9409, 249, 28, 965, 71]\n",
      "['India', 692098563, 691552439, 'Dewritech', 11498870, '2015-11-23T20:27:40Z', '/* Ancient India */clean up, [[WP:AWB/T|typo(s) fixed]]: hounoured → honoured using [[Project:AWB|AWB]]', 62135, 9381, 245, 29, 973, 74]\n",
      "['India', 678391192, 678308442, 'Capankajsmilyo', 24687916, '2015-08-29T02:54:41Z', '/* Economy */Rs to ₹', 61230, 9230, 231, 27, 961, 73]\n",
      "['India', 670973853, 670971638, 'SpacemanSpiff', 9661331, '2015-07-11T14:15:55Z', 'Undid revision 670971638 by [[Special:Contributions/רפאל גורי|רפאל גורי]] ([[User talk:רפאל גורי|talk]]) any new images should be discussed on the talk page, current images have been chosen for specific reasons', 61521, 9278, 226, 27, 958, 73]\n",
      "['India', 670971638, 670180825, 'רפאל גורי', 12472051, '2015-07-11T13:55:45Z', '/* Art and architecture */', 61555, 9284, 226, 27, 958, 74]\n",
      "['India', 670180825, 670176418, 'Cpt.a.haddock', 16645784, '2015-07-06T10:45:48Z', 'clean up, replaced: Oriya language → Odia language, |Oriya → |Odia (2) using [[Project:AWB|AWB]]', 61521, 9278, 226, 27, 958, 73]\n",
      "['Yemen', 834511235, 833517834, 'KolbertBot', 31691822, '2018-04-06T02:47:34Z', 'Bot: [[User:KolbertBot|HTTP→HTTPS]] (v485)', 102760, 16250, 198, 52, 670, 34]\n",
      "['Yemen', 832213694, 832104053, 'Certes', 5984052, '2018-03-24T14:57:46Z', 'Disambiguated: [[The Daily Star]] → [[The Daily Star (Bangladesh)]]', 102759, 16250, 196, 52, 671, 34]\n",
      "['Yemen', 831596874, 831304388, '2018 wikpedia', 33356120, '2018-03-21T10:43:32Z', '/* Ethnic groups */تعديل السكان\\nhttp://www.yemen-nic.info', 102731, 16246, 196, 52, 667, 34]\n",
      "['Yemen', 818707985, 818692421, 'Quondum', 12331483, '2018-01-05T03:33:47Z', '/* World Heritage sites */replacing deprecated {{convert}} option, replaced: |disp=flip → |order=flip using [[Project:AWB|AWB]]', 103867, 16435, 195, 52, 653, 47]\n",
      "['Yemen', 814302392, 814298639, 'Anomalocaris', 299039, '2017-12-08T00:23:43Z', '<center> ... </center> → <div style=\"text-align: center;\">  ... </div> (3); <sup/> → </sup>; properly close <small> tag with </small>', 103839, 16433, 195, 52, 652, 47]\n",
      "['Yemen', 809796061, 809733582, '2003:C2:23ED:D3B0:207A:19EC:CA36:EAFE', 0, '2017-11-11T13:30:21Z', '/* Ancient history */ <ref>{{cite book|author=P. Yule|year=2013|title=A Late Antique Christian king from Ḥimyar, southern Arabia, Antiquity, 87|page=1134|publisher=Antiquity Publications|issn=0003 598X}};', 103849, 16433, 189, 52, 652, 47]\n",
      "['Yemen', 801311985, 801304181, 'KolbertBot', 31691822, '2017-09-18T23:08:29Z', 'Bot: [[User:KolbertBot|HTTP→HTTPS]]', 103774, 16425, 183, 52, 653, 47]\n",
      "['Yemen', 798804735, 798738114, 'Dawnseeker2000', 1544984, '2017-09-03T22:40:15Z', '[[MOS:DASH]], http → https using [[Project:AWB|AWB]]', 103864, 16450, 182, 52, 654, 47]\n",
      "['Yemen', 785787406, 784529171, 'Bender the Bot', 28903366, '2017-06-15T12:16:12Z', '/* Ancient history */clean up; HTTP&rarr;HTTPS for [[British Museum]], replaced: http://www.britishmuseum.org/ → https://www.britishmuseum.org/ using [[Project:AWB|AWB]]', 103771, 16409, 179, 52, 642, 47]\n",
      "['Yemen', 772167326, 771866939, 'Emir of Wikipedia', 28856560, '2017-03-25T18:27:44Z', 'Disambiguated: [[Saudi-led intervention in Yemen]] → [[Saudi-led intervention in Yemen (2015–present)]]', 103517, 16373, 178, 46, 641, 46]\n",
      "['Yemen', 765881584, 765484615, 'Gasan naji', 30379433, '2017-02-16T23:29:16Z', 'طودىد', 103520, 16368, 172, 46, 637, 46]\n",
      "['Yemen', 757615512, 757377595, 'נריה לוי', 25937956, '2016-12-31T18:16:15Z', '', 103372, 16344, 168, 46, 634, 46]\n",
      "['Yemen', 757377595, 757374784, 'Materialscientist', 7852030, '2016-12-30T09:20:08Z', 'Undid revision 757374784 by [[Special:Contributions/נריה לוי|נריה לוי]] ([[User talk:נריה לוי|talk]]) - unsourced; updated GDP', 103372, 16344, 168, 46, 634, 46]\n"
     ]
    },
    {
     "name": "stdout",
     "output_type": "stream",
     "text": [
      "['Yemen', 757374784, 757239809, 'נריה לוי', 25937956, '2016-12-30T08:57:19Z', \"I've added the denonym Yrmenite\", 103372, 16344, 168, 46, 634, 46]\n",
      "['Yemen', 753135483, 752972200, 'Marek69', 1469567, '2016-12-05T10:58:05Z', 'Disambiguated: [[Dedan]] → [[Dedan State]]', 103358, 16346, 168, 46, 637, 46]\n",
      "['Yemen', 744580051, 744313286, 'منيف', 28095433, '2016-10-16T04:44:42Z', '', 103336, 16343, 166, 46, 633, 45]\n",
      "['Yemen', 744263127, 744172647, 'Memelord6969420420', 29232203, '2016-10-14T04:23:43Z', \"[[WP:AES|←]]Replaced content with 'Yemen is a great meme.'\", 22, 5, 0, 0, 0, 0]\n",
      "['Yemen', 741548348, 741519125, 'BG19bot', 14508071, '2016-09-28T05:19:58Z', '[[WP:CHECKWIKI]] error fix.  Broken bracket.  Do [[Wikipedia:GENFIXES|general fixes]] if a problem exists. -, replaced: {{Reflist|colwidth=30em}} → {{Reflist|30em}}', 103219, 16330, 166, 46, 630, 45]\n",
      "['Yemen', 735918983, 735736082, 'BD2412', 196446, '2016-08-23T23:54:50Z', '/* Biodiversity */clean up spacing around commas, replaced: ]] , [[ → ]], [[ (2) using [[Project:AWB|AWB]]', 103026, 16303, 166, 46, 628, 45]\n",
      "['Yemen', 733813837, 733642990, 'Yobot', 7328338, '2016-08-10T08:14:45Z', 'Removed invisible unicode characters + other fixes, removed: \\u200e (2) using [[Project:AWB|AWB]] (12068)', 104819, 16576, 180, 46, 627, 45]\n",
      "['Yemen', 715042318, 713613243, 'LilHelpa', 8024439, '2016-04-13T10:47:09Z', '/* Rasulid Dynasty (1229-1454) */General fixes and [[WP:AWB/T|Typo fixing]], replaced: to became →  to become using [[Project:AWB|AWB]]', 105121, 16658, 179, 43, 642, 47]\n",
      "['Yemen', 705050753, 705026193, 'Donenne', 26352473, '2016-02-15T05:57:04Z', 'Info-box → name of government', 104963, 16634, 175, 43, 641, 47]\n",
      "['Yemen', 698295171, 697717643, 'WereSpielChequers', 4071608, '2016-01-05T05:48:59Z', '/* Mutawakkilite Kingdom of Yemen */[[WP:AWB/T|Typo fixing]], replaced: decent → descent using [[Project:AWB|AWB]]', 104951, 16631, 176, 43, 638, 47]\n",
      "['Yemen', 691212011, 690831577, 'Steinsplitter', 16956574, '2015-11-18T10:24:44Z', '([[c:GR|GR]]) [[c:COM:FR|File renamed]]: [[File:Aden 1955-1s.jpg]] → [[File:Aden 1953-1s.jpg]] [[c:COM:FR#reasons|File renaming criterion #3]]: To correct obvious errors in file names, including misspelled [[c::en:Noun#Proper_nouns_and_common_nouns|p...', 105280, 16695, 173, 43, 644, 48]\n",
      "['Yemen', 684559197, 684070190, 'Χ', 7211238, '2015-10-07T11:18:25Z', '', 103813, 16486, 172, 42, 617, 48]\n",
      "['Yemen', 677881399, 677574776, 'Dawnseeker2000', 1544984, '2015-08-26T03:15:39Z', '/* Advent of Islam and the three Dynasties */[[WP:AWB/T|Typo fixing]], [[WP:AWB/T|typo(s) fixed]]: present day → present-day using [[Project:AWB|AWB]]', 101457, 16099, 166, 41, 610, 48]\n",
      "['Yemen', 670758352, 669580003, 'Dawnseeker2000', 1544984, '2015-07-10T01:03:29Z', '[[WP:AWB/T|Typo fixing]], [[WP:AWB/T|typo(s) fixed]]: present day → present-day using [[Project:AWB|AWB]]', 100232, 15898, 158, 41, 597, 49]\n",
      "['Lady Gaga', 846786633, 846551932, 'KolbertBot', 31691822, '2018-06-20T21:51:17Z', 'Bot: [[User:KolbertBot|HTTP→HTTPS]] (v485)', 48748, 7908, 676, 26, 572, 9]\n",
      "['Lady Gaga', 833984371, 833278559, 'KolbertBot', 31691822, '2018-04-03T09:51:30Z', 'Bot: [[User:KolbertBot|HTTP→HTTPS]] (v485)', 48255, 7823, 669, 25, 568, 9]\n",
      "['Lady Gaga', 832883129, 832866528, 'Mr KEBAB', 28161599, '2018-03-28T14:14:44Z', 'ən not ə|n', 48041, 7801, 666, 25, 565, 9]\n",
      "['Lady Gaga', 832847733, 832847653, 'FrB.TG', 19895717, '2018-03-28T09:36:44Z', '/* Musical style and themes */ oops 😬', 48001, 7796, 666, 25, 565, 9]\n",
      "['Lady Gaga', 832846334, 832844435, 'FrB.TG', 19895717, '2018-03-28T09:24:21Z', 'Undid revision 832844435 by [[Special:Contributions/Maczkopeti|Maczkopeti]] ([[User talk:Maczkopeti|talk]]) we don’t cite sources for pronunciation \\U0001f928', 47976, 7791, 666, 25, 564, 9]\n",
      "['Lady Gaga', 821940048, 821909420, 'ArturSik', 11560498, '2018-01-23T14:14:55Z', 'Undid revision 821905855 by [[Special:Contributions/পেতনীপিসি|পেতনীপিসি]] ([[User talk:পেতনীপিসি|talk]])  already linked in career beginnings', 47503, 7715, 647, 28, 558, 9]\n",
      "['Lady Gaga', 821905855, 821805185, 'পেতনীপিসি', 30175668, '2018-01-23T08:50:23Z', '/* Influences */ wikilinking', 47404, 7702, 647, 25, 558, 9]\n",
      "['Lady Gaga', 814975684, 814864670, 'KolbertBot', 31691822, '2017-12-12T00:20:38Z', 'Bot: [[User:KolbertBot|HTTP→HTTPS]] (v478)', 47154, 7655, 647, 25, 554, 9]\n",
      "['Lady Gaga', 811980674, 811818481, 'Missvain', 1473712, '2017-11-25T05:19:44Z', 'Disambiguated: [[Catholic League]] → [[Catholic League (U.S.)]]', 45832, 7410, 648, 25, 545, 9]\n",
      "['Lady Gaga', 811054900, 811034626, 'Lightlowemon', 10246337, '2017-11-19T07:00:54Z', 'clean up, [[WP:AWB/T|typo(s) fixed]]: antholgy → anthology using [[Project:AWB|AWB]]', 46019, 7436, 635, 25, 547, 9]\n",
      "['Lady Gaga', 799845688, 799833435, 'Beko', 23751390, '2017-09-10T05:22:52Z', '([[c:GR|GR]]) [[c:COM:FR|File renamed]]: [[File:Lady Gaga TFF 2017.jpg]] → [[File:Lady Gaga TIFF 2017.jpg]] [[c:COM:FR#reasons|File renaming criterion #3]]: To correct obvious errors in file names, including misspelled [[c::en:Noun#Proper nouns and c...', 45586, 7341, 557, 25, 521, 9]\n",
      "['Lady Gaga', 798581408, 798443800, 'KolbertBot', 31691822, '2017-09-02T18:50:10Z', 'Bot: [[User:KolbertBot|HTTP→HTTPS]]', 45294, 7283, 563, 25, 522, 9]\n",
      "['Lady Gaga', 764299439, 764294669, 'Red Director', 1261736, '2017-02-08T04:04:22Z', 'clean up, replaced: In 2016 she → In 2016, she, [[WP:AWB/T|typo(s) fixed]]: December of 2017 → December 2017 using [[Project:AWB|AWB]]', 57429, 9330, 371, 26, 589, 9]\n",
      "['Lady Gaga', 764079763, 764076702, 'StAnselm', 4007668, '2017-02-06T23:18:05Z', 'Disambiguated: [[Vanity Fair]] → [[Vanity Fair (magazine)]], [[Variety]] → [[Variety (magazine)]]', 57030, 9272, 365, 27, 584, 9]\n",
      "['Lady Gaga', 750577728, 749674258, 'Iridescent', 937705, '2016-11-20T16:50:42Z', \"/* 2011–2014: ''Born This Way'', ''Artpop'' and ''Cheek to Cheek'' */[[WP:AWB/T|Typo fixing]], [[WP:AWB/T|typo(s) fixed]]: 23rd season → 23rd-season using [[Project:AWB|AWB]]\", 55493, 9019, 346, 24, 574, 11]\n",
      "['Lady Gaga', 737307267, 737103853, 'BD2412bot', 25180159, '2016-09-01T23:24:38Z', '/* top */Per consensus in discussion at [[Talk:New York#Proposed action to resolve incorrect incoming links]]., replaced: [[Manhattan]], [[New York]] → [[Manhattan]], [[New York (state)|New York]] using [[Project:AWB|AWB]]', 54914, 8909, 337, 24, 556, 11]\n",
      "['Lady Gaga', 726374562, 726122119, 'Iridescent', 937705, '2016-06-21T19:40:25Z', '/* LGBT advocacy */[[WP:AWB/T|Typo fixing]], [[WP:AWB/T|typo(s) fixed]]: Los Angles → Los Angeles using [[Project:AWB|AWB]]', 53202, 8621, 324, 24, 546, 11]\n",
      "['Lady Gaga', 720808998, 720736121, 'TomS TDotO', 2489164, '2016-05-18T02:09:03Z', '/* Legacy */ [[Aleiodes]] gaga → [[Aleiodes gaga]]', 52778, 8556, 321, 24, 530, 11]\n",
      "['Lady Gaga', 705934239, 705894770, 'HĐ', 18919691, '2016-02-20T12:03:22Z', '/* Legacy */', 61434, 10061, 341, 24, 571, 13]\n",
      "['Lady Gaga', 695179591, 695155692, 'Yobot', 7328338, '2015-12-14T08:26:56Z', 'Removed invisible unicode characters + other fixes, replaced: →   (2) using [[Project:AWB|AWB]] (11754)', 62598, 10297, 332, 25, 557, 11]\n"
     ]
    },
    {
     "name": "stderr",
     "output_type": "stream",
     "text": [
      "The following query raised warnings: {'action': 'query', 'titles': 'Donald Trump', 'prop': 'revisions', 'rvprop': 'ids|flags|timestamp|comment|user|userid|content', 'rvlimit': 'max', 'continue': '', 'format': 'json'}\n",
      "\t- result -- {'*': 'This result was truncated because it would otherwise be larger than the limit of 12,582,912 bytes.'}\n",
      "The following query raised warnings: {'action': 'query', 'titles': 'Donald Trump', 'prop': 'revisions', 'rvprop': 'ids|flags|timestamp|comment|user|userid|content', 'rvlimit': 'max', 'continue': '||', 'format': 'json', 'rvcontinue': '20180622145141|847044754'}\n",
      "\t- result -- {'*': 'This result was truncated because it would otherwise be larger than the limit of 12,582,912 bytes.'}\n",
      "The following query raised warnings: {'action': 'query', 'titles': 'Donald Trump', 'prop': 'revisions', 'rvprop': 'ids|flags|timestamp|comment|user|userid|content', 'rvlimit': 'max', 'continue': '||', 'format': 'json', 'rvcontinue': '20180619132241|846552681'}\n",
      "\t- result -- {'*': 'This result was truncated because it would otherwise be larger than the limit of 12,582,912 bytes.'}\n",
      "The following query raised warnings: {'action': 'query', 'titles': 'Donald Trump', 'prop': 'revisions', 'rvprop': 'ids|flags|timestamp|comment|user|userid|content', 'rvlimit': 'max', 'continue': '||', 'format': 'json', 'rvcontinue': '20180616190809|846160502'}\n",
      "\t- result -- {'*': 'This result was truncated because it would otherwise be larger than the limit of 12,582,912 bytes.'}\n"
     ]
    },
    {
     "name": "stdout",
     "output_type": "stream",
     "text": [
      "['Donald Trump', 846083706, 846076282, 'John of Reading', 11308236, '2018-06-16T05:42:18Z', 'Typo/[[WP:AWB/GF|general]] fixes, replaced: vice-versa → vice versa using [[Project:AWB|AWB]]', 101880, 15700, 749, 78, 728, 30]\n"
     ]
    },
    {
     "name": "stderr",
     "output_type": "stream",
     "text": [
      "The following query raised warnings: {'action': 'query', 'titles': 'Donald Trump', 'prop': 'revisions', 'rvprop': 'ids|flags|timestamp|comment|user|userid|content', 'rvlimit': 'max', 'continue': '||', 'format': 'json', 'rvcontinue': '20180615011445|845918776'}\n",
      "\t- result -- {'*': 'This result was truncated because it would otherwise be larger than the limit of 12,582,912 bytes.'}\n",
      "The following query raised warnings: {'action': 'query', 'titles': 'Donald Trump', 'prop': 'revisions', 'rvprop': 'ids|flags|timestamp|comment|user|userid|content', 'rvlimit': 'max', 'continue': '||', 'format': 'json', 'rvcontinue': '20180613125203|845683808'}\n",
      "\t- result -- {'*': 'This result was truncated because it would otherwise be larger than the limit of 12,582,912 bytes.'}\n",
      "The following query raised warnings: {'action': 'query', 'titles': 'Donald Trump', 'prop': 'revisions', 'rvprop': 'ids|flags|timestamp|comment|user|userid|content', 'rvlimit': 'max', 'continue': '||', 'format': 'json', 'rvcontinue': '20180612100741|845526140'}\n",
      "\t- result -- {'*': 'This result was truncated because it would otherwise be larger than the limit of 12,582,912 bytes.'}\n",
      "The following query raised warnings: {'action': 'query', 'titles': 'Donald Trump', 'prop': 'revisions', 'rvprop': 'ids|flags|timestamp|comment|user|userid|content', 'rvlimit': 'max', 'continue': '||', 'format': 'json', 'rvcontinue': '20180611012228|845323220'}\n",
      "\t- result -- {'*': 'This result was truncated because it would otherwise be larger than the limit of 12,582,912 bytes.'}\n",
      "The following query raised warnings: {'action': 'query', 'titles': 'Donald Trump', 'prop': 'revisions', 'rvprop': 'ids|flags|timestamp|comment|user|userid|content', 'rvlimit': 'max', 'continue': '||', 'format': 'json', 'rvcontinue': '20180609082023|845087059'}\n",
      "\t- result -- {'*': 'This result was truncated because it would otherwise be larger than the limit of 12,582,912 bytes.'}\n",
      "The following query raised warnings: {'action': 'query', 'titles': 'Donald Trump', 'prop': 'revisions', 'rvprop': 'ids|flags|timestamp|comment|user|userid|content', 'rvlimit': 'max', 'continue': '||', 'format': 'json', 'rvcontinue': '20180605222001|844600117'}\n",
      "\t- result -- {'*': 'This result was truncated because it would otherwise be larger than the limit of 12,582,912 bytes.'}\n"
     ]
    },
    {
     "name": "stdout",
     "output_type": "stream",
     "text": [
      "['Donald Trump', 844346907, 844258693, 'JFG', 168812, '2018-06-04T09:40:04Z', 'Disambiguated: [[The Hill]] → [[The Hill (newspaper)]]', 100998, 15522, 741, 78, 720, 30]\n"
     ]
    },
    {
     "name": "stderr",
     "output_type": "stream",
     "text": [
      "The following query raised warnings: {'action': 'query', 'titles': 'Donald Trump', 'prop': 'revisions', 'rvprop': 'ids|flags|timestamp|comment|user|userid|content', 'rvlimit': 'max', 'continue': '||', 'format': 'json', 'rvcontinue': '20180603141134|844225598'}\n",
      "\t- result -- {'*': 'This result was truncated because it would otherwise be larger than the limit of 12,582,912 bytes.'}\n",
      "The following query raised warnings: {'action': 'query', 'titles': 'Donald Trump', 'prop': 'revisions', 'rvprop': 'ids|flags|timestamp|comment|user|userid|content', 'rvlimit': 'max', 'continue': '||', 'format': 'json', 'rvcontinue': '20180603080848|844192942'}\n",
      "\t- result -- {'*': 'This result was truncated because it would otherwise be larger than the limit of 12,582,912 bytes.'}\n",
      "The following query raised warnings: {'action': 'query', 'titles': 'Donald Trump', 'prop': 'revisions', 'rvprop': 'ids|flags|timestamp|comment|user|userid|content', 'rvlimit': 'max', 'continue': '||', 'format': 'json', 'rvcontinue': '20180529153842|843503939'}\n",
      "\t- result -- {'*': 'This result was truncated because it would otherwise be larger than the limit of 12,582,912 bytes.'}\n"
     ]
    },
    {
     "name": "stdout",
     "output_type": "stream",
     "text": [
      "['Donald Trump', 843227916, 843225297, 'Rhododendrites', 5661201, '2018-05-27T19:23:06Z', 'clean up, replaced: As of 2016 → {{as of|2016}} using [[Project:AWB|AWB]]', 101976, 15694, 739, 77, 729, 30]\n"
     ]
    },
    {
     "name": "stderr",
     "output_type": "stream",
     "text": [
      "The following query raised warnings: {'action': 'query', 'titles': 'Donald Trump', 'prop': 'revisions', 'rvprop': 'ids|flags|timestamp|comment|user|userid|content', 'rvlimit': 'max', 'continue': '||', 'format': 'json', 'rvcontinue': '20180527134311|843186972'}\n",
      "\t- result -- {'*': 'This result was truncated because it would otherwise be larger than the limit of 12,582,912 bytes.'}\n",
      "The following query raised warnings: {'action': 'query', 'titles': 'Donald Trump', 'prop': 'revisions', 'rvprop': 'ids|flags|timestamp|comment|user|userid|content', 'rvlimit': 'max', 'continue': '||', 'format': 'json', 'rvcontinue': '20180525131434|842902610'}\n",
      "\t- result -- {'*': 'This result was truncated because it would otherwise be larger than the limit of 12,582,912 bytes.'}\n",
      "The following query raised warnings: {'action': 'query', 'titles': 'Donald Trump', 'prop': 'revisions', 'rvprop': 'ids|flags|timestamp|comment|user|userid|content', 'rvlimit': 'max', 'continue': '||', 'format': 'json', 'rvcontinue': '20180524061759|842716593'}\n",
      "\t- result -- {'*': 'This result was truncated because it would otherwise be larger than the limit of 12,582,912 bytes.'}\n",
      "The following query raised warnings: {'action': 'query', 'titles': 'Donald Trump', 'prop': 'revisions', 'rvprop': 'ids|flags|timestamp|comment|user|userid|content', 'rvlimit': 'max', 'continue': '||', 'format': 'json', 'rvcontinue': '20180523031455|842540353'}\n",
      "\t- result -- {'*': 'This result was truncated because it would otherwise be larger than the limit of 12,582,912 bytes.'}\n",
      "The following query raised warnings: {'action': 'query', 'titles': 'Donald Trump', 'prop': 'revisions', 'rvprop': 'ids|flags|timestamp|comment|user|userid|content', 'rvlimit': 'max', 'continue': '||', 'format': 'json', 'rvcontinue': '20180518033444|841797091'}\n",
      "\t- result -- {'*': 'This result was truncated because it would otherwise be larger than the limit of 12,582,912 bytes.'}\n",
      "The following query raised warnings: {'action': 'query', 'titles': 'Donald Trump', 'prop': 'revisions', 'rvprop': 'ids|flags|timestamp|comment|user|userid|content', 'rvlimit': 'max', 'continue': '||', 'format': 'json', 'rvcontinue': '20180512181254|840870850'}\n",
      "\t- result -- {'*': 'This result was truncated because it would otherwise be larger than the limit of 12,582,912 bytes.'}\n",
      "The following query raised warnings: {'action': 'query', 'titles': 'Donald Trump', 'prop': 'revisions', 'rvprop': 'ids|flags|timestamp|comment|user|userid|content', 'rvlimit': 'max', 'continue': '||', 'format': 'json', 'rvcontinue': '20180504204222|839657564'}\n",
      "\t- result -- {'*': 'This result was truncated because it would otherwise be larger than the limit of 12,582,912 bytes.'}\n"
     ]
    },
    {
     "name": "stdout",
     "output_type": "stream",
     "text": [
      "['Donald Trump', 837916903, 837855003, 'Chris the speller', 525927, '2018-04-23T20:17:53Z', 'per [[WP:HYPHEN]], sub-subsection 3, points 3,4,6, replaced: (b. 1977) → (born 1977) (3), U.K. → UK, racially- → racially using [[Project:AWB|AWB]]', 99204, 15298, 715, 77, 726, 30]\n"
     ]
    },
    {
     "name": "stderr",
     "output_type": "stream",
     "text": [
      "The following query raised warnings: {'action': 'query', 'titles': 'Donald Trump', 'prop': 'revisions', 'rvprop': 'ids|flags|timestamp|comment|user|userid|content', 'rvlimit': 'max', 'continue': '||', 'format': 'json', 'rvcontinue': '20180421180305|837573905'}\n",
      "\t- result -- {'*': 'This result was truncated because it would otherwise be larger than the limit of 12,582,912 bytes.'}\n",
      "The following query raised warnings: {'action': 'query', 'titles': 'Donald Trump', 'prop': 'revisions', 'rvprop': 'ids|flags|timestamp|comment|user|userid|content', 'rvlimit': 'max', 'continue': '||', 'format': 'json', 'rvcontinue': '20180420161412|837403567'}\n",
      "\t- result -- {'*': 'This result was truncated because it would otherwise be larger than the limit of 12,582,912 bytes.'}\n",
      "The following query raised warnings: {'action': 'query', 'titles': 'Donald Trump', 'prop': 'revisions', 'rvprop': 'ids|flags|timestamp|comment|user|userid|content', 'rvlimit': 'max', 'continue': '||', 'format': 'json', 'rvcontinue': '20180416133842|836721413'}\n",
      "\t- result -- {'*': 'This result was truncated because it would otherwise be larger than the limit of 12,582,912 bytes.'}\n"
     ]
    },
    {
     "name": "stdout",
     "output_type": "stream",
     "text": [
      "['Donald Trump', 836068428, 836049353, 'MelanieN', 1763353, '2018-04-12T14:11:24Z', 'Disambiguated: [[Michael Cohen]] → [[Michael Cohen (lawyer)]]', 103665, 15979, 741, 77, 753, 28]\n",
      "['Donald Trump', 835926464, 835921035, 'Muboshgu', 602857, '2018-04-11T16:30:54Z', 'Undid revision 835921035 by [[Special:Contributions/♥Golf|♥Golf]] ([[User talk:♥Golf|talk]]) Lol, the NYT and WaPo are two of the most respected publications in the U.S., if not the world', 103201, 15903, 739, 77, 753, 28]\n",
      "['Donald Trump', 835921035, 835857569, '♥Golf', 20996381, '2018-04-11T15:54:51Z', '/* Public profile */ the sources given here are known Trump haters:  NYT and WP.  Really, must this sort of biased information be included on this page?', 102616, 15810, 735, 76, 753, 28]\n"
     ]
    },
    {
     "name": "stderr",
     "output_type": "stream",
     "text": [
      "The following query raised warnings: {'action': 'query', 'titles': 'Donald Trump', 'prop': 'revisions', 'rvprop': 'ids|flags|timestamp|comment|user|userid|content', 'rvlimit': 'max', 'continue': '||', 'format': 'json', 'rvcontinue': '20180410234909|835819847'}\n",
      "\t- result -- {'*': 'This result was truncated because it would otherwise be larger than the limit of 12,582,912 bytes.'}\n"
     ]
    },
    {
     "name": "stdout",
     "output_type": "stream",
     "text": [
      "['Donald Trump', 835364040, 835362363, 'Galobtter', 19502780, '2018-04-08T07:29:38Z', 'Undid revision 835359503 by [[Special:Contributions/♥Golf|♥Golf]] ([[User talk:♥Golf|talk]]) reverting for enforcing restriction \"You must not reinstate any challenged (via reversion) edits without obtaining consensus on the talk page of this article.\"', 103297, 15917, 740, 77, 757, 27]\n",
      "['Donald Trump', 835359503, 835356937, '♥Golf', 20996381, '2018-04-08T06:37:15Z', '/* Public profile */ i suppose if this gets reverted again I will have to add a \"whopper\" section to Obama\\'s page.  It is only fair, right?  Obama told his share of outright lies, but is there anything about that in his article?  Of course not.  This stuff, sourced or not, doesn\\'t belong in an article this important..', 102811, 15836, 736, 76, 758, 27]\n",
      "['Donald Trump', 835356248, 835355961, '♥Golf', 20996381, '2018-04-08T05:53:43Z', '/* Economy and trade */ better', 103399, 15930, 740, 77, 758, 27]\n",
      "['Donald Trump', 835355808, 835300980, '♥Golf', 20996381, '2018-04-08T05:46:52Z', '/* Public profile */ political and media bias', 102818, 15837, 736, 76, 758, 27]\n",
      "['Donald Trump', 834439458, 834291234, 'KolbertBot', 31691822, '2018-04-05T18:59:45Z', 'Bot: [[User:KolbertBot|HTTP→HTTPS]] (v485)', 104415, 16092, 746, 76, 763, 28]\n"
     ]
    },
    {
     "name": "stderr",
     "output_type": "stream",
     "text": [
      "The following query raised warnings: {'action': 'query', 'titles': 'Donald Trump', 'prop': 'revisions', 'rvprop': 'ids|flags|timestamp|comment|user|userid|content', 'rvlimit': 'max', 'continue': '||', 'format': 'json', 'rvcontinue': '20180404114218|834187625'}\n",
      "\t- result -- {'*': 'This result was truncated because it would otherwise be larger than the limit of 12,582,912 bytes.'}\n"
     ]
    },
    {
     "name": "stdout",
     "output_type": "stream",
     "text": [
      "['Donald Trump', 834023179, 834012376, 'EdgarCabreraFariña', 20546798, '2018-04-03T14:52:50Z', 'Michael Dean Cohen →\\u200e Michael Cohen (lawyer)', 104415, 16092, 746, 76, 763, 28]\n"
     ]
    },
    {
     "name": "stderr",
     "output_type": "stream",
     "text": [
      "The following query raised warnings: {'action': 'query', 'titles': 'Donald Trump', 'prop': 'revisions', 'rvprop': 'ids|flags|timestamp|comment|user|userid|content', 'rvlimit': 'max', 'continue': '||', 'format': 'json', 'rvcontinue': '20180329124118|833056304'}\n",
      "\t- result -- {'*': 'This result was truncated because it would otherwise be larger than the limit of 12,582,912 bytes.'}\n"
     ]
    },
    {
     "name": "stdout",
     "output_type": "stream",
     "text": [
      "['Donald Trump', 831566902, 831562761, 'KolbertBot', 31691822, '2018-03-21T06:43:27Z', 'Bot: [[User:KolbertBot|HTTP→HTTPS]] (v485)', 104055, 16031, 746, 76, 762, 28]\n"
     ]
    },
    {
     "name": "stderr",
     "output_type": "stream",
     "text": [
      "The following query raised warnings: {'action': 'query', 'titles': 'Donald Trump', 'prop': 'revisions', 'rvprop': 'ids|flags|timestamp|comment|user|userid|content', 'rvlimit': 'max', 'continue': '||', 'format': 'json', 'rvcontinue': '20180321060608|831562761'}\n",
      "\t- result -- {'*': 'This result was truncated because it would otherwise be larger than the limit of 12,582,912 bytes.'}\n",
      "The following query raised warnings: {'action': 'query', 'titles': 'Donald Trump', 'prop': 'revisions', 'rvprop': 'ids|flags|timestamp|comment|user|userid|content', 'rvlimit': 'max', 'continue': '||', 'format': 'json', 'rvcontinue': '20180317213220|830946950'}\n",
      "\t- result -- {'*': 'This result was truncated because it would otherwise be larger than the limit of 12,582,912 bytes.'}\n",
      "The following query raised warnings: {'action': 'query', 'titles': 'Donald Trump', 'prop': 'revisions', 'rvprop': 'ids|flags|timestamp|comment|user|userid|content', 'rvlimit': 'max', 'continue': '||', 'format': 'json', 'rvcontinue': '20180313135100|830216375'}\n",
      "\t- result -- {'*': 'This result was truncated because it would otherwise be larger than the limit of 12,582,912 bytes.'}\n"
     ]
    },
    {
     "name": "stdout",
     "output_type": "stream",
     "text": [
      "['Donald Trump', 830216375, 830141847, 'JFG', 168812, '2018-03-13T13:51:00Z', 'Disambiguated: [[The Hill]] → [[The Hill (newspaper)]]', 101808, 15682, 738, 76, 753, 28]\n"
     ]
    },
    {
     "name": "stderr",
     "output_type": "stream",
     "text": [
      "The following query raised warnings: {'action': 'query', 'titles': 'Donald Trump', 'prop': 'revisions', 'rvprop': 'ids|flags|timestamp|comment|user|userid|content', 'rvlimit': 'max', 'continue': '||', 'format': 'json', 'rvcontinue': '20180308220507|829480629'}\n",
      "\t- result -- {'*': 'This result was truncated because it would otherwise be larger than the limit of 12,582,912 bytes.'}\n",
      "The following query raised warnings: {'action': 'query', 'titles': 'Donald Trump', 'prop': 'revisions', 'rvprop': 'ids|flags|timestamp|comment|user|userid|content', 'rvlimit': 'max', 'continue': '||', 'format': 'json', 'rvcontinue': '20180308040934|829361369'}\n",
      "\t- result -- {'*': 'This result was truncated because it would otherwise be larger than the limit of 12,582,912 bytes.'}\n",
      "The following query raised warnings: {'action': 'query', 'titles': 'Donald Trump', 'prop': 'revisions', 'rvprop': 'ids|flags|timestamp|comment|user|userid|content', 'rvlimit': 'max', 'continue': '||', 'format': 'json', 'rvcontinue': '20180303053409|828541148'}\n",
      "\t- result -- {'*': 'This result was truncated because it would otherwise be larger than the limit of 12,582,912 bytes.'}\n",
      "The following query raised warnings: {'action': 'query', 'titles': 'Donald Trump', 'prop': 'revisions', 'rvprop': 'ids|flags|timestamp|comment|user|userid|content', 'rvlimit': 'max', 'continue': '||', 'format': 'json', 'rvcontinue': '20180226212034|827808127'}\n",
      "\t- result -- {'*': 'This result was truncated because it would otherwise be larger than the limit of 12,582,912 bytes.'}\n",
      "The following query raised warnings: {'action': 'query', 'titles': 'Donald Trump', 'prop': 'revisions', 'rvprop': 'ids|flags|timestamp|comment|user|userid|content', 'rvlimit': 'max', 'continue': '||', 'format': 'json', 'rvcontinue': '20180226201816|827799264'}\n",
      "\t- result -- {'*': 'This result was truncated because it would otherwise be larger than the limit of 12,582,912 bytes.'}\n",
      "The following query raised warnings: {'action': 'query', 'titles': 'Donald Trump', 'prop': 'revisions', 'rvprop': 'ids|flags|timestamp|comment|user|userid|content', 'rvlimit': 'max', 'continue': '||', 'format': 'json', 'rvcontinue': '20180216065120|825934379'}\n",
      "\t- result -- {'*': 'This result was truncated because it would otherwise be larger than the limit of 12,582,912 bytes.'}\n",
      "The following query raised warnings: {'action': 'query', 'titles': 'Donald Trump', 'prop': 'revisions', 'rvprop': 'ids|flags|timestamp|comment|user|userid|content', 'rvlimit': 'max', 'continue': '||', 'format': 'json', 'rvcontinue': '20180214091510|825600093'}\n",
      "\t- result -- {'*': 'This result was truncated because it would otherwise be larger than the limit of 12,582,912 bytes.'}\n"
     ]
    },
    {
     "name": "stdout",
     "output_type": "stream",
     "text": [
      "['Donald Trump', 825569999, 825562639, 'KolbertBot', 31691822, '2018-02-14T04:11:46Z', 'Bot: [[User:KolbertBot|HTTP→HTTPS]] (v481)', 100464, 15500, 724, 79, 801, 25]\n"
     ]
    },
    {
     "name": "stderr",
     "output_type": "stream",
     "text": [
      "The following query raised warnings: {'action': 'query', 'titles': 'Donald Trump', 'prop': 'revisions', 'rvprop': 'ids|flags|timestamp|comment|user|userid|content', 'rvlimit': 'max', 'continue': '||', 'format': 'json', 'rvcontinue': '20180212220027|825348265'}\n",
      "\t- result -- {'*': 'This result was truncated because it would otherwise be larger than the limit of 12,582,912 bytes.'}\n"
     ]
    },
    {
     "name": "stdout",
     "output_type": "stream",
     "text": [
      "['Donald Trump', 824434563, 824255486, 'Iridescent', 937705, '2018-02-07T09:06:05Z', '/* Racial views */[[WP:AWB/T|Typo fixing]], [[WP:AWB/T|typo(s) fixed]]: a October → an October using [[Project:AWB|AWB]]', 99791, 15383, 715, 79, 804, 25]\n"
     ]
    },
    {
     "name": "stderr",
     "output_type": "stream",
     "text": [
      "The following query raised warnings: {'action': 'query', 'titles': 'Donald Trump', 'prop': 'revisions', 'rvprop': 'ids|flags|timestamp|comment|user|userid|content', 'rvlimit': 'max', 'continue': '||', 'format': 'json', 'rvcontinue': '20180201133530|823471727'}\n",
      "\t- result -- {'*': 'This result was truncated because it would otherwise be larger than the limit of 12,582,912 bytes.'}\n",
      "The following query raised warnings: {'action': 'query', 'titles': 'Donald Trump', 'prop': 'revisions', 'rvprop': 'ids|flags|timestamp|comment|user|userid|content', 'rvlimit': 'max', 'continue': '||', 'format': 'json', 'rvcontinue': '20180129221035|823029941'}\n",
      "\t- result -- {'*': 'This result was truncated because it would otherwise be larger than the limit of 12,582,912 bytes.'}\n"
     ]
    },
    {
     "name": "stdout",
     "output_type": "stream",
     "text": [
      "['Donald Trump', 822541953, 822481649, 'JCW-CleanerBot', 31737083, '2018-01-26T23:57:38Z', '[[User:JCW-CleanerBot#Logic|task]], replaced: publisher=[[The Nation (magazine)]] → publisher=[[The Nation (magazine)|The Nation]] using [[Project:AWB|AWB]]', 99507, 15353, 714, 75, 802, 25]\n"
     ]
    },
    {
     "name": "stderr",
     "output_type": "stream",
     "text": [
      "The following query raised warnings: {'action': 'query', 'titles': 'Donald Trump', 'prop': 'revisions', 'rvprop': 'ids|flags|timestamp|comment|user|userid|content', 'rvlimit': 'max', 'continue': '||', 'format': 'json', 'rvcontinue': '20180126125551|822450339'}\n",
      "\t- result -- {'*': 'This result was truncated because it would otherwise be larger than the limit of 12,582,912 bytes.'}\n",
      "The following query raised warnings: {'action': 'query', 'titles': 'Donald Trump', 'prop': 'revisions', 'rvprop': 'ids|flags|timestamp|comment|user|userid|content', 'rvlimit': 'max', 'continue': '||', 'format': 'json', 'rvcontinue': '20180120120503|821428763'}\n",
      "\t- result -- {'*': 'This result was truncated because it would otherwise be larger than the limit of 12,582,912 bytes.'}\n",
      "The following query raised warnings: {'action': 'query', 'titles': 'Donald Trump', 'prop': 'revisions', 'rvprop': 'ids|flags|timestamp|comment|user|userid|content', 'rvlimit': 'max', 'continue': '||', 'format': 'json', 'rvcontinue': '20180117205017|820997284'}\n",
      "\t- result -- {'*': 'This result was truncated because it would otherwise be larger than the limit of 12,582,912 bytes.'}\n",
      "The following query raised warnings: {'action': 'query', 'titles': 'Donald Trump', 'prop': 'revisions', 'rvprop': 'ids|flags|timestamp|comment|user|userid|content', 'rvlimit': 'max', 'continue': '||', 'format': 'json', 'rvcontinue': '20180116080039|820728752'}\n",
      "\t- result -- {'*': 'This result was truncated because it would otherwise be larger than the limit of 12,582,912 bytes.'}\n",
      "The following query raised warnings: {'action': 'query', 'titles': 'Donald Trump', 'prop': 'revisions', 'rvprop': 'ids|flags|timestamp|comment|user|userid|content', 'rvlimit': 'max', 'continue': '||', 'format': 'json', 'rvcontinue': '20180115164401|820612162'}\n",
      "\t- result -- {'*': 'This result was truncated because it would otherwise be larger than the limit of 12,582,912 bytes.'}\n",
      "The following query raised warnings: {'action': 'query', 'titles': 'Donald Trump', 'prop': 'revisions', 'rvprop': 'ids|flags|timestamp|comment|user|userid|content', 'rvlimit': 'max', 'continue': '||', 'format': 'json', 'rvcontinue': '20180114234324|820485323'}\n",
      "\t- result -- {'*': 'This result was truncated because it would otherwise be larger than the limit of 12,582,912 bytes.'}\n",
      "The following query raised warnings: {'action': 'query', 'titles': 'Donald Trump', 'prop': 'revisions', 'rvprop': 'ids|flags|timestamp|comment|user|userid|content', 'rvlimit': 'max', 'continue': '||', 'format': 'json', 'rvcontinue': '20180114133952|820392853'}\n",
      "\t- result -- {'*': 'This result was truncated because it would otherwise be larger than the limit of 12,582,912 bytes.'}\n",
      "The following query raised warnings: {'action': 'query', 'titles': 'Donald Trump', 'prop': 'revisions', 'rvprop': 'ids|flags|timestamp|comment|user|userid|content', 'rvlimit': 'max', 'continue': '||', 'format': 'json', 'rvcontinue': '20180114032450|820306753'}\n",
      "\t- result -- {'*': 'This result was truncated because it would otherwise be larger than the limit of 12,582,912 bytes.'}\n",
      "The following query raised warnings: {'action': 'query', 'titles': 'Donald Trump', 'prop': 'revisions', 'rvprop': 'ids|flags|timestamp|comment|user|userid|content', 'rvlimit': 'max', 'continue': '||', 'format': 'json', 'rvcontinue': '20180113132921|820175601'}\n",
      "\t- result -- {'*': 'This result was truncated because it would otherwise be larger than the limit of 12,582,912 bytes.'}\n",
      "The following query raised warnings: {'action': 'query', 'titles': 'Donald Trump', 'prop': 'revisions', 'rvprop': 'ids|flags|timestamp|comment|user|userid|content', 'rvlimit': 'max', 'continue': '||', 'format': 'json', 'rvcontinue': '20180111181650|819864213'}\n",
      "\t- result -- {'*': 'This result was truncated because it would otherwise be larger than the limit of 12,582,912 bytes.'}\n",
      "The following query raised warnings: {'action': 'query', 'titles': 'Donald Trump', 'prop': 'revisions', 'rvprop': 'ids|flags|timestamp|comment|user|userid|content', 'rvlimit': 'max', 'continue': '||', 'format': 'json', 'rvcontinue': '20180108143702|819285381'}\n",
      "\t- result -- {'*': 'This result was truncated because it would otherwise be larger than the limit of 12,582,912 bytes.'}\n"
     ]
    },
    {
     "name": "stdout",
     "output_type": "stream",
     "text": [
      "['Donald Trump', 817550820, 817535718, 'KolbertBot', 31691822, '2017-12-29T03:21:52Z', 'Bot: [[User:KolbertBot|HTTP→HTTPS]] (v481)', 95968, 14794, 666, 71, 799, 25]\n"
     ]
    },
    {
     "name": "stderr",
     "output_type": "stream",
     "text": [
      "The following query raised warnings: {'action': 'query', 'titles': 'Donald Trump', 'prop': 'revisions', 'rvprop': 'ids|flags|timestamp|comment|user|userid|content', 'rvlimit': 'max', 'continue': '||', 'format': 'json', 'rvcontinue': '20171225205439|817059596'}\n",
      "\t- result -- {'*': 'This result was truncated because it would otherwise be larger than the limit of 12,582,912 bytes.'}\n"
     ]
    },
    {
     "name": "stdout",
     "output_type": "stream",
     "text": [
      "['Donald Trump', 816715570, 816714854, 'Vmavanti', 25128382, '2017-12-23T05:34:41Z', 'Disambiguated: [[Alex Jones]] → [[Alex Jones (radio host)]]', 94636, 14586, 662, 71, 793, 25]\n",
      "['Donald Trump', 816596409, 816596125, 'JFG', 168812, '2017-12-22T10:57:50Z', '/* Political career up to 2015 */ Public interest in politics ≠ seeking presidency', 94434, 14553, 662, 71, 793, 25]\n"
     ]
    },
    {
     "name": "stderr",
     "output_type": "stream",
     "text": [
      "The following query raised warnings: {'action': 'query', 'titles': 'Donald Trump', 'prop': 'revisions', 'rvprop': 'ids|flags|timestamp|comment|user|userid|content', 'rvlimit': 'max', 'continue': '||', 'format': 'json', 'rvcontinue': '20171222101412|816592805'}\n",
      "\t- result -- {'*': 'This result was truncated because it would otherwise be larger than the limit of 12,582,912 bytes.'}\n"
     ]
    },
    {
     "name": "stdout",
     "output_type": "stream",
     "text": [
      "['Donald Trump', 816242233, 816235165, 'KolbertBot', 31691822, '2017-12-20T04:26:42Z', 'Bot: [[User:KolbertBot|HTTP→HTTPS]] (v478)', 95458, 14723, 658, 72, 796, 25]\n"
     ]
    },
    {
     "name": "stderr",
     "output_type": "stream",
     "text": [
      "The following query raised warnings: {'action': 'query', 'titles': 'Donald Trump', 'prop': 'revisions', 'rvprop': 'ids|flags|timestamp|comment|user|userid|content', 'rvlimit': 'max', 'continue': '||', 'format': 'json', 'rvcontinue': '20171220032015|816235165'}\n",
      "\t- result -- {'*': 'This result was truncated because it would otherwise be larger than the limit of 12,582,912 bytes.'}\n",
      "The following query raised warnings: {'action': 'query', 'titles': 'Donald Trump', 'prop': 'revisions', 'rvprop': 'ids|flags|timestamp|comment|user|userid|content', 'rvlimit': 'max', 'continue': '||', 'format': 'json', 'rvcontinue': '20171218113326|815969946'}\n",
      "\t- result -- {'*': 'This result was truncated because it would otherwise be larger than the limit of 12,582,912 bytes.'}\n",
      "The following query raised warnings: {'action': 'query', 'titles': 'Donald Trump', 'prop': 'revisions', 'rvprop': 'ids|flags|timestamp|comment|user|userid|content', 'rvlimit': 'max', 'continue': '||', 'format': 'json', 'rvcontinue': '20171216170019|815715351'}\n",
      "\t- result -- {'*': 'This result was truncated because it would otherwise be larger than the limit of 12,582,912 bytes.'}\n",
      "The following query raised warnings: {'action': 'query', 'titles': 'Donald Trump', 'prop': 'revisions', 'rvprop': 'ids|flags|timestamp|comment|user|userid|content', 'rvlimit': 'max', 'continue': '||', 'format': 'json', 'rvcontinue': '20171214183300|815416969'}\n",
      "\t- result -- {'*': 'This result was truncated because it would otherwise be larger than the limit of 12,582,912 bytes.'}\n"
     ]
    },
    {
     "name": "stdout",
     "output_type": "stream",
     "text": [
      "['Donald Trump', 815264464, 815223170, 'Navarre0107', 26504209, '2017-12-13T20:15:07Z', '[[WP:AES|←]]Redirected page to [[Donald J. Trump]]', 96349, 14869, 659, 72, 789, 24]\n"
     ]
    },
    {
     "name": "stderr",
     "output_type": "stream",
     "text": [
      "The following query raised warnings: {'action': 'query', 'titles': 'Donald Trump', 'prop': 'revisions', 'rvprop': 'ids|flags|timestamp|comment|user|userid|content', 'rvlimit': 'max', 'continue': '||', 'format': 'json', 'rvcontinue': '20171212040654|815000635'}\n",
      "\t- result -- {'*': 'This result was truncated because it would otherwise be larger than the limit of 12,582,912 bytes.'}\n",
      "The following query raised warnings: {'action': 'query', 'titles': 'Donald Trump', 'prop': 'revisions', 'rvprop': 'ids|flags|timestamp|comment|user|userid|content', 'rvlimit': 'max', 'continue': '||', 'format': 'json', 'rvcontinue': '20171211173718|814913533'}\n",
      "\t- result -- {'*': 'This result was truncated because it would otherwise be larger than the limit of 12,582,912 bytes.'}\n",
      "The following query raised warnings: {'action': 'query', 'titles': 'Donald Trump', 'prop': 'revisions', 'rvprop': 'ids|flags|timestamp|comment|user|userid|content', 'rvlimit': 'max', 'continue': '||', 'format': 'json', 'rvcontinue': '20171210083205|814685494'}\n",
      "\t- result -- {'*': 'This result was truncated because it would otherwise be larger than the limit of 12,582,912 bytes.'}\n",
      "The following query raised warnings: {'action': 'query', 'titles': 'Donald Trump', 'prop': 'revisions', 'rvprop': 'ids|flags|timestamp|comment|user|userid|content', 'rvlimit': 'max', 'continue': '||', 'format': 'json', 'rvcontinue': '20171209121710|814541400'}\n",
      "\t- result -- {'*': 'This result was truncated because it would otherwise be larger than the limit of 12,582,912 bytes.'}\n",
      "The following query raised warnings: {'action': 'query', 'titles': 'Donald Trump', 'prop': 'revisions', 'rvprop': 'ids|flags|timestamp|comment|user|userid|content', 'rvlimit': 'max', 'continue': '||', 'format': 'json', 'rvcontinue': '20171208095523|814361704'}\n",
      "\t- result -- {'*': 'This result was truncated because it would otherwise be larger than the limit of 12,582,912 bytes.'}\n",
      "The following query raised warnings: {'action': 'query', 'titles': 'Donald Trump', 'prop': 'revisions', 'rvprop': 'ids|flags|timestamp|comment|user|userid|content', 'rvlimit': 'max', 'continue': '||', 'format': 'json', 'rvcontinue': '20171127200146|812422604'}\n",
      "\t- result -- {'*': 'This result was truncated because it would otherwise be larger than the limit of 12,582,912 bytes.'}\n"
     ]
    },
    {
     "name": "stdout",
     "output_type": "stream",
     "text": [
      "['Donald Trump', 811384748, 811319094, '烤麵包機', 15569763, '2017-11-21T07:52:20Z', '/* Wealth */', 98793, 15235, 672, 72, 809, 26]\n"
     ]
    },
    {
     "name": "stderr",
     "output_type": "stream",
     "text": [
      "The following query raised warnings: {'action': 'query', 'titles': 'Donald Trump', 'prop': 'revisions', 'rvprop': 'ids|flags|timestamp|comment|user|userid|content', 'rvlimit': 'max', 'continue': '||', 'format': 'json', 'rvcontinue': '20171120100904|811236001'}\n",
      "\t- result -- {'*': 'This result was truncated because it would otherwise be larger than the limit of 12,582,912 bytes.'}\n"
     ]
    },
    {
     "name": "stdout",
     "output_type": "stream",
     "text": [
      "['Donald Trump', 810033925, 809932292, 'Corkythehornetfan', 16927144, '2017-11-13T00:08:44Z', '/* External links */ {{US presidents}} → {{US Presidents}}', 98757, 15232, 672, 72, 810, 26]\n",
      "['Donald Trump', 809609332, 809544426, 'CookieMonster755', 22164567, '2017-11-10T06:43:47Z', '45rd → 45th', 98668, 15217, 673, 72, 810, 26]\n"
     ]
    },
    {
     "name": "stderr",
     "output_type": "stream",
     "text": [
      "The following query raised warnings: {'action': 'query', 'titles': 'Donald Trump', 'prop': 'revisions', 'rvprop': 'ids|flags|timestamp|comment|user|userid|content', 'rvlimit': 'max', 'continue': '||', 'format': 'json', 'rvcontinue': '20171108135748|809335094'}\n",
      "\t- result -- {'*': 'This result was truncated because it would otherwise be larger than the limit of 12,582,912 bytes.'}\n",
      "The following query raised warnings: {'action': 'query', 'titles': 'Donald Trump', 'prop': 'revisions', 'rvprop': 'ids|flags|timestamp|comment|user|userid|content', 'rvlimit': 'max', 'continue': '||', 'format': 'json', 'rvcontinue': '20171104120815|808676919'}\n",
      "\t- result -- {'*': 'This result was truncated because it would otherwise be larger than the limit of 12,582,912 bytes.'}\n"
     ]
    },
    {
     "name": "stdout",
     "output_type": "stream",
     "text": [
      "['Donald Trump', 807451100, 807438860, 'Melonkelon', 18173407, '2017-10-28T01:21:17Z', 'clean up, [[WP:AWB/T|typo(s) fixed]]: probabilty → probability using [[Project:AWB|AWB]]', 98544, 15197, 672, 72, 808, 25]\n"
     ]
    },
    {
     "name": "stderr",
     "output_type": "stream",
     "text": [
      "The following query raised warnings: {'action': 'query', 'titles': 'Donald Trump', 'prop': 'revisions', 'rvprop': 'ids|flags|timestamp|comment|user|userid|content', 'rvlimit': 'max', 'continue': '||', 'format': 'json', 'rvcontinue': '20171026180642|807225293'}\n",
      "\t- result -- {'*': 'This result was truncated because it would otherwise be larger than the limit of 12,582,912 bytes.'}\n",
      "The following query raised warnings: {'action': 'query', 'titles': 'Donald Trump', 'prop': 'revisions', 'rvprop': 'ids|flags|timestamp|comment|user|userid|content', 'rvlimit': 'max', 'continue': '||', 'format': 'json', 'rvcontinue': '20171020131929|806209768'}\n",
      "\t- result -- {'*': 'This result was truncated because it would otherwise be larger than the limit of 12,582,912 bytes.'}\n",
      "The following query raised warnings: {'action': 'query', 'titles': 'Donald Trump', 'prop': 'revisions', 'rvprop': 'ids|flags|timestamp|comment|user|userid|content', 'rvlimit': 'max', 'continue': '||', 'format': 'json', 'rvcontinue': '20171016173700|805635660'}\n",
      "\t- result -- {'*': 'This result was truncated because it would otherwise be larger than the limit of 12,582,912 bytes.'}\n",
      "The following query raised warnings: {'action': 'query', 'titles': 'Donald Trump', 'prop': 'revisions', 'rvprop': 'ids|flags|timestamp|comment|user|userid|content', 'rvlimit': 'max', 'continue': '||', 'format': 'json', 'rvcontinue': '20171004214525|803825131'}\n",
      "\t- result -- {'*': 'This result was truncated because it would otherwise be larger than the limit of 12,582,912 bytes.'}\n",
      "The following query raised warnings: {'action': 'query', 'titles': 'Donald Trump', 'prop': 'revisions', 'rvprop': 'ids|flags|timestamp|comment|user|userid|content', 'rvlimit': 'max', 'continue': '||', 'format': 'json', 'rvcontinue': '20170925123707|802321375'}\n",
      "\t- result -- {'*': 'This result was truncated because it would otherwise be larger than the limit of 12,582,912 bytes.'}\n",
      "The following query raised warnings: {'action': 'query', 'titles': 'Donald Trump', 'prop': 'revisions', 'rvprop': 'ids|flags|timestamp|comment|user|userid|content', 'rvlimit': 'max', 'continue': '||', 'format': 'json', 'rvcontinue': '20170924194612|802222580'}\n",
      "\t- result -- {'*': 'This result was truncated because it would otherwise be larger than the limit of 12,582,912 bytes.'}\n",
      "The following query raised warnings: {'action': 'query', 'titles': 'Donald Trump', 'prop': 'revisions', 'rvprop': 'ids|flags|timestamp|comment|user|userid|content', 'rvlimit': 'max', 'continue': '||', 'format': 'json', 'rvcontinue': '20170913210508|800485751'}\n",
      "\t- result -- {'*': 'This result was truncated because it would otherwise be larger than the limit of 12,582,912 bytes.'}\n"
     ]
    },
    {
     "name": "stdout",
     "output_type": "stream",
     "text": [
      "['Donald Trump', 799684910, 799653942, 'KolbertBot', 31691822, '2017-09-09T06:36:59Z', 'Bot: [[User:KolbertBot|HTTP→HTTPS]]', 98141, 15120, 665, 72, 833, 26]\n"
     ]
    },
    {
     "name": "stderr",
     "output_type": "stream",
     "text": [
      "The following query raised warnings: {'action': 'query', 'titles': 'Donald Trump', 'prop': 'revisions', 'rvprop': 'ids|flags|timestamp|comment|user|userid|content', 'rvlimit': 'max', 'continue': '||', 'format': 'json', 'rvcontinue': '20170902021929|798455053'}\n",
      "\t- result -- {'*': 'This result was truncated because it would otherwise be larger than the limit of 12,582,912 bytes.'}\n"
     ]
    },
    {
     "name": "stdout",
     "output_type": "stream",
     "text": [
      "['Donald Trump', 798092152, 798083315, 'KolbertBot', 31691822, '2017-08-30T23:10:51Z', 'Bot: [[Wikipedia:Bots/Requests for approval/KolbertBot|HTTP→HTTPS]]', 97953, 15094, 664, 72, 836, 25]\n",
      "['Donald Trump', 797377274, 797283372, 'KolbertBot', 31691822, '2017-08-26T17:49:49Z', 'Bot: [[Wikipedia:Bots/Requests for approval/KolbertBot|HTTP→HTTPS]]', 97627, 15045, 661, 72, 832, 25]\n"
     ]
    },
    {
     "name": "stderr",
     "output_type": "stream",
     "text": [
      "The following query raised warnings: {'action': 'query', 'titles': 'Donald Trump', 'prop': 'revisions', 'rvprop': 'ids|flags|timestamp|comment|user|userid|content', 'rvlimit': 'max', 'continue': '||', 'format': 'json', 'rvcontinue': '20170824195053|797070497'}\n",
      "\t- result -- {'*': 'This result was truncated because it would otherwise be larger than the limit of 12,582,912 bytes.'}\n",
      "The following query raised warnings: {'action': 'query', 'titles': 'Donald Trump', 'prop': 'revisions', 'rvprop': 'ids|flags|timestamp|comment|user|userid|content', 'rvlimit': 'max', 'continue': '||', 'format': 'json', 'rvcontinue': '20170813150156|795330315'}\n",
      "\t- result -- {'*': 'This result was truncated because it would otherwise be larger than the limit of 12,582,912 bytes.'}\n"
     ]
    },
    {
     "name": "stdout",
     "output_type": "stream",
     "text": [
      "['Donald Trump', 794588818, 794578915, 'Timrollpickering', 32005, '2017-08-08T21:48:04Z', 'per [[WP:CFDS]], replaced: Category:New York Republicans → Category:New York (state) Republicans using [[Project:AWB|AWB]]', 96446, 14847, 656, 72, 827, 25]\n",
      "['Donald Trump', 794213808, 794135354, 'Axxxion', 10994728, '2017-08-06T16:32:42Z', 'citizens of, not from. Actual countries — not ″Muslim-majority countries″: this misleads to wrong rationale', 96393, 14838, 656, 72, 827, 25]\n"
     ]
    },
    {
     "name": "stderr",
     "output_type": "stream",
     "text": [
      "The following query raised warnings: {'action': 'query', 'titles': 'Donald Trump', 'prop': 'revisions', 'rvprop': 'ids|flags|timestamp|comment|user|userid|content', 'rvlimit': 'max', 'continue': '||', 'format': 'json', 'rvcontinue': '20170804185205|793917581'}\n",
      "\t- result -- {'*': 'This result was truncated because it would otherwise be larger than the limit of 12,582,912 bytes.'}\n",
      "The following query raised warnings: {'action': 'query', 'titles': 'Donald Trump', 'prop': 'revisions', 'rvprop': 'ids|flags|timestamp|comment|user|userid|content', 'rvlimit': 'max', 'continue': '||', 'format': 'json', 'rvcontinue': '20170727103449|792580910'}\n",
      "\t- result -- {'*': 'This result was truncated because it would otherwise be larger than the limit of 12,582,912 bytes.'}\n",
      "The following query raised warnings: {'action': 'query', 'titles': 'Donald Trump', 'prop': 'revisions', 'rvprop': 'ids|flags|timestamp|comment|user|userid|content', 'rvlimit': 'max', 'continue': '||', 'format': 'json', 'rvcontinue': '20170717232449|791069882'}\n",
      "\t- result -- {'*': 'This result was truncated because it would otherwise be larger than the limit of 12,582,912 bytes.'}\n",
      "The following query raised warnings: {'action': 'query', 'titles': 'Donald Trump', 'prop': 'revisions', 'rvprop': 'ids|flags|timestamp|comment|user|userid|content', 'rvlimit': 'max', 'continue': '||', 'format': 'json', 'rvcontinue': '20170714214734|790610165'}\n",
      "\t- result -- {'*': 'This result was truncated because it would otherwise be larger than the limit of 12,582,912 bytes.'}\n",
      "The following query raised warnings: {'action': 'query', 'titles': 'Donald Trump', 'prop': 'revisions', 'rvprop': 'ids|flags|timestamp|comment|user|userid|content', 'rvlimit': 'max', 'continue': '||', 'format': 'json', 'rvcontinue': '20170713104138|790377148'}\n",
      "\t- result -- {'*': 'This result was truncated because it would otherwise be larger than the limit of 12,582,912 bytes.'}\n",
      "The following query raised warnings: {'action': 'query', 'titles': 'Donald Trump', 'prop': 'revisions', 'rvprop': 'ids|flags|timestamp|comment|user|userid|content', 'rvlimit': 'max', 'continue': '||', 'format': 'json', 'rvcontinue': '20170707232300|789536658'}\n",
      "\t- result -- {'*': 'This result was truncated because it would otherwise be larger than the limit of 12,582,912 bytes.'}\n"
     ]
    },
    {
     "name": "stdout",
     "output_type": "stream",
     "text": [
      "['Donald Trump', 788378378, 788360578, 'GoingBatty', 11555324, '2017-07-01T02:10:41Z', 'clean up, [[WP:AWB/T|typo(s) fixed]]: t-shirt → T-shirt, replaced: [[Time]] → [[Time (magazine)|Time]], ” → \" using [[Project:AWB|AWB]]', 94576, 14549, 651, 71, 815, 27]\n"
     ]
    },
    {
     "name": "stderr",
     "output_type": "stream",
     "text": [
      "The following query raised warnings: {'action': 'query', 'titles': 'Donald Trump', 'prop': 'revisions', 'rvprop': 'ids|flags|timestamp|comment|user|userid|content', 'rvlimit': 'max', 'continue': '||', 'format': 'json', 'rvcontinue': '20170629195751|788157329'}\n",
      "\t- result -- {'*': 'This result was truncated because it would otherwise be larger than the limit of 12,582,912 bytes.'}\n",
      "The following query raised warnings: {'action': 'query', 'titles': 'Donald Trump', 'prop': 'revisions', 'rvprop': 'ids|flags|timestamp|comment|user|userid|content', 'rvlimit': 'max', 'continue': '||', 'format': 'json', 'rvcontinue': '20170626223728|787688406'}\n",
      "\t- result -- {'*': 'This result was truncated because it would otherwise be larger than the limit of 12,582,912 bytes.'}\n",
      "The following query raised warnings: {'action': 'query', 'titles': 'Donald Trump', 'prop': 'revisions', 'rvprop': 'ids|flags|timestamp|comment|user|userid|content', 'rvlimit': 'max', 'continue': '||', 'format': 'json', 'rvcontinue': '20170623165911|787134593'}\n",
      "\t- result -- {'*': 'This result was truncated because it would otherwise be larger than the limit of 12,582,912 bytes.'}\n",
      "The following query raised warnings: {'action': 'query', 'titles': 'Donald Trump', 'prop': 'revisions', 'rvprop': 'ids|flags|timestamp|comment|user|userid|content', 'rvlimit': 'max', 'continue': '||', 'format': 'json', 'rvcontinue': '20170623042840|787054180'}\n",
      "\t- result -- {'*': 'This result was truncated because it would otherwise be larger than the limit of 12,582,912 bytes.'}\n",
      "The following query raised warnings: {'action': 'query', 'titles': 'Donald Trump', 'prop': 'revisions', 'rvprop': 'ids|flags|timestamp|comment|user|userid|content', 'rvlimit': 'max', 'continue': '||', 'format': 'json', 'rvcontinue': '20170620064813|786560652'}\n",
      "\t- result -- {'*': 'This result was truncated because it would otherwise be larger than the limit of 12,582,912 bytes.'}\n",
      "The following query raised warnings: {'action': 'query', 'titles': 'Donald Trump', 'prop': 'revisions', 'rvprop': 'ids|flags|timestamp|comment|user|userid|content', 'rvlimit': 'max', 'continue': '||', 'format': 'json', 'rvcontinue': '20170615015924|785721844'}\n",
      "\t- result -- {'*': 'This result was truncated because it would otherwise be larger than the limit of 12,582,912 bytes.'}\n",
      "The following query raised warnings: {'action': 'query', 'titles': 'Donald Trump', 'prop': 'revisions', 'rvprop': 'ids|flags|timestamp|comment|user|userid|content', 'rvlimit': 'max', 'continue': '||', 'format': 'json', 'rvcontinue': '20170613082706|785391753'}\n",
      "\t- result -- {'*': 'This result was truncated because it would otherwise be larger than the limit of 12,582,912 bytes.'}\n",
      "The following query raised warnings: {'action': 'query', 'titles': 'Donald Trump', 'prop': 'revisions', 'rvprop': 'ids|flags|timestamp|comment|user|userid|content', 'rvlimit': 'max', 'continue': '||', 'format': 'json', 'rvcontinue': '20170608121657|784455460'}\n",
      "\t- result -- {'*': 'This result was truncated because it would otherwise be larger than the limit of 12,582,912 bytes.'}\n",
      "The following query raised warnings: {'action': 'query', 'titles': 'Donald Trump', 'prop': 'revisions', 'rvprop': 'ids|flags|timestamp|comment|user|userid|content', 'rvlimit': 'max', 'continue': '||', 'format': 'json', 'rvcontinue': '20170605012513|783847270'}\n",
      "\t- result -- {'*': 'This result was truncated because it would otherwise be larger than the limit of 12,582,912 bytes.'}\n",
      "The following query raised warnings: {'action': 'query', 'titles': 'Donald Trump', 'prop': 'revisions', 'rvprop': 'ids|flags|timestamp|comment|user|userid|content', 'rvlimit': 'max', 'continue': '||', 'format': 'json', 'rvcontinue': '20170602052304|783421319'}\n",
      "\t- result -- {'*': 'This result was truncated because it would otherwise be larger than the limit of 12,582,912 bytes.'}\n",
      "The following query raised warnings: {'action': 'query', 'titles': 'Donald Trump', 'prop': 'revisions', 'rvprop': 'ids|flags|timestamp|comment|user|userid|content', 'rvlimit': 'max', 'continue': '||', 'format': 'json', 'rvcontinue': '20170531143802|783165406'}\n",
      "\t- result -- {'*': 'This result was truncated because it would otherwise be larger than the limit of 12,582,912 bytes.'}\n",
      "The following query raised warnings: {'action': 'query', 'titles': 'Donald Trump', 'prop': 'revisions', 'rvprop': 'ids|flags|timestamp|comment|user|userid|content', 'rvlimit': 'max', 'continue': '||', 'format': 'json', 'rvcontinue': '20170526203536|782425456'}\n",
      "\t- result -- {'*': 'This result was truncated because it would otherwise be larger than the limit of 12,582,912 bytes.'}\n"
     ]
    },
    {
     "name": "stdout",
     "output_type": "stream",
     "text": [
      "['Donald Trump', 782001300, 781991754, 'PKT', 1382933, '2017-05-24T11:37:07Z', 'Disambiguated: [[The Hill]] → [[The Hill (newspaper)]]', 101399, 15611, 692, 70, 862, 30]\n"
     ]
    },
    {
     "name": "stderr",
     "output_type": "stream",
     "text": [
      "The following query raised warnings: {'action': 'query', 'titles': 'Donald Trump', 'prop': 'revisions', 'rvprop': 'ids|flags|timestamp|comment|user|userid|content', 'rvlimit': 'max', 'continue': '||', 'format': 'json', 'rvcontinue': '20170523060453|781782388'}\n",
      "\t- result -- {'*': 'This result was truncated because it would otherwise be larger than the limit of 12,582,912 bytes.'}\n",
      "The following query raised warnings: {'action': 'query', 'titles': 'Donald Trump', 'prop': 'revisions', 'rvprop': 'ids|flags|timestamp|comment|user|userid|content', 'rvlimit': 'max', 'continue': '||', 'format': 'json', 'rvcontinue': '20170521034846|781418836'}\n",
      "\t- result -- {'*': 'This result was truncated because it would otherwise be larger than the limit of 12,582,912 bytes.'}\n"
     ]
    },
    {
     "name": "stdout",
     "output_type": "stream",
     "text": [
      "['Donald Trump', 781168640, 781165176, 'Jeanjung212', 29518907, '2017-05-19T14:34:38Z', 'clean up, replaced: million → &nbsp;million,  billion → &nbsp;billion, (in lieu {{nbsp}} due to template limit) using [[Project:AWB|AWB]]', 100608, 15485, 686, 66, 852, 28]\n"
     ]
    },
    {
     "name": "stderr",
     "output_type": "stream",
     "text": [
      "The following query raised warnings: {'action': 'query', 'titles': 'Donald Trump', 'prop': 'revisions', 'rvprop': 'ids|flags|timestamp|comment|user|userid|content', 'rvlimit': 'max', 'continue': '||', 'format': 'json', 'rvcontinue': '20170518074317|780965931'}\n",
      "\t- result -- {'*': 'This result was truncated because it would otherwise be larger than the limit of 12,582,912 bytes.'}\n"
     ]
    },
    {
     "name": "stdout",
     "output_type": "stream",
     "text": [
      "['Donald Trump', 780721330, 780721112, 'Jeanjung212', 29518907, '2017-05-16T20:08:43Z', 'clean up, replaced: http://www.usnews.com → https://www.usnews.com (6), http://www.forbes.com → https://www.forbes.com (5), [[WP:AWB/T|typo(s) fixed]]: admistration → administration, broken ref using [[Project:AWB|AWB]]', 99974, 15389, 677, 66, 848, 28]\n"
     ]
    },
    {
     "name": "stderr",
     "output_type": "stream",
     "text": [
      "The following query raised warnings: {'action': 'query', 'titles': 'Donald Trump', 'prop': 'revisions', 'rvprop': 'ids|flags|timestamp|comment|user|userid|content', 'rvlimit': 'max', 'continue': '||', 'format': 'json', 'rvcontinue': '20170516172228|780697005'}\n",
      "\t- result -- {'*': 'This result was truncated because it would otherwise be larger than the limit of 12,582,912 bytes.'}\n",
      "The following query raised warnings: {'action': 'query', 'titles': 'Donald Trump', 'prop': 'revisions', 'rvprop': 'ids|flags|timestamp|comment|user|userid|content', 'rvlimit': 'max', 'continue': '||', 'format': 'json', 'rvcontinue': '20170514000156|780270298'}\n",
      "\t- result -- {'*': 'This result was truncated because it would otherwise be larger than the limit of 12,582,912 bytes.'}\n",
      "The following query raised warnings: {'action': 'query', 'titles': 'Donald Trump', 'prop': 'revisions', 'rvprop': 'ids|flags|timestamp|comment|user|userid|content', 'rvlimit': 'max', 'continue': '||', 'format': 'json', 'rvcontinue': '20170508175448|779399334'}\n",
      "\t- result -- {'*': 'This result was truncated because it would otherwise be larger than the limit of 12,582,912 bytes.'}\n",
      "The following query raised warnings: {'action': 'query', 'titles': 'Donald Trump', 'prop': 'revisions', 'rvprop': 'ids|flags|timestamp|comment|user|userid|content', 'rvlimit': 'max', 'continue': '||', 'format': 'json', 'rvcontinue': '20170504222029|778728365'}\n",
      "\t- result -- {'*': 'This result was truncated because it would otherwise be larger than the limit of 12,582,912 bytes.'}\n",
      "The following query raised warnings: {'action': 'query', 'titles': 'Donald Trump', 'prop': 'revisions', 'rvprop': 'ids|flags|timestamp|comment|user|userid|content', 'rvlimit': 'max', 'continue': '||', 'format': 'json', 'rvcontinue': '20170501093908|778131444'}\n",
      "\t- result -- {'*': 'This result was truncated because it would otherwise be larger than the limit of 12,582,912 bytes.'}\n",
      "The following query raised warnings: {'action': 'query', 'titles': 'Donald Trump', 'prop': 'revisions', 'rvprop': 'ids|flags|timestamp|comment|user|userid|content', 'rvlimit': 'max', 'continue': '||', 'format': 'json', 'rvcontinue': '20170426133448|777317600'}\n",
      "\t- result -- {'*': 'This result was truncated because it would otherwise be larger than the limit of 12,582,912 bytes.'}\n"
     ]
    },
    {
     "name": "stdout",
     "output_type": "stream",
     "text": [
      "['Donald Trump', 776733884, 776733375, 'Stevietheman', 53396, '2017-04-22T23:24:41Z', \"typo seek/cleanup recent articles I've edited, [[WP:AWB/T|typo(s) fixed]]: nationally- → nationally; straightened many quotes/apostrophes per MOS using [[Project:AWB|AWB]]\", 97916, 15079, 660, 65, 840, 25]\n"
     ]
    },
    {
     "name": "stderr",
     "output_type": "stream",
     "text": [
      "The following query raised warnings: {'action': 'query', 'titles': 'Donald Trump', 'prop': 'revisions', 'rvprop': 'ids|flags|timestamp|comment|user|userid|content', 'rvlimit': 'max', 'continue': '||', 'format': 'json', 'rvcontinue': '20170422211829|776719363'}\n",
      "\t- result -- {'*': 'This result was truncated because it would otherwise be larger than the limit of 12,582,912 bytes.'}\n",
      "The following query raised warnings: {'action': 'query', 'titles': 'Donald Trump', 'prop': 'revisions', 'rvprop': 'ids|flags|timestamp|comment|user|userid|content', 'rvlimit': 'max', 'continue': '||', 'format': 'json', 'rvcontinue': '20170422075417|776632796'}\n",
      "\t- result -- {'*': 'This result was truncated because it would otherwise be larger than the limit of 12,582,912 bytes.'}\n",
      "The following query raised warnings: {'action': 'query', 'titles': 'Donald Trump', 'prop': 'revisions', 'rvprop': 'ids|flags|timestamp|comment|user|userid|content', 'rvlimit': 'max', 'continue': '||', 'format': 'json', 'rvcontinue': '20170421045931|776467382'}\n",
      "\t- result -- {'*': 'This result was truncated because it would otherwise be larger than the limit of 12,582,912 bytes.'}\n",
      "The following query raised warnings: {'action': 'query', 'titles': 'Donald Trump', 'prop': 'revisions', 'rvprop': 'ids|flags|timestamp|comment|user|userid|content', 'rvlimit': 'max', 'continue': '||', 'format': 'json', 'rvcontinue': '20170420033219|776294401'}\n",
      "\t- result -- {'*': 'This result was truncated because it would otherwise be larger than the limit of 12,582,912 bytes.'}\n",
      "The following query raised warnings: {'action': 'query', 'titles': 'Donald Trump', 'prop': 'revisions', 'rvprop': 'ids|flags|timestamp|comment|user|userid|content', 'rvlimit': 'max', 'continue': '||', 'format': 'json', 'rvcontinue': '20170419161113|776204985'}\n",
      "\t- result -- {'*': 'This result was truncated because it would otherwise be larger than the limit of 12,582,912 bytes.'}\n",
      "The following query raised warnings: {'action': 'query', 'titles': 'Donald Trump', 'prop': 'revisions', 'rvprop': 'ids|flags|timestamp|comment|user|userid|content', 'rvlimit': 'max', 'continue': '||', 'format': 'json', 'rvcontinue': '20170418183618|776057565'}\n",
      "\t- result -- {'*': 'This result was truncated because it would otherwise be larger than the limit of 12,582,912 bytes.'}\n",
      "The following query raised warnings: {'action': 'query', 'titles': 'Donald Trump', 'prop': 'revisions', 'rvprop': 'ids|flags|timestamp|comment|user|userid|content', 'rvlimit': 'max', 'continue': '||', 'format': 'json', 'rvcontinue': '20170418080053|775985160'}\n",
      "\t- result -- {'*': 'This result was truncated because it would otherwise be larger than the limit of 12,582,912 bytes.'}\n",
      "The following query raised warnings: {'action': 'query', 'titles': 'Donald Trump', 'prop': 'revisions', 'rvprop': 'ids|flags|timestamp|comment|user|userid|content', 'rvlimit': 'max', 'continue': '||', 'format': 'json', 'rvcontinue': '20170417232833|775935259'}\n",
      "\t- result -- {'*': 'This result was truncated because it would otherwise be larger than the limit of 12,582,912 bytes.'}\n",
      "The following query raised warnings: {'action': 'query', 'titles': 'Donald Trump', 'prop': 'revisions', 'rvprop': 'ids|flags|timestamp|comment|user|userid|content', 'rvlimit': 'max', 'continue': '||', 'format': 'json', 'rvcontinue': '20170413095712|775200552'}\n",
      "\t- result -- {'*': 'This result was truncated because it would otherwise be larger than the limit of 12,582,912 bytes.'}\n",
      "The following query raised warnings: {'action': 'query', 'titles': 'Donald Trump', 'prop': 'revisions', 'rvprop': 'ids|flags|timestamp|comment|user|userid|content', 'rvlimit': 'max', 'continue': '||', 'format': 'json', 'rvcontinue': '20170407195122|774340612'}\n",
      "\t- result -- {'*': 'This result was truncated because it would otherwise be larger than the limit of 12,582,912 bytes.'}\n",
      "The following query raised warnings: {'action': 'query', 'titles': 'Donald Trump', 'prop': 'revisions', 'rvprop': 'ids|flags|timestamp|comment|user|userid|content', 'rvlimit': 'max', 'continue': '||', 'format': 'json', 'rvcontinue': '20170403200935|773690153'}\n",
      "\t- result -- {'*': 'This result was truncated because it would otherwise be larger than the limit of 12,582,912 bytes.'}\n",
      "The following query raised warnings: {'action': 'query', 'titles': 'Donald Trump', 'prop': 'revisions', 'rvprop': 'ids|flags|timestamp|comment|user|userid|content', 'rvlimit': 'max', 'continue': '||', 'format': 'json', 'rvcontinue': '20170402190635|773491655'}\n",
      "\t- result -- {'*': 'This result was truncated because it would otherwise be larger than the limit of 12,582,912 bytes.'}\n",
      "The following query raised warnings: {'action': 'query', 'titles': 'Donald Trump', 'prop': 'revisions', 'rvprop': 'ids|flags|timestamp|comment|user|userid|content', 'rvlimit': 'max', 'continue': '||', 'format': 'json', 'rvcontinue': '20170330132008|772967562'}\n",
      "\t- result -- {'*': 'This result was truncated because it would otherwise be larger than the limit of 12,582,912 bytes.'}\n"
     ]
    },
    {
     "name": "stdout",
     "output_type": "stream",
     "text": [
      "['Donald Trump', 772746065, 772675726, 'Mr. Guye', 16852310, '2017-03-29T02:42:13Z', 'Disambiguated: [[Trump International Hotel and Tower (disambiguation)]] → [[Trump International Hotel and Tower (Chicago)]]', 95364, 14637, 629, 66, 817, 24]\n"
     ]
    },
    {
     "name": "stderr",
     "output_type": "stream",
     "text": [
      "The following query raised warnings: {'action': 'query', 'titles': 'Donald Trump', 'prop': 'revisions', 'rvprop': 'ids|flags|timestamp|comment|user|userid|content', 'rvlimit': 'max', 'continue': '||', 'format': 'json', 'rvcontinue': '20170325051023|772075420'}\n",
      "\t- result -- {'*': 'This result was truncated because it would otherwise be larger than the limit of 12,582,912 bytes.'}\n",
      "The following query raised warnings: {'action': 'query', 'titles': 'Donald Trump', 'prop': 'revisions', 'rvprop': 'ids|flags|timestamp|comment|user|userid|content', 'rvlimit': 'max', 'continue': '||', 'format': 'json', 'rvcontinue': '20170322133239|771598890'}\n",
      "\t- result -- {'*': 'This result was truncated because it would otherwise be larger than the limit of 12,582,912 bytes.'}\n",
      "The following query raised warnings: {'action': 'query', 'titles': 'Donald Trump', 'prop': 'revisions', 'rvprop': 'ids|flags|timestamp|comment|user|userid|content', 'rvlimit': 'max', 'continue': '||', 'format': 'json', 'rvcontinue': '20170320212049|771317526'}\n",
      "\t- result -- {'*': 'This result was truncated because it would otherwise be larger than the limit of 12,582,912 bytes.'}\n",
      "The following query raised warnings: {'action': 'query', 'titles': 'Donald Trump', 'prop': 'revisions', 'rvprop': 'ids|flags|timestamp|comment|user|userid|content', 'rvlimit': 'max', 'continue': '||', 'format': 'json', 'rvcontinue': '20170320024536|771191901'}\n",
      "\t- result -- {'*': 'This result was truncated because it would otherwise be larger than the limit of 12,582,912 bytes.'}\n",
      "The following query raised warnings: {'action': 'query', 'titles': 'Donald Trump', 'prop': 'revisions', 'rvprop': 'ids|flags|timestamp|comment|user|userid|content', 'rvlimit': 'max', 'continue': '||', 'format': 'json', 'rvcontinue': '20170319043539|771042093'}\n",
      "\t- result -- {'*': 'This result was truncated because it would otherwise be larger than the limit of 12,582,912 bytes.'}\n",
      "The following query raised warnings: {'action': 'query', 'titles': 'Donald Trump', 'prop': 'revisions', 'rvprop': 'ids|flags|timestamp|comment|user|userid|content', 'rvlimit': 'max', 'continue': '||', 'format': 'json', 'rvcontinue': '20170318182020|770964039'}\n",
      "\t- result -- {'*': 'This result was truncated because it would otherwise be larger than the limit of 12,582,912 bytes.'}\n"
     ]
    },
    {
     "name": "stdout",
     "output_type": "stream",
     "text": [
      "['Donald Trump', 770953943, 770953643, 'HelgaStick', 29431657, '2017-03-18T17:04:57Z', '/* Immigration */ \"took effective\" → \"took effect\"', 92768, 14245, 616, 67, 811, 23]\n"
     ]
    },
    {
     "name": "stderr",
     "output_type": "stream",
     "text": [
      "The following query raised warnings: {'action': 'query', 'titles': 'Donald Trump', 'prop': 'revisions', 'rvprop': 'ids|flags|timestamp|comment|user|userid|content', 'rvlimit': 'max', 'continue': '||', 'format': 'json', 'rvcontinue': '20170318074519|770894294'}\n",
      "\t- result -- {'*': 'This result was truncated because it would otherwise be larger than the limit of 12,582,912 bytes.'}\n",
      "The following query raised warnings: {'action': 'query', 'titles': 'Donald Trump', 'prop': 'revisions', 'rvprop': 'ids|flags|timestamp|comment|user|userid|content', 'rvlimit': 'max', 'continue': '||', 'format': 'json', 'rvcontinue': '20170318032606|770873706'}\n",
      "\t- result -- {'*': 'This result was truncated because it would otherwise be larger than the limit of 12,582,912 bytes.'}\n",
      "The following query raised warnings: {'action': 'query', 'titles': 'Donald Trump', 'prop': 'revisions', 'rvprop': 'ids|flags|timestamp|comment|user|userid|content', 'rvlimit': 'max', 'continue': '||', 'format': 'json', 'rvcontinue': '20170317013947|770702732'}\n",
      "\t- result -- {'*': 'This result was truncated because it would otherwise be larger than the limit of 12,582,912 bytes.'}\n",
      "The following query raised warnings: {'action': 'query', 'titles': 'Donald Trump', 'prop': 'revisions', 'rvprop': 'ids|flags|timestamp|comment|user|userid|content', 'rvlimit': 'max', 'continue': '||', 'format': 'json', 'rvcontinue': '20170316191330|770651800'}\n",
      "\t- result -- {'*': 'This result was truncated because it would otherwise be larger than the limit of 12,582,912 bytes.'}\n",
      "The following query raised warnings: {'action': 'query', 'titles': 'Donald Trump', 'prop': 'revisions', 'rvprop': 'ids|flags|timestamp|comment|user|userid|content', 'rvlimit': 'max', 'continue': '||', 'format': 'json', 'rvcontinue': '20170315161427|770465005'}\n",
      "\t- result -- {'*': 'This result was truncated because it would otherwise be larger than the limit of 12,582,912 bytes.'}\n",
      "The following query raised warnings: {'action': 'query', 'titles': 'Donald Trump', 'prop': 'revisions', 'rvprop': 'ids|flags|timestamp|comment|user|userid|content', 'rvlimit': 'max', 'continue': '||', 'format': 'json', 'rvcontinue': '20170314142456|770282767'}\n",
      "\t- result -- {'*': 'This result was truncated because it would otherwise be larger than the limit of 12,582,912 bytes.'}\n",
      "The following query raised warnings: {'action': 'query', 'titles': 'Donald Trump', 'prop': 'revisions', 'rvprop': 'ids|flags|timestamp|comment|user|userid|content', 'rvlimit': 'max', 'continue': '||', 'format': 'json', 'rvcontinue': '20170313125024|770102446'}\n",
      "\t- result -- {'*': 'This result was truncated because it would otherwise be larger than the limit of 12,582,912 bytes.'}\n",
      "The following query raised warnings: {'action': 'query', 'titles': 'Donald Trump', 'prop': 'revisions', 'rvprop': 'ids|flags|timestamp|comment|user|userid|content', 'rvlimit': 'max', 'continue': '||', 'format': 'json', 'rvcontinue': '20170309235829|769509079'}\n",
      "\t- result -- {'*': 'This result was truncated because it would otherwise be larger than the limit of 12,582,912 bytes.'}\n",
      "The following query raised warnings: {'action': 'query', 'titles': 'Donald Trump', 'prop': 'revisions', 'rvprop': 'ids|flags|timestamp|comment|user|userid|content', 'rvlimit': 'max', 'continue': '||', 'format': 'json', 'rvcontinue': '20170307193742|769134628'}\n",
      "\t- result -- {'*': 'This result was truncated because it would otherwise be larger than the limit of 12,582,912 bytes.'}\n",
      "The following query raised warnings: {'action': 'query', 'titles': 'Donald Trump', 'prop': 'revisions', 'rvprop': 'ids|flags|timestamp|comment|user|userid|content', 'rvlimit': 'max', 'continue': '||', 'format': 'json', 'rvcontinue': '20170306023739|768839995'}\n",
      "\t- result -- {'*': 'This result was truncated because it would otherwise be larger than the limit of 12,582,912 bytes.'}\n",
      "The following query raised warnings: {'action': 'query', 'titles': 'Donald Trump', 'prop': 'revisions', 'rvprop': 'ids|flags|timestamp|comment|user|userid|content', 'rvlimit': 'max', 'continue': '||', 'format': 'json', 'rvcontinue': '20170301104325|768031119'}\n",
      "\t- result -- {'*': 'This result was truncated because it would otherwise be larger than the limit of 12,582,912 bytes.'}\n",
      "The following query raised warnings: {'action': 'query', 'titles': 'Donald Trump', 'prop': 'revisions', 'rvprop': 'ids|flags|timestamp|comment|user|userid|content', 'rvlimit': 'max', 'continue': '||', 'format': 'json', 'rvcontinue': '20170225223250|767434863'}\n",
      "\t- result -- {'*': 'This result was truncated because it would otherwise be larger than the limit of 12,582,912 bytes.'}\n"
     ]
    },
    {
     "name": "stdout",
     "output_type": "stream",
     "text": [
      "['Donald Trump', 767292467, 767285385, 'Lepricavark', 28779459, '2017-02-25T01:37:24Z', 'Disambiguated: [[Michael Flynn]] → [[Michael T. Flynn]]', 99061, 15300, 678, 71, 847, 26]\n"
     ]
    },
    {
     "name": "stderr",
     "output_type": "stream",
     "text": [
      "The following query raised warnings: {'action': 'query', 'titles': 'Donald Trump', 'prop': 'revisions', 'rvprop': 'ids|flags|timestamp|comment|user|userid|content', 'rvlimit': 'max', 'continue': '||', 'format': 'json', 'rvcontinue': '20170224040422|767134077'}\n",
      "\t- result -- {'*': 'This result was truncated because it would otherwise be larger than the limit of 12,582,912 bytes.'}\n",
      "The following query raised warnings: {'action': 'query', 'titles': 'Donald Trump', 'prop': 'revisions', 'rvprop': 'ids|flags|timestamp|comment|user|userid|content', 'rvlimit': 'max', 'continue': '||', 'format': 'json', 'rvcontinue': '20170220175948|766524354'}\n",
      "\t- result -- {'*': 'This result was truncated because it would otherwise be larger than the limit of 12,582,912 bytes.'}\n",
      "The following query raised warnings: {'action': 'query', 'titles': 'Donald Trump', 'prop': 'revisions', 'rvprop': 'ids|flags|timestamp|comment|user|userid|content', 'rvlimit': 'max', 'continue': '||', 'format': 'json', 'rvcontinue': '20170217190909|766019162'}\n",
      "\t- result -- {'*': 'This result was truncated because it would otherwise be larger than the limit of 12,582,912 bytes.'}\n"
     ]
    },
    {
     "name": "stdout",
     "output_type": "stream",
     "text": [
      "['Donald Trump', 765895670, 765878535, 'Ɱ', 10000761, '2017-02-17T01:05:15Z', '/* External links */ excessive/less relevant/self-pub, see [[WP:BLPEL]]. much more cleanup needed!', 100518, 15601, 687, 69, 843, 25]\n"
     ]
    },
    {
     "name": "stderr",
     "output_type": "stream",
     "text": [
      "The following query raised warnings: {'action': 'query', 'titles': 'Donald Trump', 'prop': 'revisions', 'rvprop': 'ids|flags|timestamp|comment|user|userid|content', 'rvlimit': 'max', 'continue': '||', 'format': 'json', 'rvcontinue': '20170216005933|765716455'}\n",
      "\t- result -- {'*': 'This result was truncated because it would otherwise be larger than the limit of 12,582,912 bytes.'}\n"
     ]
    },
    {
     "name": "stdout",
     "output_type": "stream",
     "text": [
      "this was an anomolus edit\n",
      "{'revid': 765579288, 'parentid': 765579123, 'user': 'Fred Bauder', 'userid': 5190, 'timestamp': '2017-02-15T06:14:15Z', 'commenthidden': '', 'texthidden': ''}\n"
     ]
    },
    {
     "name": "stderr",
     "output_type": "stream",
     "text": [
      "The following query raised warnings: {'action': 'query', 'titles': 'Donald Trump', 'prop': 'revisions', 'rvprop': 'ids|flags|timestamp|comment|user|userid|content', 'rvlimit': 'max', 'continue': '||', 'format': 'json', 'rvcontinue': '20170212023919|764996219'}\n",
      "\t- result -- {'*': 'This result was truncated because it would otherwise be larger than the limit of 12,582,912 bytes.'}\n",
      "The following query raised warnings: {'action': 'query', 'titles': 'Donald Trump', 'prop': 'revisions', 'rvprop': 'ids|flags|timestamp|comment|user|userid|content', 'rvlimit': 'max', 'continue': '||', 'format': 'json', 'rvcontinue': '20170210201636|764764637'}\n",
      "\t- result -- {'*': 'This result was truncated because it would otherwise be larger than the limit of 12,582,912 bytes.'}\n",
      "The following query raised warnings: {'action': 'query', 'titles': 'Donald Trump', 'prop': 'revisions', 'rvprop': 'ids|flags|timestamp|comment|user|userid|content', 'rvlimit': 'max', 'continue': '||', 'format': 'json', 'rvcontinue': '20170206090552|763972812'}\n",
      "\t- result -- {'*': 'This result was truncated because it would otherwise be larger than the limit of 12,582,912 bytes.'}\n",
      "The following query raised warnings: {'action': 'query', 'titles': 'Donald Trump', 'prop': 'revisions', 'rvprop': 'ids|flags|timestamp|comment|user|userid|content', 'rvlimit': 'max', 'continue': '||', 'format': 'json', 'rvcontinue': '20170203142159|763481145'}\n",
      "\t- result -- {'*': 'This result was truncated because it would otherwise be larger than the limit of 12,582,912 bytes.'}\n",
      "The following query raised warnings: {'action': 'query', 'titles': 'Donald Trump', 'prop': 'revisions', 'rvprop': 'ids|flags|timestamp|comment|user|userid|content', 'rvlimit': 'max', 'continue': '||', 'format': 'json', 'rvcontinue': '20170201165408|763156196'}\n",
      "\t- result -- {'*': 'This result was truncated because it would otherwise be larger than the limit of 12,582,912 bytes.'}\n",
      "The following query raised warnings: {'action': 'query', 'titles': 'Donald Trump', 'prop': 'revisions', 'rvprop': 'ids|flags|timestamp|comment|user|userid|content', 'rvlimit': 'max', 'continue': '||', 'format': 'json', 'rvcontinue': '20170131205302|762996377'}\n",
      "\t- result -- {'*': 'This result was truncated because it would otherwise be larger than the limit of 12,582,912 bytes.'}\n"
     ]
    },
    {
     "name": "stdout",
     "output_type": "stream",
     "text": [
      "['Donald Trump', 762703958, 762695143, '安眠3', 14591249, '2017-01-30T07:39:17Z', '/* Health */', 98937, 15365, 686, 65, 820, 25]\n"
     ]
    },
    {
     "name": "stderr",
     "output_type": "stream",
     "text": [
      "The following query raised warnings: {'action': 'query', 'titles': 'Donald Trump', 'prop': 'revisions', 'rvprop': 'ids|flags|timestamp|comment|user|userid|content', 'rvlimit': 'max', 'continue': '||', 'format': 'json', 'rvcontinue': '20170130022307|762667267'}\n",
      "\t- result -- {'*': 'This result was truncated because it would otherwise be larger than the limit of 12,582,912 bytes.'}\n"
     ]
    },
    {
     "name": "stdout",
     "output_type": "stream",
     "text": [
      "['Donald Trump', 762463944, 762460741, 'Ɱ', 10000761, '2017-01-29T00:07:03Z', '1st in 35y is sig./why reduce info?', 97554, 15168, 678, 63, 796, 25]\n"
     ]
    },
    {
     "name": "stderr",
     "output_type": "stream",
     "text": [
      "The following query raised warnings: {'action': 'query', 'titles': 'Donald Trump', 'prop': 'revisions', 'rvprop': 'ids|flags|timestamp|comment|user|userid|content', 'rvlimit': 'max', 'continue': '||', 'format': 'json', 'rvcontinue': '20170128173330|762412928'}\n",
      "\t- result -- {'*': 'This result was truncated because it would otherwise be larger than the limit of 12,582,912 bytes.'}\n"
     ]
    },
    {
     "name": "stdout",
     "output_type": "stream",
     "text": [
      "['Donald Trump', 762355581, 762323852, 'Joshualeverburg1', 16443794, '2017-01-28T07:51:04Z', \"Undid revision 762199919 by [[Special:Contributions/Ɱ|Ɱ]] ([[User talk:Ɱ|talk]]) Linked article states it as OPINION not CONSENSUS; other scientists are in agreement with Trump's view.\", 97646, 15172, 680, 63, 802, 25]\n"
     ]
    },
    {
     "name": "stderr",
     "output_type": "stream",
     "text": [
      "The following query raised warnings: {'action': 'query', 'titles': 'Donald Trump', 'prop': 'revisions', 'rvprop': 'ids|flags|timestamp|comment|user|userid|content', 'rvlimit': 'max', 'continue': '||', 'format': 'json', 'rvcontinue': '20170127163116|762248487'}\n",
      "\t- result -- {'*': 'This result was truncated because it would otherwise be larger than the limit of 12,582,912 bytes.'}\n"
     ]
    },
    {
     "name": "stdout",
     "output_type": "stream",
     "text": [
      "['Donald Trump', 762248487, 762245847, 'ΘΕΟΔΩΡΟΣ', 7816751, '2017-01-27T16:31:16Z', '/* Ancestry */ italics', 97597, 15165, 680, 63, 802, 25]\n",
      "['Donald Trump', 762199919, 762194051, 'Ɱ', 10000761, '2017-01-27T08:29:01Z', 'Reverted 1 edit by [[Special:Contributions/Joshualeverburg1|Joshualeverburg1]] ([[User talk:Joshualeverburg1|talk]]): Synonym; not opinion, best described as consensus. ([[WP:TW|TW]])', 97599, 15165, 680, 63, 802, 25]\n",
      "['Donald Trump', 762134510, 762125073, 'Radiohist', 16141920, '2017-01-26T21:38:20Z', \"[[WP:AES|←]]Replaced content with ''''Donald Trump is a narcissistic egotist. A liar, who caters to extremists and racists (KKK). He is an ignorant, dangerous bigot, who wants to take away hum...'\", 459, 78, 0, 0, 0, 0]\n",
      "['Donald Trump', 762025887, 761991533, 'BG19bot', 14508071, '2017-01-26T05:44:48Z', '[[WP:CHECKWIKI]] error fix for #16.  Remove invisible Unicode characters. Do [[Wikipedia:GENFIXES|general fixes]] if a problem exists. -, replaced: →', 97438, 15142, 679, 63, 800, 25]\n"
     ]
    },
    {
     "name": "stderr",
     "output_type": "stream",
     "text": [
      "The following query raised warnings: {'action': 'query', 'titles': 'Donald Trump', 'prop': 'revisions', 'rvprop': 'ids|flags|timestamp|comment|user|userid|content', 'rvlimit': 'max', 'continue': '||', 'format': 'json', 'rvcontinue': '20170126010527|761991533'}\n",
      "\t- result -- {'*': 'This result was truncated because it would otherwise be larger than the limit of 12,582,912 bytes.'}\n"
     ]
    },
    {
     "name": "stdout",
     "output_type": "stream",
     "text": [
      "['Donald Trump', 761896947, 761896843, 'HelgaStick', 29431657, '2017-01-25T13:05:41Z', '/* 2009–2015 */ \"won presidency\" → \"become President of the United States,\"', 95969, 14900, 668, 63, 785, 25]\n"
     ]
    },
    {
     "name": "stderr",
     "output_type": "stream",
     "text": [
      "The following query raised warnings: {'action': 'query', 'titles': 'Donald Trump', 'prop': 'revisions', 'rvprop': 'ids|flags|timestamp|comment|user|userid|content', 'rvlimit': 'max', 'continue': '||', 'format': 'json', 'rvcontinue': '20170125034323|761845129'}\n",
      "\t- result -- {'*': 'This result was truncated because it would otherwise be larger than the limit of 12,582,912 bytes.'}\n",
      "The following query raised warnings: {'action': 'query', 'titles': 'Donald Trump', 'prop': 'revisions', 'rvprop': 'ids|flags|timestamp|comment|user|userid|content', 'rvlimit': 'max', 'continue': '||', 'format': 'json', 'rvcontinue': '20170123183208|761575987'}\n",
      "\t- result -- {'*': 'This result was truncated because it would otherwise be larger than the limit of 12,582,912 bytes.'}\n",
      "The following query raised warnings: {'action': 'query', 'titles': 'Donald Trump', 'prop': 'revisions', 'rvprop': 'ids|flags|timestamp|comment|user|userid|content', 'rvlimit': 'max', 'continue': '||', 'format': 'json', 'rvcontinue': '20170122220559|761418701'}\n",
      "\t- result -- {'*': 'This result was truncated because it would otherwise be larger than the limit of 12,582,912 bytes.'}\n",
      "The following query raised warnings: {'action': 'query', 'titles': 'Donald Trump', 'prop': 'revisions', 'rvprop': 'ids|flags|timestamp|comment|user|userid|content', 'rvlimit': 'max', 'continue': '||', 'format': 'json', 'rvcontinue': '20170122090016|761322793'}\n",
      "\t- result -- {'*': 'This result was truncated because it would otherwise be larger than the limit of 12,582,912 bytes.'}\n"
     ]
    },
    {
     "name": "stdout",
     "output_type": "stream",
     "text": [
      "['Donald Trump', 761226582, 761225990, '♥Golf', 20996381, '2017-01-21T19:08:41Z', 'Lede is a broad overview.  All of those who describe the nature of his policies should not be listed here.', 99979, 15522, 695, 58, 802, 26]\n",
      "['Donald Trump', 761223900, 761223463, '♥Golf', 20996381, '2017-01-21T18:47:19Z', '/* Presidential campaign, 2016 */ MOS comma', 99969, 15521, 695, 58, 802, 26]\n"
     ]
    },
    {
     "name": "stderr",
     "output_type": "stream",
     "text": [
      "The following query raised warnings: {'action': 'query', 'titles': 'Donald Trump', 'prop': 'revisions', 'rvprop': 'ids|flags|timestamp|comment|user|userid|content', 'rvlimit': 'max', 'continue': '||', 'format': 'json', 'rvcontinue': '20170121152050|761198128'}\n",
      "\t- result -- {'*': 'This result was truncated because it would otherwise be larger than the limit of 12,582,912 bytes.'}\n"
     ]
    },
    {
     "name": "stdout",
     "output_type": "stream",
     "text": [
      "['Donald Trump', 761151436, 761150867, 'BG19bot', 14508071, '2017-01-21T06:38:41Z', '[[WP:CHECKWIKI]] error fix for #16.  Remove invisible Unicode characters. Do [[Wikipedia:GENFIXES|general fixes]] if a problem exists. -, replaced: →   (35)', 100931, 15659, 700, 58, 809, 27]\n"
     ]
    },
    {
     "name": "stderr",
     "output_type": "stream",
     "text": [
      "The following query raised warnings: {'action': 'query', 'titles': 'Donald Trump', 'prop': 'revisions', 'rvprop': 'ids|flags|timestamp|comment|user|userid|content', 'rvlimit': 'max', 'continue': '||', 'format': 'json', 'rvcontinue': '20170121031732|761134485'}\n",
      "\t- result -- {'*': 'This result was truncated because it would otherwise be larger than the limit of 12,582,912 bytes.'}\n",
      "The following query raised warnings: {'action': 'query', 'titles': 'Donald Trump', 'prop': 'revisions', 'rvprop': 'ids|flags|timestamp|comment|user|userid|content', 'rvlimit': 'max', 'continue': '||', 'format': 'json', 'rvcontinue': '20170120204030|761089728'}\n",
      "\t- result -- {'*': 'This result was truncated because it would otherwise be larger than the limit of 12,582,912 bytes.'}\n"
     ]
    },
    {
     "name": "stdout",
     "output_type": "stream",
     "text": [
      "['Donald Trump', 761068894, 761068776, 'Revent', 4179294, '2017-01-20T18:10:53Z', '([[c:GR|GR]]) [[c:COM:Duplicate|Duplicate]]: [[File:Donald J. Trump Official Portrait.jpg]] → [[File:Donald Trump official portrait.jpg]] Exact or scaled-down duplicate: [[c::File:Donald Trump official portrait.jpg]]', 100432, 15586, 694, 57, 804, 25]\n"
     ]
    },
    {
     "name": "stderr",
     "output_type": "stream",
     "text": [
      "The following query raised warnings: {'action': 'query', 'titles': 'Donald Trump', 'prop': 'revisions', 'rvprop': 'ids|flags|timestamp|comment|user|userid|content', 'rvlimit': 'max', 'continue': '||', 'format': 'json', 'rvcontinue': '20170120174126|761063839'}\n",
      "\t- result -- {'*': 'This result was truncated because it would otherwise be larger than the limit of 12,582,912 bytes.'}\n",
      "The following query raised warnings: {'action': 'query', 'titles': 'Donald Trump', 'prop': 'revisions', 'rvprop': 'ids|flags|timestamp|comment|user|userid|content', 'rvlimit': 'max', 'continue': '||', 'format': 'json', 'rvcontinue': '20170118144935|760692154'}\n",
      "\t- result -- {'*': 'This result was truncated because it would otherwise be larger than the limit of 12,582,912 bytes.'}\n",
      "The following query raised warnings: {'action': 'query', 'titles': 'Donald Trump', 'prop': 'revisions', 'rvprop': 'ids|flags|timestamp|comment|user|userid|content', 'rvlimit': 'max', 'continue': '||', 'format': 'json', 'rvcontinue': '20170117233400|760594708'}\n",
      "\t- result -- {'*': 'This result was truncated because it would otherwise be larger than the limit of 12,582,912 bytes.'}\n",
      "The following query raised warnings: {'action': 'query', 'titles': 'Donald Trump', 'prop': 'revisions', 'rvprop': 'ids|flags|timestamp|comment|user|userid|content', 'rvlimit': 'max', 'continue': '||', 'format': 'json', 'rvcontinue': '20170117065722|760480293'}\n",
      "\t- result -- {'*': 'This result was truncated because it would otherwise be larger than the limit of 12,582,912 bytes.'}\n",
      "The following query raised warnings: {'action': 'query', 'titles': 'Donald Trump', 'prop': 'revisions', 'rvprop': 'ids|flags|timestamp|comment|user|userid|content', 'rvlimit': 'max', 'continue': '||', 'format': 'json', 'rvcontinue': '20170116071351|760318695'}\n",
      "\t- result -- {'*': 'This result was truncated because it would otherwise be larger than the limit of 12,582,912 bytes.'}\n",
      "The following query raised warnings: {'action': 'query', 'titles': 'Donald Trump', 'prop': 'revisions', 'rvprop': 'ids|flags|timestamp|comment|user|userid|content', 'rvlimit': 'max', 'continue': '||', 'format': 'json', 'rvcontinue': '20170115015807|760116990'}\n",
      "\t- result -- {'*': 'This result was truncated because it would otherwise be larger than the limit of 12,582,912 bytes.'}\n",
      "The following query raised warnings: {'action': 'query', 'titles': 'Donald Trump', 'prop': 'revisions', 'rvprop': 'ids|flags|timestamp|comment|user|userid|content', 'rvlimit': 'max', 'continue': '||', 'format': 'json', 'rvcontinue': '20170113003408|759756029'}\n",
      "\t- result -- {'*': 'This result was truncated because it would otherwise be larger than the limit of 12,582,912 bytes.'}\n",
      "The following query raised warnings: {'action': 'query', 'titles': 'Donald Trump', 'prop': 'revisions', 'rvprop': 'ids|flags|timestamp|comment|user|userid|content', 'rvlimit': 'max', 'continue': '||', 'format': 'json', 'rvcontinue': '20170112091053|759633383'}\n",
      "\t- result -- {'*': 'This result was truncated because it would otherwise be larger than the limit of 12,582,912 bytes.'}\n"
     ]
    },
    {
     "name": "stdout",
     "output_type": "stream",
     "text": [
      "['Donald Trump', 759446225, 759431492, 'BG19bot', 14508071, '2017-01-11T05:23:49Z', \"/* ''The Apprentice'' */[[WP:CHECKWIKI]] error fix for #16.  Remove invisible Unicode characters. Do [[Wikipedia:GENFIXES|general fixes]] if a problem exists. -, replaced: →   (2)\", 101043, 15728, 678, 57, 792, 25]\n"
     ]
    },
    {
     "name": "stderr",
     "output_type": "stream",
     "text": [
      "The following query raised warnings: {'action': 'query', 'titles': 'Donald Trump', 'prop': 'revisions', 'rvprop': 'ids|flags|timestamp|comment|user|userid|content', 'rvlimit': 'max', 'continue': '||', 'format': 'json', 'rvcontinue': '20170111010328|759415635'}\n",
      "\t- result -- {'*': 'This result was truncated because it would otherwise be larger than the limit of 12,582,912 bytes.'}\n",
      "The following query raised warnings: {'action': 'query', 'titles': 'Donald Trump', 'prop': 'revisions', 'rvprop': 'ids|flags|timestamp|comment|user|userid|content', 'rvlimit': 'max', 'continue': '||', 'format': 'json', 'rvcontinue': '20170109042507|759089180'}\n",
      "\t- result -- {'*': 'This result was truncated because it would otherwise be larger than the limit of 12,582,912 bytes.'}\n",
      "The following query raised warnings: {'action': 'query', 'titles': 'Donald Trump', 'prop': 'revisions', 'rvprop': 'ids|flags|timestamp|comment|user|userid|content', 'rvlimit': 'max', 'continue': '||', 'format': 'json', 'rvcontinue': '20170108081729|758926306'}\n",
      "\t- result -- {'*': 'This result was truncated because it would otherwise be larger than the limit of 12,582,912 bytes.'}\n",
      "The following query raised warnings: {'action': 'query', 'titles': 'Donald Trump', 'prop': 'revisions', 'rvprop': 'ids|flags|timestamp|comment|user|userid|content', 'rvlimit': 'max', 'continue': '||', 'format': 'json', 'rvcontinue': '20170107010932|758701437'}\n",
      "\t- result -- {'*': 'This result was truncated because it would otherwise be larger than the limit of 12,582,912 bytes.'}\n",
      "The following query raised warnings: {'action': 'query', 'titles': 'Donald Trump', 'prop': 'revisions', 'rvprop': 'ids|flags|timestamp|comment|user|userid|content', 'rvlimit': 'max', 'continue': '||', 'format': 'json', 'rvcontinue': '20170105125348|758438974'}\n",
      "\t- result -- {'*': 'This result was truncated because it would otherwise be larger than the limit of 12,582,912 bytes.'}\n",
      "The following query raised warnings: {'action': 'query', 'titles': 'Donald Trump', 'prop': 'revisions', 'rvprop': 'ids|flags|timestamp|comment|user|userid|content', 'rvlimit': 'max', 'continue': '||', 'format': 'json', 'rvcontinue': '20170103233638|758184552'}\n",
      "\t- result -- {'*': 'This result was truncated because it would otherwise be larger than the limit of 12,582,912 bytes.'}\n",
      "The following query raised warnings: {'action': 'query', 'titles': 'Donald Trump', 'prop': 'revisions', 'rvprop': 'ids|flags|timestamp|comment|user|userid|content', 'rvlimit': 'max', 'continue': '||', 'format': 'json', 'rvcontinue': '20170102111053|757903101'}\n",
      "\t- result -- {'*': 'This result was truncated because it would otherwise be larger than the limit of 12,582,912 bytes.'}\n",
      "The following query raised warnings: {'action': 'query', 'titles': 'Donald Trump', 'prop': 'revisions', 'rvprop': 'ids|flags|timestamp|comment|user|userid|content', 'rvlimit': 'max', 'continue': '||', 'format': 'json', 'rvcontinue': '20161230215634|757472154'}\n",
      "\t- result -- {'*': 'This result was truncated because it would otherwise be larger than the limit of 12,582,912 bytes.'}\n"
     ]
    },
    {
     "name": "stdout",
     "output_type": "stream",
     "text": [
      "['Donald Trump', 757464163, 757462844, 'Ihardlythinkso', 12931721, '2016-12-30T21:00:59Z', '/* Presidential transition */ → after \"Main article\" template (for mobile dev readers)', 98845, 15406, 665, 56, 782, 27]\n"
     ]
    },
    {
     "name": "stderr",
     "output_type": "stream",
     "text": [
      "The following query raised warnings: {'action': 'query', 'titles': 'Donald Trump', 'prop': 'revisions', 'rvprop': 'ids|flags|timestamp|comment|user|userid|content', 'rvlimit': 'max', 'continue': '||', 'format': 'json', 'rvcontinue': '20161229152531|757231399'}\n",
      "\t- result -- {'*': 'This result was truncated because it would otherwise be larger than the limit of 12,582,912 bytes.'}\n",
      "The following query raised warnings: {'action': 'query', 'titles': 'Donald Trump', 'prop': 'revisions', 'rvprop': 'ids|flags|timestamp|comment|user|userid|content', 'rvlimit': 'max', 'continue': '||', 'format': 'json', 'rvcontinue': '20161228070705|757015576'}\n",
      "\t- result -- {'*': 'This result was truncated because it would otherwise be larger than the limit of 12,582,912 bytes.'}\n"
     ]
    },
    {
     "name": "stdout",
     "output_type": "stream",
     "text": [
      "['Donald Trump', 756762343, 756757540, 'נריה לוי', 25937956, '2016-12-26T18:10:25Z', \"I've added some recent nomination announcements.\", 98413, 15348, 662, 54, 778, 24]\n",
      "['Donald Trump', 756752160, 756744552, 'נריה לוי', 25937956, '2016-12-26T16:50:05Z', '/* Presidential transition */', 98266, 15330, 657, 54, 773, 24]\n"
     ]
    },
    {
     "name": "stderr",
     "output_type": "stream",
     "text": [
      "The following query raised warnings: {'action': 'query', 'titles': 'Donald Trump', 'prop': 'revisions', 'rvprop': 'ids|flags|timestamp|comment|user|userid|content', 'rvlimit': 'max', 'continue': '||', 'format': 'json', 'rvcontinue': '20161225151749|756613494'}\n",
      "\t- result -- {'*': 'This result was truncated because it would otherwise be larger than the limit of 12,582,912 bytes.'}\n",
      "The following query raised warnings: {'action': 'query', 'titles': 'Donald Trump', 'prop': 'revisions', 'rvprop': 'ids|flags|timestamp|comment|user|userid|content', 'rvlimit': 'max', 'continue': '||', 'format': 'json', 'rvcontinue': '20161223154717|756341897'}\n",
      "\t- result -- {'*': 'This result was truncated because it would otherwise be larger than the limit of 12,582,912 bytes.'}\n",
      "The following query raised warnings: {'action': 'query', 'titles': 'Donald Trump', 'prop': 'revisions', 'rvprop': 'ids|flags|timestamp|comment|user|userid|content', 'rvlimit': 'max', 'continue': '||', 'format': 'json', 'rvcontinue': '20161222012505|756105857'}\n",
      "\t- result -- {'*': 'This result was truncated because it would otherwise be larger than the limit of 12,582,912 bytes.'}\n",
      "The following query raised warnings: {'action': 'query', 'titles': 'Donald Trump', 'prop': 'revisions', 'rvprop': 'ids|flags|timestamp|comment|user|userid|content', 'rvlimit': 'max', 'continue': '||', 'format': 'json', 'rvcontinue': '20161220200408|755894822'}\n",
      "\t- result -- {'*': 'This result was truncated because it would otherwise be larger than the limit of 12,582,912 bytes.'}\n"
     ]
    },
    {
     "name": "stdout",
     "output_type": "stream",
     "text": [
      "['Donald Trump', 755743172, 755742876, 'Steve Quinn', 9345962, '2016-12-19T22:46:10Z', 'Reverted 1 edit by [[Special:Contributions/Ecarneiro|Ecarneiro]]: Please Don\\'t add \"45th President of the United States\" until Jan 20 at noon Eastern Standard Time (UTC−05:00) He is pres-elect. There is only one president - not two. ([[WP:TW|TW]])', 97823, 15276, 653, 54, 757, 25]\n"
     ]
    },
    {
     "name": "stderr",
     "output_type": "stream",
     "text": [
      "The following query raised warnings: {'action': 'query', 'titles': 'Donald Trump', 'prop': 'revisions', 'rvprop': 'ids|flags|timestamp|comment|user|userid|content', 'rvlimit': 'max', 'continue': '||', 'format': 'json', 'rvcontinue': '20161219021702|755602639'}\n",
      "\t- result -- {'*': 'This result was truncated because it would otherwise be larger than the limit of 12,582,912 bytes.'}\n",
      "The following query raised warnings: {'action': 'query', 'titles': 'Donald Trump', 'prop': 'revisions', 'rvprop': 'ids|flags|timestamp|comment|user|userid|content', 'rvlimit': 'max', 'continue': '||', 'format': 'json', 'rvcontinue': '20161217195614|755396595'}\n",
      "\t- result -- {'*': 'This result was truncated because it would otherwise be larger than the limit of 12,582,912 bytes.'}\n",
      "The following query raised warnings: {'action': 'query', 'titles': 'Donald Trump', 'prop': 'revisions', 'rvprop': 'ids|flags|timestamp|comment|user|userid|content', 'rvlimit': 'max', 'continue': '||', 'format': 'json', 'rvcontinue': '20161215211103|755025803'}\n",
      "\t- result -- {'*': 'This result was truncated because it would otherwise be larger than the limit of 12,582,912 bytes.'}\n",
      "The following query raised warnings: {'action': 'query', 'titles': 'Donald Trump', 'prop': 'revisions', 'rvprop': 'ids|flags|timestamp|comment|user|userid|content', 'rvlimit': 'max', 'continue': '||', 'format': 'json', 'rvcontinue': '20161213173724|754627488'}\n",
      "\t- result -- {'*': 'This result was truncated because it would otherwise be larger than the limit of 12,582,912 bytes.'}\n",
      "The following query raised warnings: {'action': 'query', 'titles': 'Donald Trump', 'prop': 'revisions', 'rvprop': 'ids|flags|timestamp|comment|user|userid|content', 'rvlimit': 'max', 'continue': '||', 'format': 'json', 'rvcontinue': '20161212031738|754337322'}\n",
      "\t- result -- {'*': 'This result was truncated because it would otherwise be larger than the limit of 12,582,912 bytes.'}\n",
      "The following query raised warnings: {'action': 'query', 'titles': 'Donald Trump', 'prop': 'revisions', 'rvprop': 'ids|flags|timestamp|comment|user|userid|content', 'rvlimit': 'max', 'continue': '||', 'format': 'json', 'rvcontinue': '20161211154022|754234973'}\n",
      "\t- result -- {'*': 'This result was truncated because it would otherwise be larger than the limit of 12,582,912 bytes.'}\n",
      "The following query raised warnings: {'action': 'query', 'titles': 'Donald Trump', 'prop': 'revisions', 'rvprop': 'ids|flags|timestamp|comment|user|userid|content', 'rvlimit': 'max', 'continue': '||', 'format': 'json', 'rvcontinue': '20161210224554|754112748'}\n",
      "\t- result -- {'*': 'This result was truncated because it would otherwise be larger than the limit of 12,582,912 bytes.'}\n",
      "The following query raised warnings: {'action': 'query', 'titles': 'Donald Trump', 'prop': 'revisions', 'rvprop': 'ids|flags|timestamp|comment|user|userid|content', 'rvlimit': 'max', 'continue': '||', 'format': 'json', 'rvcontinue': '20161209175438|753874783'}\n",
      "\t- result -- {'*': 'This result was truncated because it would otherwise be larger than the limit of 12,582,912 bytes.'}\n",
      "The following query raised warnings: {'action': 'query', 'titles': 'Donald Trump', 'prop': 'revisions', 'rvprop': 'ids|flags|timestamp|comment|user|userid|content', 'rvlimit': 'max', 'continue': '||', 'format': 'json', 'rvcontinue': '20161208204736|753725072'}\n",
      "\t- result -- {'*': 'This result was truncated because it would otherwise be larger than the limit of 12,582,912 bytes.'}\n",
      "The following query raised warnings: {'action': 'query', 'titles': 'Donald Trump', 'prop': 'revisions', 'rvprop': 'ids|flags|timestamp|comment|user|userid|content', 'rvlimit': 'max', 'continue': '||', 'format': 'json', 'rvcontinue': '20161207212434|753552169'}\n",
      "\t- result -- {'*': 'This result was truncated because it would otherwise be larger than the limit of 12,582,912 bytes.'}\n"
     ]
    },
    {
     "name": "stdout",
     "output_type": "stream",
     "text": [
      "['Donald Trump', 753379485, 753375097, 'TomStar81', 98883, '2016-12-06T20:36:42Z', 'noting in hidden note that \"noon\" in the article refers to noon [[Eastern Time Zone|Eastern Standard Time]] or [[UTC−05:00]]', 102865, 16156, 687, 61, 790, 26]\n",
      "['Donald Trump', 753375082, 753373388, 'Marek69', 1469567, '2016-12-06T20:05:42Z', '[[WP:AWB/T|Typo fixing]], [[Wikipedia:AutoWikiBrowser/General fixes|general fixes]] and clean up, [[WP:AWB/T|typo(s) fixed]]: well-known → well known using [[Project:AWB|AWB]]', 102869, 16157, 687, 61, 790, 26]\n"
     ]
    },
    {
     "name": "stderr",
     "output_type": "stream",
     "text": [
      "The following query raised warnings: {'action': 'query', 'titles': 'Donald Trump', 'prop': 'revisions', 'rvprop': 'ids|flags|timestamp|comment|user|userid|content', 'rvlimit': 'max', 'continue': '||', 'format': 'json', 'rvcontinue': '20161206181940|753356742'}\n",
      "\t- result -- {'*': 'This result was truncated because it would otherwise be larger than the limit of 12,582,912 bytes.'}\n"
     ]
    },
    {
     "name": "stdout",
     "output_type": "stream",
     "text": [
      "['Donald Trump', 753186388, 753186033, 'נריה לוי', 25937956, '2016-12-05T18:19:50Z', 'Undid revision 753186033 by [[Special:Contributions/נריה לוי|נריה לוי]] ([[User talk:נריה לוי|talk]])', 103576, 16248, 691, 61, 784, 26]\n"
     ]
    },
    {
     "name": "stderr",
     "output_type": "stream",
     "text": [
      "The following query raised warnings: {'action': 'query', 'titles': 'Donald Trump', 'prop': 'revisions', 'rvprop': 'ids|flags|timestamp|comment|user|userid|content', 'rvlimit': 'max', 'continue': '||', 'format': 'json', 'rvcontinue': '20161205181730|753186033'}\n",
      "\t- result -- {'*': 'This result was truncated because it would otherwise be larger than the limit of 12,582,912 bytes.'}\n"
     ]
    },
    {
     "name": "stdout",
     "output_type": "stream",
     "text": [
      "['Donald Trump', 753186033, 753185919, 'נריה לוי', 25937956, '2016-12-05T18:17:30Z', '/* Presidential transition */', 103577, 16248, 691, 61, 784, 26]\n",
      "['Donald Trump', 753185606, 753185007, 'נריה לוי', 25937956, '2016-12-05T18:14:37Z', '/* Presidential transition */', 103576, 16248, 691, 61, 784, 26]\n",
      "['Donald Trump', 753185007, 753184336, 'נריה לוי', 25937956, '2016-12-05T18:10:29Z', 'Undid revision 753184336 by [[Special:Contributions/נריה לוי|נריה לוי]] ([[User talk:נריה לוי|talk]])', 103572, 16248, 691, 61, 784, 26]\n",
      "['Donald Trump', 753184336, 753184168, 'נריה לוי', 25937956, '2016-12-05T18:07:11Z', '/* Presidential transition */', 103683, 16263, 691, 61, 784, 26]\n"
     ]
    },
    {
     "name": "stderr",
     "output_type": "stream",
     "text": [
      "The following query raised warnings: {'action': 'query', 'titles': 'Donald Trump', 'prop': 'revisions', 'rvprop': 'ids|flags|timestamp|comment|user|userid|content', 'rvlimit': 'max', 'continue': '||', 'format': 'json', 'rvcontinue': '20161204052521|752925340'}\n",
      "\t- result -- {'*': 'This result was truncated because it would otherwise be larger than the limit of 12,582,912 bytes.'}\n"
     ]
    },
    {
     "name": "stdout",
     "output_type": "stream",
     "text": [
      "['Donald Trump', 752880890, 752880365, 'JFG', 168812, '2016-12-03T22:50:12Z', 'A link to \"his family\" ≠ a link to any \"family\"; \"his career\" ≠ a \"career\"; see also [[WP:SUBMARINE]] /* top */', 103298, 16200, 687, 61, 780, 25]\n"
     ]
    },
    {
     "name": "stderr",
     "output_type": "stream",
     "text": [
      "The following query raised warnings: {'action': 'query', 'titles': 'Donald Trump', 'prop': 'revisions', 'rvprop': 'ids|flags|timestamp|comment|user|userid|content', 'rvlimit': 'max', 'continue': '||', 'format': 'json', 'rvcontinue': '20161203044930|752765082'}\n",
      "\t- result -- {'*': 'This result was truncated because it would otherwise be larger than the limit of 12,582,912 bytes.'}\n"
     ]
    },
    {
     "name": "stdout",
     "output_type": "stream",
     "text": [
      "['Donald Trump', 752732914, 752731280, 'EricEnfermero', 15977090, '2016-12-02T23:31:58Z', 'was → were for plural subject (rallies)', 103561, 16236, 687, 61, 780, 25]\n"
     ]
    },
    {
     "name": "stderr",
     "output_type": "stream",
     "text": [
      "The following query raised warnings: {'action': 'query', 'titles': 'Donald Trump', 'prop': 'revisions', 'rvprop': 'ids|flags|timestamp|comment|user|userid|content', 'rvlimit': 'max', 'continue': '||', 'format': 'json', 'rvcontinue': '20161202142427|752653869'}\n",
      "\t- result -- {'*': 'This result was truncated because it would otherwise be larger than the limit of 12,582,912 bytes.'}\n",
      "The following query raised warnings: {'action': 'query', 'titles': 'Donald Trump', 'prop': 'revisions', 'rvprop': 'ids|flags|timestamp|comment|user|userid|content', 'rvlimit': 'max', 'continue': '||', 'format': 'json', 'rvcontinue': '20161201191031|752521955'}\n",
      "\t- result -- {'*': 'This result was truncated because it would otherwise be larger than the limit of 12,582,912 bytes.'}\n"
     ]
    },
    {
     "name": "stdout",
     "output_type": "stream",
     "text": [
      "['Donald Trump', 752415895, 752411562, 'Dr.K.', 894320, '2016-12-01T03:30:40Z', \"Reverted [[WP:AGF|good faith]] edits by [[Special:Contributions/JCRadical|JCRadical]] ([[User talk:JCRadical|talk]]): That's a bit too much OR. ([[WP:TW|TW]][[WP:QUALITYCONTROL|★]][[WP:TW|TW]])\", 103091, 16156, 682, 61, 759, 25]\n"
     ]
    },
    {
     "name": "stderr",
     "output_type": "stream",
     "text": [
      "The following query raised warnings: {'action': 'query', 'titles': 'Donald Trump', 'prop': 'revisions', 'rvprop': 'ids|flags|timestamp|comment|user|userid|content', 'rvlimit': 'max', 'continue': '||', 'format': 'json', 'rvcontinue': '20161201010725|752397941'}\n",
      "\t- result -- {'*': 'This result was truncated because it would otherwise be larger than the limit of 12,582,912 bytes.'}\n",
      "The following query raised warnings: {'action': 'query', 'titles': 'Donald Trump', 'prop': 'revisions', 'rvprop': 'ids|flags|timestamp|comment|user|userid|content', 'rvlimit': 'max', 'continue': '||', 'format': 'json', 'rvcontinue': '20161129050451|752042890'}\n",
      "\t- result -- {'*': 'This result was truncated because it would otherwise be larger than the limit of 12,582,912 bytes.'}\n",
      "The following query raised warnings: {'action': 'query', 'titles': 'Donald Trump', 'prop': 'revisions', 'rvprop': 'ids|flags|timestamp|comment|user|userid|content', 'rvlimit': 'max', 'continue': '||', 'format': 'json', 'rvcontinue': '20161128094725|751888227'}\n",
      "\t- result -- {'*': 'This result was truncated because it would otherwise be larger than the limit of 12,582,912 bytes.'}\n"
     ]
    },
    {
     "name": "stdout",
     "output_type": "stream",
     "text": [
      "['Donald Trump', 751840836, 751840807, 'Dr.K.', 894320, '2016-11-28T03:40:52Z', 'Reverted [[WP:AGF|good faith]] edits by [[Special:Contributions/Anjo-sozinho|Anjo-sozinho]] ([[User talk:Anjo-sozinho|talk]]): [[WP:ELMINOFFICIAL]]. ([[WP:TW|TW]][[WP:QUALITYCONTROL|★]][[WP:TW|TW]])', 103085, 16155, 689, 61, 763, 26]\n"
     ]
    },
    {
     "name": "stderr",
     "output_type": "stream",
     "text": [
      "The following query raised warnings: {'action': 'query', 'titles': 'Donald Trump', 'prop': 'revisions', 'rvprop': 'ids|flags|timestamp|comment|user|userid|content', 'rvlimit': 'max', 'continue': '||', 'format': 'json', 'rvcontinue': '20161127225923|751804312'}\n",
      "\t- result -- {'*': 'This result was truncated because it would otherwise be larger than the limit of 12,582,912 bytes.'}\n",
      "The following query raised warnings: {'action': 'query', 'titles': 'Donald Trump', 'prop': 'revisions', 'rvprop': 'ids|flags|timestamp|comment|user|userid|content', 'rvlimit': 'max', 'continue': '||', 'format': 'json', 'rvcontinue': '20161127082743|751690814'}\n",
      "\t- result -- {'*': 'This result was truncated because it would otherwise be larger than the limit of 12,582,912 bytes.'}\n",
      "The following query raised warnings: {'action': 'query', 'titles': 'Donald Trump', 'prop': 'revisions', 'rvprop': 'ids|flags|timestamp|comment|user|userid|content', 'rvlimit': 'max', 'continue': '||', 'format': 'json', 'rvcontinue': '20161126131607|751560243'}\n",
      "\t- result -- {'*': 'This result was truncated because it would otherwise be larger than the limit of 12,582,912 bytes.'}\n",
      "The following query raised warnings: {'action': 'query', 'titles': 'Donald Trump', 'prop': 'revisions', 'rvprop': 'ids|flags|timestamp|comment|user|userid|content', 'rvlimit': 'max', 'continue': '||', 'format': 'json', 'rvcontinue': '20161125185441|751444690'}\n",
      "\t- result -- {'*': 'This result was truncated because it would otherwise be larger than the limit of 12,582,912 bytes.'}\n",
      "The following query raised warnings: {'action': 'query', 'titles': 'Donald Trump', 'prop': 'revisions', 'rvprop': 'ids|flags|timestamp|comment|user|userid|content', 'rvlimit': 'max', 'continue': '||', 'format': 'json', 'rvcontinue': '20161124142346|751273112'}\n",
      "\t- result -- {'*': 'This result was truncated because it would otherwise be larger than the limit of 12,582,912 bytes.'}\n",
      "The following query raised warnings: {'action': 'query', 'titles': 'Donald Trump', 'prop': 'revisions', 'rvprop': 'ids|flags|timestamp|comment|user|userid|content', 'rvlimit': 'max', 'continue': '||', 'format': 'json', 'rvcontinue': '20161123184211|751153439'}\n",
      "\t- result -- {'*': 'This result was truncated because it would otherwise be larger than the limit of 12,582,912 bytes.'}\n",
      "The following query raised warnings: {'action': 'query', 'titles': 'Donald Trump', 'prop': 'revisions', 'rvprop': 'ids|flags|timestamp|comment|user|userid|content', 'rvlimit': 'max', 'continue': '||', 'format': 'json', 'rvcontinue': '20161122165829|750978717'}\n",
      "\t- result -- {'*': 'This result was truncated because it would otherwise be larger than the limit of 12,582,912 bytes.'}\n",
      "The following query raised warnings: {'action': 'query', 'titles': 'Donald Trump', 'prop': 'revisions', 'rvprop': 'ids|flags|timestamp|comment|user|userid|content', 'rvlimit': 'max', 'continue': '||', 'format': 'json', 'rvcontinue': '20161122015351|750888142'}\n",
      "\t- result -- {'*': 'This result was truncated because it would otherwise be larger than the limit of 12,582,912 bytes.'}\n"
     ]
    },
    {
     "name": "stdout",
     "output_type": "stream",
     "text": [
      "['Donald Trump', 750827141, 750824258, 'StAnselm', 4007668, '2016-11-21T22:52:31Z', 'Disambiguated: [[The Hill]] → [[The Hill (newspaper)]]', 102937, 16165, 686, 56, 731, 29]\n"
     ]
    },
    {
     "name": "stderr",
     "output_type": "stream",
     "text": [
      "The following query raised warnings: {'action': 'query', 'titles': 'Donald Trump', 'prop': 'revisions', 'rvprop': 'ids|flags|timestamp|comment|user|userid|content', 'rvlimit': 'max', 'continue': '||', 'format': 'json', 'rvcontinue': '20161120203325|750609174'}\n",
      "\t- result -- {'*': 'This result was truncated because it would otherwise be larger than the limit of 12,582,912 bytes.'}\n",
      "The following query raised warnings: {'action': 'query', 'titles': 'Donald Trump', 'prop': 'revisions', 'rvprop': 'ids|flags|timestamp|comment|user|userid|content', 'rvlimit': 'max', 'continue': '||', 'format': 'json', 'rvcontinue': '20161120021950|750492451'}\n",
      "\t- result -- {'*': 'This result was truncated because it would otherwise be larger than the limit of 12,582,912 bytes.'}\n"
     ]
    },
    {
     "name": "stdout",
     "output_type": "stream",
     "text": [
      "['Donald Trump', 750437464, 750433482, 'Marek69', 1469567, '2016-11-19T19:10:05Z', '[[WP:AWB/T|Typo fixing]], [[Wikipedia:AutoWikiBrowser/General fixes|general fixes]] and clean up, [[WP:AWB/T|typo(s) fixed]]: deducton → deduction using [[Project:AWB|AWB]]', 102583, 16098, 688, 50, 730, 26]\n",
      "['Donald Trump', 750347529, 750345393, 'Dr.K.', 894320, '2016-11-19T04:44:07Z', 'Reverted [[WP:AGF|good faith]] edits by [[Special:Contributions/The7thone1188|The7thone1188]] ([[User talk:The7thone1188|talk]]): Redundant.  NYMA information is in the section above education. . ([[WP:TW|TW]][[WP:QUALITYCONTROL|★]][[WP:TW|TW]])', 102655, 16105, 687, 49, 730, 26]\n"
     ]
    },
    {
     "name": "stderr",
     "output_type": "stream",
     "text": [
      "The following query raised warnings: {'action': 'query', 'titles': 'Donald Trump', 'prop': 'revisions', 'rvprop': 'ids|flags|timestamp|comment|user|userid|content', 'rvlimit': 'max', 'continue': '||', 'format': 'json', 'rvcontinue': '20161119010831|750314830'}\n",
      "\t- result -- {'*': 'This result was truncated because it would otherwise be larger than the limit of 12,582,912 bytes.'}\n",
      "The following query raised warnings: {'action': 'query', 'titles': 'Donald Trump', 'prop': 'revisions', 'rvprop': 'ids|flags|timestamp|comment|user|userid|content', 'rvlimit': 'max', 'continue': '||', 'format': 'json', 'rvcontinue': '20161118170954|750253876'}\n",
      "\t- result -- {'*': 'This result was truncated because it would otherwise be larger than the limit of 12,582,912 bytes.'}\n",
      "The following query raised warnings: {'action': 'query', 'titles': 'Donald Trump', 'prop': 'revisions', 'rvprop': 'ids|flags|timestamp|comment|user|userid|content', 'rvlimit': 'max', 'continue': '||', 'format': 'json', 'rvcontinue': '20161118031529|750158302'}\n",
      "\t- result -- {'*': 'This result was truncated because it would otherwise be larger than the limit of 12,582,912 bytes.'}\n"
     ]
    },
    {
     "name": "stdout",
     "output_type": "stream",
     "text": [
      "['Donald Trump', 749990964, 749980895, 'My Chemistry romantic', 25052795, '2016-11-17T06:42:08Z', 'Disambiguated: [[The Hill]] → [[The Hill (newspaper)]]', 101351, 15902, 680, 49, 701, 23]\n"
     ]
    },
    {
     "name": "stderr",
     "output_type": "stream",
     "text": [
      "The following query raised warnings: {'action': 'query', 'titles': 'Donald Trump', 'prop': 'revisions', 'rvprop': 'ids|flags|timestamp|comment|user|userid|content', 'rvlimit': 'max', 'continue': '||', 'format': 'json', 'rvcontinue': '20161117023318|749960890'}\n",
      "\t- result -- {'*': 'This result was truncated because it would otherwise be larger than the limit of 12,582,912 bytes.'}\n",
      "The following query raised warnings: {'action': 'query', 'titles': 'Donald Trump', 'prop': 'revisions', 'rvprop': 'ids|flags|timestamp|comment|user|userid|content', 'rvlimit': 'max', 'continue': '||', 'format': 'json', 'rvcontinue': '20161116011046|749758399'}\n",
      "\t- result -- {'*': 'This result was truncated because it would otherwise be larger than the limit of 12,582,912 bytes.'}\n",
      "The following query raised warnings: {'action': 'query', 'titles': 'Donald Trump', 'prop': 'revisions', 'rvprop': 'ids|flags|timestamp|comment|user|userid|content', 'rvlimit': 'max', 'continue': '||', 'format': 'json', 'rvcontinue': '20161115023517|749583212'}\n",
      "\t- result -- {'*': 'This result was truncated because it would otherwise be larger than the limit of 12,582,912 bytes.'}\n",
      "The following query raised warnings: {'action': 'query', 'titles': 'Donald Trump', 'prop': 'revisions', 'rvprop': 'ids|flags|timestamp|comment|user|userid|content', 'rvlimit': 'max', 'continue': '||', 'format': 'json', 'rvcontinue': '20161114161644|749486253'}\n",
      "\t- result -- {'*': 'This result was truncated because it would otherwise be larger than the limit of 12,582,912 bytes.'}\n",
      "The following query raised warnings: {'action': 'query', 'titles': 'Donald Trump', 'prop': 'revisions', 'rvprop': 'ids|flags|timestamp|comment|user|userid|content', 'rvlimit': 'max', 'continue': '||', 'format': 'json', 'rvcontinue': '20161113190030|749318879'}\n",
      "\t- result -- {'*': 'This result was truncated because it would otherwise be larger than the limit of 12,582,912 bytes.'}\n"
     ]
    },
    {
     "name": "stdout",
     "output_type": "stream",
     "text": [
      "['Donald Trump', 749313704, 749310975, 'AnomieBOT', 7611264, '2016-11-13T18:25:47Z', 'Rescuing orphaned refs (\"auto1\" → \"financial-pr\" from rev 749310551)', 103141, 16197, 676, 47, 712, 25]\n"
     ]
    },
    {
     "name": "stderr",
     "output_type": "stream",
     "text": [
      "The following query raised warnings: {'action': 'query', 'titles': 'Donald Trump', 'prop': 'revisions', 'rvprop': 'ids|flags|timestamp|comment|user|userid|content', 'rvlimit': 'max', 'continue': '||', 'format': 'json', 'rvcontinue': '20161113082509|749249098'}\n",
      "\t- result -- {'*': 'This result was truncated because it would otherwise be larger than the limit of 12,582,912 bytes.'}\n"
     ]
    },
    {
     "name": "stdout",
     "output_type": "stream",
     "text": [
      "['Donald Trump', 749247987, 749247928, 'Master of Time', 18522464, '2016-11-13T08:11:59Z', '/* Healthcare, education and environment */ \"claimed\" → \"said\"', 106518, 16745, 702, 48, 723, 25]\n",
      "['Donald Trump', 749243764, 749236952, 'Yobot', 7328338, '2016-11-13T07:32:30Z', 'Removed invisible unicode characters + other fixes, replaced: → using [[Project:AWB|AWB]]', 106521, 16745, 702, 48, 724, 25]\n"
     ]
    },
    {
     "name": "stderr",
     "output_type": "stream",
     "text": [
      "The following query raised warnings: {'action': 'query', 'titles': 'Donald Trump', 'prop': 'revisions', 'rvprop': 'ids|flags|timestamp|comment|user|userid|content', 'rvlimit': 'max', 'continue': '||', 'format': 'json', 'rvcontinue': '20161112150358|749120164'}\n",
      "\t- result -- {'*': 'This result was truncated because it would otherwise be larger than the limit of 12,582,912 bytes.'}\n",
      "The following query raised warnings: {'action': 'query', 'titles': 'Donald Trump', 'prop': 'revisions', 'rvprop': 'ids|flags|timestamp|comment|user|userid|content', 'rvlimit': 'max', 'continue': '||', 'format': 'json', 'rvcontinue': '20161111235336|749037466'}\n",
      "\t- result -- {'*': 'This result was truncated because it would otherwise be larger than the limit of 12,582,912 bytes.'}\n",
      "The following query raised warnings: {'action': 'query', 'titles': 'Donald Trump', 'prop': 'revisions', 'rvprop': 'ids|flags|timestamp|comment|user|userid|content', 'rvlimit': 'max', 'continue': '||', 'format': 'json', 'rvcontinue': '20161111150239|748973243'}\n",
      "\t- result -- {'*': 'This result was truncated because it would otherwise be larger than the limit of 12,582,912 bytes.'}\n"
     ]
    },
    {
     "name": "stdout",
     "output_type": "stream",
     "text": [
      "['Donald Trump', 748911010, 748910601, 'Ɱ', 10000761, '2016-11-11T03:33:33Z', 'See edit notice: subject to ArbCom sanctions upon change; also see [[Talk:Donald Trump/Archive 11]]', 115780, 18278, 725, 48, 763, 21]\n"
     ]
    },
    {
     "name": "stderr",
     "output_type": "stream",
     "text": [
      "The following query raised warnings: {'action': 'query', 'titles': 'Donald Trump', 'prop': 'revisions', 'rvprop': 'ids|flags|timestamp|comment|user|userid|content', 'rvlimit': 'max', 'continue': '||', 'format': 'json', 'rvcontinue': '20161111021211|748902874'}\n",
      "\t- result -- {'*': 'This result was truncated because it would otherwise be larger than the limit of 12,582,912 bytes.'}\n"
     ]
    },
    {
     "name": "stdout",
     "output_type": "stream",
     "text": [
      "['Donald Trump', 748902874, 748902246, 'Ɱ', 10000761, '2016-11-11T02:12:11Z', 'consistency', 115807, 18276, 725, 48, 763, 21]\n",
      "['Donald Trump', 748857566, 748857131, 'ΘΕΟΔΩΡΟΣ', 7816751, '2016-11-10T20:05:17Z', 'simpler', 115067, 18146, 723, 48, 756, 21]\n",
      "['Donald Trump', 748856505, 748855160, 'ΘΕΟΔΩΡΟΣ', 7816751, '2016-11-10T19:56:52Z', '/* Early life */ per sources cited; Jamaica Hospital is in Jamaica proper, not Jamaica Estates, which is where he grew up.', 115067, 18146, 723, 48, 755, 21]\n"
     ]
    },
    {
     "name": "stderr",
     "output_type": "stream",
     "text": [
      "The following query raised warnings: {'action': 'query', 'titles': 'Donald Trump', 'prop': 'revisions', 'rvprop': 'ids|flags|timestamp|comment|user|userid|content', 'rvlimit': 'max', 'continue': '||', 'format': 'json', 'rvcontinue': '20161110180550|748838868'}\n",
      "\t- result -- {'*': 'This result was truncated because it would otherwise be larger than the limit of 12,582,912 bytes.'}\n",
      "The following query raised warnings: {'action': 'query', 'titles': 'Donald Trump', 'prop': 'revisions', 'rvprop': 'ids|flags|timestamp|comment|user|userid|content', 'rvlimit': 'max', 'continue': '||', 'format': 'json', 'rvcontinue': '20161110090453|748776085'}\n",
      "\t- result -- {'*': 'This result was truncated because it would otherwise be larger than the limit of 12,582,912 bytes.'}\n"
     ]
    },
    {
     "name": "stdout",
     "output_type": "stream",
     "text": [
      "['Donald Trump', 748759723, 748759240, '♥Golf', 20996381, '2016-11-10T05:51:22Z', '/* Net worth */ better', 115168, 18172, 719, 48, 756, 23]\n",
      "['Donald Trump', 748759240, 748759182, '♥Golf', 20996381, '2016-11-10T05:46:35Z', '/* Business bankruptcies */ better', 115168, 18172, 719, 48, 756, 23]\n",
      "['Donald Trump', 748759182, 748759018, '♥Golf', 20996381, '2016-11-10T05:45:59Z', '/* Inheritance and further acquisitions */ consistent', 115166, 18172, 719, 48, 756, 23]\n",
      "['Donald Trump', 748759018, 748758184, '♥Golf', 20996381, '2016-11-10T05:44:05Z', '/* Inheritance and further acquisitions */ better', 115169, 18173, 719, 48, 756, 23]\n"
     ]
    },
    {
     "name": "stderr",
     "output_type": "stream",
     "text": [
      "The following query raised warnings: {'action': 'query', 'titles': 'Donald Trump', 'prop': 'revisions', 'rvprop': 'ids|flags|timestamp|comment|user|userid|content', 'rvlimit': 'max', 'continue': '||', 'format': 'json', 'rvcontinue': '20161110001017|748725308'}\n",
      "\t- result -- {'*': 'This result was truncated because it would otherwise be larger than the limit of 12,582,912 bytes.'}\n"
     ]
    },
    {
     "name": "stdout",
     "output_type": "stream",
     "text": [
      "['Donald Trump', 748710895, 748710511, 'MartinZ', 26363623, '2016-11-09T21:47:52Z', 'I would say being the POTUS‐elect is more important and notable then being a businessman.', 116548, 18380, 725, 48, 762, 23]\n"
     ]
    },
    {
     "name": "stderr",
     "output_type": "stream",
     "text": [
      "The following query raised warnings: {'action': 'query', 'titles': 'Donald Trump', 'prop': 'revisions', 'rvprop': 'ids|flags|timestamp|comment|user|userid|content', 'rvlimit': 'max', 'continue': '||', 'format': 'json', 'rvcontinue': '20161109213557|748709426'}\n",
      "\t- result -- {'*': 'This result was truncated because it would otherwise be larger than the limit of 12,582,912 bytes.'}\n",
      "The following query raised warnings: {'action': 'query', 'titles': 'Donald Trump', 'prop': 'revisions', 'rvprop': 'ids|flags|timestamp|comment|user|userid|content', 'rvlimit': 'max', 'continue': '||', 'format': 'json', 'rvcontinue': '20161109165402|748676394'}\n",
      "\t- result -- {'*': 'This result was truncated because it would otherwise be larger than the limit of 12,582,912 bytes.'}\n"
     ]
    },
    {
     "name": "stdout",
     "output_type": "stream",
     "text": [
      "['Donald Trump', 748668794, 748668302, 'Ɱ', 10000761, '2016-11-09T15:45:54Z', '·Requires consensus, see talk discussions. Replacing with consensus-supported image.', 115550, 18224, 720, 47, 758, 23]\n"
     ]
    },
    {
     "name": "stderr",
     "output_type": "stream",
     "text": [
      "The following query raised warnings: {'action': 'query', 'titles': 'Donald Trump', 'prop': 'revisions', 'rvprop': 'ids|flags|timestamp|comment|user|userid|content', 'rvlimit': 'max', 'continue': '||', 'format': 'json', 'rvcontinue': '20161109114508|748644819'}\n",
      "\t- result -- {'*': 'This result was truncated because it would otherwise be larger than the limit of 12,582,912 bytes.'}\n",
      "The following query raised warnings: {'action': 'query', 'titles': 'Donald Trump', 'prop': 'revisions', 'rvprop': 'ids|flags|timestamp|comment|user|userid|content', 'rvlimit': 'max', 'continue': '||', 'format': 'json', 'rvcontinue': '20161109082430|748627427'}\n",
      "\t- result -- {'*': 'This result was truncated because it would otherwise be larger than the limit of 12,582,912 bytes.'}\n",
      "The following query raised warnings: {'action': 'query', 'titles': 'Donald Trump', 'prop': 'revisions', 'rvprop': 'ids|flags|timestamp|comment|user|userid|content', 'rvlimit': 'max', 'continue': '||', 'format': 'json', 'rvcontinue': '20161108195319|748545804'}\n",
      "\t- result -- {'*': 'This result was truncated because it would otherwise be larger than the limit of 12,582,912 bytes.'}\n"
     ]
    },
    {
     "name": "stdout",
     "output_type": "stream",
     "text": [
      "['Donald Trump', 748486521, 748457229, 'Dewritech', 11498870, '2016-11-08T12:26:27Z', \"clean up, [[WP:AWB/T|typo(s) fixed]]: foriegn → foreign, 1990's → 1990s using [[Project:AWB|AWB]]\", 115262, 18176, 721, 47, 752, 22]\n"
     ]
    },
    {
     "name": "stderr",
     "output_type": "stream",
     "text": [
      "The following query raised warnings: {'action': 'query', 'titles': 'Donald Trump', 'prop': 'revisions', 'rvprop': 'ids|flags|timestamp|comment|user|userid|content', 'rvlimit': 'max', 'continue': '||', 'format': 'json', 'rvcontinue': '20161107210645|748363864'}\n",
      "\t- result -- {'*': 'This result was truncated because it would otherwise be larger than the limit of 12,582,912 bytes.'}\n",
      "The following query raised warnings: {'action': 'query', 'titles': 'Donald Trump', 'prop': 'revisions', 'rvprop': 'ids|flags|timestamp|comment|user|userid|content', 'rvlimit': 'max', 'continue': '||', 'format': 'json', 'rvcontinue': '20161106122028|748115264'}\n",
      "\t- result -- {'*': 'This result was truncated because it would otherwise be larger than the limit of 12,582,912 bytes.'}\n"
     ]
    },
    {
     "name": "stdout",
     "output_type": "stream",
     "text": [
      "['Donald Trump', 747905355, 747905277, 'Nagylelkű', 27165991, '2016-11-05T02:47:21Z', 'dubious trivia. the edit\\'s references article itself does not even mention the \"haircut,\" there is no reason why Donald Trump\\'s main article should.', 115614, 18217, 719, 48, 751, 22]\n"
     ]
    },
    {
     "name": "stderr",
     "output_type": "stream",
     "text": [
      "The following query raised warnings: {'action': 'query', 'titles': 'Donald Trump', 'prop': 'revisions', 'rvprop': 'ids|flags|timestamp|comment|user|userid|content', 'rvlimit': 'max', 'continue': '||', 'format': 'json', 'rvcontinue': '20161105000028|747887769'}\n",
      "\t- result -- {'*': 'This result was truncated because it would otherwise be larger than the limit of 12,582,912 bytes.'}\n",
      "The following query raised warnings: {'action': 'query', 'titles': 'Donald Trump', 'prop': 'revisions', 'rvprop': 'ids|flags|timestamp|comment|user|userid|content', 'rvlimit': 'max', 'continue': '||', 'format': 'json', 'rvcontinue': '20161103172804|747664857'}\n",
      "\t- result -- {'*': 'This result was truncated because it would otherwise be larger than the limit of 12,582,912 bytes.'}\n"
     ]
    },
    {
     "name": "stdout",
     "output_type": "stream",
     "text": [
      "['Donald Trump', 747534823, 747534512, 'Dr.K.', 894320, '2016-11-02T22:48:40Z', 'Reverted [[WP:AGF|good faith]] edits by [[Special:Contributions/Chasedgaming|Chasedgaming]] ([[User talk:Chasedgaming|talk]]): Not what the citation states. ([[WP:TW|TW]][[WP:QUALITYCONTROL|★]][[WP:TW|TW]])', 117174, 18475, 728, 56, 769, 22]\n"
     ]
    },
    {
     "name": "stderr",
     "output_type": "stream",
     "text": [
      "The following query raised warnings: {'action': 'query', 'titles': 'Donald Trump', 'prop': 'revisions', 'rvprop': 'ids|flags|timestamp|comment|user|userid|content', 'rvlimit': 'max', 'continue': '||', 'format': 'json', 'rvcontinue': '20161102015005|747381279'}\n",
      "\t- result -- {'*': 'This result was truncated because it would otherwise be larger than the limit of 12,582,912 bytes.'}\n",
      "The following query raised warnings: {'action': 'query', 'titles': 'Donald Trump', 'prop': 'revisions', 'rvprop': 'ids|flags|timestamp|comment|user|userid|content', 'rvlimit': 'max', 'continue': '||', 'format': 'json', 'rvcontinue': '20161031163906|747130005'}\n",
      "\t- result -- {'*': 'This result was truncated because it would otherwise be larger than the limit of 12,582,912 bytes.'}\n",
      "The following query raised warnings: {'action': 'query', 'titles': 'Donald Trump', 'prop': 'revisions', 'rvprop': 'ids|flags|timestamp|comment|user|userid|content', 'rvlimit': 'max', 'continue': '||', 'format': 'json', 'rvcontinue': '20161030031219|746876538'}\n",
      "\t- result -- {'*': 'This result was truncated because it would otherwise be larger than the limit of 12,582,912 bytes.'}\n",
      "The following query raised warnings: {'action': 'query', 'titles': 'Donald Trump', 'prop': 'revisions', 'rvprop': 'ids|flags|timestamp|comment|user|userid|content', 'rvlimit': 'max', 'continue': '||', 'format': 'json', 'rvcontinue': '20161028163350|746639132'}\n",
      "\t- result -- {'*': 'This result was truncated because it would otherwise be larger than the limit of 12,582,912 bytes.'}\n",
      "The following query raised warnings: {'action': 'query', 'titles': 'Donald Trump', 'prop': 'revisions', 'rvprop': 'ids|flags|timestamp|comment|user|userid|content', 'rvlimit': 'max', 'continue': '||', 'format': 'json', 'rvcontinue': '20161027214718|746514446'}\n",
      "\t- result -- {'*': 'This result was truncated because it would otherwise be larger than the limit of 12,582,912 bytes.'}\n",
      "The following query raised warnings: {'action': 'query', 'titles': 'Donald Trump', 'prop': 'revisions', 'rvprop': 'ids|flags|timestamp|comment|user|userid|content', 'rvlimit': 'max', 'continue': '||', 'format': 'json', 'rvcontinue': '20161026181907|746324445'}\n",
      "\t- result -- {'*': 'This result was truncated because it would otherwise be larger than the limit of 12,582,912 bytes.'}\n",
      "The following query raised warnings: {'action': 'query', 'titles': 'Donald Trump', 'prop': 'revisions', 'rvprop': 'ids|flags|timestamp|comment|user|userid|content', 'rvlimit': 'max', 'continue': '||', 'format': 'json', 'rvcontinue': '20161025182153|746172867'}\n",
      "\t- result -- {'*': 'This result was truncated because it would otherwise be larger than the limit of 12,582,912 bytes.'}\n",
      "The following query raised warnings: {'action': 'query', 'titles': 'Donald Trump', 'prop': 'revisions', 'rvprop': 'ids|flags|timestamp|comment|user|userid|content', 'rvlimit': 'max', 'continue': '||', 'format': 'json', 'rvcontinue': '20161024215921|746033243'}\n",
      "\t- result -- {'*': 'This result was truncated because it would otherwise be larger than the limit of 12,582,912 bytes.'}\n",
      "The following query raised warnings: {'action': 'query', 'titles': 'Donald Trump', 'prop': 'revisions', 'rvprop': 'ids|flags|timestamp|comment|user|userid|content', 'rvlimit': 'max', 'continue': '||', 'format': 'json', 'rvcontinue': '20161023002237|745735166'}\n",
      "\t- result -- {'*': 'This result was truncated because it would otherwise be larger than the limit of 12,582,912 bytes.'}\n"
     ]
    },
    {
     "name": "stdout",
     "output_type": "stream",
     "text": [
      "['Donald Trump', 745665071, 745662451, 'MrX', 10539714, '2016-10-22T15:06:39Z', 'talked→bragged per clear consensus at [[talk:Donald Trump#\"Talked\" versus \"bragged\"]]', 113444, 17876, 712, 56, 765, 21]\n"
     ]
    },
    {
     "name": "stderr",
     "output_type": "stream",
     "text": [
      "The following query raised warnings: {'action': 'query', 'titles': 'Donald Trump', 'prop': 'revisions', 'rvprop': 'ids|flags|timestamp|comment|user|userid|content', 'rvlimit': 'max', 'continue': '||', 'format': 'json', 'rvcontinue': '20161021155451|745517044'}\n",
      "\t- result -- {'*': 'This result was truncated because it would otherwise be larger than the limit of 12,582,912 bytes.'}\n",
      "The following query raised warnings: {'action': 'query', 'titles': 'Donald Trump', 'prop': 'revisions', 'rvprop': 'ids|flags|timestamp|comment|user|userid|content', 'rvlimit': 'max', 'continue': '||', 'format': 'json', 'rvcontinue': '20161020211250|745393526'}\n",
      "\t- result -- {'*': 'This result was truncated because it would otherwise be larger than the limit of 12,582,912 bytes.'}\n",
      "The following query raised warnings: {'action': 'query', 'titles': 'Donald Trump', 'prop': 'revisions', 'rvprop': 'ids|flags|timestamp|comment|user|userid|content', 'rvlimit': 'max', 'continue': '||', 'format': 'json', 'rvcontinue': '20161020062802|745274745'}\n",
      "\t- result -- {'*': 'This result was truncated because it would otherwise be larger than the limit of 12,582,912 bytes.'}\n",
      "The following query raised warnings: {'action': 'query', 'titles': 'Donald Trump', 'prop': 'revisions', 'rvprop': 'ids|flags|timestamp|comment|user|userid|content', 'rvlimit': 'max', 'continue': '||', 'format': 'json', 'rvcontinue': '20161019204526|745200086'}\n",
      "\t- result -- {'*': 'This result was truncated because it would otherwise be larger than the limit of 12,582,912 bytes.'}\n"
     ]
    },
    {
     "name": "stdout",
     "output_type": "stream",
     "text": [
      "['Donald Trump', 745164839, 745156226, 'PKT', 1382933, '2016-10-19T16:49:47Z', 'Disambiguated: [[Trump Tower]] → [[Trump Tower (New York City)]]', 115874, 18256, 696, 56, 760, 20]\n"
     ]
    },
    {
     "name": "stderr",
     "output_type": "stream",
     "text": [
      "The following query raised warnings: {'action': 'query', 'titles': 'Donald Trump', 'prop': 'revisions', 'rvprop': 'ids|flags|timestamp|comment|user|userid|content', 'rvlimit': 'max', 'continue': '||', 'format': 'json', 'rvcontinue': '20161018173522|744989056'}\n",
      "\t- result -- {'*': 'This result was truncated because it would otherwise be larger than the limit of 12,582,912 bytes.'}\n",
      "The following query raised warnings: {'action': 'query', 'titles': 'Donald Trump', 'prop': 'revisions', 'rvprop': 'ids|flags|timestamp|comment|user|userid|content', 'rvlimit': 'max', 'continue': '||', 'format': 'json', 'rvcontinue': '20161017165312|744817788'}\n",
      "\t- result -- {'*': 'This result was truncated because it would otherwise be larger than the limit of 12,582,912 bytes.'}\n"
     ]
    },
    {
     "name": "stdout",
     "output_type": "stream",
     "text": [
      "['Donald Trump', 744817788, 744815862, 'MrX', 10539714, '2016-10-17T16:53:12Z', '/* Family */ 1991→1990 per talk page and sources', 117101, 18372, 687, 56, 754, 21]\n"
     ]
    },
    {
     "name": "stderr",
     "output_type": "stream",
     "text": [
      "The following query raised warnings: {'action': 'query', 'titles': 'Donald Trump', 'prop': 'revisions', 'rvprop': 'ids|flags|timestamp|comment|user|userid|content', 'rvlimit': 'max', 'continue': '||', 'format': 'json', 'rvcontinue': '20161016073807|744594697'}\n",
      "\t- result -- {'*': 'This result was truncated because it would otherwise be larger than the limit of 12,582,912 bytes.'}\n",
      "The following query raised warnings: {'action': 'query', 'titles': 'Donald Trump', 'prop': 'revisions', 'rvprop': 'ids|flags|timestamp|comment|user|userid|content', 'rvlimit': 'max', 'continue': '||', 'format': 'json', 'rvcontinue': '20161015144602|744484727'}\n",
      "\t- result -- {'*': 'This result was truncated because it would otherwise be larger than the limit of 12,582,912 bytes.'}\n",
      "The following query raised warnings: {'action': 'query', 'titles': 'Donald Trump', 'prop': 'revisions', 'rvprop': 'ids|flags|timestamp|comment|user|userid|content', 'rvlimit': 'max', 'continue': '||', 'format': 'json', 'rvcontinue': '20161014205954|744380533'}\n",
      "\t- result -- {'*': 'This result was truncated because it would otherwise be larger than the limit of 12,582,912 bytes.'}\n"
     ]
    },
    {
     "name": "stdout",
     "output_type": "stream",
     "text": [
      "['Donald Trump', 744363438, 744363270, 'Epicgenius', 17859592, '2016-10-14T18:54:04Z', 'Section heading change: Distinctions → Awards and accolades using a [[User:The Evil IP address/hdedit|script]]', 113683, 17804, 683, 56, 730, 21]\n"
     ]
    },
    {
     "name": "stderr",
     "output_type": "stream",
     "text": [
      "The following query raised warnings: {'action': 'query', 'titles': 'Donald Trump', 'prop': 'revisions', 'rvprop': 'ids|flags|timestamp|comment|user|userid|content', 'rvlimit': 'max', 'continue': '||', 'format': 'json', 'rvcontinue': '20161014070426|744277690'}\n",
      "\t- result -- {'*': 'This result was truncated because it would otherwise be larger than the limit of 12,582,912 bytes.'}\n",
      "The following query raised warnings: {'action': 'query', 'titles': 'Donald Trump', 'prop': 'revisions', 'rvprop': 'ids|flags|timestamp|comment|user|userid|content', 'rvlimit': 'max', 'continue': '||', 'format': 'json', 'rvcontinue': '20161013211407|744218827'}\n",
      "\t- result -- {'*': 'This result was truncated because it would otherwise be larger than the limit of 12,582,912 bytes.'}\n",
      "The following query raised warnings: {'action': 'query', 'titles': 'Donald Trump', 'prop': 'revisions', 'rvprop': 'ids|flags|timestamp|comment|user|userid|content', 'rvlimit': 'max', 'continue': '||', 'format': 'json', 'rvcontinue': '20161012214011|744060476'}\n",
      "\t- result -- {'*': 'This result was truncated because it would otherwise be larger than the limit of 12,582,912 bytes.'}\n",
      "The following query raised warnings: {'action': 'query', 'titles': 'Donald Trump', 'prop': 'revisions', 'rvprop': 'ids|flags|timestamp|comment|user|userid|content', 'rvlimit': 'max', 'continue': '||', 'format': 'json', 'rvcontinue': '20161011152548|743839754'}\n",
      "\t- result -- {'*': 'This result was truncated because it would otherwise be larger than the limit of 12,582,912 bytes.'}\n"
     ]
    },
    {
     "name": "stdout",
     "output_type": "stream",
     "text": [
      "['Donald Trump', 743789216, 743784930, 'Dervorguilla', 6304182, '2016-10-11T08:12:00Z', \"/* top */ '...has built skyscrapers, hotels, casinos, golf courses, and numerous other developments...' -> '...has built skyscrapers, hotels, casinos, golf courses, and other developments...', per [[WP:PEA]] (1 winery + 2 skating rinks ≠ 'numerous')\", 105847, 16440, 666, 54, 707, 21]\n",
      "['Donald Trump', 743783905, 743783527, 'Dervorguilla', 6304182, '2016-10-11T07:20:50Z', \"/* top */ '...across North and South America, Europe, and Asia' -> '...worldwide' (to rm [[WP:PEA]] term 'across Europe'; building developments in Ireland + Scotland + Istanbul ≠ building developments 'across' Europe; still 1100 miles to Moscow...)\", 105861, 16443, 666, 54, 707, 21]\n"
     ]
    },
    {
     "name": "stderr",
     "output_type": "stream",
     "text": [
      "The following query raised warnings: {'action': 'query', 'titles': 'Donald Trump', 'prop': 'revisions', 'rvprop': 'ids|flags|timestamp|comment|user|userid|content', 'rvlimit': 'max', 'continue': '||', 'format': 'json', 'rvcontinue': '20161011040124|743764199'}\n",
      "\t- result -- {'*': 'This result was truncated because it would otherwise be larger than the limit of 12,582,912 bytes.'}\n",
      "The following query raised warnings: {'action': 'query', 'titles': 'Donald Trump', 'prop': 'revisions', 'rvprop': 'ids|flags|timestamp|comment|user|userid|content', 'rvlimit': 'max', 'continue': '||', 'format': 'json', 'rvcontinue': '20161010222813|743726569'}\n",
      "\t- result -- {'*': 'This result was truncated because it would otherwise be larger than the limit of 12,582,912 bytes.'}\n",
      "The following query raised warnings: {'action': 'query', 'titles': 'Donald Trump', 'prop': 'revisions', 'rvprop': 'ids|flags|timestamp|comment|user|userid|content', 'rvlimit': 'max', 'continue': '||', 'format': 'json', 'rvcontinue': '20161010040229|743545048'}\n",
      "\t- result -- {'*': 'This result was truncated because it would otherwise be larger than the limit of 12,582,912 bytes.'}\n"
     ]
    },
    {
     "name": "stdout",
     "output_type": "stream",
     "text": [
      "['Donald Trump', 743492862, 743481523, 'Dervorguilla', 6304182, '2016-10-09T22:26:02Z', '/* top */ add hidden text (\\'\"United States\" would be redundant information, see WP:BEGIN\\'). The guideline says not to use [[Redundancy (linguistics)|redundant information]] in the opening sentence. (\\'American ... United States\\' ≈ \\'USA ... USA\\'.)', 109909, 17037, 668, 54, 706, 21]\n"
     ]
    },
    {
     "name": "stderr",
     "output_type": "stream",
     "text": [
      "The following query raised warnings: {'action': 'query', 'titles': 'Donald Trump', 'prop': 'revisions', 'rvprop': 'ids|flags|timestamp|comment|user|userid|content', 'rvlimit': 'max', 'continue': '||', 'format': 'json', 'rvcontinue': '20161009050646|743337892'}\n",
      "\t- result -- {'*': 'This result was truncated because it would otherwise be larger than the limit of 12,582,912 bytes.'}\n",
      "The following query raised warnings: {'action': 'query', 'titles': 'Donald Trump', 'prop': 'revisions', 'rvprop': 'ids|flags|timestamp|comment|user|userid|content', 'rvlimit': 'max', 'continue': '||', 'format': 'json', 'rvcontinue': '20161008132236|743202582'}\n",
      "\t- result -- {'*': 'This result was truncated because it would otherwise be larger than the limit of 12,582,912 bytes.'}\n",
      "The following query raised warnings: {'action': 'query', 'titles': 'Donald Trump', 'prop': 'revisions', 'rvprop': 'ids|flags|timestamp|comment|user|userid|content', 'rvlimit': 'max', 'continue': '||', 'format': 'json', 'rvcontinue': '20161007230603|743117143'}\n",
      "\t- result -- {'*': 'This result was truncated because it would otherwise be larger than the limit of 12,582,912 bytes.'}\n"
     ]
    },
    {
     "name": "stdout",
     "output_type": "stream",
     "text": [
      "['Donald Trump', 742963760, 742962457, 'Stevietheman', 53396, '2016-10-06T22:43:32Z', 'typo seek/cleanup articles linked from [[Muhammad Ali]] for [[WP:LOU|WikiProject Louisville]], [[WP:AWB/T|typo(s) fixed]]: $916 million dollars → $916 million using [[Project:AWB|AWB]]', 109197, 16942, 667, 55, 700, 21]\n"
     ]
    },
    {
     "name": "stderr",
     "output_type": "stream",
     "text": [
      "The following query raised warnings: {'action': 'query', 'titles': 'Donald Trump', 'prop': 'revisions', 'rvprop': 'ids|flags|timestamp|comment|user|userid|content', 'rvlimit': 'max', 'continue': '||', 'format': 'json', 'rvcontinue': '20161005035027|742678926'}\n",
      "\t- result -- {'*': 'This result was truncated because it would otherwise be larger than the limit of 12,582,912 bytes.'}\n",
      "The following query raised warnings: {'action': 'query', 'titles': 'Donald Trump', 'prop': 'revisions', 'rvprop': 'ids|flags|timestamp|comment|user|userid|content', 'rvlimit': 'max', 'continue': '||', 'format': 'json', 'rvcontinue': '20161003093327|742375409'}\n",
      "\t- result -- {'*': 'This result was truncated because it would otherwise be larger than the limit of 12,582,912 bytes.'}\n",
      "The following query raised warnings: {'action': 'query', 'titles': 'Donald Trump', 'prop': 'revisions', 'rvprop': 'ids|flags|timestamp|comment|user|userid|content', 'rvlimit': 'max', 'continue': '||', 'format': 'json', 'rvcontinue': '20161002123451|742226416'}\n",
      "\t- result -- {'*': 'This result was truncated because it would otherwise be larger than the limit of 12,582,912 bytes.'}\n",
      "The following query raised warnings: {'action': 'query', 'titles': 'Donald Trump', 'prop': 'revisions', 'rvprop': 'ids|flags|timestamp|comment|user|userid|content', 'rvlimit': 'max', 'continue': '||', 'format': 'json', 'rvcontinue': '20160930002130|741840424'}\n",
      "\t- result -- {'*': 'This result was truncated because it would otherwise be larger than the limit of 12,582,912 bytes.'}\n"
     ]
    },
    {
     "name": "stdout",
     "output_type": "stream",
     "text": [
      "['Donald Trump', 741644984, 741604968, 'BG19bot', 14508071, '2016-09-28T20:26:44Z', '[[WP:CHECKWIKI]] error fix for #16.  Remove invisible Unicode characters. Do [[Wikipedia:GENFIXES|general fixes]] if a problem exists. -, replaced: →', 105991, 16421, 645, 49, 683, 21]\n"
     ]
    },
    {
     "name": "stderr",
     "output_type": "stream",
     "text": [
      "The following query raised warnings: {'action': 'query', 'titles': 'Donald Trump', 'prop': 'revisions', 'rvprop': 'ids|flags|timestamp|comment|user|userid|content', 'rvlimit': 'max', 'continue': '||', 'format': 'json', 'rvcontinue': '20160927193059|741480773'}\n",
      "\t- result -- {'*': 'This result was truncated because it would otherwise be larger than the limit of 12,582,912 bytes.'}\n",
      "The following query raised warnings: {'action': 'query', 'titles': 'Donald Trump', 'prop': 'revisions', 'rvprop': 'ids|flags|timestamp|comment|user|userid|content', 'rvlimit': 'max', 'continue': '||', 'format': 'json', 'rvcontinue': '20160925223314|741182291'}\n",
      "\t- result -- {'*': 'This result was truncated because it would otherwise be larger than the limit of 12,582,912 bytes.'}\n",
      "The following query raised warnings: {'action': 'query', 'titles': 'Donald Trump', 'prop': 'revisions', 'rvprop': 'ids|flags|timestamp|comment|user|userid|content', 'rvlimit': 'max', 'continue': '||', 'format': 'json', 'rvcontinue': '20160924063605|740927886'}\n",
      "\t- result -- {'*': 'This result was truncated because it would otherwise be larger than the limit of 12,582,912 bytes.'}\n",
      "The following query raised warnings: {'action': 'query', 'titles': 'Donald Trump', 'prop': 'revisions', 'rvprop': 'ids|flags|timestamp|comment|user|userid|content', 'rvlimit': 'max', 'continue': '||', 'format': 'json', 'rvcontinue': '20160922232145|740734347'}\n",
      "\t- result -- {'*': 'This result was truncated because it would otherwise be larger than the limit of 12,582,912 bytes.'}\n",
      "The following query raised warnings: {'action': 'query', 'titles': 'Donald Trump', 'prop': 'revisions', 'rvprop': 'ids|flags|timestamp|comment|user|userid|content', 'rvlimit': 'max', 'continue': '||', 'format': 'json', 'rvcontinue': '20160919225924|740245398'}\n",
      "\t- result -- {'*': 'This result was truncated because it would otherwise be larger than the limit of 12,582,912 bytes.'}\n",
      "The following query raised warnings: {'action': 'query', 'titles': 'Donald Trump', 'prop': 'revisions', 'rvprop': 'ids|flags|timestamp|comment|user|userid|content', 'rvlimit': 'max', 'continue': '||', 'format': 'json', 'rvcontinue': '20160916181211|739745609'}\n",
      "\t- result -- {'*': 'This result was truncated because it would otherwise be larger than the limit of 12,582,912 bytes.'}\n",
      "The following query raised warnings: {'action': 'query', 'titles': 'Donald Trump', 'prop': 'revisions', 'rvprop': 'ids|flags|timestamp|comment|user|userid|content', 'rvlimit': 'max', 'continue': '||', 'format': 'json', 'rvcontinue': '20160914055800|739355777'}\n",
      "\t- result -- {'*': 'This result was truncated because it would otherwise be larger than the limit of 12,582,912 bytes.'}\n",
      "The following query raised warnings: {'action': 'query', 'titles': 'Donald Trump', 'prop': 'revisions', 'rvprop': 'ids|flags|timestamp|comment|user|userid|content', 'rvlimit': 'max', 'continue': '||', 'format': 'json', 'rvcontinue': '20160908232039|738436499'}\n",
      "\t- result -- {'*': 'This result was truncated because it would otherwise be larger than the limit of 12,582,912 bytes.'}\n",
      "The following query raised warnings: {'action': 'query', 'titles': 'Donald Trump', 'prop': 'revisions', 'rvprop': 'ids|flags|timestamp|comment|user|userid|content', 'rvlimit': 'max', 'continue': '||', 'format': 'json', 'rvcontinue': '20160904092344|737670505'}\n",
      "\t- result -- {'*': 'This result was truncated because it would otherwise be larger than the limit of 12,582,912 bytes.'}\n",
      "The following query raised warnings: {'action': 'query', 'titles': 'Donald Trump', 'prop': 'revisions', 'rvprop': 'ids|flags|timestamp|comment|user|userid|content', 'rvlimit': 'max', 'continue': '||', 'format': 'json', 'rvcontinue': '20160902080443|737363521'}\n",
      "\t- result -- {'*': 'This result was truncated because it would otherwise be larger than the limit of 12,582,912 bytes.'}\n",
      "The following query raised warnings: {'action': 'query', 'titles': 'Donald Trump', 'prop': 'revisions', 'rvprop': 'ids|flags|timestamp|comment|user|userid|content', 'rvlimit': 'max', 'continue': '||', 'format': 'json', 'rvcontinue': '20160831233117|737133267'}\n",
      "\t- result -- {'*': 'This result was truncated because it would otherwise be larger than the limit of 12,582,912 bytes.'}\n",
      "The following query raised warnings: {'action': 'query', 'titles': 'Donald Trump', 'prop': 'revisions', 'rvprop': 'ids|flags|timestamp|comment|user|userid|content', 'rvlimit': 'max', 'continue': '||', 'format': 'json', 'rvcontinue': '20160829133908|736732303'}\n",
      "\t- result -- {'*': 'This result was truncated because it would otherwise be larger than the limit of 12,582,912 bytes.'}\n"
     ]
    },
    {
     "name": "stdout",
     "output_type": "stream",
     "text": [
      "['Donald Trump', 736729929, 736726017, 'John of Reading', 11308236, '2016-08-29T13:18:05Z', '/* Economic issues */Typo fixing, replaced: that that he → that he using [[Project:AWB|AWB]]', 99995, 15502, 610, 51, 644, 17]\n"
     ]
    },
    {
     "name": "stderr",
     "output_type": "stream",
     "text": [
      "The following query raised warnings: {'action': 'query', 'titles': 'Donald Trump', 'prop': 'revisions', 'rvprop': 'ids|flags|timestamp|comment|user|userid|content', 'rvlimit': 'max', 'continue': '||', 'format': 'json', 'rvcontinue': '20160826135032|736292479'}\n",
      "\t- result -- {'*': 'This result was truncated because it would otherwise be larger than the limit of 12,582,912 bytes.'}\n"
     ]
    },
    {
     "name": "stdout",
     "output_type": "stream",
     "text": [
      "['Donald Trump', 735865618, 735858356, 'MorbidEntree', 12054433, '2016-08-23T16:25:33Z', 'USA -> United States per [[MOS:NOTUSA]], replaced: USA → United States (2), U.S. → United States (15) using [[Project:AWB|AWB]]', 99686, 15457, 606, 51, 669, 17]\n",
      "['Donald Trump', 735858356, 735833511, 'MusikAnimal', 14882394, '2016-08-23T15:27:31Z', '([[c:GR|GR]]) [[c:COM:FR|File renamed]]: [[File:Chicago (8).jpg]] → [[File:Trump International Hotel and Tower in Chicago 2010.jpg]] much more descriptive name', 99553, 15457, 606, 51, 669, 17]\n"
     ]
    },
    {
     "name": "stderr",
     "output_type": "stream",
     "text": [
      "The following query raised warnings: {'action': 'query', 'titles': 'Donald Trump', 'prop': 'revisions', 'rvprop': 'ids|flags|timestamp|comment|user|userid|content', 'rvlimit': 'max', 'continue': '||', 'format': 'json', 'rvcontinue': '20160822171901|735718703'}\n",
      "\t- result -- {'*': 'This result was truncated because it would otherwise be larger than the limit of 12,582,912 bytes.'}\n",
      "The following query raised warnings: {'action': 'query', 'titles': 'Donald Trump', 'prop': 'revisions', 'rvprop': 'ids|flags|timestamp|comment|user|userid|content', 'rvlimit': 'max', 'continue': '||', 'format': 'json', 'rvcontinue': '20160819231135|735320029'}\n",
      "\t- result -- {'*': 'This result was truncated because it would otherwise be larger than the limit of 12,582,912 bytes.'}\n"
     ]
    },
    {
     "name": "stdout",
     "output_type": "stream",
     "text": [
      "['Donald Trump', 735272560, 735267383, '0xF8E8', 22197028, '2016-08-19T17:02:50Z', 'clean up, [[WP:AWB/T|typo(s) fixed]]: highly- → highly using [[Project:AWB|AWB]]', 101252, 15737, 613, 51, 675, 17]\n"
     ]
    },
    {
     "name": "stderr",
     "output_type": "stream",
     "text": [
      "The following query raised warnings: {'action': 'query', 'titles': 'Donald Trump', 'prop': 'revisions', 'rvprop': 'ids|flags|timestamp|comment|user|userid|content', 'rvlimit': 'max', 'continue': '||', 'format': 'json', 'rvcontinue': '20160818230547|735157763'}\n",
      "\t- result -- {'*': 'This result was truncated because it would otherwise be larger than the limit of 12,582,912 bytes.'}\n"
     ]
    },
    {
     "name": "stdout",
     "output_type": "stream",
     "text": [
      "['Donald Trump', 735136207, 735112774, 'BattyBot', 15996738, '2016-08-18T20:27:58Z', '[[WP:AWB/GF|general fixes]], replaced: |work=[[Time]] → |work=[[Time (magazine)|Time]] using [[Project:AWB|AWB]]', 101306, 15748, 611, 51, 681, 17]\n",
      "['Donald Trump', 734968183, 734953110, 'Epicgenius', 17859592, '2016-08-17T21:08:34Z', 'Section heading change: Entertainment & Media → Entertainment and media using a [[User:The Evil IP address/hdedit|script]]', 101872, 15834, 616, 52, 688, 17]\n"
     ]
    },
    {
     "name": "stderr",
     "output_type": "stream",
     "text": [
      "The following query raised warnings: {'action': 'query', 'titles': 'Donald Trump', 'prop': 'revisions', 'rvprop': 'ids|flags|timestamp|comment|user|userid|content', 'rvlimit': 'max', 'continue': '||', 'format': 'json', 'rvcontinue': '20160817043904|734860688'}\n",
      "\t- result -- {'*': 'This result was truncated because it would otherwise be larger than the limit of 12,582,912 bytes.'}\n",
      "The following query raised warnings: {'action': 'query', 'titles': 'Donald Trump', 'prop': 'revisions', 'rvprop': 'ids|flags|timestamp|comment|user|userid|content', 'rvlimit': 'max', 'continue': '||', 'format': 'json', 'rvcontinue': '20160816143247|734757794'}\n",
      "\t- result -- {'*': 'This result was truncated because it would otherwise be larger than the limit of 12,582,912 bytes.'}\n"
     ]
    },
    {
     "name": "stdout",
     "output_type": "stream",
     "text": [
      "['Donald Trump', 734565078, 734562181, 'WikiTryHardDieHard', 14643995, '2016-08-15T05:36:32Z', 'clean up, [[WP:AWB/T|typo(s) fixed]]: $1.1 billion dollars → $1.1 billion using [[Project:AWB|AWB]]', 104020, 16105, 646, 55, 733, 19]\n"
     ]
    },
    {
     "name": "stderr",
     "output_type": "stream",
     "text": [
      "The following query raised warnings: {'action': 'query', 'titles': 'Donald Trump', 'prop': 'revisions', 'rvprop': 'ids|flags|timestamp|comment|user|userid|content', 'rvlimit': 'max', 'continue': '||', 'format': 'json', 'rvcontinue': '20160815011128|734540119'}\n",
      "\t- result -- {'*': 'This result was truncated because it would otherwise be larger than the limit of 12,582,912 bytes.'}\n"
     ]
    },
    {
     "name": "stdout",
     "output_type": "stream",
     "text": [
      "['Donald Trump', 734469842, 734467221, 'BD2412', 196446, '2016-08-14T15:31:45Z', 'Precise link to [[New York City]]., replaced: [[New York]] → [[New York City|New York]] (2) using [[Project:AWB|AWB]]', 104551, 16193, 646, 55, 731, 19]\n"
     ]
    },
    {
     "name": "stderr",
     "output_type": "stream",
     "text": [
      "The following query raised warnings: {'action': 'query', 'titles': 'Donald Trump', 'prop': 'revisions', 'rvprop': 'ids|flags|timestamp|comment|user|userid|content', 'rvlimit': 'max', 'continue': '||', 'format': 'json', 'rvcontinue': '20160813022131|734254480'}\n",
      "\t- result -- {'*': 'This result was truncated because it would otherwise be larger than the limit of 12,582,912 bytes.'}\n"
     ]
    },
    {
     "name": "stdout",
     "output_type": "stream",
     "text": [
      "['Donald Trump', 734095875, 734094874, 'Dr.K.', 894320, '2016-08-12T03:22:17Z', 'Reverted [[WP:AGF|good faith]] edits by [[Special:Contributions/Thenabster126|Thenabster126]] ([[User talk:Thenabster126|talk]]): Irrelevant. ([[WP:TW|TW]][[WP:QUALITYCONTROL|★]][[WP:TW|TW]])', 104144, 16131, 642, 55, 725, 19]\n"
     ]
    },
    {
     "name": "stderr",
     "output_type": "stream",
     "text": [
      "The following query raised warnings: {'action': 'query', 'titles': 'Donald Trump', 'prop': 'revisions', 'rvprop': 'ids|flags|timestamp|comment|user|userid|content', 'rvlimit': 'max', 'continue': '||', 'format': 'json', 'rvcontinue': '20160811093540|733976968'}\n",
      "\t- result -- {'*': 'This result was truncated because it would otherwise be larger than the limit of 12,582,912 bytes.'}\n"
     ]
    },
    {
     "name": "stdout",
     "output_type": "stream",
     "text": [
      "['Donald Trump', 733795099, 733788993, 'Donenne', 26352473, '2016-08-10T04:50:23Z', '→ Net woth', 103805, 16086, 633, 50, 727, 19]\n"
     ]
    },
    {
     "name": "stderr",
     "output_type": "stream",
     "text": [
      "The following query raised warnings: {'action': 'query', 'titles': 'Donald Trump', 'prop': 'revisions', 'rvprop': 'ids|flags|timestamp|comment|user|userid|content', 'rvlimit': 'max', 'continue': '||', 'format': 'json', 'rvcontinue': '20160809025206|733630361'}\n",
      "\t- result -- {'*': 'This result was truncated because it would otherwise be larger than the limit of 12,582,912 bytes.'}\n",
      "The following query raised warnings: {'action': 'query', 'titles': 'Donald Trump', 'prop': 'revisions', 'rvprop': 'ids|flags|timestamp|comment|user|userid|content', 'rvlimit': 'max', 'continue': '||', 'format': 'json', 'rvcontinue': '20160807194151|733431471'}\n",
      "\t- result -- {'*': 'This result was truncated because it would otherwise be larger than the limit of 12,582,912 bytes.'}\n"
     ]
    },
    {
     "name": "stdout",
     "output_type": "stream",
     "text": [
      "['Donald Trump', 733291489, 733283599, 'Rhododendrites', 5661201, '2016-08-06T19:32:14Z', '/* Trump University */clean up, replaced: as of 2016 → {{as of|2016|lc=y}} using [[Project:AWB|AWB]]', 104745, 16234, 630, 51, 734, 19]\n",
      "['Donald Trump', 733155968, 733155731, 'LilHelpa', 8024439, '2016-08-05T19:40:48Z', '/* Ancestry */Typos and general fixes, replaced: were been  →  were using [[Project:AWB|AWB]]', 104752, 16236, 630, 51, 733, 19]\n"
     ]
    },
    {
     "name": "stderr",
     "output_type": "stream",
     "text": [
      "The following query raised warnings: {'action': 'query', 'titles': 'Donald Trump', 'prop': 'revisions', 'rvprop': 'ids|flags|timestamp|comment|user|userid|content', 'rvlimit': 'max', 'continue': '||', 'format': 'json', 'rvcontinue': '20160805174113|733142378'}\n",
      "\t- result -- {'*': 'This result was truncated because it would otherwise be larger than the limit of 12,582,912 bytes.'}\n",
      "The following query raised warnings: {'action': 'query', 'titles': 'Donald Trump', 'prop': 'revisions', 'rvprop': 'ids|flags|timestamp|comment|user|userid|content', 'rvlimit': 'max', 'continue': '||', 'format': 'json', 'rvcontinue': '20160804144139|732976308'}\n",
      "\t- result -- {'*': 'This result was truncated because it would otherwise be larger than the limit of 12,582,912 bytes.'}\n"
     ]
    },
    {
     "name": "stdout",
     "output_type": "stream",
     "text": [
      "['Donald Trump', 732933936, 732925450, 'Yobot', 7328338, '2016-08-04T06:59:36Z', 'Removed invisible unicode characters + other fixes, replaced: →   (2) using [[Project:AWB|AWB]] (12061)', 109271, 16921, 637, 53, 759, 20]\n"
     ]
    },
    {
     "name": "stderr",
     "output_type": "stream",
     "text": [
      "The following query raised warnings: {'action': 'query', 'titles': 'Donald Trump', 'prop': 'revisions', 'rvprop': 'ids|flags|timestamp|comment|user|userid|content', 'rvlimit': 'max', 'continue': '||', 'format': 'json', 'rvcontinue': '20160803151521|732835416'}\n",
      "\t- result -- {'*': 'This result was truncated because it would otherwise be larger than the limit of 12,582,912 bytes.'}\n",
      "The following query raised warnings: {'action': 'query', 'titles': 'Donald Trump', 'prop': 'revisions', 'rvprop': 'ids|flags|timestamp|comment|user|userid|content', 'rvlimit': 'max', 'continue': '||', 'format': 'json', 'rvcontinue': '20160801184348|732554071'}\n",
      "\t- result -- {'*': 'This result was truncated because it would otherwise be larger than the limit of 12,582,912 bytes.'}\n"
     ]
    },
    {
     "name": "stdout",
     "output_type": "stream",
     "text": [
      "['Donald Trump', 732486853, 732485311, 'Ihardlythinkso', 12931721, '2016-08-01T09:04:51Z', '/* Religious views */ px → upright=; ce caption', 108155, 16744, 620, 53, 750, 18]\n",
      "['Donald Trump', 732485311, 732484982, 'Ihardlythinkso', 12931721, '2016-08-01T08:49:23Z', '/* Childhood and education */ img → right', 108155, 16746, 620, 53, 750, 18]\n",
      "['Donald Trump', 732484078, 732481729, 'Ihardlythinkso', 12931721, '2016-08-01T08:39:06Z', '/* Religious views */ img → left', 108154, 16746, 620, 53, 750, 18]\n",
      "['Donald Trump', 732469433, 732459525, 'Yobot', 7328338, '2016-08-01T05:38:04Z', 'Removed invisible unicode characters + other fixes, replaced: →   (11) using [[Project:AWB|AWB]] (12061)', 108160, 16747, 620, 53, 750, 18]\n"
     ]
    },
    {
     "name": "stderr",
     "output_type": "stream",
     "text": [
      "The following query raised warnings: {'action': 'query', 'titles': 'Donald Trump', 'prop': 'revisions', 'rvprop': 'ids|flags|timestamp|comment|user|userid|content', 'rvlimit': 'max', 'continue': '||', 'format': 'json', 'rvcontinue': '20160730211838|732280001'}\n",
      "\t- result -- {'*': 'This result was truncated because it would otherwise be larger than the limit of 12,582,912 bytes.'}\n"
     ]
    },
    {
     "name": "stdout",
     "output_type": "stream",
     "text": [
      "['Donald Trump', 732280001, 732278465, 'Ɱ', 10000761, '2016-07-30T21:18:38Z', '/* Trump as plaintiff or defendant */ link to new club article', 110122, 17095, 622, 53, 759, 17]\n"
     ]
    },
    {
     "name": "stderr",
     "output_type": "stream",
     "text": [
      "The following query raised warnings: {'action': 'query', 'titles': 'Donald Trump', 'prop': 'revisions', 'rvprop': 'ids|flags|timestamp|comment|user|userid|content', 'rvlimit': 'max', 'continue': '||', 'format': 'json', 'rvcontinue': '20160728130127|731931463'}\n",
      "\t- result -- {'*': 'This result was truncated because it would otherwise be larger than the limit of 12,582,912 bytes.'}\n"
     ]
    },
    {
     "name": "stdout",
     "output_type": "stream",
     "text": [
      "['Donald Trump', 731770067, 731735980, 'Ihardlythinkso', 12931721, '2016-07-27T12:02:04Z', '/* top */ move up, and ce \"improvement\" → \"reform\" (because, Trump has been emphatic recently that veterans\\' care is a top issue with him, and besides improving care, includes ridding of waste, fraud, abuse)', 107815, 16692, 602, 52, 745, 17]\n"
     ]
    },
    {
     "name": "stderr",
     "output_type": "stream",
     "text": [
      "The following query raised warnings: {'action': 'query', 'titles': 'Donald Trump', 'prop': 'revisions', 'rvprop': 'ids|flags|timestamp|comment|user|userid|content', 'rvlimit': 'max', 'continue': '||', 'format': 'json', 'rvcontinue': '20160726143232|731624351'}\n",
      "\t- result -- {'*': 'This result was truncated because it would otherwise be larger than the limit of 12,582,912 bytes.'}\n"
     ]
    },
    {
     "name": "stdout",
     "output_type": "stream",
     "text": [
      "this was an anomolus edit\n",
      "{'revid': 731534435, 'parentid': 731523366, 'user': 'Jombagale', 'userid': 20933668, 'timestamp': '2016-07-25T23:50:16Z', 'commenthidden': '', 'texthidden': ''}\n"
     ]
    },
    {
     "name": "stderr",
     "output_type": "stream",
     "text": [
      "The following query raised warnings: {'action': 'query', 'titles': 'Donald Trump', 'prop': 'revisions', 'rvprop': 'ids|flags|timestamp|comment|user|userid|content', 'rvlimit': 'max', 'continue': '||', 'format': 'json', 'rvcontinue': '20160725062402|731414268'}\n",
      "\t- result -- {'*': 'This result was truncated because it would otherwise be larger than the limit of 12,582,912 bytes.'}\n",
      "The following query raised warnings: {'action': 'query', 'titles': 'Donald Trump', 'prop': 'revisions', 'rvprop': 'ids|flags|timestamp|comment|user|userid|content', 'rvlimit': 'max', 'continue': '||', 'format': 'json', 'rvcontinue': '20160724003950|731235118'}\n",
      "\t- result -- {'*': 'This result was truncated because it would otherwise be larger than the limit of 12,582,912 bytes.'}\n"
     ]
    },
    {
     "name": "stdout",
     "output_type": "stream",
     "text": [
      "['Donald Trump', 731140109, 731132671, 'John of Reading', 11308236, '2016-07-23T07:18:00Z', 'Typo fixing, replaced: been been → been using [[Project:AWB|AWB]]', 107245, 16562, 586, 51, 744, 15]\n",
      "['Donald Trump', 731132671, 731111107, 'Yobot', 7328338, '2016-07-23T05:56:14Z', 'Removed invisible unicode characters + other fixes, replaced: → using [[Project:AWB|AWB]] (12057)', 107250, 16563, 586, 51, 744, 15]\n"
     ]
    },
    {
     "name": "stderr",
     "output_type": "stream",
     "text": [
      "The following query raised warnings: {'action': 'query', 'titles': 'Donald Trump', 'prop': 'revisions', 'rvprop': 'ids|flags|timestamp|comment|user|userid|content', 'rvlimit': 'max', 'continue': '||', 'format': 'json', 'rvcontinue': '20160723013547|731110703'}\n",
      "\t- result -- {'*': 'This result was truncated because it would otherwise be larger than the limit of 12,582,912 bytes.'}\n"
     ]
    },
    {
     "name": "stdout",
     "output_type": "stream",
     "text": [
      "['Donald Trump', 731016543, 730993940, 'Froid', 1971344, '2016-07-22T10:59:42Z', 'Disambiguated: [[Trump Tower]] → [[Trump Tower (New York City)]]', 105849, 16344, 570, 51, 735, 16]\n"
     ]
    },
    {
     "name": "stderr",
     "output_type": "stream",
     "text": [
      "The following query raised warnings: {'action': 'query', 'titles': 'Donald Trump', 'prop': 'revisions', 'rvprop': 'ids|flags|timestamp|comment|user|userid|content', 'rvlimit': 'max', 'continue': '||', 'format': 'json', 'rvcontinue': '20160722012700|730969193'}\n",
      "\t- result -- {'*': 'This result was truncated because it would otherwise be larger than the limit of 12,582,912 bytes.'}\n",
      "The following query raised warnings: {'action': 'query', 'titles': 'Donald Trump', 'prop': 'revisions', 'rvprop': 'ids|flags|timestamp|comment|user|userid|content', 'rvlimit': 'max', 'continue': '||', 'format': 'json', 'rvcontinue': '20160719233857|730584148'}\n",
      "\t- result -- {'*': 'This result was truncated because it would otherwise be larger than the limit of 12,582,912 bytes.'}\n",
      "The following query raised warnings: {'action': 'query', 'titles': 'Donald Trump', 'prop': 'revisions', 'rvprop': 'ids|flags|timestamp|comment|user|userid|content', 'rvlimit': 'max', 'continue': '||', 'format': 'json', 'rvcontinue': '20160717064748|730171763'}\n",
      "\t- result -- {'*': 'This result was truncated because it would otherwise be larger than the limit of 12,582,912 bytes.'}\n",
      "The following query raised warnings: {'action': 'query', 'titles': 'Donald Trump', 'prop': 'revisions', 'rvprop': 'ids|flags|timestamp|comment|user|userid|content', 'rvlimit': 'max', 'continue': '||', 'format': 'json', 'rvcontinue': '20160714043519|729729995'}\n",
      "\t- result -- {'*': 'This result was truncated because it would otherwise be larger than the limit of 12,582,912 bytes.'}\n"
     ]
    },
    {
     "name": "stdout",
     "output_type": "stream",
     "text": [
      "['Donald Trump', 729451248, 729442405, 'Ihardlythinkso', 12931721, '2016-07-12T08:31:56Z', '/* top */ −.05 (.7 is the article long-standing sig size)', 106470, 16362, 568, 50, 715, 17]\n",
      "['Donald Trump', 729117003, 729115301, 'Ihardlythinkso', 12931721, '2016-07-10T00:50:11Z', '/* Involvement in politics, 1988–2015 */ 1987 img → top; CPAC img is 2011', 106872, 16425, 571, 50, 715, 17]\n",
      "['Donald Trump', 729115301, 729086698, 'Ihardlythinkso', 12931721, '2016-07-10T00:32:14Z', '/* top */ tiny → more reasonable sz', 106866, 16424, 571, 50, 715, 17]\n"
     ]
    },
    {
     "name": "stderr",
     "output_type": "stream",
     "text": [
      "The following query raised warnings: {'action': 'query', 'titles': 'Donald Trump', 'prop': 'revisions', 'rvprop': 'ids|flags|timestamp|comment|user|userid|content', 'rvlimit': 'max', 'continue': '||', 'format': 'json', 'rvcontinue': '20160706024919|728549549'}\n",
      "\t- result -- {'*': 'This result was truncated because it would otherwise be larger than the limit of 12,582,912 bytes.'}\n",
      "The following query raised warnings: {'action': 'query', 'titles': 'Donald Trump', 'prop': 'revisions', 'rvprop': 'ids|flags|timestamp|comment|user|userid|content', 'rvlimit': 'max', 'continue': '||', 'format': 'json', 'rvcontinue': '20160630211427|727723993'}\n",
      "\t- result -- {'*': 'This result was truncated because it would otherwise be larger than the limit of 12,582,912 bytes.'}\n"
     ]
    },
    {
     "name": "stdout",
     "output_type": "stream",
     "text": [
      "['Donald Trump', 727344793, 727206325, 'Iridescent', 937705, '2016-06-28T10:53:16Z', '[[WP:AWB/T|Typo fixing]], [[WP:AWB/T|typo(s) fixed]]: re-named → renamed, strenghten → strengthen, forty year → forty-year, highly- → highly using [[Project:AWB|AWB]]', 107506, 16514, 571, 52, 716, 17]\n"
     ]
    },
    {
     "name": "stderr",
     "output_type": "stream",
     "text": [
      "The following query raised warnings: {'action': 'query', 'titles': 'Donald Trump', 'prop': 'revisions', 'rvprop': 'ids|flags|timestamp|comment|user|userid|content', 'rvlimit': 'max', 'continue': '||', 'format': 'json', 'rvcontinue': '20160626210339|727122870'}\n",
      "\t- result -- {'*': 'This result was truncated because it would otherwise be larger than the limit of 12,582,912 bytes.'}\n",
      "The following query raised warnings: {'action': 'query', 'titles': 'Donald Trump', 'prop': 'revisions', 'rvprop': 'ids|flags|timestamp|comment|user|userid|content', 'rvlimit': 'max', 'continue': '||', 'format': 'json', 'rvcontinue': '20160624005304|726732358'}\n",
      "\t- result -- {'*': 'This result was truncated because it would otherwise be larger than the limit of 12,582,912 bytes.'}\n",
      "The following query raised warnings: {'action': 'query', 'titles': 'Donald Trump', 'prop': 'revisions', 'rvprop': 'ids|flags|timestamp|comment|user|userid|content', 'rvlimit': 'max', 'continue': '||', 'format': 'json', 'rvcontinue': '20160620201039|726219018'}\n",
      "\t- result -- {'*': 'This result was truncated because it would otherwise be larger than the limit of 12,582,912 bytes.'}\n",
      "The following query raised warnings: {'action': 'query', 'titles': 'Donald Trump', 'prop': 'revisions', 'rvprop': 'ids|flags|timestamp|comment|user|userid|content', 'rvlimit': 'max', 'continue': '||', 'format': 'json', 'rvcontinue': '20160617053902|725679279'}\n",
      "\t- result -- {'*': 'This result was truncated because it would otherwise be larger than the limit of 12,582,912 bytes.'}\n",
      "The following query raised warnings: {'action': 'query', 'titles': 'Donald Trump', 'prop': 'revisions', 'rvprop': 'ids|flags|timestamp|comment|user|userid|content', 'rvlimit': 'max', 'continue': '||', 'format': 'json', 'rvcontinue': '20160616082407|725537561'}\n",
      "\t- result -- {'*': 'This result was truncated because it would otherwise be larger than the limit of 12,582,912 bytes.'}\n",
      "The following query raised warnings: {'action': 'query', 'titles': 'Donald Trump', 'prop': 'revisions', 'rvprop': 'ids|flags|timestamp|comment|user|userid|content', 'rvlimit': 'max', 'continue': '||', 'format': 'json', 'rvcontinue': '20160615000749|725324579'}\n",
      "\t- result -- {'*': 'This result was truncated because it would otherwise be larger than the limit of 12,582,912 bytes.'}\n",
      "The following query raised warnings: {'action': 'query', 'titles': 'Donald Trump', 'prop': 'revisions', 'rvprop': 'ids|flags|timestamp|comment|user|userid|content', 'rvlimit': 'max', 'continue': '||', 'format': 'json', 'rvcontinue': '20160611165822|724808265'}\n",
      "\t- result -- {'*': 'This result was truncated because it would otherwise be larger than the limit of 12,582,912 bytes.'}\n",
      "The following query raised warnings: {'action': 'query', 'titles': 'Donald Trump', 'prop': 'revisions', 'rvprop': 'ids|flags|timestamp|comment|user|userid|content', 'rvlimit': 'max', 'continue': '||', 'format': 'json', 'rvcontinue': '20160609181214|724506820'}\n",
      "\t- result -- {'*': 'This result was truncated because it would otherwise be larger than the limit of 12,582,912 bytes.'}\n",
      "The following query raised warnings: {'action': 'query', 'titles': 'Donald Trump', 'prop': 'revisions', 'rvprop': 'ids|flags|timestamp|comment|user|userid|content', 'rvlimit': 'max', 'continue': '||', 'format': 'json', 'rvcontinue': '20160607091656|724128210'}\n",
      "\t- result -- {'*': 'This result was truncated because it would otherwise be larger than the limit of 12,582,912 bytes.'}\n",
      "The following query raised warnings: {'action': 'query', 'titles': 'Donald Trump', 'prop': 'revisions', 'rvprop': 'ids|flags|timestamp|comment|user|userid|content', 'rvlimit': 'max', 'continue': '||', 'format': 'json', 'rvcontinue': '20160606050546|723938314'}\n",
      "\t- result -- {'*': 'This result was truncated because it would otherwise be larger than the limit of 12,582,912 bytes.'}\n",
      "The following query raised warnings: {'action': 'query', 'titles': 'Donald Trump', 'prop': 'revisions', 'rvprop': 'ids|flags|timestamp|comment|user|userid|content', 'rvlimit': 'max', 'continue': '||', 'format': 'json', 'rvcontinue': '20160604152106|723684736'}\n",
      "\t- result -- {'*': 'This result was truncated because it would otherwise be larger than the limit of 12,582,912 bytes.'}\n"
     ]
    },
    {
     "name": "stdout",
     "output_type": "stream",
     "text": [
      "['Donald Trump', 723665426, 723659421, \"R'n'B\", 2300502, '2016-06-04T12:08:48Z', 'Disambiguated: [[German]] → [[Germans]]', 101997, 15601, 561, 45, 717, 15]\n"
     ]
    },
    {
     "name": "stderr",
     "output_type": "stream",
     "text": [
      "The following query raised warnings: {'action': 'query', 'titles': 'Donald Trump', 'prop': 'revisions', 'rvprop': 'ids|flags|timestamp|comment|user|userid|content', 'rvlimit': 'max', 'continue': '||', 'format': 'json', 'rvcontinue': '20160603064602|723471298'}\n",
      "\t- result -- {'*': 'This result was truncated because it would otherwise be larger than the limit of 12,582,912 bytes.'}\n"
     ]
    },
    {
     "name": "stdout",
     "output_type": "stream",
     "text": [
      "this was an anomolus edit\n",
      "{'revid': 722838343, 'parentid': 722838166, 'user': 'Ye eunuch', 'userid': 25651915, 'timestamp': '2016-05-30T12:18:21Z', 'commenthidden': '', 'texthidden': ''}\n"
     ]
    },
    {
     "name": "stderr",
     "output_type": "stream",
     "text": [
      "The following query raised warnings: {'action': 'query', 'titles': 'Donald Trump', 'prop': 'revisions', 'rvprop': 'ids|flags|timestamp|comment|user|userid|content', 'rvlimit': 'max', 'continue': '||', 'format': 'json', 'rvcontinue': '20160530084114|722817380'}\n",
      "\t- result -- {'*': 'This result was truncated because it would otherwise be larger than the limit of 12,582,912 bytes.'}\n"
     ]
    },
    {
     "name": "stdout",
     "output_type": "stream",
     "text": [
      "['Donald Trump', 722724135, 722695265, 'HenryMP02', 25762026, '2016-05-29T20:18:24Z', 'changed IPA back to ə, as per previous consensus on the matter', 96261, 14773, 561, 43, 663, 15]\n"
     ]
    },
    {
     "name": "stderr",
     "output_type": "stream",
     "text": [
      "The following query raised warnings: {'action': 'query', 'titles': 'Donald Trump', 'prop': 'revisions', 'rvprop': 'ids|flags|timestamp|comment|user|userid|content', 'rvlimit': 'max', 'continue': '||', 'format': 'json', 'rvcontinue': '20160529153239|722680706'}\n",
      "\t- result -- {'*': 'This result was truncated because it would otherwise be larger than the limit of 12,582,912 bytes.'}\n",
      "The following query raised warnings: {'action': 'query', 'titles': 'Donald Trump', 'prop': 'revisions', 'rvprop': 'ids|flags|timestamp|comment|user|userid|content', 'rvlimit': 'max', 'continue': '||', 'format': 'json', 'rvcontinue': '20160528013628|722425698'}\n",
      "\t- result -- {'*': 'This result was truncated because it would otherwise be larger than the limit of 12,582,912 bytes.'}\n",
      "The following query raised warnings: {'action': 'query', 'titles': 'Donald Trump', 'prop': 'revisions', 'rvprop': 'ids|flags|timestamp|comment|user|userid|content', 'rvlimit': 'max', 'continue': '||', 'format': 'json', 'rvcontinue': '20160527191240|722384061'}\n",
      "\t- result -- {'*': 'This result was truncated because it would otherwise be larger than the limit of 12,582,912 bytes.'}\n",
      "The following query raised warnings: {'action': 'query', 'titles': 'Donald Trump', 'prop': 'revisions', 'rvprop': 'ids|flags|timestamp|comment|user|userid|content', 'rvlimit': 'max', 'continue': '||', 'format': 'json', 'rvcontinue': '20160526044413|722128613'}\n",
      "\t- result -- {'*': 'This result was truncated because it would otherwise be larger than the limit of 12,582,912 bytes.'}\n",
      "The following query raised warnings: {'action': 'query', 'titles': 'Donald Trump', 'prop': 'revisions', 'rvprop': 'ids|flags|timestamp|comment|user|userid|content', 'rvlimit': 'max', 'continue': '||', 'format': 'json', 'rvcontinue': '20160525214714|722083227'}\n",
      "\t- result -- {'*': 'This result was truncated because it would otherwise be larger than the limit of 12,582,912 bytes.'}\n"
     ]
    },
    {
     "name": "stdout",
     "output_type": "stream",
     "text": [
      "['Donald Trump', 721656244, 721641920, 'Yobot', 7328338, '2016-05-23T07:54:18Z', 'Removed invisible unicode characters + other fixes, replaced: → using [[Project:AWB|AWB]] (12016)', 111719, 17161, 605, 51, 690, 13]\n"
     ]
    },
    {
     "name": "stderr",
     "output_type": "stream",
     "text": [
      "The following query raised warnings: {'action': 'query', 'titles': 'Donald Trump', 'prop': 'revisions', 'rvprop': 'ids|flags|timestamp|comment|user|userid|content', 'rvlimit': 'max', 'continue': '||', 'format': 'json', 'rvcontinue': '20160523010636|721616566'}\n",
      "\t- result -- {'*': 'This result was truncated because it would otherwise be larger than the limit of 12,582,912 bytes.'}\n",
      "The following query raised warnings: {'action': 'query', 'titles': 'Donald Trump', 'prop': 'revisions', 'rvprop': 'ids|flags|timestamp|comment|user|userid|content', 'rvlimit': 'max', 'continue': '||', 'format': 'json', 'rvcontinue': '20160520175500|721267036'}\n",
      "\t- result -- {'*': 'This result was truncated because it would otherwise be larger than the limit of 12,582,912 bytes.'}\n"
     ]
    },
    {
     "name": "stdout",
     "output_type": "stream",
     "text": [
      "['Donald Trump', 720923457, 720901689, 'Magtf1', 27869262, '2016-05-18T19:41:28Z', '[[WP:AES|←]]Blanked the page', 0, 0, 0, 0, 0, 0]\n"
     ]
    },
    {
     "name": "stderr",
     "output_type": "stream",
     "text": [
      "The following query raised warnings: {'action': 'query', 'titles': 'Donald Trump', 'prop': 'revisions', 'rvprop': 'ids|flags|timestamp|comment|user|userid|content', 'rvlimit': 'max', 'continue': '||', 'format': 'json', 'rvcontinue': '20160518170325|720901689'}\n",
      "\t- result -- {'*': 'This result was truncated because it would otherwise be larger than the limit of 12,582,912 bytes.'}\n"
     ]
    },
    {
     "name": "stdout",
     "output_type": "stream",
     "text": [
      "['Donald Trump', 720638010, 720637360, 'HenryMP02', 25762026, '2016-05-17T02:20:33Z', 'altered IPA, the ə is more proper (for the definition of trump in dictionaries, the IPA uses a ə instead of the ʌ)', 110816, 17037, 601, 49, 685, 13]\n"
     ]
    },
    {
     "name": "stderr",
     "output_type": "stream",
     "text": [
      "The following query raised warnings: {'action': 'query', 'titles': 'Donald Trump', 'prop': 'revisions', 'rvprop': 'ids|flags|timestamp|comment|user|userid|content', 'rvlimit': 'max', 'continue': '||', 'format': 'json', 'rvcontinue': '20160516155736|720552163'}\n",
      "\t- result -- {'*': 'This result was truncated because it would otherwise be larger than the limit of 12,582,912 bytes.'}\n",
      "The following query raised warnings: {'action': 'query', 'titles': 'Donald Trump', 'prop': 'revisions', 'rvprop': 'ids|flags|timestamp|comment|user|userid|content', 'rvlimit': 'max', 'continue': '||', 'format': 'json', 'rvcontinue': '20160514214258|720281900'}\n",
      "\t- result -- {'*': 'This result was truncated because it would otherwise be larger than the limit of 12,582,912 bytes.'}\n",
      "The following query raised warnings: {'action': 'query', 'titles': 'Donald Trump', 'prop': 'revisions', 'rvprop': 'ids|flags|timestamp|comment|user|userid|content', 'rvlimit': 'max', 'continue': '||', 'format': 'json', 'rvcontinue': '20160513031858|720000059'}\n",
      "\t- result -- {'*': 'This result was truncated because it would otherwise be larger than the limit of 12,582,912 bytes.'}\n",
      "The following query raised warnings: {'action': 'query', 'titles': 'Donald Trump', 'prop': 'revisions', 'rvprop': 'ids|flags|timestamp|comment|user|userid|content', 'rvlimit': 'max', 'continue': '||', 'format': 'json', 'rvcontinue': '20160512010547|719826460'}\n",
      "\t- result -- {'*': 'This result was truncated because it would otherwise be larger than the limit of 12,582,912 bytes.'}\n"
     ]
    },
    {
     "name": "stdout",
     "output_type": "stream",
     "text": [
      "['Donald Trump', 719796405, 719795600, 'Celosiakitty', 22412276, '2016-05-11T20:47:06Z', \"[[WP:AES|←]]Replaced content with '{{other uses|Donald Trump (disambiguation)}}'\", 0, 0, 0, 0, 0, 0]\n"
     ]
    },
    {
     "name": "stderr",
     "output_type": "stream",
     "text": [
      "The following query raised warnings: {'action': 'query', 'titles': 'Donald Trump', 'prop': 'revisions', 'rvprop': 'ids|flags|timestamp|comment|user|userid|content', 'rvlimit': 'max', 'continue': '||', 'format': 'json', 'rvcontinue': '20160510123122|719560435'}\n",
      "\t- result -- {'*': 'This result was truncated because it would otherwise be larger than the limit of 12,582,912 bytes.'}\n",
      "The following query raised warnings: {'action': 'query', 'titles': 'Donald Trump', 'prop': 'revisions', 'rvprop': 'ids|flags|timestamp|comment|user|userid|content', 'rvlimit': 'max', 'continue': '||', 'format': 'json', 'rvcontinue': '20160509134717|719404712'}\n",
      "\t- result -- {'*': 'This result was truncated because it would otherwise be larger than the limit of 12,582,912 bytes.'}\n"
     ]
    },
    {
     "name": "stdout",
     "output_type": "stream",
     "text": [
      "['Donald Trump', 719297343, 719295598, 'The free ad database', 27321337, '2016-05-08T20:43:50Z', '[[WP:AES|←]]Redirected page to [[God emperor]]', 20, 3, 0, 0, 1, 0]\n"
     ]
    },
    {
     "name": "stderr",
     "output_type": "stream",
     "text": [
      "The following query raised warnings: {'action': 'query', 'titles': 'Donald Trump', 'prop': 'revisions', 'rvprop': 'ids|flags|timestamp|comment|user|userid|content', 'rvlimit': 'max', 'continue': '||', 'format': 'json', 'rvcontinue': '20160508031936|719178409'}\n",
      "\t- result -- {'*': 'This result was truncated because it would otherwise be larger than the limit of 12,582,912 bytes.'}\n",
      "The following query raised warnings: {'action': 'query', 'titles': 'Donald Trump', 'prop': 'revisions', 'rvprop': 'ids|flags|timestamp|comment|user|userid|content', 'rvlimit': 'max', 'continue': '||', 'format': 'json', 'rvcontinue': '20160506223114|718995164'}\n",
      "\t- result -- {'*': 'This result was truncated because it would otherwise be larger than the limit of 12,582,912 bytes.'}\n"
     ]
    },
    {
     "name": "stdout",
     "output_type": "stream",
     "text": [
      "['Donald Trump', 718779185, 718754188, 'Ɱ', 10000761, '2016-05-05T15:38:45Z', 'No notable comments here; just another of his many courses. The Trump Organization page has the full list.', 107744, 16600, 593, 47, 663, 11]\n"
     ]
    },
    {
     "name": "stderr",
     "output_type": "stream",
     "text": [
      "The following query raised warnings: {'action': 'query', 'titles': 'Donald Trump', 'prop': 'revisions', 'rvprop': 'ids|flags|timestamp|comment|user|userid|content', 'rvlimit': 'max', 'continue': '||', 'format': 'json', 'rvcontinue': '20160505035913|718707485'}\n",
      "\t- result -- {'*': 'This result was truncated because it would otherwise be larger than the limit of 12,582,912 bytes.'}\n"
     ]
    },
    {
     "name": "stdout",
     "output_type": "stream",
     "text": [
      "['Donald Trump', 718559677, 718558895, 'Rishal21', 14336030, '2016-05-04T07:00:51Z', \"[[WP:AES|←]]Replaced content with 'Do you want a Taco?'\", 19, 5, 0, 0, 0, 0]\n"
     ]
    },
    {
     "name": "stderr",
     "output_type": "stream",
     "text": [
      "The following query raised warnings: {'action': 'query', 'titles': 'Donald Trump', 'prop': 'revisions', 'rvprop': 'ids|flags|timestamp|comment|user|userid|content', 'rvlimit': 'max', 'continue': '||', 'format': 'json', 'rvcontinue': '20160504035708|718542820'}\n",
      "\t- result -- {'*': 'This result was truncated because it would otherwise be larger than the limit of 12,582,912 bytes.'}\n",
      "The following query raised warnings: {'action': 'query', 'titles': 'Donald Trump', 'prop': 'revisions', 'rvprop': 'ids|flags|timestamp|comment|user|userid|content', 'rvlimit': 'max', 'continue': '||', 'format': 'json', 'rvcontinue': '20160427230137|717475342'}\n",
      "\t- result -- {'*': 'This result was truncated because it would otherwise be larger than the limit of 12,582,912 bytes.'}\n",
      "The following query raised warnings: {'action': 'query', 'titles': 'Donald Trump', 'prop': 'revisions', 'rvprop': 'ids|flags|timestamp|comment|user|userid|content', 'rvlimit': 'max', 'continue': '||', 'format': 'json', 'rvcontinue': '20160421093831|716369320'}\n",
      "\t- result -- {'*': 'This result was truncated because it would otherwise be larger than the limit of 12,582,912 bytes.'}\n"
     ]
    },
    {
     "name": "stdout",
     "output_type": "stream",
     "text": [
      "['Donald Trump', 714602034, 714583765, 'GopherPA', 25439894, '2016-04-10T19:25:46Z', '[[WP:AES|←]]Redirected page to [[Ronald McDonald]]', 108152, 16661, 600, 47, 666, 14]\n",
      "['Donald Trump', 714486462, 714473277, 'GoingBatty', 11555324, '2016-04-10T01:49:58Z', 'Disambiguated: [[Trump International Hotel and Tower]] → [[Trump International Hotel and Tower (Chicago)]]', 109766, 16903, 607, 47, 680, 14]\n",
      "['Donald Trump', 714039769, 714038071, 'Ihardlythinkso', 12931721, '2016-04-07T07:59:46Z', '/* top */ ce (para Trumps 4 → 3)', 109803, 16910, 607, 47, 680, 14]\n"
     ]
    },
    {
     "name": "stderr",
     "output_type": "stream",
     "text": [
      "The following query raised warnings: {'action': 'query', 'titles': 'Donald Trump', 'prop': 'revisions', 'rvprop': 'ids|flags|timestamp|comment|user|userid|content', 'rvlimit': 'max', 'continue': '||', 'format': 'json', 'rvcontinue': '20160407074339|714038071'}\n",
      "\t- result -- {'*': 'This result was truncated because it would otherwise be larger than the limit of 12,582,912 bytes.'}\n"
     ]
    },
    {
     "name": "stdout",
     "output_type": "stream",
     "text": [
      "['Donald Trump', 714038071, 713922618, 'Ihardlythinkso', 12931721, '2016-04-07T07:43:39Z', '/* top */ ce (para Trumps 4 → 2)', 109806, 16910, 607, 47, 680, 14]\n"
     ]
    },
    {
     "name": "stderr",
     "output_type": "stream",
     "text": [
      "The following query raised warnings: {'action': 'query', 'titles': 'Donald Trump', 'prop': 'revisions', 'rvprop': 'ids|flags|timestamp|comment|user|userid|content', 'rvlimit': 'max', 'continue': '||', 'format': 'json', 'rvcontinue': '20160331151346|712866379'}\n",
      "\t- result -- {'*': 'This result was truncated because it would otherwise be larger than the limit of 12,582,912 bytes.'}\n"
     ]
    },
    {
     "name": "stdout",
     "output_type": "stream",
     "text": [
      "['Donald Trump', 712798415, 712796549, 'Yobot', 7328338, '2016-03-31T05:23:02Z', 'Removed invisible unicode characters + other fixes, replaced: →   (2) using [[Project:AWB|AWB]] (11984)', 110925, 17058, 608, 45, 684, 14]\n"
     ]
    },
    {
     "name": "stderr",
     "output_type": "stream",
     "text": [
      "The following query raised warnings: {'action': 'query', 'titles': 'Donald Trump', 'prop': 'revisions', 'rvprop': 'ids|flags|timestamp|comment|user|userid|content', 'rvlimit': 'max', 'continue': '||', 'format': 'json', 'rvcontinue': '20160329092111|712475958'}\n",
      "\t- result -- {'*': 'This result was truncated because it would otherwise be larger than the limit of 12,582,912 bytes.'}\n",
      "The following query raised warnings: {'action': 'query', 'titles': 'Donald Trump', 'prop': 'revisions', 'rvprop': 'ids|flags|timestamp|comment|user|userid|content', 'rvlimit': 'max', 'continue': '||', 'format': 'json', 'rvcontinue': '20160324211655|711781787'}\n",
      "\t- result -- {'*': 'This result was truncated because it would otherwise be larger than the limit of 12,582,912 bytes.'}\n",
      "The following query raised warnings: {'action': 'query', 'titles': 'Donald Trump', 'prop': 'revisions', 'rvprop': 'ids|flags|timestamp|comment|user|userid|content', 'rvlimit': 'max', 'continue': '||', 'format': 'json', 'rvcontinue': '20160322005724|711294422'}\n",
      "\t- result -- {'*': 'This result was truncated because it would otherwise be larger than the limit of 12,582,912 bytes.'}\n"
     ]
    },
    {
     "name": "stdout",
     "output_type": "stream",
     "text": [
      "['Donald Trump', 711260836, 711237362, 'Ihardlythinkso', 12931721, '2016-03-21T20:49:08Z', '/* top */ ce (2 words → 1)', 110060, 16917, 591, 44, 666, 15]\n"
     ]
    },
    {
     "name": "stderr",
     "output_type": "stream",
     "text": [
      "The following query raised warnings: {'action': 'query', 'titles': 'Donald Trump', 'prop': 'revisions', 'rvprop': 'ids|flags|timestamp|comment|user|userid|content', 'rvlimit': 'max', 'continue': '||', 'format': 'json', 'rvcontinue': '20160320011422|710948050'}\n",
      "\t- result -- {'*': 'This result was truncated because it would otherwise be larger than the limit of 12,582,912 bytes.'}\n",
      "The following query raised warnings: {'action': 'query', 'titles': 'Donald Trump', 'prop': 'revisions', 'rvprop': 'ids|flags|timestamp|comment|user|userid|content', 'rvlimit': 'max', 'continue': '||', 'format': 'json', 'rvcontinue': '20160318072219|710658530'}\n",
      "\t- result -- {'*': 'This result was truncated because it would otherwise be larger than the limit of 12,582,912 bytes.'}\n",
      "The following query raised warnings: {'action': 'query', 'titles': 'Donald Trump', 'prop': 'revisions', 'rvprop': 'ids|flags|timestamp|comment|user|userid|content', 'rvlimit': 'max', 'continue': '||', 'format': 'json', 'rvcontinue': '20160316162306|710376455'}\n",
      "\t- result -- {'*': 'This result was truncated because it would otherwise be larger than the limit of 12,582,912 bytes.'}\n",
      "The following query raised warnings: {'action': 'query', 'titles': 'Donald Trump', 'prop': 'revisions', 'rvprop': 'ids|flags|timestamp|comment|user|userid|content', 'rvlimit': 'max', 'continue': '||', 'format': 'json', 'rvcontinue': '20160315161959|710208399'}\n",
      "\t- result -- {'*': 'This result was truncated because it would otherwise be larger than the limit of 12,582,912 bytes.'}\n",
      "The following query raised warnings: {'action': 'query', 'titles': 'Donald Trump', 'prop': 'revisions', 'rvprop': 'ids|flags|timestamp|comment|user|userid|content', 'rvlimit': 'max', 'continue': '||', 'format': 'json', 'rvcontinue': '20160314175934|710053056'}\n",
      "\t- result -- {'*': 'This result was truncated because it would otherwise be larger than the limit of 12,582,912 bytes.'}\n"
     ]
    },
    {
     "name": "stdout",
     "output_type": "stream",
     "text": [
      "['Donald Trump', 709697443, 709680370, 'MWright96', 17107849, '2016-03-12T14:19:17Z', 'clean up, [[WP:AWB/T|typo(s) fixed]]: $362 million dollars → $362 million using [[Project:AWB|AWB]]', 97727, 14978, 520, 63, 623, 15]\n",
      "['Donald Trump', 709282637, 709253443, 'JonasGray35', 23510994, '2016-03-10T02:39:06Z', \"[[WP:AES|←]]Replaced content with 'donald trump is life. make america great again'\", 46, 8, 0, 0, 0, 0]\n",
      "['Donald Trump', 709072684, 709061851, '15zulu', 25993230, '2016-03-09T00:39:14Z', 'Disambiguated: [[Chinese]] → [[Chinese people]]', 94845, 14599, 497, 39, 640, 15]\n",
      "['Donald Trump', 708351755, 708351598, 'Yamaguchi先生', 503067, '2016-03-05T02:50:59Z', 'Reverted edits by [[Special:Contribs/Fanatical Submarine|Fanatical Submarine]] ([[User talk:Fanatical Submarine|talk]]) to last version by LordStarscream100', 90692, 13978, 479, 37, 605, 15]\n",
      "['Donald Trump', 707979834, 707973352, 'LittleWink', 9748448, '2016-03-02T22:18:16Z', 'Disambiguated: [[Georgia]] → [[Georgia (U.S. state)]], [[frontrunner]] → [[Front-runner]]', 90490, 13947, 483, 36, 601, 17]\n",
      "['Donald Trump', 706933717, 706912446, 'Inks.LWC', 1759632, '2016-02-26T02:51:43Z', 'clean up, [[WP:AWB/T|typo(s) fixed]]: $5 billion dollars → $5 billion using [[Project:AWB|AWB]]', 87734, 13483, 455, 38, 580, 16]\n",
      "['Donald Trump', 706709571, 706709544, 'Yamaguchi先生', 503067, '2016-02-24T21:16:02Z', 'Reverted edits by [[Special:Contribs/Terald13|Terald13]] ([[User talk:Terald13|talk]]) to last version by DVdm', 85667, 13159, 444, 38, 573, 15]\n",
      "['Donald Trump', 706192267, 706191554, 'Ihardlythinkso', 12931721, '2016-02-22T00:40:27Z', '/* top */ replace odd punc heading a list, ; → :', 86506, 13283, 441, 40, 570, 18]\n",
      "['Donald Trump', 705347221, 705346509, 'Ihardlythinkso', 12931721, '2016-02-16T23:23:28Z', '/* top */ ce (2 words → 1)', 83075, 12750, 423, 39, 553, 15]\n",
      "['Donald Trump', 705328681, 705328267, 'Iridescent', 937705, '2016-02-16T21:23:10Z', \"/* Portrayal of Trump in popular media */[[WP:AWB/T|Typo fixing]], [[WP:AWB/T|typo(s) fixed]]: childrens'  → children's using [[Project:AWB|AWB]]\", 83139, 12759, 423, 39, 554, 15]\n",
      "['Donald Trump', 705241617, 705241136, 'Ihardlythinkso', 12931721, '2016-02-16T09:42:09Z', '/* top */ ce, reduce sentence commas 8 → 6', 82249, 12622, 423, 36, 555, 15]\n",
      "['Donald Trump', 703696664, 703696069, 'Dr.K.', 894320, '2016-02-07T02:10:41Z', 'Reverted [[WP:AGF|good faith]] edits by [[Special:Contributions/Caviar Cohort|Caviar Cohort]]: No Easter egg hunts please. If you want to rename the article please ask at [[WP:RM]]. ([[WP:TW|TW]][[WP:QUALITYCONTROL|★]][[WP:TW|TW]])', 81026, 12418, 400, 36, 535, 14]\n",
      "['Donald Trump', 703174497, 703168704, 'Dark Cocoa Frosting', 25553373, '2016-02-03T23:21:49Z', 'Disambiguated: [[tabloid]] → [[tabloid journalism]]', 80959, 12404, 397, 36, 537, 14]\n",
      "['Donald Trump', 702968658, 702968574, 'Epicgenius', 17859592, '2016-02-02T18:27:36Z', 'Section heading change: Running for president in previous elections → Presidential leanings, 1988–2012 using a [[User:The Evil IP address/hdedit|script]]', 81066, 12425, 398, 36, 522, 14]\n",
      "['Donald Trump', 702802258, 702779325, 'Kcmartenslol', 19249972, '2016-02-01T19:25:28Z', '[[WP:AES|←]]Redirected page to [[Satan]]', 87250, 13407, 438, 36, 544, 14]\n",
      "['Donald Trump', 702464653, 702460561, 'Ihardlythinkso', 12931721, '2016-01-30T19:13:51Z', '/* top */ ce (4 words → 2)', 87250, 13405, 438, 36, 540, 13]\n",
      "['Donald Trump', 701499125, 701489496, 'Iridescent', 937705, '2016-01-24T23:25:39Z', '/* Proposed ban on Muslims entering the U.S. */[[WP:AWB/T|Typo fixing]], [[WP:AWB/T|typo(s) fixed]]: a ABC → an ABC using [[Project:AWB|AWB]]', 86212, 13236, 435, 36, 538, 13]\n",
      "['Donald Trump', 700180436, 700173923, 'StanMan87', 23034190, '2016-01-16T22:39:00Z', '→\\u200eBusiness career: WP:UNDUE', 80410, 12322, 369, 34, 513, 12]\n",
      "['Donald Trump', 699227162, 699169381, 'Ihardlythinkso', 12931721, '2016-01-11T01:40:43Z', '/* Allegations of business with firms linked to organized crime */ S & A → S&A', 79963, 12244, 368, 34, 512, 11]\n",
      "['Donald Trump', 698955787, 698955285, 'Checkingfax', 11995480, '2016-01-09T08:42:05Z', 'Fix typo, [[WP:AWB/T|typo(s) fixed]]: the the → the using [[Project:AWB|AWB]]', 79918, 12225, 364, 34, 517, 11]\n",
      "['Donald Trump', 698810823, 698810382, 'Ihardlythinkso', 12931721, '2016-01-08T11:09:35Z', '/* top */ → list; shorten', 80019, 12237, 366, 34, 516, 10]\n",
      "['Donald Trump', 698291545, 698291375, 'Simonkluger', 23986065, '2016-01-05T05:24:06Z', \"[[WP:AES|←]]Replaced content with 'yall r chents'\", 13, 3, 0, 0, 0, 0]\n",
      "['Donald Trump', 698291314, 698285751, 'Simonkluger', 23986065, '2016-01-05T05:22:20Z', \"[[WP:AES|←]]Replaced content with 'Mexican's r chents'\", 18, 4, 0, 0, 0, 0]\n",
      "['Donald Trump', 698130508, 698110561, 'Melonkelon', 18173407, '2016-01-04T04:56:37Z', 'clean up, replaced: ‘ → \\' (4), ’ → \\' (23), ” → \" using [[Project:AWB|AWB]]', 74432, 11388, 337, 32, 481, 9]\n",
      "this was an anomolus edit\n",
      "{'revid': 695381794, 'parentid': 695351060, 'user': 'A2002rc', 'userid': 16838987, 'timestamp': '2015-12-15T17:49:24Z', 'commenthidden': '', 'texthidden': ''}\n",
      "['Donald Trump', 691647208, 691646500, 'Ihardlythinkso', 12931721, '2015-11-21T07:14:30Z', '/* Presidential campaign, 2016 */ incongruous here, belongs at [[Donald Trump presidential campaign, 2016\\u200e]]', 62932, 9596, 284, 27, 416, 10]\n",
      "['Donald Trump', 689746279, 689745199, 'Dr.K.', 894320, '2015-11-09T04:01:33Z', 'Reverted 1 edit by [[Special:Contributions/What was this guy eating?|What was this guy eating?]] ([[User talk:What was this guy eating?|talk]]). ([[WP:TW|TW]][[WP:QUALITYCONTROL|★]][[WP:TW|TW]])', 62728, 9565, 284, 27, 415, 9]\n",
      "['Donald Trump', 688539548, 688538597, 'Ihardlythinkso', 12931721, '2015-11-01T16:06:54Z', '/* Entertainment media */ NDASH → hyphen', 62912, 9625, 285, 27, 410, 8]\n",
      "['Donald Trump', 679078982, 679070613, 'Politrukki', 24723863, '2015-09-02T09:44:07Z', '\"Germans\" (ethnic group) → \"Germany\"', 60510, 9218, 287, 27, 406, 7]\n",
      "['Donald Trump', 679016455, 679015463, 'Ihardlythinkso', 12931721, '2015-09-02T00:24:21Z', 'ce, \"illegal\" → \"undocumented\"', 60787, 9261, 290, 27, 406, 7]\n",
      "['Donald Trump', 678974688, 678974152, 'Ihardlythinkso', 12931721, '2015-09-01T19:17:13Z', '/* Personal life */ mv image → relevant text', 60640, 9246, 287, 27, 407, 7]\n",
      "['Donald Trump', 678394099, 678383320, 'Batzorigj', 21552535, '2015-08-29T03:28:51Z', \"[[WP:AES|←]]Replaced content with 'CHINA'\", 5, 1, 0, 0, 0, 0]\n",
      "['Donald Trump', 678342285, 678316712, 'Dewritech', 11498870, '2015-08-28T19:58:48Z', 'clean up, [[WP:AWB/T|typo(s) fixed]]: $300 million dollars → $300 million using [[Project:AWB|AWB]]', 55458, 8474, 258, 24, 380, 7]\n",
      "['Donald Trump', 676663856, 676663017, 'Ihardlythinkso', 12931721, '2015-08-18T11:44:23Z', '/* Presidential campaign, 2016 */ CBS news → CBS News', 49181, 7492, 207, 23, 348, 8]\n",
      "['Donald Trump', 676645058, 676643811, 'Ihardlythinkso', 12931721, '2015-08-18T08:52:43Z', '/* top */ ce (5 commas → 3)', 49198, 7495, 207, 23, 348, 8]\n",
      "['Donald Trump', 676643811, 676642961, 'Ihardlythinkso', 12931721, '2015-08-18T08:39:24Z', \"US → U.S. (article consistency, using what's in lead)\", 49200, 7495, 207, 23, 348, 8]\n",
      "['Donald Trump', 676341985, 676339435, 'Ihardlythinkso', 12931721, '2015-08-16T10:21:15Z', '/* Personal life */ px → upright=', 48097, 7312, 202, 23, 341, 8]\n",
      "['Donald Trump', 676319922, 676319914, 'BG19bot', 14508071, '2015-08-16T06:12:22Z', '/* Net worth */[[WP:CHECKWIKI]] error fix for #93.  External link with double http:// Do [[Wikipedia:GENFIXES|general fixes]] if a problem exists. -, replaced: http://http:// → http:// using [[Project:AWB|AWB]] (11377)', 48066, 7309, 202, 23, 341, 9]\n",
      "['Donald Trump', 675550994, 675530530, 'Dewritech', 11498870, '2015-08-11T08:29:39Z', '/* Legal affairs */clean up, [[WP:AWB/T|typo(s) fixed]]: $250 million dollars → $250 million, to to → to using [[Project:AWB|AWB]]', 47951, 7295, 202, 23, 341, 9]\n",
      "['Donald Trump', 672598769, 672588779, 'Trampster1442', 12896255, '2015-07-22T16:11:29Z', \"[[WP:AES|←]]Replaced content with 'Lets be fair, nobody cares about him.'\", 37, 7, 0, 0, 0, 0]\n",
      "['Donald Trump', 672588749, 672576776, 'RJP5322', 10778225, '2015-07-22T14:51:50Z', '[[WP:AES|←]]Blanked the page', 0, 0, 0, 0, 0, 0]\n"
     ]
    },
    {
     "name": "stdout",
     "output_type": "stream",
     "text": [
      "['Donald Trump', 670612425, 670611194, 'Ihardlythinkso', 12931721, '2015-07-09T02:06:26Z', '/* top */ wlink → 1st occurrence', 46117, 7043, 217, 26, 351, 8]\n",
      "['Donald Trump', 670611194, 670609788, 'Ihardlythinkso', 12931721, '2015-07-09T01:56:08Z', '/* top */ ce, 7 words → 1', 46117, 7043, 217, 26, 351, 8]\n",
      "['David Bowie', 846899953, 846627730, 'KolbertBot', 31691822, '2018-06-21T15:25:08Z', 'Bot: [[User:KolbertBot|HTTP→HTTPS]] (v485)', 92166, 14777, 205, 35, 788, 22]\n",
      "['David Bowie', 836058170, 835963559, 'Colonies Chris', 577301, '2018-04-12T12:49:54Z', \"minor fixes, replaced: ’s → 's (4), [[London]] → London (2), work=[[BBC News]] → publisher=[[BBC News]] (2),  -  →  – , 2013-2016 → 2013–2016, [[Hammersmith Apollo|Hammersmith Odeon]] → [[Hammersmith Odeon using [[Project:AWB|AWB]]\", 91419, 14654, 202, 35, 779, 21]\n",
      "['David Bowie', 834236078, 833732778, 'KolbertBot', 31691822, '2018-04-04T17:00:15Z', 'Bot: [[User:KolbertBot|HTTP→HTTPS]] (v485)', 91242, 14630, 201, 35, 767, 21]\n",
      "['David Bowie', 829980291, 829240691, 'Reclus', 16503595, '2018-03-12T00:10:59Z', 'http→https', 90980, 14590, 197, 35, 762, 21]\n",
      "['David Bowie', 825428550, 825241117, 'KolbertBot', 31691822, '2018-02-13T10:05:11Z', 'Bot: [[User:KolbertBot|HTTP→HTTPS]] (v481)', 91105, 14611, 195, 35, 764, 21]\n",
      "['David Bowie', 823084824, 822660013, 'KolbertBot', 31691822, '2018-01-30T04:10:57Z', 'Bot: [[User:KolbertBot|HTTP→HTTPS]] (v481)', 90597, 14531, 194, 35, 751, 21]\n",
      "['David Bowie', 815066773, 814732581, 'KolbertBot', 31691822, '2017-12-12T15:31:37Z', 'Bot: [[User:KolbertBot|HTTP→HTTPS]] (v478)', 89746, 14400, 189, 35, 747, 21]\n",
      "['David Bowie', 813639333, 813082661, 'Doug butler', 6483916, '2017-12-04T13:43:02Z', 'Daily Telegraph (Australia)→Daily Telegraph (Sydney)', 89664, 14386, 189, 35, 746, 20]\n",
      "['David Bowie', 807809803, 807698922, 'BlackJack', 359672, '2017-10-30T06:47:50Z', '/* top */clean up, replaced: [[London]] → [[London]], England using [[Project:AWB|AWB]]', 89526, 14365, 188, 35, 741, 20]\n",
      "['David Bowie', 807698922, 807696357, 'BlackJack', 359672, '2017-10-29T16:44:02Z', '/* top */clean up, replaced: [[London]], England → [[London]] using [[Project:AWB|AWB]]', 89526, 14365, 188, 35, 741, 20]\n",
      "['David Bowie', 797325005, 797265396, 'KolbertBot', 31691822, '2017-08-26T09:36:52Z', 'Bot: [[Wikipedia:Bots/Requests for approval/KolbertBot|HTTP→HTTPS]]', 89430, 14354, 185, 35, 737, 20]\n",
      "['David Bowie', 795941630, 795813059, 'BD2412', 196446, '2017-08-17T13:44:09Z', '/* Bowie Bonds */clean up spacing around commas, replaced: ,B → , B using [[Project:AWB|AWB]]', 89392, 14348, 185, 35, 737, 20]\n",
      "['David Bowie', 789765292, 789642205, 'GoingBatty', 11555324, '2017-07-09T12:05:44Z', 'Disambiguated: [[Little Wonder]] → [[Little Wonder (song)]]', 89076, 14293, 183, 35, 734, 20]\n",
      "['David Bowie', 788860761, 788586073, '45.46.30.251', 0, '2017-07-03T22:49:34Z', '/* Notes */David bowie has some good 😊 songs!', 88981, 14284, 183, 35, 735, 20]\n",
      "['David Bowie', 765210733, 765191608, 'Dan Koehl', 5705, '2017-02-13T04:45:40Z', 'clean up, [[WP:AWB/T|typo(s) fixed]]: band-mates → bandmates using [[Project:AWB|AWB]]', 88356, 14191, 174, 33, 719, 20]\n",
      "['David Bowie', 738924753, 738918911, 'BD2412bot', 25180159, '2016-09-11T20:16:43Z', '/* top */Per consensus in discussion at [[Talk:New York#Proposed action to resolve incorrect incoming links]], replaced: [[Manhattan]], [[New York]] → [[Manhattan]], [[New York (state)|New York]] using [[Project:AWB|AWB]]', 85810, 13778, 160, 33, 683, 19]\n",
      "['David Bowie', 738916267, 738913640, 'BD2412', 196446, '2016-09-11T19:30:54Z', '/* top */Per consensus in discussion at [[Talk:New York#Proposed action to resolve incorrect incoming links]], replaced: [[Manhattan]], [[New York]] → [[Manhattan]], [[New York (state)|New York]] using [[Project:AWB|AWB]]', 85810, 13778, 160, 33, 683, 19]\n",
      "['David Bowie', 737143891, 736984161, 'BD2412', 196446, '2016-09-01T00:56:54Z', '/* top */Per consensus in discussion at [[Talk:New York#Proposed action to resolve incorrect incoming links]]., replaced: [[Manhattan]], [[New York]] → [[Manhattan]], [[New York (state)|New York]] using [[Project:AWB|AWB]]', 85755, 13771, 160, 33, 683, 19]\n",
      "['David Bowie', 729177806, 729169075, 'Willondon', 7196877, '2016-07-10T13:23:13Z', 'revert to prevandalized version at 00:13, 9 July 2016\\u200e', 85102, 13661, 156, 32, 674, 18]\n",
      "['David Bowie', 712068015, 712067783, \"Cup o' Java\", 16655916, '2016-03-26T18:45:40Z', '/* 1976–79: Berlin era */ rewording: “evidenced” → “evinced”', 84950, 13647, 149, 32, 671, 19]\n",
      "['David Bowie', 699340225, 699339025, 'John Cline', 11987994, '2016-01-11T19:22:15Z', '/* top */ ce; South London → south London per [[WP:MOS#Compass points]]', 79422, 12692, 95, 28, 569, 16]\n",
      "['David Bowie', 699299657, 699298381, 'John of Reading', 11308236, '2016-01-11T14:27:25Z', 'Typo/[[WP:AWB/GF|general]] fixes, replaced: appearence → appearance, in 22 January 1972 issue → in the 22 January 1972 issue using [[Project:AWB|AWB]]', 79494, 12698, 100, 28, 580, 17]\n",
      "['David Bowie', 683101220, 682903224, 'Kethrus', 22883165, '2015-09-28T04:07:09Z', 'clean up, [[WP:AWB/T|typo(s) fixed]]: t-shirt → T-shirt using [[Project:AWB|AWB]]', 77425, 12395, 86, 26, 555, 16]\n",
      "['Martin Luther King Jr.', 834090327, 834085284, 'KolbertBot', 31691822, '2018-04-03T21:47:52Z', 'Bot: [[User:KolbertBot|HTTP→HTTPS]] (v485)', 83357, 13369, 236, 45, 482, 24]\n",
      "['Martin Luther King Jr.', 823004555, 822951828, 'KolbertBot', 31691822, '2018-01-29T19:26:47Z', 'Bot: [[User:KolbertBot|HTTP→HTTPS]] (v481)', 83898, 13455, 235, 45, 476, 24]\n",
      "['Martin Luther King Jr.', 798910556, 797731537, 'KolbertBot', 31691822, '2017-09-04T14:45:06Z', 'Bot: [[User:KolbertBot|HTTP→HTTPS]]', 86803, 13937, 250, 45, 507, 26]\n",
      "['Martin Luther King Jr.', 752246356, 752087582, 'Yobot', 7328338, '2016-11-30T07:26:11Z', 'Removed invisible unicode characters + other fixes, removed: \\u200e (2) using [[Project:AWB|AWB]]', 84793, 13574, 239, 45, 493, 22]\n",
      "['Martin Luther King Jr.', 700385432, 700385400, 'Ле Лой', 10849298, '2016-01-18T05:24:13Z', '/* External links */', 84661, 13554, 235, 44, 468, 22]\n",
      "['Martin Luther King Jr.', 700385400, 700221441, 'Ле Лой', 10849298, '2016-01-18T05:23:47Z', \"+ a cool paper on MLK's speech patterns\", 84660, 13554, 235, 44, 468, 22]\n",
      "['Google', 846889952, 846710989, 'KolbertBot', 31691822, '2018-06-21T14:11:22Z', 'Bot: [[User:KolbertBot|HTTP→HTTPS]] (v485)', 63600, 9702, 427, 42, 492, 15]\n",
      "['Google', 836701693, 835649951, 'Adavidb', 2413055, '2018-04-16T10:42:20Z', 'clean up, [[WP:AWB/T|typo(s) fixed]]: Sao Paulo → São Paulo using [[Project:AWB|AWB]]', 61794, 9443, 409, 42, 482, 14]\n",
      "['Google', 834220599, 834138036, 'KolbertBot', 31691822, '2018-04-04T15:18:39Z', 'Bot: [[User:KolbertBot|HTTP→HTTPS]] (v485)', 61260, 9364, 407, 42, 480, 14]\n",
      "['Google', 822931890, 822838128, 'KolbertBot', 31691822, '2018-01-29T09:54:04Z', 'Bot: [[User:KolbertBot|HTTP→HTTPS]] (v481)', 60702, 9285, 403, 41, 469, 14]\n",
      "['Google', 818192226, 817969047, 'BD2412', 196446, '2018-01-02T04:02:54Z', \"/* 2000–2009 */Link [[Digiday]]., replaced: =Digiday → =[[Digiday]], website=[[Digiday]] → website=''[[Digiday]]'' using [[Project:AWB|AWB]]\", 60861, 9311, 404, 41, 485, 14]\n",
      "['Google', 799711343, 799599374, 'KolbertBot', 31691822, '2017-09-09T11:18:40Z', 'Bot: [[User:KolbertBot|HTTP→HTTPS]]', 60261, 9210, 402, 40, 475, 15]\n",
      "['Google', 799324447, 799086502, 'Tassedethe', 7098284, '2017-09-07T00:40:41Z', 'Disambiguated: [[David Brooks]] → [[David Brooks (political commentator)]]', 60261, 9210, 402, 40, 475, 15]\n",
      "['Google', 798176056, 798049668, 'KolbertBot', 31691822, '2017-08-31T11:59:44Z', 'Bot: [[Wikipedia:Bots/Requests for approval/KolbertBot|HTTP→HTTPS]]', 59982, 9166, 400, 40, 474, 15]\n",
      "['Google', 797771598, 797590808, 'KolbertBot', 31691822, '2017-08-29T02:38:53Z', 'Bot: [[Wikipedia:Bots/Requests for approval/KolbertBot|HTTP→HTTPS]]', 59781, 9135, 398, 40, 472, 15]\n",
      "['Google', 796642644, 796390075, 'KolbertBot', 31691822, '2017-08-22T06:36:50Z', 'Bot: [[Wikipedia:Bots/Requests for approval/KolbertBot|HTTP→HTTPS]]', 59829, 9144, 398, 40, 471, 15]\n",
      "['Google', 758925844, 758489595, 'Jmcgnh', 28223823, '2017-01-08T08:14:04Z', 'Disambiguated: [[caching]] → [[Web cache]] - [[WP:DPL|(you can help)]]', 71990, 10839, 429, 38, 523, 33]\n"
     ]
    },
    {
     "name": "stdout",
     "output_type": "stream",
     "text": [
      "['Google', 755821093, 755363354, 'Feminist', 25530780, '2016-12-20T11:22:33Z', '/* Search engine */[[Talk:Bing (search engine)#Requested move 13 December 2016]], replaced: [[Bing]] → [[Bing (search engine)|Bing]] using [[Project:AWB|AWB]]', 66711, 10118, 399, 37, 454, 16]\n",
      "['Google', 711338152, 711251392, 'Yobot', 7328338, '2016-03-22T08:10:27Z', '/* CodeF */Removed invisible unicode characters + other fixes, replaced: →   (12) using [[Project:AWB|AWB]] (11974)', 56688, 8617, 365, 32, 421, 15]\n",
      "['Google', 701944016, 701469712, 'PC-XT', 17821985, '2016-01-27T14:15:22Z', 'Repairing 11 and tagging 2 external links using [[w:WP:CHECKLINKS|Checklinks]]; formatting: 9x link→cite web, 3x link→cite news, 3x mdash, link→cite news (archive) (using [[User:PC-XT/Advisor|Advisor.js]])', 55502, 8451, 360, 30, 423, 15]\n",
      "['Google', 701469712, 701383839, 'Iridescent', 937705, '2016-01-24T20:01:57Z', '/* Litigation */[[WP:AWB/T|Typo fixing]], [[WP:AWB/T|typo(s) fixed]]: $415 million dollar → $415 million using [[Project:AWB|AWB]]', 56873, 8623, 350, 30, 424, 15]\n",
      "['Google', 691424670, 691209610, 'Marc26rpg7', 21540157, '2015-11-19T19:19:55Z', \"[[WP:AES|←]]Replaced content with '                    '''Hey Dallas!'''''''''Bold text'''''''\", 48, 4, 0, 0, 0, 0]\n",
      "['Google', 679140467, 679121523, 'S536870912', 24691419, '2015-09-02T17:59:25Z', 'Adding old and cute logo →The new one is too ugly     >>> Please forgive me for this edit, but my Personal opinion will be removed by another user anyway.', 56012, 8489, 337, 30, 420, 15]\n",
      "['Google', 677663292, 677364821, 'Iridescent', 937705, '2015-08-24T19:12:24Z', '[[WP:AWB/T|Typo fixing]], [[WP:AWB/T|typo(s) fixed]]: subsidary → subsidiary using [[Project:AWB|AWB]]', 56125, 8506, 340, 29, 423, 13]\n",
      "['3M', 844889985, 844362465, 'Chris the speller', 525927, '2018-06-07T21:35:42Z', 'per [[MOS:JOBTITLES]], replaced: Chairman of the Board → chairman of the board, President → president, Board → board, Directors → directors, Chief Executive Officer → chief executive officer, Chief Financial Offic using [[Project:AWB|AWB]]', 18931, 2769, 55, 13, 126, 5]\n",
      "['3M', 827980771, 827457955, 'Iridescent', 937705, '2018-02-27T21:30:24Z', '[[WP:AWB/T|Typo fixing]], [[WP:AWB/T|typo(s) fixed]]: May of 2013 → May 2013 (2) using [[Project:AWB|AWB]]', 18091, 2631, 53, 13, 121, 6]\n",
      "['3M', 728460570, 728449608, 'Cabayi', 6561336, '2016-07-05T16:00:37Z', 'Reverted edits by [[Special:Contribs/حامد داودپور|حامد داودپور]] ([[User talk:حامد داودپور|talk]]) to last version by ClueBot NG', 18063, 2591, 56, 14, 142, 6]\n",
      "['3M', 728449608, 728449465, 'حامد داودپور', 26801907, '2016-07-05T14:38:22Z', '', 18079, 2594, 57, 14, 142, 6]\n",
      "['3M', 728449465, 728449460, 'ClueBot NG', 13286072, '2016-07-05T14:37:12Z', 'Reverting possible vandalism by [[Special:Contribs/حامد داودپور|حامد داودپور]] to version by 121.96.57.194. [[WP:CBFP|Report False Positive?]] Thanks, [[WP:CBNG|ClueBot NG]]. (2702311) (Bot)', 18063, 2591, 56, 14, 142, 6]\n",
      "['3M', 728449460, 727297325, 'حامد داودپور', 26801907, '2016-07-05T14:37:08Z', '[[WP:AES|←]]Blanked the page', 0, 0, 0, 0, 0, 0]\n",
      "['xHamster', 846449514, 846202881, 'KolbertBot', 31691822, '2018-06-18T21:14:10Z', 'Bot: [[User:KolbertBot|HTTP→HTTPS]] (v485)', 11155, 1717, 54, 10, 77, 0]\n",
      "['xHamster', 834463908, 832219283, 'KolbertBot', 31691822, '2018-04-05T21:32:51Z', 'Bot: [[User:KolbertBot|HTTP→HTTPS]] (v485)', 11355, 1755, 54, 10, 75, 0]\n",
      "['xHamster', 822770222, 821699611, 'KolbertBot', 31691822, '2018-01-28T11:15:17Z', 'Bot: [[User:KolbertBot|HTTP→HTTPS]] (v481)', 11322, 1753, 52, 10, 75, 0]\n",
      "['xHamster', 736212140, 736212018, 'Yamaguchi先生', 503067, '2016-08-25T23:35:10Z', 'Reverted edits by [[Special:Contribs/37.40.1.141|37.40.1.141]] ([[User talk:37.40.1.141|talk]]) to last version by MusikBot', 4406, 643, 27, 5, 55, 0]\n",
      "['xHamster', 729014793, 729014284, 'Tacit Murky', 28089047, '2016-07-09T07:12:21Z', \"́~maybe that's better…\", 3022, 442, 25, 5, 43, 0]\n",
      "['xHamster', 696497300, 696497299, 'ClueBot NG', 13286072, '2015-12-23T15:42:33Z', 'Reverting possible vandalism by [[Special:Contribs/Dreamerlay|Dreamerlay]] to version by Yamaguchi先生. [[WP:CBFP|Report False Positive?]] Thanks, [[WP:CBNG|ClueBot NG]]. (2481869) (Bot)', 837, 119, 3, 3, 19, 0]\n",
      "['xHamster', 695679139, 695678610, 'Yamaguchi先生', 503067, '2015-12-17T20:04:46Z', 'Reverted edits by [[Special:Contribs/Karnrawat|Karnrawat]] ([[User talk:Karnrawat|talk]]) to last version by DangerousJXD', 837, 119, 3, 3, 19, 0]\n",
      "['Reddit', 846865416, 846442127, 'KolbertBot', 31691822, '2018-06-21T10:33:59Z', 'Bot: [[User:KolbertBot|HTTP→HTTPS]] (v485)', 42172, 6536, 270, 27, 259, 3]\n",
      "['Reddit', 846442127, 844048653, 'KolbertBot', 31691822, '2018-06-18T20:25:30Z', 'Bot: [[User:KolbertBot|HTTP→HTTPS]] (v485)', 42172, 6536, 270, 27, 259, 3]\n",
      "['Reddit', 834178642, 834065757, 'KolbertBot', 31691822, '2018-04-04T10:18:14Z', 'Bot: [[User:KolbertBot|HTTP→HTTPS]] (v485)', 42609, 6629, 268, 27, 255, 3]\n",
      "['Reddit', 818195125, 817703046, 'BD2412', 196446, '2018-01-02T04:30:25Z', \"/* Commercial activity */Link [[Digiday]]., replaced: Digiday → ''[[Digiday]]'' using [[Project:AWB|AWB]]\", 41358, 6422, 266, 26, 251, 3]\n",
      "['Reddit', 814675347, 814480989, 'KolbertBot', 31691822, '2017-12-10T06:31:27Z', 'Bot: [[User:KolbertBot|HTTP→HTTPS]] (v478)', 41343, 6423, 265, 27, 248, 3]\n",
      "['Reddit', 799904581, 799388921, 'KolbertBot', 31691822, '2017-09-10T14:32:13Z', 'Bot: [[User:KolbertBot|HTTP→HTTPS]]', 43581, 6783, 279, 28, 256, 3]\n",
      "['Reddit', 785776321, 785441592, 'WereSpielChequers', 4071608, '2017-06-15T10:50:24Z', '/* 2014 */[[WP:AWB/T|Typo fixing]], replaced: was was  → was using [[Project:AWB|AWB]]', 43809, 6826, 273, 30, 257, 3]\n",
      "['Reddit', 753246885, 753009482, 'Antiqueight', 14001857, '2016-12-06T01:24:20Z', '/* IAmA and AMA */clean up, [[WP:AWB/T|typo(s) fixed]]: Presidental → Presidential using [[Project:AWB|AWB]]', 41904, 6489, 261, 28, 274, 3]\n",
      "['Reddit', 747832683, 745926256, 'John of Reading', 11308236, '2016-11-04T17:06:54Z', '/* Community and culture */Typo fixing, replaced: wierd → weird, per source. using [[Project:AWB|AWB]]', 39482, 6095, 248, 26, 262, 3]\n",
      "['Reddit', 734051294, 733977560, 'WikiTryHardDieHard', 14643995, '2016-08-11T20:20:00Z', 'clean up, [[WP:AWB/T|typo(s) fixed]]: european → European using [[Project:AWB|AWB]]', 38373, 5931, 244, 20, 260, 3]\n",
      "['Reddit', 697968564, 697951157, 'Melonkelon', 18173407, '2016-01-03T03:54:03Z', 'clean up, replaced: ‘ → \\' (3), “ → \" (6), ’ → \\' (24), ” → \" (5) using [[Project:AWB|AWB]]', 35196, 5469, 225, 18, 234, 3]\n",
      "['Reddit', 675552684, 674862937, 'Dewritech', 11498870, '2015-08-11T08:43:52Z', 'clean up, [[WP:AWB/T|typo(s) fixed]]: severence → severance using [[Project:AWB|AWB]]', 34391, 5360, 224, 18, 229, 3]\n",
      "['Human penis size', 829611688, 829413656, 'Bender the Bot', 28903366, '2018-03-09T18:20:15Z', 'HTTP→HTTPS for [[Science Daily]], replaced: http://www.sciencedaily.com/ → https://www.sciencedaily.com/ (2) using [[Project:AWB|AWB]]', 23848, 3751, 41, 26, 141, 4]\n",
      "['Human penis size', 828141288, 827505995, 'Bender the Bot', 28903366, '2018-02-28T20:16:37Z', 'HTTP→HTTPS for [[Science Daily]], replaced: http://www.sciencedaily.com/ → https://www.sciencedaily.com/ (2)', 24042, 3780, 42, 26, 145, 4]\n",
      "['Human penis size', 799727058, 798920240, 'KolbertBot', 31691822, '2017-09-09T13:45:17Z', 'Bot: [[User:KolbertBot|HTTP→HTTPS]]', 22081, 3448, 40, 25, 116, 5]\n",
      "['Human penis size', 798254730, 793677061, 'KolbertBot', 31691822, '2017-08-31T21:02:52Z', 'Bot: [[Wikipedia:Bots/Requests for approval/KolbertBot|HTTP→HTTPS]]', 22072, 3445, 40, 25, 116, 5]\n",
      "['Human penis size', 735822294, 735053237, 'Iridescent', 937705, '2016-08-23T09:39:01Z', '/* Studies */[[WP:AWB/T|Typo fixing]], [[WP:AWB/T|typo(s) fixed]]: between 10 to → between 10 and using [[Project:AWB|AWB]]', 22116, 3469, 40, 25, 115, 5]\n",
      "['Human penis size', 717176354, 717138861, 'BG19bot', 14508071, '2016-04-26T05:07:14Z', '[[WP:CHECKWIKI]] error fix for #61.  Punctuation goes before References. Do [[Wikipedia:GENFIXES|general fixes]] if a problem exists. -, replaced: {{Reflist|colwidth=30em}} → {{Reflist|30em}} using [[Project:AWB|AWB]]', 21352, 3356, 41, 23, 112, 3]\n",
      "['Human penis size', 693150010, 691409098, 'Iridescent', 937705, '2015-11-30T19:17:48Z', '/* Studies on penis size */[[WP:AWB/T|Typo fixing]], [[WP:AWB/T|typo(s) fixed]]: et.al. → et al. using [[Project:AWB|AWB]]', 20677, 3241, 39, 23, 111, 3]\n"
     ]
    },
    {
     "name": "stdout",
     "output_type": "stream",
     "text": [
      "['Machine learning', 798863922, 798700628, 'KolbertBot', 31691822, '2017-09-04T07:31:18Z', 'Bot: [[User:KolbertBot|HTTP→HTTPS]]', 30180, 4368, 44, 34, 277, 1]\n",
      "['Machine learning', 751750323, 751434324, 'LilHelpa', 8024439, '2016-11-27T17:02:25Z', '/* Overview */General fixes and [[WP:AWB/T|Typo fixing]], [[WP:AWB/T|typo(s) fixed]]: possesed → possessed using [[Project:AWB|AWB]]', 29120, 4205, 37, 34, 277, 1]\n",
      "['Machine learning', 746095639, 746025401, 'Yobot', 7328338, '2016-10-25T06:40:24Z', 'Removed invisible unicode characters + other fixes, replaced: →   (12) using [[Project:AWB|AWB]]', 27795, 3999, 31, 34, 271, 1]\n",
      "['Machine learning', 733892147, 733842100, 'Jasonanaggie', 11835288, '2016-08-10T19:43:42Z', 'Disambiguated: [[copulas]] → [[copula (probability theory)]]', 26200, 3766, 27, 31, 265, 1]\n",
      "['Machine learning', 713857210, 713828320, 'Yobot', 7328338, '2016-04-06T05:48:49Z', 'Removed invisible unicode characters + other fixes, removed: \\u200f (2) using [[Project:AWB|AWB]] (11993)', 27734, 3932, 32, 30, 232, 1]\n",
      "['Machine learning', 700785899, 700747082, '50.115.209.4', 0, '2016-01-20T16:42:23Z', 'Remove accidental \"←U\"', 26051, 3685, 26, 29, 232, 1]\n",
      "['DNA_sequencing', 838348848, 837290655, 'JCW-CleanerBot', 31737083, '2018-04-26T13:11:21Z', '/* References */[[User:JCW-CleanerBot#Logic|task]], replaced: Embo J → EMBO J using [[Project:AWB|AWB]]', 48429, 7171, 59, 46, 228, 10]\n",
      "['DNA_sequencing', 832772722, 832622516, 'Yobot', 7328338, '2018-03-27T22:35:49Z', '/* Sample preparation */Removed invisible unicode characters + other fixes ([[User:Yobot/55|Task 55]]), replaced: → using [[Project:AWB|AWB]] (12151)', 48330, 7156, 58, 46, 228, 10]\n",
      "['DNA_sequencing', 829285044, 828985021, 'JCW-CleanerBot', 31737083, '2018-03-07T18:32:07Z', '/* High-throughput methods */[[User:JCW-CleanerBot#Logic|task]], replaced: J Invest Dermatol. → J Invest Dermatol using [[Project:AWB|AWB]]', 48339, 7156, 59, 46, 229, 10]\n",
      "['DNA_sequencing', 828985021, 828092499, 'JCW-CleanerBot', 31737083, '2018-03-05T23:16:24Z', '[[User:JCW-CleanerBot#Logic|task]], replaced: Annu Rev Genomics Hum Genet → Annu Rev Genom Hum Genet using [[Project:AWB|AWB]]', 48339, 7156, 59, 46, 229, 10]\n",
      "['DNA_sequencing', 823930239, 823844513, 'Manudouz', 27030817, '2018-02-04T08:19:11Z', \"/* Nanopore DNA sequencing */ Hemolysin → greek 'alpha' and overlinking.\", 48324, 7155, 59, 46, 229, 10]\n",
      "['DNA_sequencing', 809357580, 808264098, 'JCW-CleanerBot', 31737083, '2017-11-08T16:32:18Z', '/* Early DNA sequencing methods */clean up, replaced: Nature New Biol. → Nature New Biology using [[Project:AWB|AWB]]', 48138, 7134, 57, 46, 230, 10]\n",
      "['DNA_sequencing', 805555687, 805391216, 'JCW-CleanerBot', 31737083, '2017-10-16T04:08:04Z', '/* Ion Torrent semiconductor sequencing */[[User:JCW-CleanerBot#Logic|task]], replaced: Nat Meth → Nat Methods using [[Project:AWB|AWB]]', 48098, 7128, 57, 45, 230, 10]\n",
      "['DNA_sequencing', 803415175, 799385993, 'Dewritech', 11498870, '2017-10-02T11:57:41Z', '/* Forensics */clean up, [[WP:AWB/T|typo(s) fixed]]: the exact same → exactly the same using [[Project:AWB|AWB]]', 48098, 7128, 56, 45, 230, 10]\n",
      "['DNA_sequencing', 797645398, 796236216, 'KolbertBot', 31691822, '2017-08-28T11:52:32Z', 'Bot: [[Wikipedia:Bots/Requests for approval/KolbertBot|HTTP→HTTPS]]', 48097, 7128, 55, 45, 230, 10]\n",
      "['DNA_sequencing', 796236216, 796234776, 'Manudouz', 27030817, '2017-08-19T12:39:28Z', 'Undid revision 796234776 by [[Special:Contributions/119.154.38.15|119.154.38.15]] ([[User talk:119.154.38.15|talk]]) Technician → a person doing practical work in a lab.', 48097, 7128, 55, 45, 230, 10]\n",
      "['DNA_sequencing', 702868292, 702631181, 'Headbomb', 1461430, '2016-02-02T02:55:37Z', '/* Ethical issues */clean up, replaced: FASEB journal : official publication of the Federation of American Societies for Experimental Biology → FASEB Journal using [[Project:AWB|AWB]]', 46356, 6876, 50, 45, 219, 8]\n",
      "['DNA_sequencing', 702465258, 698912601, 'Headbomb', 1461430, '2016-01-30T19:18:53Z', '/* Microfluidic Sanger sequencing */clean up, replaced: Lab on Chip → Lab on a Chip using [[Project:AWB|AWB]]', 46356, 6876, 50, 45, 217, 8]\n",
      "['FIFA World Cup', 846863207, 846845196, 'KolbertBot', 31691822, '2018-06-21T10:10:39Z', 'Bot: [[User:KolbertBot|HTTP→HTTPS]] (v485)', 44681, 6536, 116, 28, 313, 11]\n",
      "['FIFA World Cup', 833795537, 833140619, 'KolbertBot', 31691822, '2018-04-02T13:29:55Z', 'Bot: [[User:KolbertBot|HTTP→HTTPS]] (v485)', 41075, 6084, 113, 28, 258, 9]\n",
      "['FIFA World Cup', 826583307, 825975040, 'KolbertBot', 31691822, '2018-02-19T23:06:58Z', 'Bot: [[User:KolbertBot|HTTP→HTTPS]] (v481)', 42658, 6258, 113, 28, 258, 9]\n",
      "['FIFA World Cup', 825420257, 825003267, 'KolbertBot', 31691822, '2018-02-13T08:39:48Z', 'Bot: [[User:KolbertBot|HTTP→HTTPS]] (v481)', 42624, 6252, 113, 28, 258, 8]\n",
      "['FIFA World Cup', 822855104, 821629700, 'KolbertBot', 31691822, '2018-01-28T22:14:59Z', 'Bot: [[User:KolbertBot|HTTP→HTTPS]] (v481)', 42624, 6252, 113, 28, 258, 8]\n",
      "['FIFA World Cup', 807740892, 807611982, 'KolbertBot', 31691822, '2017-10-29T21:47:31Z', 'Bot: [[User:KolbertBot|HTTP→HTTPS]] (v475)', 42530, 6246, 109, 28, 257, 7]\n",
      "['FIFA World Cup', 713477239, 712065107, 'Magioladitis', 1862829, '2016-04-04T08:17:23Z', '/* Broadcasting and promotion */Removed invisible unicode characters + other fixes, replaced: → using [[Project:AWB|AWB]] (11993)', 39701, 5933, 93, 28, 259, 4]\n",
      "['FIFA World Cup', 702011444, 701875903, 'Sphilbrick', 4711431, '2016-01-27T22:13:24Z', '/* Trophy */correct spelling (see Wikipedia_talk:Manual_of_Style#The_plural_of_.E2.80.9Crunner-up.E2.80.9D), replaced: runner-ups → runners-up using [[Project:AWB|AWB]]', 39694, 5930, 93, 28, 257, 4]\n",
      "['FIFA World Cup', 683115291, 680571994, 'Kethrus', 22883165, '2015-09-28T06:49:30Z', '/* Broadcasting and promotion */typo fixing, [[WP:AWB/T|typo(s) fixed]]: multi-million dollar → multimillion-dollar using [[Project:AWB|AWB]]', 37716, 5619, 83, 28, 252, 4]\n",
      "['Cricket World Cup', 842477743, 841828346, 'Pipetricker', 9627578, '2018-05-22T18:25:09Z', '/* Overview */ [[Template:Tooltip]] → [[Template:Abbr]]', 28911, 4289, 104, 24, 195, 6]\n",
      "['Cricket World Cup', 825340849, 823104519, 'KolbertBot', 31691822, '2018-02-12T21:10:47Z', 'Bot: [[User:KolbertBot|HTTP→HTTPS]] (v481)', 28955, 4304, 104, 24, 204, 1]\n",
      "['Cricket World Cup', 801482280, 800779305, 'KolbertBot', 31691822, '2017-09-19T22:56:37Z', 'Bot: [[User:KolbertBot|HTTP→HTTPS]] (v461)', 28930, 4303, 100, 24, 204, 1]\n",
      "['Cricket World Cup', 728420120, 726007986, 'Hindustanilanguage', 13769068, '2016-07-05T09:35:18Z', '([[c:GR|GR]]) [[c:COM:FR|File renamed]]: [[File:Sachin.Tendulkar.jpg]] → [[File:Sachin Tendulkar at MRF Promotion Event.jpg]] removing unnecessary dot between the name', 28714, 4276, 95, 24, 200, 1]\n"
     ]
    }
   ],
   "source": [
    "list_of_pages = ['Vagina',\n",
    "                 'World_War_I',\n",
    "                'American Civil War',\n",
    "                'India',\n",
    "                'Yemen' ,\n",
    "                'Lady Gaga',\n",
    "                'Donald Trump',\n",
    "                'David Bowie',\n",
    "                'Martin Luther King Jr.',\n",
    "                'Google',\n",
    "                '3M',\n",
    "                'xHamster',\n",
    "                'Reddit',\n",
    "                'Human penis size',\n",
    "                'Machine learning',\n",
    "                'DNA_sequencing',\n",
    "                'FIFA World Cup',\n",
    "                'Cricket World Cup']\n",
    "\n",
    "\n",
    "for page in list_of_pages:\n",
    "    base_path = pathlib.Path('../data/test14')\n",
    "    test = wikipedia_scripts.collect_consoidate_historical_edits(directory=base_path, wiki_title=page,\n",
    "                                                      agent_email='williamvoje@gmail.com', earliest_date = '20150701')"
   ]
  },
  {
   "cell_type": "code",
   "execution_count": null,
   "metadata": {},
   "outputs": [],
   "source": []
  },
  {
   "cell_type": "code",
   "execution_count": null,
   "metadata": {},
   "outputs": [],
   "source": []
  },
  {
   "cell_type": "code",
   "execution_count": null,
   "metadata": {},
   "outputs": [],
   "source": []
  },
  {
   "cell_type": "code",
   "execution_count": null,
   "metadata": {},
   "outputs": [],
   "source": []
  },
  {
   "cell_type": "code",
   "execution_count": null,
   "metadata": {},
   "outputs": [],
   "source": []
  },
  {
   "cell_type": "code",
   "execution_count": null,
   "metadata": {},
   "outputs": [],
   "source": []
  },
  {
   "cell_type": "code",
   "execution_count": 11,
   "metadata": {},
   "outputs": [],
   "source": [
    "base_path = pathlib.Path('../data')\n",
    "path_to_data = base_path / ('20180621_' + 'World_War_I')"
   ]
  },
  {
   "cell_type": "code",
   "execution_count": 12,
   "metadata": {},
   "outputs": [
    {
     "data": {
      "text/plain": [
       "WindowsPath('../data/20180621_World_War_I')"
      ]
     },
     "execution_count": 12,
     "metadata": {},
     "output_type": "execute_result"
    }
   ],
   "source": [
    "path_to_data"
   ]
  },
  {
   "cell_type": "code",
   "execution_count": 8,
   "metadata": {},
   "outputs": [
    {
     "data": {
      "text/plain": [
       "WindowsPath('../data')"
      ]
     },
     "execution_count": 8,
     "metadata": {},
     "output_type": "execute_result"
    }
   ],
   "source": [
    "base_path "
   ]
  },
  {
   "cell_type": "code",
   "execution_count": 3,
   "metadata": {},
   "outputs": [
    {
     "data": {
      "text/plain": [
       "WindowsPath('../data/*.csv')"
      ]
     },
     "execution_count": 3,
     "metadata": {},
     "output_type": "execute_result"
    }
   ],
   "source": [
    "base_path / '*.csv'"
   ]
  },
  {
   "cell_type": "code",
   "execution_count": null,
   "metadata": {},
   "outputs": [],
   "source": []
  }
 ],
 "metadata": {
  "kernelspec": {
   "display_name": "Python 3",
   "language": "python",
   "name": "python3"
  },
  "language_info": {
   "codemirror_mode": {
    "name": "ipython",
    "version": 3
   },
   "file_extension": ".py",
   "mimetype": "text/x-python",
   "name": "python",
   "nbconvert_exporter": "python",
   "pygments_lexer": "ipython3",
   "version": "3.6.5"
  }
 },
 "nbformat": 4,
 "nbformat_minor": 2
}
