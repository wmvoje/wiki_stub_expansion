{
 "cells": [
  {
   "cell_type": "code",
   "execution_count": 1,
   "metadata": {},
   "outputs": [],
   "source": [
    "import wikipedia"
   ]
  },
  {
   "cell_type": "markdown",
   "metadata": {},
   "source": [
    "# List of links which may have the data I'm interested in\n",
    "\n",
    "https://en.wikipedia.org/wiki/Category:All_stub_articles\n",
    "https://en.wikipedia.org/wiki/Category:Articles_to_be_expanded\n"
   ]
  },
  {
   "cell_type": "markdown",
   "metadata": {},
   "source": [
    "Turns out that that it isn't possible to access \"special:\" pages on wikipedia with the api. I should be able to get around this with a scraper.\n",
    "\n",
    "Let's see if we can build that. "
   ]
  },
  {
   "cell_type": "code",
   "execution_count": 2,
   "metadata": {},
   "outputs": [],
   "source": [
    "from bs4 import BeautifulSoup\n",
    "import requests\n",
    "import html5lib"
   ]
  },
  {
   "cell_type": "code",
   "execution_count": 3,
   "metadata": {},
   "outputs": [],
   "source": [
    "html = requests.get(\"https://en.wikipedia.org/wiki/Category:All_stub_articles\")"
   ]
  },
  {
   "cell_type": "code",
   "execution_count": 4,
   "metadata": {},
   "outputs": [],
   "source": [
    "soup = BeautifulSoup(html.text, 'html5lib')"
   ]
  },
  {
   "cell_type": "code",
   "execution_count": 5,
   "metadata": {},
   "outputs": [
    {
     "data": {
      "text/plain": [
       "[<div class=\"mw-category-group\"><h3>-</h3>\n",
       " <ul><li><a href=\"/wiki/(%E2%88%921)F\" title=\"(−1)F\">(−1)F</a></li>\n",
       " <li><a href=\"/wiki/-an\" title=\"-an\">-an</a></li>\n",
       " <li><a href=\"/wiki/-oate\" title=\"-oate\">-oate</a></li>\n",
       " <li><a href=\"/wiki/-ol\" title=\"-ol\">-ol</a></li>\n",
       " <li><a href=\"/wiki/-yne\" title=\"-yne\">-yne</a></li></ul></div>,\n",
       " <div class=\"mw-category-group\"><h3>,</h3>\n",
       " <ul><li><a href=\"/wiki/Battle_of_Koporye\" title=\"Battle of Koporye\">Battle of Koporye</a></li></ul></div>,\n",
       " <div class=\"mw-category-group\"><h3>?</h3>\n",
       " <ul><li><a href=\"/wiki/The_%27%3F%27_Motorist\" title=\"The '?' Motorist\">The '?' Motorist</a></li>\n",
       " <li><a href=\"/wiki/%3F!_(album)\" title=\"?! (album)\">?! (album)</a></li>\n",
       " <li><a href=\"/wiki/%3FEjere_K%27elni_Kue_Indian_Reserve_No._196I\" title=\"?Ejere K'elni Kue Indian Reserve No. 196I\">?Ejere K'elni Kue Indian Reserve No. 196I</a></li></ul></div>,\n",
       " <div class=\"mw-category-group\"><h3>.</h3>\n",
       " <ul><li><a href=\"/wiki/%E0%A5%B0\" title=\"॰\">॰</a></li>\n",
       " <li><a href=\"/wiki/.25_Short\" title=\".25 Short\">.25 Short</a></li>\n",
       " <li><a href=\"/wiki/.30_TC\" title=\".30 TC\">.30 TC</a></li>\n",
       " <li><a href=\"/wiki/.30-01\" title=\".30-01\">.30-01</a></li>\n",
       " <li><a href=\"/wiki/.35_Newton\" title=\".35 Newton\">.35 Newton</a></li>\n",
       " <li><a href=\"/wiki/.41_Swiss\" title=\".41 Swiss\">.41 Swiss</a></li>\n",
       " <li><a href=\"/wiki/.50_Remington_Navy\" title=\".50 Remington Navy\">.50 Remington Navy</a></li>\n",
       " <li><a href=\"/wiki/.400_Taylor_Magnum\" title=\".400 Taylor Magnum\">.400 Taylor Magnum</a></li>\n",
       " <li><a href=\"/wiki/.451_Detonics_Magnum\" title=\".451 Detonics Magnum\">.451 Detonics Magnum</a></li>\n",
       " <li><a href=\"/wiki/.585_Hubel_express\" title=\".585 Hubel express\">.585 Hubel express</a></li>\n",
       " <li><a href=\"/wiki/.aeDA\" title=\".aeDA\">.aeDA</a></li>\n",
       " <li><a href=\"/wiki/.amsterdam\" title=\".amsterdam\">.amsterdam</a></li>\n",
       " <li><a href=\"/wiki/.app_(gTLD)\" title=\".app (gTLD)\">.app (gTLD)</a></li>\n",
       " <li><a href=\"/wiki/.bit\" title=\".bit\">.bit</a></li>\n",
       " <li><a href=\"/wiki/.blog\" title=\".blog\">.blog</a></li>\n",
       " <li><a href=\"/wiki/.cancerresearch\" title=\".cancerresearch\">.cancerresearch</a></li>\n",
       " <li><a href=\"/wiki/.cda_file\" title=\".cda file\">.cda file</a></li>\n",
       " <li><a href=\"/wiki/.ch_(newspaper)\" title=\".ch (newspaper)\">.ch (newspaper)</a></li>\n",
       " <li><a href=\"/wiki/.CSO\" title=\".CSO\">.CSO</a></li>\n",
       " <li><a href=\"/wiki/.cymru\" title=\".cymru\">.cymru</a></li>\n",
       " <li><a href=\"/wiki/.desi\" title=\".desi\">.desi</a></li>\n",
       " <li><a href=\"/wiki/.eus\" title=\".eus\">.eus</a></li>\n",
       " <li><a href=\"/wiki/.google\" title=\".google\">.google</a></li>\n",
       " <li><a href=\"/wiki/.istanbul\" title=\".istanbul\">.istanbul</a></li>\n",
       " <li><a href=\"/wiki/.med\" title=\".med\">.med</a></li>\n",
       " <li><a href=\"/wiki/.NET_strategy\" title=\".NET strategy\">.NET strategy</a></li>\n",
       " <li><a href=\"/wiki/.one_(domain)\" title=\".one (domain)\">.one (domain)</a></li>\n",
       " <li><a href=\"/wiki/.ovh\" title=\".ovh\">.ovh</a></li>\n",
       " <li><a href=\"/wiki/.sb2_file\" title=\".sb2 file\">.sb2 file</a></li>\n",
       " <li><a href=\"/wiki/.sch_(file_extension)\" title=\".sch (file extension)\">.sch (file extension)</a></li>\n",
       " <li><a href=\"/wiki/.scot\" title=\".scot\">.scot</a></li>\n",
       " <li><a href=\"/wiki/.ss\" title=\".ss\">.ss</a></li>\n",
       " <li><a href=\"/wiki/.stream\" title=\".stream\">.stream</a></li>\n",
       " <li><a href=\"/wiki/.sys\" title=\".sys\">.sys</a></li>\n",
       " <li><a href=\"/wiki/.tm\" title=\".tm\">.tm</a></li>\n",
       " <li><a href=\"/wiki/.win\" title=\".win\">.win</a></li>\n",
       " <li><a href=\"/wiki/.wtf\" title=\".wtf\">.wtf</a></li>\n",
       " <li><a href=\"/wiki/.x\" title=\".x\">.x</a></li>\n",
       " <li><a href=\"/wiki/.XIP\" title=\".XIP\">.XIP</a></li>\n",
       " <li><a href=\"/wiki/.%D0%BC%D0%BA%D0%B4\" title=\".мкд\">.мкд</a></li></ul></div>,\n",
       " <div class=\"mw-category-group\"><h3>'</h3>\n",
       " <ul><li><a href=\"/wiki/Dongping_dialect\" title=\"Dongping dialect\">Dongping dialect</a></li>\n",
       " <li><a href=\"/wiki/%2771_Er_Maa_Jononi\" title=\"'71 Er Maa Jononi\">'71 Er Maa Jononi</a></li>\n",
       " <li><a href=\"/wiki/%27A%27akapa\" title=\"'A'akapa\">'A'akapa</a></li>\n",
       " <li><a href=\"/wiki/%27Abd_ar-Rahman_ibn_Muhammad_al-Amin\" title=\"'Abd ar-Rahman ibn Muhammad al-Amin\">'Abd ar-Rahman ibn Muhammad al-Amin</a></li>\n",
       " <li><a href=\"/wiki/%CA%BFAdhaim\" title=\"ʿAdhaim\">ʿAdhaim</a></li>\n",
       " <li><a href=\"/wiki/%27Amanave\" title=\"'Amanave\">'Amanave</a></li>\n",
       " <li><a href=\"/wiki/%27Amqah\" title=\"'Amqah\">'Amqah</a></li>\n",
       " <li><a href=\"/wiki/%27Aoa\" title=\"'Aoa\">'Aoa</a></li>\n",
       " <li><a href=\"/wiki/%27Au%27asi\" title=\"'Au'asi\">'Au'asi</a></li>\n",
       " <li><a href=\"/wiki/%27Elb_Jmel\" title=\"'Elb Jmel\">'Elb Jmel</a></li>\n",
       " <li><a href=\"/wiki/%27Encore%27_mandarin\" title=\"'Encore' mandarin\">'Encore' mandarin</a></li>\n",
       " <li><a href=\"/wiki/%CA%BBEne%CA%BBio_Botanical_Garden\" title=\"ʻEneʻio Botanical Garden\">ʻEneʻio Botanical Garden</a></li>\n",
       " <li><a href=\"/wiki/%27Ilaheva\" title=\"'Ilaheva\">'Ilaheva</a></li>\n",
       " <li><a href=\"/wiki/%27Ili%27ili\" title=\"'Ili'ili\">'Ili'ili</a></li>\n",
       " <li><a href=\"/wiki/%27Nzuddi\" title=\"'Nzuddi\">'Nzuddi</a></li>\n",
       " <li><a href=\"/wiki/%CA%BB%C5%8C%CA%BB%C5%8Dkala,_Hawaii\" title=\"ʻŌʻōkala, Hawaii\">ʻŌʻōkala, Hawaii</a></li>\n",
       " <li><a href=\"/wiki/%27s-Gravenweg_168,_Kralingen\" title=\"'s-Gravenweg 168, Kralingen\">'s-Gravenweg 168, Kralingen</a></li>\n",
       " <li><a href=\"/wiki/%27t_kofschip\" title=\"'t kofschip\">'t kofschip</a></li>\n",
       " <li><a href=\"/wiki/%CA%BBUalapu%CA%BBe,_Hawaii\" title=\"ʻUalapuʻe, Hawaii\">ʻUalapuʻe, Hawaii</a></li>\n",
       " <li><a href=\"/wiki/%60Urjan_al_Gharbiyah\" title=\"`Urjan al Gharbiyah\">`Urjan al Gharbiyah</a></li></ul></div>,\n",
       " <div class=\"mw-category-group\"><h3>\"</h3>\n",
       " <ul><li><a href=\"/wiki/%22Go_Home%22_vans\" title='\"Go Home\" vans'>\"Go Home\" vans</a></li></ul></div>,\n",
       " <div class=\"mw-category-group\"><h3>(</h3>\n",
       " <ul><li><a href=\"/wiki/(_)_(film)\" title=\"( ) (film)\">( ) (film)</a></li>\n",
       " <li><a href=\"/wiki/(-)-borneol_dehydrogenase\" title=\"(-)-borneol dehydrogenase\">(-)-borneol dehydrogenase</a></li>\n",
       " <li><a href=\"/wiki/(-)-endo-fenchol_synthase\" title=\"(-)-endo-fenchol synthase\">(-)-endo-fenchol synthase</a></li>\n",
       " <li><a href=\"/wiki/(-)-menthol_dehydrogenase\" title=\"(-)-menthol dehydrogenase\">(-)-menthol dehydrogenase</a></li>\n",
       " <li><a href=\"/wiki/(-)-menthol_monooxygenase\" title=\"(-)-menthol monooxygenase\">(-)-menthol monooxygenase</a></li>\n",
       " <li><a href=\"/wiki/(%2B)-abscisic_acid_8%27-hydroxylase\" title=\"(+)-abscisic acid 8'-hydroxylase\">(+)-abscisic acid 8'-hydroxylase</a></li>\n",
       " <li><a href=\"/wiki/(%2B)-borneol_dehydrogenase\" title=\"(+)-borneol dehydrogenase\">(+)-borneol dehydrogenase</a></li>\n",
       " <li><a href=\"/wiki/(%2B)-neomenthol_dehydrogenase\" title=\"(+)-neomenthol dehydrogenase\">(+)-neomenthol dehydrogenase</a></li>\n",
       " <li><a href=\"/wiki/(%2B)-sabinol_dehydrogenase\" title=\"(+)-sabinol dehydrogenase\">(+)-sabinol dehydrogenase</a></li>\n",
       " <li><a href=\"/wiki/(%2B)-trans-carveol_dehydrogenase\" title=\"(+)-trans-carveol dehydrogenase\">(+)-trans-carveol dehydrogenase</a></li>\n",
       " <li><a href=\"/wiki/(1%2B%CE%B5)-approximate_nearest_neighbor_search\" title=\"(1+ε)-approximate nearest neighbor search\">(1+ε)-approximate nearest neighbor search</a></li>\n",
       " <li><a href=\"/wiki/(2%2B1)-dimensional_topological_gravity\" title=\"(2+1)-dimensional topological gravity\">(2+1)-dimensional topological gravity</a></li>\n",
       " <li><a href=\"/wiki/(3,5-dihydroxyphenyl)acetyl-CoA_1,2-dioxygenase\" title=\"(3,5-dihydroxyphenyl)acetyl-CoA 1,2-dioxygenase\">(3,5-dihydroxyphenyl)acetyl-CoA 1,2-dioxygenase</a></li>\n",
       " <li><a href=\"/wiki/(3S,4R)-3,4-dihydroxycyclohexa-1,5-diene-1,4-dicarboxylate_dehydrogenase\" title=\"(3S,4R)-3,4-dihydroxycyclohexa-1,5-diene-1,4-dicarboxylate dehydrogenase\">(3S,4R)-3,4-dihydroxycyclohexa-1,5-diene-1,4-dicarboxylate dehydrogenase</a></li>\n",
       " <li><a href=\"/wiki/(04:30)_Idler\" title=\"(04:30) Idler\">(04:30) Idler</a></li>\n",
       " <li><a href=\"/wiki/(4S)-limonene_synthase\" title=\"(4S)-limonene synthase\">(4S)-limonene synthase</a></li>\n",
       " <li><a href=\"/wiki/(acyl-carrier-protein)_phosphodiesterase\" title=\"(acyl-carrier-protein) phosphodiesterase\">(acyl-carrier-protein) phosphodiesterase</a></li>\n",
       " <li><a href=\"/wiki/(acyl-carrier-protein)_S-acetyltransferase\" title=\"(acyl-carrier-protein) S-acetyltransferase\">(acyl-carrier-protein) S-acetyltransferase</a></li>\n",
       " <li><a href=\"/wiki/(deoxy)nucleoside-phosphate_kinase\" title=\"(deoxy)nucleoside-phosphate kinase\">(deoxy)nucleoside-phosphate kinase</a></li>\n",
       " <li><a href=\"/wiki/(glutamate%E2%80%94ammonia-ligase)_adenylyltransferase\" title=\"(glutamate—ammonia-ligase) adenylyltransferase\">(glutamate—ammonia-ligase) adenylyltransferase</a></li>\n",
       " <li><a href=\"/wiki/(protein-PII)_uridylyltransferase\" title=\"(protein-PII) uridylyltransferase\">(protein-PII) uridylyltransferase</a></li>\n",
       " <li><a href=\"/wiki/(pyruvate_dehydrogenase_(acetyl-transferring))-phosphatase\" title=\"(pyruvate dehydrogenase (acetyl-transferring))-phosphatase\">(pyruvate dehydrogenase (acetyl-transferring))-phosphatase</a></li>\n",
       " <li><a href=\"/wiki/(R,R)-butanediol_dehydrogenase\" title=\"(R,R)-butanediol dehydrogenase\">(R,R)-butanediol dehydrogenase</a></li>\n",
       " <li><a href=\"/wiki/(R)-2-haloacid_dehalogenase\" title=\"(R)-2-haloacid dehalogenase\">(R)-2-haloacid dehalogenase</a></li>\n",
       " <li><a href=\"/wiki/(R)-2-hydroxy-fatty-acid_dehydrogenase\" title=\"(R)-2-hydroxy-fatty-acid dehydrogenase\">(R)-2-hydroxy-fatty-acid dehydrogenase</a></li>\n",
       " <li><a href=\"/wiki/(R)-2-hydroxyacid_dehydrogenase\" title=\"(R)-2-hydroxyacid dehydrogenase\">(R)-2-hydroxyacid dehydrogenase</a></li>\n",
       " <li><a href=\"/wiki/(R)-2-methylmalate_dehydratase\" title=\"(R)-2-methylmalate dehydratase\">(R)-2-methylmalate dehydratase</a></li>\n",
       " <li><a href=\"/wiki/(R)-3-amino-2-methylpropionate%E2%80%94pyruvate_transaminase\" title=\"(R)-3-amino-2-methylpropionate—pyruvate transaminase\">(R)-3-amino-2-methylpropionate—pyruvate transaminase</a></li>\n",
       " <li><a href=\"/wiki/(R)-3-hydroxyacid-ester_dehydrogenase\" title=\"(R)-3-hydroxyacid-ester dehydrogenase\">(R)-3-hydroxyacid-ester dehydrogenase</a></li>\n",
       " <li><a href=\"/wiki/(R)-4-hydroxyphenyllactate_dehydrogenase\" title=\"(R)-4-hydroxyphenyllactate dehydrogenase\">(R)-4-hydroxyphenyllactate dehydrogenase</a></li>\n",
       " <li><a href=\"/wiki/(R)-aminopropanol_dehydrogenase\" title=\"(R)-aminopropanol dehydrogenase\">(R)-aminopropanol dehydrogenase</a></li>\n",
       " <li><a href=\"/wiki/(R)-dehydropantoate_dehydrogenase\" title=\"(R)-dehydropantoate dehydrogenase\">(R)-dehydropantoate dehydrogenase</a></li>\n",
       " <li><a href=\"/wiki/(R)-limonene_6-monooxygenase\" title=\"(R)-limonene 6-monooxygenase\">(R)-limonene 6-monooxygenase</a></li>\n",
       " <li><a href=\"/wiki/(R)-limonene_synthase\" title=\"(R)-limonene synthase\">(R)-limonene synthase</a></li>\n",
       " <li><a href=\"/wiki/(R)-pantolactone_dehydrogenase_(flavin)\" title=\"(R)-pantolactone dehydrogenase (flavin)\">(R)-pantolactone dehydrogenase (flavin)</a></li>\n",
       " <li><a href=\"/wiki/(Ribulose-bisphosphate_carboxylase)-lysine_N-methyltransferase\" title=\"(Ribulose-bisphosphate carboxylase)-lysine N-methyltransferase\">(Ribulose-bisphosphate carboxylase)-lysine N-methyltransferase</a></li>\n",
       " <li><a href=\"/wiki/(RNA-polymerase)-subunit_kinase\" title=\"(RNA-polymerase)-subunit kinase\">(RNA-polymerase)-subunit kinase</a></li>\n",
       " <li><a href=\"/wiki/(RS)-1-benzyl-1,2,3,4-tetrahydroisoquinoline_N-methyltransferase\" title=\"(RS)-1-benzyl-1,2,3,4-tetrahydroisoquinoline N-methyltransferase\">(RS)-1-benzyl-1,2,3,4-tetrahydroisoquinoline N-methyltransferase</a></li>\n",
       " <li><a href=\"/wiki/(RS)-norcoclaurine_6-O-methyltransferase\" title=\"(RS)-norcoclaurine 6-O-methyltransferase\">(RS)-norcoclaurine 6-O-methyltransferase</a></li>\n",
       " <li><a href=\"/wiki/(S,S)-butanediol_dehydrogenase\" title=\"(S,S)-butanediol dehydrogenase\">(S,S)-butanediol dehydrogenase</a></li>\n",
       " <li><a href=\"/wiki/(S)-2-haloacid_dehalogenase\" title=\"(S)-2-haloacid dehalogenase\">(S)-2-haloacid dehalogenase</a></li>\n",
       " <li><a href=\"/wiki/(S)-2-hydroxy-acid_oxidase\" title=\"(S)-2-hydroxy-acid oxidase\">(S)-2-hydroxy-acid oxidase</a></li>\n",
       " <li><a href=\"/wiki/(S)-2-hydroxy-fatty-acid_dehydrogenase\" title=\"(S)-2-hydroxy-fatty-acid dehydrogenase\">(S)-2-hydroxy-fatty-acid dehydrogenase</a></li>\n",
       " <li><a href=\"/wiki/(S)-2-methylmalate_dehydratase\" title=\"(S)-2-methylmalate dehydratase\">(S)-2-methylmalate dehydratase</a></li>\n",
       " <li><a href=\"/wiki/(S)-3-amino-2-methylpropionate_transaminase\" title=\"(S)-3-amino-2-methylpropionate transaminase\">(S)-3-amino-2-methylpropionate transaminase</a></li>\n",
       " <li><a href=\"/wiki/(S)-3-hydroxyacid-ester_dehydrogenase\" title=\"(S)-3-hydroxyacid-ester dehydrogenase\">(S)-3-hydroxyacid-ester dehydrogenase</a></li>\n",
       " <li><a href=\"/wiki/(S)-canadine_synthase\" title=\"(S)-canadine synthase\">(S)-canadine synthase</a></li>\n",
       " <li><a href=\"/wiki/(S)-carnitine_3-dehydrogenase\" title=\"(S)-carnitine 3-dehydrogenase\">(S)-carnitine 3-dehydrogenase</a></li>\n",
       " <li><a href=\"/wiki/(S)-cheilanthifoline_synthase\" title=\"(S)-cheilanthifoline synthase\">(S)-cheilanthifoline synthase</a></li>\n",
       " <li><a href=\"/wiki/(S)-coclaurine-N-methyltransferase\" title=\"(S)-coclaurine-N-methyltransferase\">(S)-coclaurine-N-methyltransferase</a></li>\n",
       " <li><a href=\"/wiki/(S)-limonene_3-monooxygenase\" title=\"(S)-limonene 3-monooxygenase\">(S)-limonene 3-monooxygenase</a></li>\n",
       " <li><a href=\"/wiki/(S)-limonene_6-monooxygenase\" title=\"(S)-limonene 6-monooxygenase\">(S)-limonene 6-monooxygenase</a></li>\n",
       " <li><a href=\"/wiki/(S)-limonene_7-monooxygenase\" title=\"(S)-limonene 7-monooxygenase\">(S)-limonene 7-monooxygenase</a></li>\n",
       " <li><a href=\"/wiki/(S)-mandelate_dehydrogenase\" title=\"(S)-mandelate dehydrogenase\">(S)-mandelate dehydrogenase</a></li>\n",
       " <li><a href=\"/wiki/(S)-methylmalonyl-CoA_hydrolase\" title=\"(S)-methylmalonyl-CoA hydrolase\">(S)-methylmalonyl-CoA hydrolase</a></li>\n",
       " <li><a href=\"/wiki/(S)-N-acetyl-1-phenylethylamine_hydrolase\" title=\"(S)-N-acetyl-1-phenylethylamine hydrolase\">(S)-N-acetyl-1-phenylethylamine hydrolase</a></li>\n",
       " <li><a href=\"/wiki/(S)-norcoclaurine_synthase\" title=\"(S)-norcoclaurine synthase\">(S)-norcoclaurine synthase</a></li>\n",
       " <li><a href=\"/wiki/(S)-scoulerine_9-O-methyltransferase\" title=\"(S)-scoulerine 9-O-methyltransferase\">(S)-scoulerine 9-O-methyltransferase</a></li>\n",
       " <li><a href=\"/wiki/(S)-stylopine_synthase\" title=\"(S)-stylopine synthase\">(S)-stylopine synthase</a></li>\n",
       " <li><a href=\"/wiki/(S)-tetrahydroprotoberberine_N-methyltransferase\" title=\"(S)-tetrahydroprotoberberine N-methyltransferase\">(S)-tetrahydroprotoberberine N-methyltransferase</a></li>\n",
       " <li><a href=\"/wiki/(S)-usnate_reductase\" title=\"(S)-usnate reductase\">(S)-usnate reductase</a></li>\n",
       " <li><a href=\"/wiki/(tyrosine_3-monooxygenase)_kinase\" title=\"(tyrosine 3-monooxygenase) kinase\">(tyrosine 3-monooxygenase) kinase</a></li></ul></div>,\n",
       " <div class=\"mw-category-group\"><h3>@</h3>\n",
       " <ul><li><a href=\"/wiki/@_!*\" title=\"@ !*\">@ !*</a></li></ul></div>,\n",
       " <div class=\"mw-category-group\"><h3>*</h3>\n",
       " <ul><li><a href=\"/wiki/The_****_of_the_Mothers\" title=\"The **** of the Mothers\">The **** of the Mothers</a></li></ul></div>,\n",
       " <div class=\"mw-category-group\"><h3>&amp;</h3>\n",
       " <ul><li><a href=\"/wiki/%26flix\" title=\"&amp;flix\">&amp;flix</a></li></ul></div>,\n",
       " <div class=\"mw-category-group\"><h3>+</h3>\n",
       " <ul><li><a href=\"/wiki/%2B_h.c.\" title=\"+ h.c.\">+ h.c.</a></li>\n",
       " <li><a href=\"/wiki/%2B46_18\" title=\"+46 18\">+46 18</a></li>\n",
       " <li><a href=\"/wiki/%2BTVI\" title=\"+TVI\">+TVI</a></li></ul></div>,\n",
       " <div class=\"mw-category-group\"><h3>∞</h3>\n",
       " <ul><li><a href=\"/wiki/%E2%88%9E-topos\" title=\"∞-topos\">∞-topos</a></li></ul></div>,\n",
       " <div class=\"mw-category-group\"><h3>$</h3>\n",
       " <ul><li><a href=\"/wiki/$10_Raise\" title=\"$10 Raise\">$10 Raise</a></li></ul></div>,\n",
       " <div class=\"mw-category-group\"><h3>0–9</h3>\n",
       " <ul><li><a href=\"/wiki/0_Avenue\" title=\"0 Avenue\">0 Avenue</a></li>\n",
       " <li><a href=\"/wiki/00_Schneider_%E2%80%93_Jagd_auf_Nihil_Baxter\" title=\"00 Schneider – Jagd auf Nihil Baxter\">00 Schneider – Jagd auf Nihil Baxter</a></li>\n",
       " <li><a href=\"/wiki/0-4-4-0\" title=\"0-4-4-0\">0-4-4-0</a></li>\n",
       " <li><a href=\"/wiki/0-4-4-2\" title=\"0-4-4-2\">0-4-4-2</a></li>\n",
       " <li><a href=\"/wiki/0-4-6\" title=\"0-4-6\">0-4-6</a></li>\n",
       " <li><a href=\"/wiki/0-8-6\" title=\"0-8-6\">0-8-6</a></li>\n",
       " <li><a href=\"/wiki/0-8-6-0T\" title=\"0-8-6-0T\">0-8-6-0T</a></li>\n",
       " <li><a href=\"/wiki/0-12-0\" title=\"0-12-0\">0-12-0</a></li>\n",
       " <li><a href=\"/wiki/0-D_Beat_Drop\" title=\"0-D Beat Drop\">0-D Beat Drop</a></li>\n",
       " <li><a href=\"/wiki/0,1-simple_lattice\" title=\"0,1-simple lattice\">0,1-simple lattice</a></li>\n",
       " <li><a href=\"/wiki/0:12_Revolution_in_Just_Listening\" title=\"0:12 Revolution in Just Listening\">0:12 Revolution in Just Listening</a></li>\n",
       " <li><a href=\"/wiki/0.0.0.0\" title=\"0.0.0.0\">0.0.0.0</a></li>\n",
       " <li><a href=\"/wiki/0.9_(album)\" title=\"0.9 (album)\">0.9 (album)</a></li>\n",
       " <li><a href=\"/wiki/00n3\" title=\"00n3\">00n3</a></li>\n",
       " <li><a href=\"/wiki/La_1_(Spanish_TV_channel)\" title=\"La 1 (Spanish TV channel)\">La 1 (Spanish TV channel)</a></li>\n",
       " <li><a href=\"/wiki/1_(Suburban_Kids_with_Biblical_Names_EP)\" title=\"1 (Suburban Kids with Biblical Names EP)\">1 (Suburban Kids with Biblical Names EP)</a></li>\n",
       " <li><a href=\"/wiki/1_%2B_1_Play_n_Fun\" title=\"1 + 1 Play n Fun\">1 + 1 Play n Fun</a></li>\n",
       " <li><a href=\"/wiki/1_%2B_2_(album)\" title=\"1 + 2 (album)\">1 + 2 (album)</a></li>\n",
       " <li><a href=\"/wiki/1/2_%2B_1/4_%2B_1/8_%2B_1/16_%2B_%E2%8B%AF\" title=\"1/2 + 1/4 + 1/8 + 1/16 + ⋯\">1/2 + 1/4 + 1/8 + 1/16 + ⋯</a></li>\n",
       " <li><a href=\"/wiki/1,_2,_3,_Sun\" title=\"1, 2, 3, Sun\">1, 2, 3, Sun</a></li>\n",
       " <li><a href=\"/wiki/1/2_%26_1/2\" title=\"1/2 &amp; 1/2\">1/2 &amp; 1/2</a></li>\n",
       " <li><a href=\"/wiki/1_and_2_Tai_Cochion\" title=\"1 and 2 Tai Cochion\">1 and 2 Tai Cochion</a></li>\n",
       " <li><a href=\"/wiki/1_Aquarii\" title=\"1 Aquarii\">1 Aquarii</a></li>\n",
       " <li><a href=\"/wiki/1_Area_Support_Group\" title=\"1 Area Support Group\">1 Area Support Group</a></li>\n",
       " <li><a href=\"/wiki/1_Arietis\" title=\"1 Arietis\">1 Arietis</a></li>\n",
       " <li><a href=\"/wiki/1st_Armoured_Brigade_(United_Kingdom)\" title=\"1st Armoured Brigade (United Kingdom)\">1st Armoured Brigade (United Kingdom)</a></li>\n",
       " <li><a href=\"/wiki/1st_Armoured_Reconnaissance_Brigade_(United_Kingdom)\" title=\"1st Armoured Reconnaissance Brigade (United Kingdom)\">1st Armoured Reconnaissance Brigade (United Kingdom)</a></li>\n",
       " <li><a href=\"/wiki/1_Aurigae\" title=\"1 Aurigae\">1 Aurigae</a></li>\n",
       " <li><a href=\"/wiki/1_Bentinck_Street\" title=\"1 Bentinck Street\">1 Bentinck Street</a></li>\n",
       " <li><a href=\"/wiki/1_Bo%C3%B6tis\" title=\"1 Boötis\">1 Boötis</a></li>\n",
       " <li><a href=\"/wiki/1_by_Two\" title=\"1 by Two\">1 by Two</a></li>\n",
       " <li><a href=\"/wiki/1_Cabot_Square\" title=\"1 Cabot Square\">1 Cabot Square</a></li>\n",
       " <li><a href=\"/wiki/1_Cancri\" title=\"1 Cancri\">1 Cancri</a></li>\n",
       " <li><a href=\"/wiki/1_Canis_Minoris\" title=\"1 Canis Minoris\">1 Canis Minoris</a></li>\n",
       " <li><a href=\"/wiki/1_Cassiopeiae\" title=\"1 Cassiopeiae\">1 Cassiopeiae</a></li>\n",
       " <li><a href=\"/wiki/1_centas\" title=\"1 centas\">1 centas</a></li>\n",
       " <li><a href=\"/wiki/1_Ceti\" title=\"1 Ceti\">1 Ceti</a></li>\n",
       " <li><a href=\"/wiki/1_Chor_2_Mastikhor\" title=\"1 Chor 2 Mastikhor\">1 Chor 2 Mastikhor</a></li>\n",
       " <li><a href=\"/wiki/1%C2%BA_Compa%C3%B1%C3%ADa_de_Comandos_%22Iquique%22\" title='1º Compañía de Comandos \"Iquique\"'>1º Compañía de Comandos \"Iquique\"</a></li>\n",
       " <li><a href=\"/wiki/1_Day_With\" title=\"1 Day With\">1 Day With</a></li>\n",
       " <li><a href=\"/wiki/1%C2%BA_de_Maio_de_Quelimane\" title=\"1º de Maio de Quelimane\">1º de Maio de Quelimane</a></li>\n",
       " <li><a href=\"/wiki/1%C2%BA_de_Maio_Esporte_Clube\" title=\"1º de Maio Esporte Clube\">1º de Maio Esporte Clube</a></li>\n",
       " <li><a href=\"/wiki/1%C2%BA_de_Mayo_(Seville_Metro)\" title=\"1º de Mayo (Seville Metro)\">1º de Mayo (Seville Metro)</a></li>\n",
       " <li><a href=\"/wiki/1_Decembrie\" title=\"1 Decembrie\">1 Decembrie</a></li>\n",
       " <li><a href=\"/wiki/1_Decembrie_1918_metro_station\" title=\"1 Decembrie 1918 metro station\">1 Decembrie 1918 metro station</a></li>\n",
       " <li><a href=\"/wiki/1_Decembrie_1918_University,_Alba_Iulia\" title=\"1 Decembrie 1918 University, Alba Iulia\">1 Decembrie 1918 University, Alba Iulia</a></li>\n",
       " <li><a href=\"/wiki/1st_Gibraltar_Brigade\" title=\"1st Gibraltar Brigade\">1st Gibraltar Brigade</a></li>\n",
       " <li><a href=\"/wiki/1_Hopeful_Rd.\" title=\"1 Hopeful Rd.\">1 Hopeful Rd.</a></li>\n",
       " <li><a href=\"/wiki/1_Lacertae\" title=\"1 Lacertae\">1 Lacertae</a></li>\n",
       " <li><a href=\"/wiki/1_Life_(Xandee_song)\" title=\"1 Life (Xandee song)\">1 Life (Xandee song)</a></li>\n",
       " <li><a href=\"/wiki/1_Lupi\" title=\"1 Lupi\">1 Lupi</a></li>\n",
       " <li><a href=\"/wiki/1_Lyncis\" title=\"1 Lyncis\">1 Lyncis</a></li>\n",
       " <li><a href=\"/wiki/1_Macquarie_Place\" title=\"1 Macquarie Place\">1 Macquarie Place</a></li>\n",
       " <li><a href=\"/wiki/Stadionul_1_Mai_(Slatina)\" title=\"Stadionul 1 Mai (Slatina)\">Stadionul 1 Mai (Slatina)</a></li>\n",
       " <li><a href=\"/wiki/Stadionul_1_Mai_(Slobozia)\" title=\"Stadionul 1 Mai (Slobozia)\">Stadionul 1 Mai (Slobozia)</a></li>\n",
       " <li><a href=\"/wiki/1_Mai_metro_station\" title=\"1 Mai metro station\">1 Mai metro station</a></li>\n",
       " <li><a href=\"/wiki/1_Maja_Coal_Mine\" title=\"1 Maja Coal Mine\">1 Maja Coal Mine</a></li>\n",
       " <li><a href=\"/wiki/1_%C2%B5m_process\" title=\"1 µm process\">1 µm process</a></li>\n",
       " <li><a href=\"/wiki/1_Mile_North\" title=\"1 Mile North\">1 Mile North</a></li>\n",
       " <li><a href=\"/wiki/1_Mile_to_You\" title=\"1 Mile to You\">1 Mile to You</a></li></ul></div>]"
      ]
     },
     "execution_count": 5,
     "metadata": {},
     "output_type": "execute_result"
    }
   ],
   "source": [
    "soup('div', {'class', \"mw-category-group\"})"
   ]
  },
  {
   "cell_type": "code",
   "execution_count": 6,
   "metadata": {},
   "outputs": [],
   "source": [
    "test1 = soup('div', {'class', \"mw-category-group\"})[0]"
   ]
  },
  {
   "cell_type": "code",
   "execution_count": 7,
   "metadata": {},
   "outputs": [
    {
     "data": {
      "text/plain": [
       "<div class=\"mw-category-group\"><h3>-</h3>\n",
       "<ul><li><a href=\"/wiki/(%E2%88%921)F\" title=\"(−1)F\">(−1)F</a></li>\n",
       "<li><a href=\"/wiki/-an\" title=\"-an\">-an</a></li>\n",
       "<li><a href=\"/wiki/-oate\" title=\"-oate\">-oate</a></li>\n",
       "<li><a href=\"/wiki/-ol\" title=\"-ol\">-ol</a></li>\n",
       "<li><a href=\"/wiki/-yne\" title=\"-yne\">-yne</a></li></ul></div>"
      ]
     },
     "execution_count": 7,
     "metadata": {},
     "output_type": "execute_result"
    }
   ],
   "source": [
    "test1"
   ]
  },
  {
   "cell_type": "code",
   "execution_count": 8,
   "metadata": {},
   "outputs": [
    {
     "data": {
      "text/plain": [
       "[<li><a href=\"/wiki/(%E2%88%921)F\" title=\"(−1)F\">(−1)F</a></li>,\n",
       " <li><a href=\"/wiki/-an\" title=\"-an\">-an</a></li>,\n",
       " <li><a href=\"/wiki/-oate\" title=\"-oate\">-oate</a></li>,\n",
       " <li><a href=\"/wiki/-ol\" title=\"-ol\">-ol</a></li>,\n",
       " <li><a href=\"/wiki/-yne\" title=\"-yne\">-yne</a></li>]"
      ]
     },
     "execution_count": 8,
     "metadata": {},
     "output_type": "execute_result"
    }
   ],
   "source": [
    "test1.findAll('li')"
   ]
  },
  {
   "cell_type": "code",
   "execution_count": 9,
   "metadata": {},
   "outputs": [
    {
     "name": "stdout",
     "output_type": "stream",
     "text": [
      "<li><a href=\"/wiki/(%E2%88%921)F\" title=\"(−1)F\">(−1)F</a></li>\n",
      "<li><a href=\"/wiki/-an\" title=\"-an\">-an</a></li>\n",
      "<li><a href=\"/wiki/-oate\" title=\"-oate\">-oate</a></li>\n",
      "<li><a href=\"/wiki/-ol\" title=\"-ol\">-ol</a></li>\n",
      "<li><a href=\"/wiki/-yne\" title=\"-yne\">-yne</a></li>\n"
     ]
    }
   ],
   "source": [
    "for thing in test1.findAll('li'):\n",
    "    print(thing)"
   ]
  },
  {
   "cell_type": "markdown",
   "metadata": {},
   "source": [
    "I think I've figured out what patterns I need find"
   ]
  },
  {
   "cell_type": "code",
   "execution_count": 10,
   "metadata": {},
   "outputs": [],
   "source": [
    "def yield_links_pages_stubs(soup):\n",
    "    \"\"\"\n",
    "    This is crawler that is designed to work through a single page of\n",
    "    Category:All stub articles page on wikipedia \n",
    "    returns [href, title]\n",
    "    \"\"\"\n",
    "    \n",
    "    for div_class in soup('div', {'class', \"mw-category-group\"}):\n",
    "        for li in div_class.findAll('li'):\n",
    "            yield li.a.attrs['href'], li.a.attrs['title']\n"
   ]
  },
  {
   "cell_type": "code",
   "execution_count": 11,
   "metadata": {},
   "outputs": [],
   "source": [
    "def next_page_link(soup):\n",
    "    \"\"\"\n",
    "    Takes beautiful soup object and iterates \n",
    "    through all 'a' categories and finds the one\n",
    "    which has 'next page' in it\n",
    "    \"\"\"\n",
    "    for next_link in soup.findAll('a'):\n",
    "        if 'next page' in next_link.contents:\n",
    "            return next_link.attrs['href']\n",
    "    return None\n",
    "    "
   ]
  },
  {
   "cell_type": "code",
   "execution_count": 12,
   "metadata": {},
   "outputs": [],
   "source": [
    "import pandas as pd"
   ]
  },
  {
   "cell_type": "code",
   "execution_count": 13,
   "metadata": {},
   "outputs": [
    {
     "name": "stdout",
     "output_type": "stream",
     "text": [
      "/w/index.php?title=Category:All_stub_articles&pagefrom=1+Month+2+Live#mw-pages\n",
      "/w/index.php?title=Category:All_stub_articles&pagefrom=1st+Division+%28Colombia%29#mw-pages\n",
      "/w/index.php?title=Category:All_stub_articles&pagefrom=2+Piscis+Austrini#mw-pages\n",
      "/w/index.php?title=Category:All_stub_articles&pagefrom=2D+Or+Not+2D+Animation+Festival#mw-pages\n",
      "/w/index.php?title=Category:All_stub_articles&pagefrom=2PAR#mw-pages\n",
      "/w/index.php?title=Category:All_stub_articles&pagefrom=3-MeO-PCMo#mw-pages\n",
      "/w/index.php?title=Category:All_stub_articles&pagefrom=3rd+Fighter+Aviation+Division+%28People%27s+Liberation+Army+Air+Force%29#mw-pages\n",
      "/w/index.php?title=Category:All_stub_articles&pagefrom=4-6-4-4#mw-pages\n",
      "/w/index.php?title=Category:All_stub_articles&pagefrom=4th+Cavalry+Brigade+%28Imperial+Japanese+Army%29#mw-pages\n",
      "/w/index.php?title=Category:All_stub_articles&pagefrom=5-0530%0AA530+road#mw-pages\n",
      "/w/index.php?title=Category:All_stub_articles&pagefrom=5th+U-boat+Flotilla#mw-pages\n"
     ]
    },
    {
     "ename": "KeyboardInterrupt",
     "evalue": "",
     "output_type": "error",
     "traceback": [
      "\u001b[1;31m---------------------------------------------------------------------------\u001b[0m",
      "\u001b[1;31mKeyboardInterrupt\u001b[0m                         Traceback (most recent call last)",
      "\u001b[1;32m<ipython-input-13-e247fc36ec42>\u001b[0m in \u001b[0;36m<module>\u001b[1;34m()\u001b[0m\n\u001b[0;32m     11\u001b[0m     \u001b[1;32mfor\u001b[0m \u001b[0mref\u001b[0m\u001b[1;33m,\u001b[0m \u001b[0mtitle\u001b[0m \u001b[1;32min\u001b[0m \u001b[0myield_links_pages_stubs\u001b[0m\u001b[1;33m(\u001b[0m\u001b[0msoup\u001b[0m\u001b[1;33m)\u001b[0m\u001b[1;33m:\u001b[0m\u001b[1;33m\u001b[0m\u001b[0m\n\u001b[0;32m     12\u001b[0m         \u001b[1;31m# This generates the link data of the stubs\u001b[0m\u001b[1;33m\u001b[0m\u001b[1;33m\u001b[0m\u001b[0m\n\u001b[1;32m---> 13\u001b[1;33m         \u001b[0mstub_dataframe\u001b[0m\u001b[1;33m.\u001b[0m\u001b[0mloc\u001b[0m\u001b[1;33m[\u001b[0m\u001b[0mdataframe_index\u001b[0m\u001b[1;33m]\u001b[0m \u001b[1;33m=\u001b[0m \u001b[1;33m[\u001b[0m\u001b[0mref\u001b[0m\u001b[1;33m,\u001b[0m \u001b[0mtitle\u001b[0m\u001b[1;33m]\u001b[0m\u001b[1;33m\u001b[0m\u001b[0m\n\u001b[0m\u001b[0;32m     14\u001b[0m         \u001b[0mdataframe_index\u001b[0m \u001b[1;33m+=\u001b[0m \u001b[1;36m1\u001b[0m\u001b[1;33m\u001b[0m\u001b[0m\n\u001b[0;32m     15\u001b[0m     \u001b[0mnext_link\u001b[0m \u001b[1;33m=\u001b[0m \u001b[0mnext_page_link\u001b[0m\u001b[1;33m(\u001b[0m\u001b[0msoup\u001b[0m\u001b[1;33m)\u001b[0m\u001b[1;33m\u001b[0m\u001b[0m\n",
      "\u001b[1;32mc:\\users\\willi\\appdata\\local\\programs\\python\\python36-32\\lib\\site-packages\\pandas\\core\\indexing.py\u001b[0m in \u001b[0;36m__setitem__\u001b[1;34m(self, key, value)\u001b[0m\n\u001b[0;32m    187\u001b[0m             \u001b[0mkey\u001b[0m \u001b[1;33m=\u001b[0m \u001b[0mcom\u001b[0m\u001b[1;33m.\u001b[0m\u001b[0m_apply_if_callable\u001b[0m\u001b[1;33m(\u001b[0m\u001b[0mkey\u001b[0m\u001b[1;33m,\u001b[0m \u001b[0mself\u001b[0m\u001b[1;33m.\u001b[0m\u001b[0mobj\u001b[0m\u001b[1;33m)\u001b[0m\u001b[1;33m\u001b[0m\u001b[0m\n\u001b[0;32m    188\u001b[0m         \u001b[0mindexer\u001b[0m \u001b[1;33m=\u001b[0m \u001b[0mself\u001b[0m\u001b[1;33m.\u001b[0m\u001b[0m_get_setitem_indexer\u001b[0m\u001b[1;33m(\u001b[0m\u001b[0mkey\u001b[0m\u001b[1;33m)\u001b[0m\u001b[1;33m\u001b[0m\u001b[0m\n\u001b[1;32m--> 189\u001b[1;33m         \u001b[0mself\u001b[0m\u001b[1;33m.\u001b[0m\u001b[0m_setitem_with_indexer\u001b[0m\u001b[1;33m(\u001b[0m\u001b[0mindexer\u001b[0m\u001b[1;33m,\u001b[0m \u001b[0mvalue\u001b[0m\u001b[1;33m)\u001b[0m\u001b[1;33m\u001b[0m\u001b[0m\n\u001b[0m\u001b[0;32m    190\u001b[0m \u001b[1;33m\u001b[0m\u001b[0m\n\u001b[0;32m    191\u001b[0m     \u001b[1;32mdef\u001b[0m \u001b[0m_validate_key\u001b[0m\u001b[1;33m(\u001b[0m\u001b[0mself\u001b[0m\u001b[1;33m,\u001b[0m \u001b[0mkey\u001b[0m\u001b[1;33m,\u001b[0m \u001b[0maxis\u001b[0m\u001b[1;33m)\u001b[0m\u001b[1;33m:\u001b[0m\u001b[1;33m\u001b[0m\u001b[0m\n",
      "\u001b[1;32mc:\\users\\willi\\appdata\\local\\programs\\python\\python36-32\\lib\\site-packages\\pandas\\core\\indexing.py\u001b[0m in \u001b[0;36m_setitem_with_indexer\u001b[1;34m(self, indexer, value)\u001b[0m\n\u001b[0;32m    449\u001b[0m                                        name=indexer)\n\u001b[0;32m    450\u001b[0m \u001b[1;33m\u001b[0m\u001b[0m\n\u001b[1;32m--> 451\u001b[1;33m                     \u001b[0mself\u001b[0m\u001b[1;33m.\u001b[0m\u001b[0mobj\u001b[0m\u001b[1;33m.\u001b[0m\u001b[0m_data\u001b[0m \u001b[1;33m=\u001b[0m \u001b[0mself\u001b[0m\u001b[1;33m.\u001b[0m\u001b[0mobj\u001b[0m\u001b[1;33m.\u001b[0m\u001b[0mappend\u001b[0m\u001b[1;33m(\u001b[0m\u001b[0mvalue\u001b[0m\u001b[1;33m)\u001b[0m\u001b[1;33m.\u001b[0m\u001b[0m_data\u001b[0m\u001b[1;33m\u001b[0m\u001b[0m\n\u001b[0m\u001b[0;32m    452\u001b[0m                     \u001b[0mself\u001b[0m\u001b[1;33m.\u001b[0m\u001b[0mobj\u001b[0m\u001b[1;33m.\u001b[0m\u001b[0m_maybe_update_cacher\u001b[0m\u001b[1;33m(\u001b[0m\u001b[0mclear\u001b[0m\u001b[1;33m=\u001b[0m\u001b[1;32mTrue\u001b[0m\u001b[1;33m)\u001b[0m\u001b[1;33m\u001b[0m\u001b[0m\n\u001b[0;32m    453\u001b[0m                     \u001b[1;32mreturn\u001b[0m \u001b[0mself\u001b[0m\u001b[1;33m.\u001b[0m\u001b[0mobj\u001b[0m\u001b[1;33m\u001b[0m\u001b[0m\n",
      "\u001b[1;32mc:\\users\\willi\\appdata\\local\\programs\\python\\python36-32\\lib\\site-packages\\pandas\\core\\frame.py\u001b[0m in \u001b[0;36mappend\u001b[1;34m(self, other, ignore_index, verify_integrity, sort)\u001b[0m\n\u001b[0;32m   6199\u001b[0m         return concat(to_concat, ignore_index=ignore_index,\n\u001b[0;32m   6200\u001b[0m                       \u001b[0mverify_integrity\u001b[0m\u001b[1;33m=\u001b[0m\u001b[0mverify_integrity\u001b[0m\u001b[1;33m,\u001b[0m\u001b[1;33m\u001b[0m\u001b[0m\n\u001b[1;32m-> 6201\u001b[1;33m                       sort=sort)\n\u001b[0m\u001b[0;32m   6202\u001b[0m \u001b[1;33m\u001b[0m\u001b[0m\n\u001b[0;32m   6203\u001b[0m     def join(self, other, on=None, how='left', lsuffix='', rsuffix='',\n",
      "\u001b[1;32mc:\\users\\willi\\appdata\\local\\programs\\python\\python36-32\\lib\\site-packages\\pandas\\core\\reshape\\concat.py\u001b[0m in \u001b[0;36mconcat\u001b[1;34m(objs, axis, join, join_axes, ignore_index, keys, levels, names, verify_integrity, sort, copy)\u001b[0m\n\u001b[0;32m    223\u001b[0m                        \u001b[0mkeys\u001b[0m\u001b[1;33m=\u001b[0m\u001b[0mkeys\u001b[0m\u001b[1;33m,\u001b[0m \u001b[0mlevels\u001b[0m\u001b[1;33m=\u001b[0m\u001b[0mlevels\u001b[0m\u001b[1;33m,\u001b[0m \u001b[0mnames\u001b[0m\u001b[1;33m=\u001b[0m\u001b[0mnames\u001b[0m\u001b[1;33m,\u001b[0m\u001b[1;33m\u001b[0m\u001b[0m\n\u001b[0;32m    224\u001b[0m                        \u001b[0mverify_integrity\u001b[0m\u001b[1;33m=\u001b[0m\u001b[0mverify_integrity\u001b[0m\u001b[1;33m,\u001b[0m\u001b[1;33m\u001b[0m\u001b[0m\n\u001b[1;32m--> 225\u001b[1;33m                        copy=copy, sort=sort)\n\u001b[0m\u001b[0;32m    226\u001b[0m     \u001b[1;32mreturn\u001b[0m \u001b[0mop\u001b[0m\u001b[1;33m.\u001b[0m\u001b[0mget_result\u001b[0m\u001b[1;33m(\u001b[0m\u001b[1;33m)\u001b[0m\u001b[1;33m\u001b[0m\u001b[0m\n\u001b[0;32m    227\u001b[0m \u001b[1;33m\u001b[0m\u001b[0m\n",
      "\u001b[1;32mc:\\users\\willi\\appdata\\local\\programs\\python\\python36-32\\lib\\site-packages\\pandas\\core\\reshape\\concat.py\u001b[0m in \u001b[0;36m__init__\u001b[1;34m(self, objs, axis, join, join_axes, keys, levels, names, ignore_index, verify_integrity, copy, sort)\u001b[0m\n\u001b[0;32m    376\u001b[0m         \u001b[0mself\u001b[0m\u001b[1;33m.\u001b[0m\u001b[0mcopy\u001b[0m \u001b[1;33m=\u001b[0m \u001b[0mcopy\u001b[0m\u001b[1;33m\u001b[0m\u001b[0m\n\u001b[0;32m    377\u001b[0m \u001b[1;33m\u001b[0m\u001b[0m\n\u001b[1;32m--> 378\u001b[1;33m         \u001b[0mself\u001b[0m\u001b[1;33m.\u001b[0m\u001b[0mnew_axes\u001b[0m \u001b[1;33m=\u001b[0m \u001b[0mself\u001b[0m\u001b[1;33m.\u001b[0m\u001b[0m_get_new_axes\u001b[0m\u001b[1;33m(\u001b[0m\u001b[1;33m)\u001b[0m\u001b[1;33m\u001b[0m\u001b[0m\n\u001b[0m\u001b[0;32m    379\u001b[0m \u001b[1;33m\u001b[0m\u001b[0m\n\u001b[0;32m    380\u001b[0m     \u001b[1;32mdef\u001b[0m \u001b[0mget_result\u001b[0m\u001b[1;33m(\u001b[0m\u001b[0mself\u001b[0m\u001b[1;33m)\u001b[0m\u001b[1;33m:\u001b[0m\u001b[1;33m\u001b[0m\u001b[0m\n",
      "\u001b[1;32mc:\\users\\willi\\appdata\\local\\programs\\python\\python36-32\\lib\\site-packages\\pandas\\core\\reshape\\concat.py\u001b[0m in \u001b[0;36m_get_new_axes\u001b[1;34m(self)\u001b[0m\n\u001b[0;32m    456\u001b[0m                 \u001b[0mnew_axes\u001b[0m\u001b[1;33m[\u001b[0m\u001b[0mi\u001b[0m\u001b[1;33m]\u001b[0m \u001b[1;33m=\u001b[0m \u001b[0max\u001b[0m\u001b[1;33m\u001b[0m\u001b[0m\n\u001b[0;32m    457\u001b[0m \u001b[1;33m\u001b[0m\u001b[0m\n\u001b[1;32m--> 458\u001b[1;33m         \u001b[0mnew_axes\u001b[0m\u001b[1;33m[\u001b[0m\u001b[0mself\u001b[0m\u001b[1;33m.\u001b[0m\u001b[0maxis\u001b[0m\u001b[1;33m]\u001b[0m \u001b[1;33m=\u001b[0m \u001b[0mself\u001b[0m\u001b[1;33m.\u001b[0m\u001b[0m_get_concat_axis\u001b[0m\u001b[1;33m(\u001b[0m\u001b[1;33m)\u001b[0m\u001b[1;33m\u001b[0m\u001b[0m\n\u001b[0m\u001b[0;32m    459\u001b[0m         \u001b[1;32mreturn\u001b[0m \u001b[0mnew_axes\u001b[0m\u001b[1;33m\u001b[0m\u001b[0m\n\u001b[0;32m    460\u001b[0m \u001b[1;33m\u001b[0m\u001b[0m\n",
      "\u001b[1;32mc:\\users\\willi\\appdata\\local\\programs\\python\\python36-32\\lib\\site-packages\\pandas\\core\\reshape\\concat.py\u001b[0m in \u001b[0;36m_get_concat_axis\u001b[1;34m(self)\u001b[0m\n\u001b[0;32m    509\u001b[0m \u001b[1;33m\u001b[0m\u001b[0m\n\u001b[0;32m    510\u001b[0m         \u001b[1;32mif\u001b[0m \u001b[0mself\u001b[0m\u001b[1;33m.\u001b[0m\u001b[0mkeys\u001b[0m \u001b[1;32mis\u001b[0m \u001b[1;32mNone\u001b[0m\u001b[1;33m:\u001b[0m\u001b[1;33m\u001b[0m\u001b[0m\n\u001b[1;32m--> 511\u001b[1;33m             \u001b[0mconcat_axis\u001b[0m \u001b[1;33m=\u001b[0m \u001b[0m_concat_indexes\u001b[0m\u001b[1;33m(\u001b[0m\u001b[0mindexes\u001b[0m\u001b[1;33m)\u001b[0m\u001b[1;33m\u001b[0m\u001b[0m\n\u001b[0m\u001b[0;32m    512\u001b[0m         \u001b[1;32melse\u001b[0m\u001b[1;33m:\u001b[0m\u001b[1;33m\u001b[0m\u001b[0m\n\u001b[0;32m    513\u001b[0m             concat_axis = _make_concat_multiindex(indexes, self.keys,\n",
      "\u001b[1;32mc:\\users\\willi\\appdata\\local\\programs\\python\\python36-32\\lib\\site-packages\\pandas\\core\\reshape\\concat.py\u001b[0m in \u001b[0;36m_concat_indexes\u001b[1;34m(indexes)\u001b[0m\n\u001b[0;32m    527\u001b[0m \u001b[1;33m\u001b[0m\u001b[0m\n\u001b[0;32m    528\u001b[0m \u001b[1;32mdef\u001b[0m \u001b[0m_concat_indexes\u001b[0m\u001b[1;33m(\u001b[0m\u001b[0mindexes\u001b[0m\u001b[1;33m)\u001b[0m\u001b[1;33m:\u001b[0m\u001b[1;33m\u001b[0m\u001b[0m\n\u001b[1;32m--> 529\u001b[1;33m     \u001b[1;32mreturn\u001b[0m \u001b[0mindexes\u001b[0m\u001b[1;33m[\u001b[0m\u001b[1;36m0\u001b[0m\u001b[1;33m]\u001b[0m\u001b[1;33m.\u001b[0m\u001b[0mappend\u001b[0m\u001b[1;33m(\u001b[0m\u001b[0mindexes\u001b[0m\u001b[1;33m[\u001b[0m\u001b[1;36m1\u001b[0m\u001b[1;33m:\u001b[0m\u001b[1;33m]\u001b[0m\u001b[1;33m)\u001b[0m\u001b[1;33m\u001b[0m\u001b[0m\n\u001b[0m\u001b[0;32m    530\u001b[0m \u001b[1;33m\u001b[0m\u001b[0m\n\u001b[0;32m    531\u001b[0m \u001b[1;33m\u001b[0m\u001b[0m\n",
      "\u001b[1;32mc:\\users\\willi\\appdata\\local\\programs\\python\\python36-32\\lib\\site-packages\\pandas\\core\\indexes\\base.py\u001b[0m in \u001b[0;36mappend\u001b[1;34m(self, other)\u001b[0m\n\u001b[0;32m   2124\u001b[0m         \u001b[0mname\u001b[0m \u001b[1;33m=\u001b[0m \u001b[1;32mNone\u001b[0m \u001b[1;32mif\u001b[0m \u001b[0mlen\u001b[0m\u001b[1;33m(\u001b[0m\u001b[0mnames\u001b[0m\u001b[1;33m)\u001b[0m \u001b[1;33m>\u001b[0m \u001b[1;36m1\u001b[0m \u001b[1;32melse\u001b[0m \u001b[0mself\u001b[0m\u001b[1;33m.\u001b[0m\u001b[0mname\u001b[0m\u001b[1;33m\u001b[0m\u001b[0m\n\u001b[0;32m   2125\u001b[0m \u001b[1;33m\u001b[0m\u001b[0m\n\u001b[1;32m-> 2126\u001b[1;33m         \u001b[1;32mreturn\u001b[0m \u001b[0mself\u001b[0m\u001b[1;33m.\u001b[0m\u001b[0m_concat\u001b[0m\u001b[1;33m(\u001b[0m\u001b[0mto_concat\u001b[0m\u001b[1;33m,\u001b[0m \u001b[0mname\u001b[0m\u001b[1;33m)\u001b[0m\u001b[1;33m\u001b[0m\u001b[0m\n\u001b[0m\u001b[0;32m   2127\u001b[0m \u001b[1;33m\u001b[0m\u001b[0m\n\u001b[0;32m   2128\u001b[0m     \u001b[1;32mdef\u001b[0m \u001b[0m_concat\u001b[0m\u001b[1;33m(\u001b[0m\u001b[0mself\u001b[0m\u001b[1;33m,\u001b[0m \u001b[0mto_concat\u001b[0m\u001b[1;33m,\u001b[0m \u001b[0mname\u001b[0m\u001b[1;33m)\u001b[0m\u001b[1;33m:\u001b[0m\u001b[1;33m\u001b[0m\u001b[0m\n",
      "\u001b[1;32mc:\\users\\willi\\appdata\\local\\programs\\python\\python36-32\\lib\\site-packages\\pandas\\core\\indexes\\base.py\u001b[0m in \u001b[0;36m_concat\u001b[1;34m(self, to_concat, name)\u001b[0m\n\u001b[0;32m   2131\u001b[0m \u001b[1;33m\u001b[0m\u001b[0m\n\u001b[0;32m   2132\u001b[0m         \u001b[1;32mif\u001b[0m \u001b[0mlen\u001b[0m\u001b[1;33m(\u001b[0m\u001b[0mtyps\u001b[0m\u001b[1;33m)\u001b[0m \u001b[1;33m==\u001b[0m \u001b[1;36m1\u001b[0m\u001b[1;33m:\u001b[0m\u001b[1;33m\u001b[0m\u001b[0m\n\u001b[1;32m-> 2133\u001b[1;33m             \u001b[1;32mreturn\u001b[0m \u001b[0mself\u001b[0m\u001b[1;33m.\u001b[0m\u001b[0m_concat_same_dtype\u001b[0m\u001b[1;33m(\u001b[0m\u001b[0mto_concat\u001b[0m\u001b[1;33m,\u001b[0m \u001b[0mname\u001b[0m\u001b[1;33m=\u001b[0m\u001b[0mname\u001b[0m\u001b[1;33m)\u001b[0m\u001b[1;33m\u001b[0m\u001b[0m\n\u001b[0m\u001b[0;32m   2134\u001b[0m         \u001b[1;32mreturn\u001b[0m \u001b[0m_concat\u001b[0m\u001b[1;33m.\u001b[0m\u001b[0m_concat_index_asobject\u001b[0m\u001b[1;33m(\u001b[0m\u001b[0mto_concat\u001b[0m\u001b[1;33m,\u001b[0m \u001b[0mname\u001b[0m\u001b[1;33m=\u001b[0m\u001b[0mname\u001b[0m\u001b[1;33m)\u001b[0m\u001b[1;33m\u001b[0m\u001b[0m\n\u001b[0;32m   2135\u001b[0m \u001b[1;33m\u001b[0m\u001b[0m\n",
      "\u001b[1;32mc:\\users\\willi\\appdata\\local\\programs\\python\\python36-32\\lib\\site-packages\\pandas\\core\\indexes\\numeric.py\u001b[0m in \u001b[0;36m_concat_same_dtype\u001b[1;34m(self, indexes, name)\u001b[0m\n\u001b[0;32m    106\u001b[0m \u001b[1;33m\u001b[0m\u001b[0m\n\u001b[0;32m    107\u001b[0m     \u001b[1;32mdef\u001b[0m \u001b[0m_concat_same_dtype\u001b[0m\u001b[1;33m(\u001b[0m\u001b[0mself\u001b[0m\u001b[1;33m,\u001b[0m \u001b[0mindexes\u001b[0m\u001b[1;33m,\u001b[0m \u001b[0mname\u001b[0m\u001b[1;33m)\u001b[0m\u001b[1;33m:\u001b[0m\u001b[1;33m\u001b[0m\u001b[0m\n\u001b[1;32m--> 108\u001b[1;33m         \u001b[1;32mreturn\u001b[0m \u001b[0m_concat\u001b[0m\u001b[1;33m.\u001b[0m\u001b[0m_concat_index_same_dtype\u001b[0m\u001b[1;33m(\u001b[0m\u001b[0mindexes\u001b[0m\u001b[1;33m)\u001b[0m\u001b[1;33m.\u001b[0m\u001b[0mrename\u001b[0m\u001b[1;33m(\u001b[0m\u001b[0mname\u001b[0m\u001b[1;33m)\u001b[0m\u001b[1;33m\u001b[0m\u001b[0m\n\u001b[0m\u001b[0;32m    109\u001b[0m \u001b[1;33m\u001b[0m\u001b[0m\n\u001b[0;32m    110\u001b[0m     \u001b[1;33m@\u001b[0m\u001b[0mproperty\u001b[0m\u001b[1;33m\u001b[0m\u001b[0m\n",
      "\u001b[1;32mc:\\users\\willi\\appdata\\local\\programs\\python\\python36-32\\lib\\site-packages\\pandas\\core\\dtypes\\concat.py\u001b[0m in \u001b[0;36m_concat_index_same_dtype\u001b[1;34m(indexes, klass)\u001b[0m\n\u001b[0;32m    510\u001b[0m \u001b[1;32mdef\u001b[0m \u001b[0m_concat_index_same_dtype\u001b[0m\u001b[1;33m(\u001b[0m\u001b[0mindexes\u001b[0m\u001b[1;33m,\u001b[0m \u001b[0mklass\u001b[0m\u001b[1;33m=\u001b[0m\u001b[1;32mNone\u001b[0m\u001b[1;33m)\u001b[0m\u001b[1;33m:\u001b[0m\u001b[1;33m\u001b[0m\u001b[0m\n\u001b[0;32m    511\u001b[0m     \u001b[0mklass\u001b[0m \u001b[1;33m=\u001b[0m \u001b[0mklass\u001b[0m \u001b[1;32mif\u001b[0m \u001b[0mklass\u001b[0m \u001b[1;32mis\u001b[0m \u001b[1;32mnot\u001b[0m \u001b[1;32mNone\u001b[0m \u001b[1;32melse\u001b[0m \u001b[0mindexes\u001b[0m\u001b[1;33m[\u001b[0m\u001b[1;36m0\u001b[0m\u001b[1;33m]\u001b[0m\u001b[1;33m.\u001b[0m\u001b[0m__class__\u001b[0m\u001b[1;33m\u001b[0m\u001b[0m\n\u001b[1;32m--> 512\u001b[1;33m     \u001b[1;32mreturn\u001b[0m \u001b[0mklass\u001b[0m\u001b[1;33m(\u001b[0m\u001b[0mnp\u001b[0m\u001b[1;33m.\u001b[0m\u001b[0mconcatenate\u001b[0m\u001b[1;33m(\u001b[0m\u001b[1;33m[\u001b[0m\u001b[0mx\u001b[0m\u001b[1;33m.\u001b[0m\u001b[0m_values\u001b[0m \u001b[1;32mfor\u001b[0m \u001b[0mx\u001b[0m \u001b[1;32min\u001b[0m \u001b[0mindexes\u001b[0m\u001b[1;33m]\u001b[0m\u001b[1;33m)\u001b[0m\u001b[1;33m)\u001b[0m\u001b[1;33m\u001b[0m\u001b[0m\n\u001b[0m\u001b[0;32m    513\u001b[0m \u001b[1;33m\u001b[0m\u001b[0m\n\u001b[0;32m    514\u001b[0m \u001b[1;33m\u001b[0m\u001b[0m\n",
      "\u001b[1;31mKeyboardInterrupt\u001b[0m: "
     ]
    }
   ],
   "source": [
    "stub_dataframe = pd.DataFrame(columns=['href', 'title'])\n",
    "\n",
    "base_link = \"https://en.wikipedia.org\"\n",
    "initial_link = \"https://en.wikipedia.org/wiki/Category:All_stub_articles\"\n",
    "\n",
    "html = requests.get(initial_link)\n",
    "soup = BeautifulSoup(html.text, 'html5lib')\n",
    "\n",
    "dataframe_index = 0\n",
    "while True:\n",
    "    for ref, title in yield_links_pages_stubs(soup):\n",
    "        # This generates the link data of the stubs\n",
    "        stub_dataframe.loc[dataframe_index] = [ref, title]\n",
    "        dataframe_index += 1\n",
    "        next_link = next_page_link(soup)\n",
    "        \n",
    "        # Check to see if it has crawled through every page\n",
    "        if next_link is None:\n",
    "            break\n",
    "        \n",
    "    print(next_link)\n",
    "    html = requests.get(base_link + next_link)\n",
    "    soup = BeautifulSoup(html.text, 'html5lib')\n"
   ]
  },
  {
   "cell_type": "markdown",
   "metadata": {},
   "source": [
    "Though this code works there is a serious bottleneck with dynamically appending data to a pandas dataframe. To overcome this I'll create a bunch of Pd.DataFrames and then dump them into a csv file."
   ]
  },
  {
   "cell_type": "code",
   "execution_count": 15,
   "metadata": {},
   "outputs": [],
   "source": [
    "import os"
   ]
  },
  {
   "cell_type": "code",
   "execution_count": 19,
   "metadata": {},
   "outputs": [
    {
     "name": "stdout",
     "output_type": "stream",
     "text": [
      "/w/index.php?title=Category:All_stub_articles&pagefrom=1+Month+2+Live#mw-pages\n",
      "/w/index.php?title=Category:All_stub_articles&pagefrom=1st+Division+%28Colombia%29#mw-pages\n",
      "/w/index.php?title=Category:All_stub_articles&pagefrom=2+Piscis+Austrini#mw-pages\n",
      "/w/index.php?title=Category:All_stub_articles&pagefrom=2D+Or+Not+2D+Animation+Festival#mw-pages\n",
      "/w/index.php?title=Category:All_stub_articles&pagefrom=2PAR#mw-pages\n"
     ]
    },
    {
     "ename": "KeyboardInterrupt",
     "evalue": "",
     "output_type": "error",
     "traceback": [
      "\u001b[1;31m---------------------------------------------------------------------------\u001b[0m",
      "\u001b[1;31mKeyError\u001b[0m                                  Traceback (most recent call last)",
      "\u001b[1;32mc:\\users\\willi\\appdata\\local\\programs\\python\\python36-32\\lib\\site-packages\\pandas\\core\\indexes\\base.py\u001b[0m in \u001b[0;36mget_loc\u001b[1;34m(self, key, method, tolerance)\u001b[0m\n\u001b[0;32m   3062\u001b[0m             \u001b[1;32mtry\u001b[0m\u001b[1;33m:\u001b[0m\u001b[1;33m\u001b[0m\u001b[0m\n\u001b[1;32m-> 3063\u001b[1;33m                 \u001b[1;32mreturn\u001b[0m \u001b[0mself\u001b[0m\u001b[1;33m.\u001b[0m\u001b[0m_engine\u001b[0m\u001b[1;33m.\u001b[0m\u001b[0mget_loc\u001b[0m\u001b[1;33m(\u001b[0m\u001b[0mkey\u001b[0m\u001b[1;33m)\u001b[0m\u001b[1;33m\u001b[0m\u001b[0m\n\u001b[0m\u001b[0;32m   3064\u001b[0m             \u001b[1;32mexcept\u001b[0m \u001b[0mKeyError\u001b[0m\u001b[1;33m:\u001b[0m\u001b[1;33m\u001b[0m\u001b[0m\n",
      "\u001b[1;32mpandas\\_libs\\index.pyx\u001b[0m in \u001b[0;36mpandas._libs.index.IndexEngine.get_loc\u001b[1;34m()\u001b[0m\n",
      "\u001b[1;32mpandas\\_libs\\index.pyx\u001b[0m in \u001b[0;36mpandas._libs.index.IndexEngine.get_loc\u001b[1;34m()\u001b[0m\n",
      "\u001b[1;32mpandas\\_libs\\hashtable_class_helper.pxi\u001b[0m in \u001b[0;36mpandas._libs.hashtable.Int64HashTable.get_item\u001b[1;34m()\u001b[0m\n",
      "\u001b[1;32mpandas\\_libs\\hashtable_class_helper.pxi\u001b[0m in \u001b[0;36mpandas._libs.hashtable.Int64HashTable.get_item\u001b[1;34m()\u001b[0m\n",
      "\u001b[1;31mKeyError\u001b[0m: 1178",
      "\nDuring handling of the above exception, another exception occurred:\n",
      "\u001b[1;31mKeyboardInterrupt\u001b[0m                         Traceback (most recent call last)",
      "\u001b[1;32m<ipython-input-19-9719a1059bb9>\u001b[0m in \u001b[0;36m<module>\u001b[1;34m()\u001b[0m\n\u001b[0;32m     17\u001b[0m     \u001b[1;32mfor\u001b[0m \u001b[0mref\u001b[0m\u001b[1;33m,\u001b[0m \u001b[0mtitle\u001b[0m \u001b[1;32min\u001b[0m \u001b[0myield_links_pages_stubs\u001b[0m\u001b[1;33m(\u001b[0m\u001b[0msoup\u001b[0m\u001b[1;33m)\u001b[0m\u001b[1;33m:\u001b[0m\u001b[1;33m\u001b[0m\u001b[0m\n\u001b[0;32m     18\u001b[0m         \u001b[1;31m# This generates the link data of the stubs\u001b[0m\u001b[1;33m\u001b[0m\u001b[1;33m\u001b[0m\u001b[0m\n\u001b[1;32m---> 19\u001b[1;33m         \u001b[0mstub_dataframe\u001b[0m\u001b[1;33m.\u001b[0m\u001b[0mloc\u001b[0m\u001b[1;33m[\u001b[0m\u001b[0mdataframe_index\u001b[0m\u001b[1;33m]\u001b[0m \u001b[1;33m=\u001b[0m \u001b[1;33m[\u001b[0m\u001b[0mref\u001b[0m\u001b[1;33m,\u001b[0m \u001b[0mtitle\u001b[0m\u001b[1;33m]\u001b[0m\u001b[1;33m\u001b[0m\u001b[0m\n\u001b[0m\u001b[0;32m     20\u001b[0m         \u001b[0mdataframe_index\u001b[0m \u001b[1;33m+=\u001b[0m \u001b[1;36m1\u001b[0m\u001b[1;33m\u001b[0m\u001b[0m\n\u001b[0;32m     21\u001b[0m         \u001b[0mnext_link\u001b[0m \u001b[1;33m=\u001b[0m \u001b[0mnext_page_link\u001b[0m\u001b[1;33m(\u001b[0m\u001b[0msoup\u001b[0m\u001b[1;33m)\u001b[0m\u001b[1;33m\u001b[0m\u001b[0m\n",
      "\u001b[1;32mc:\\users\\willi\\appdata\\local\\programs\\python\\python36-32\\lib\\site-packages\\pandas\\core\\indexing.py\u001b[0m in \u001b[0;36m__setitem__\u001b[1;34m(self, key, value)\u001b[0m\n\u001b[0;32m    186\u001b[0m         \u001b[1;32melse\u001b[0m\u001b[1;33m:\u001b[0m\u001b[1;33m\u001b[0m\u001b[0m\n\u001b[0;32m    187\u001b[0m             \u001b[0mkey\u001b[0m \u001b[1;33m=\u001b[0m \u001b[0mcom\u001b[0m\u001b[1;33m.\u001b[0m\u001b[0m_apply_if_callable\u001b[0m\u001b[1;33m(\u001b[0m\u001b[0mkey\u001b[0m\u001b[1;33m,\u001b[0m \u001b[0mself\u001b[0m\u001b[1;33m.\u001b[0m\u001b[0mobj\u001b[0m\u001b[1;33m)\u001b[0m\u001b[1;33m\u001b[0m\u001b[0m\n\u001b[1;32m--> 188\u001b[1;33m         \u001b[0mindexer\u001b[0m \u001b[1;33m=\u001b[0m \u001b[0mself\u001b[0m\u001b[1;33m.\u001b[0m\u001b[0m_get_setitem_indexer\u001b[0m\u001b[1;33m(\u001b[0m\u001b[0mkey\u001b[0m\u001b[1;33m)\u001b[0m\u001b[1;33m\u001b[0m\u001b[0m\n\u001b[0m\u001b[0;32m    189\u001b[0m         \u001b[0mself\u001b[0m\u001b[1;33m.\u001b[0m\u001b[0m_setitem_with_indexer\u001b[0m\u001b[1;33m(\u001b[0m\u001b[0mindexer\u001b[0m\u001b[1;33m,\u001b[0m \u001b[0mvalue\u001b[0m\u001b[1;33m)\u001b[0m\u001b[1;33m\u001b[0m\u001b[0m\n\u001b[0;32m    190\u001b[0m \u001b[1;33m\u001b[0m\u001b[0m\n",
      "\u001b[1;32mc:\\users\\willi\\appdata\\local\\programs\\python\\python36-32\\lib\\site-packages\\pandas\\core\\indexing.py\u001b[0m in \u001b[0;36m_get_setitem_indexer\u001b[1;34m(self, key)\u001b[0m\n\u001b[0;32m    172\u001b[0m \u001b[1;33m\u001b[0m\u001b[0m\n\u001b[0;32m    173\u001b[0m         \u001b[1;32mtry\u001b[0m\u001b[1;33m:\u001b[0m\u001b[1;33m\u001b[0m\u001b[0m\n\u001b[1;32m--> 174\u001b[1;33m             \u001b[1;32mreturn\u001b[0m \u001b[0mself\u001b[0m\u001b[1;33m.\u001b[0m\u001b[0m_convert_to_indexer\u001b[0m\u001b[1;33m(\u001b[0m\u001b[0mkey\u001b[0m\u001b[1;33m,\u001b[0m \u001b[0mis_setter\u001b[0m\u001b[1;33m=\u001b[0m\u001b[1;32mTrue\u001b[0m\u001b[1;33m)\u001b[0m\u001b[1;33m\u001b[0m\u001b[0m\n\u001b[0m\u001b[0;32m    175\u001b[0m         \u001b[1;32mexcept\u001b[0m \u001b[0mTypeError\u001b[0m \u001b[1;32mas\u001b[0m \u001b[0me\u001b[0m\u001b[1;33m:\u001b[0m\u001b[1;33m\u001b[0m\u001b[0m\n\u001b[0;32m    176\u001b[0m \u001b[1;33m\u001b[0m\u001b[0m\n",
      "\u001b[1;32mc:\\users\\willi\\appdata\\local\\programs\\python\\python36-32\\lib\\site-packages\\pandas\\core\\indexing.py\u001b[0m in \u001b[0;36m_convert_to_indexer\u001b[1;34m(self, obj, axis, is_setter)\u001b[0m\n\u001b[0;32m   1261\u001b[0m         \u001b[1;31m# if we are a label return me\u001b[0m\u001b[1;33m\u001b[0m\u001b[1;33m\u001b[0m\u001b[0m\n\u001b[0;32m   1262\u001b[0m         \u001b[1;32mtry\u001b[0m\u001b[1;33m:\u001b[0m\u001b[1;33m\u001b[0m\u001b[0m\n\u001b[1;32m-> 1263\u001b[1;33m             \u001b[1;32mreturn\u001b[0m \u001b[0mlabels\u001b[0m\u001b[1;33m.\u001b[0m\u001b[0mget_loc\u001b[0m\u001b[1;33m(\u001b[0m\u001b[0mobj\u001b[0m\u001b[1;33m)\u001b[0m\u001b[1;33m\u001b[0m\u001b[0m\n\u001b[0m\u001b[0;32m   1264\u001b[0m         \u001b[1;32mexcept\u001b[0m \u001b[0mLookupError\u001b[0m\u001b[1;33m:\u001b[0m\u001b[1;33m\u001b[0m\u001b[0m\n\u001b[0;32m   1265\u001b[0m             \u001b[1;32mif\u001b[0m \u001b[0misinstance\u001b[0m\u001b[1;33m(\u001b[0m\u001b[0mobj\u001b[0m\u001b[1;33m,\u001b[0m \u001b[0mtuple\u001b[0m\u001b[1;33m)\u001b[0m \u001b[1;32mand\u001b[0m \u001b[0misinstance\u001b[0m\u001b[1;33m(\u001b[0m\u001b[0mlabels\u001b[0m\u001b[1;33m,\u001b[0m \u001b[0mMultiIndex\u001b[0m\u001b[1;33m)\u001b[0m\u001b[1;33m:\u001b[0m\u001b[1;33m\u001b[0m\u001b[0m\n",
      "\u001b[1;32mc:\\users\\willi\\appdata\\local\\programs\\python\\python36-32\\lib\\site-packages\\pandas\\core\\indexes\\base.py\u001b[0m in \u001b[0;36mget_loc\u001b[1;34m(self, key, method, tolerance)\u001b[0m\n\u001b[0;32m   3061\u001b[0m                                  'backfill or nearest lookups')\n\u001b[0;32m   3062\u001b[0m             \u001b[1;32mtry\u001b[0m\u001b[1;33m:\u001b[0m\u001b[1;33m\u001b[0m\u001b[0m\n\u001b[1;32m-> 3063\u001b[1;33m                 \u001b[1;32mreturn\u001b[0m \u001b[0mself\u001b[0m\u001b[1;33m.\u001b[0m\u001b[0m_engine\u001b[0m\u001b[1;33m.\u001b[0m\u001b[0mget_loc\u001b[0m\u001b[1;33m(\u001b[0m\u001b[0mkey\u001b[0m\u001b[1;33m)\u001b[0m\u001b[1;33m\u001b[0m\u001b[0m\n\u001b[0m\u001b[0;32m   3064\u001b[0m             \u001b[1;32mexcept\u001b[0m \u001b[0mKeyError\u001b[0m\u001b[1;33m:\u001b[0m\u001b[1;33m\u001b[0m\u001b[0m\n\u001b[0;32m   3065\u001b[0m                 \u001b[1;32mreturn\u001b[0m \u001b[0mself\u001b[0m\u001b[1;33m.\u001b[0m\u001b[0m_engine\u001b[0m\u001b[1;33m.\u001b[0m\u001b[0mget_loc\u001b[0m\u001b[1;33m(\u001b[0m\u001b[0mself\u001b[0m\u001b[1;33m.\u001b[0m\u001b[0m_maybe_cast_indexer\u001b[0m\u001b[1;33m(\u001b[0m\u001b[0mkey\u001b[0m\u001b[1;33m)\u001b[0m\u001b[1;33m)\u001b[0m\u001b[1;33m\u001b[0m\u001b[0m\n",
      "\u001b[1;31mKeyboardInterrupt\u001b[0m: "
     ]
    }
   ],
   "source": [
    "base_link = \"https://en.wikipedia.org\"\n",
    "initial_link = \"https://en.wikipedia.org/wiki/Category:All_stub_articles\"\n",
    "\n",
    "html = requests.get(initial_link)\n",
    "soup = BeautifulSoup(html.text, 'html5lib')\n",
    "\n",
    "dataframe_index = 0\n",
    "# dumping a csv for each page that's queried\n",
    "page_count = 0\n",
    "\n",
    "while True:\n",
    "    \n",
    "    stub_dataframe = pd.DataFrame(columns=['href', 'title'])\n",
    "    \n",
    "    for ref, title in yield_links_pages_stubs(soup):\n",
    "        # This generates the link data of the stubs\n",
    "        stub_dataframe.loc[dataframe_index] = [ref, title]\n",
    "        dataframe_index += 1\n",
    "        next_link = next_page_link(soup)\n",
    "        \n",
    "        # Check to see if it has crawled through every page\n",
    "        if next_link is None:\n",
    "            break\n",
    "    \n",
    "    stub_dataframe.to_csv(os.path.join('../data/', 'stub_data_20180614_file_' + str(page_count) + '.csv'))\n",
    "    page_count += 1  \n",
    "                          \n",
    "    print(next_link)\n",
    "                          \n",
    "    html = requests.get(base_link + next_link)\n",
    "    soup = BeautifulSoup(html.text, 'html5lib')"
   ]
  },
  {
   "cell_type": "code",
   "execution_count": null,
   "metadata": {},
   "outputs": [],
   "source": []
  }
 ],
 "metadata": {
  "kernelspec": {
   "display_name": "Python 3",
   "language": "python",
   "name": "python3"
  },
  "language_info": {
   "codemirror_mode": {
    "name": "ipython",
    "version": 3
   },
   "file_extension": ".py",
   "mimetype": "text/x-python",
   "name": "python",
   "nbconvert_exporter": "python",
   "pygments_lexer": "ipython3",
   "version": "3.6.5"
  }
 },
 "nbformat": 4,
 "nbformat_minor": 2
}
