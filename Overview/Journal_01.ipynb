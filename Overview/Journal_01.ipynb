{
 "cells": [
  {
   "cell_type": "markdown",
   "metadata": {},
   "source": [
    "# 20180618\n",
    "\n",
    "\n",
    "My intial goal with this work was to make a predictive model of what causes wikipedia stubs to be expanded. In the short timve I've spent on that pursuit I've realized it's currently intractable for me. It is unclear to me that in subseting from the 2mil stubs that I would hit on an actively developed subset of them.... I'm still interseted in this problem but I'm going to to pursue it from a different angle. \n",
    "\n",
    "I want to ultimately answer the question: \"How does the knowledge base of wikipedia grow?\" I want to understand how the network of \"quality\" entries in wikipedia are formed. Though the growth of the number of articles on wikipedia has wanned, the rate of growth of wikipedia as measured by lines of text has been linearlly increasing (https://en.wikipedia.org/wiki/Wikipedia:Modelling_Wikipedia%27s_growth). From my limited research it doesn't seem like this question has been answered. Though Wikipedia's growth is likely fueled by current events, I'm going to attempt to learn as much as I can based on wikipedia activity alone. \n",
    "\n",
    "I believe it is possible to:\n",
    "\n",
    "* look at the revision history of an article \n",
    "* look at historical pageview history of an article \n",
    "* Query linked pages (is it possible to query old links?) <-- This may be a challenge\n",
    "\n",
    "\n",
    "## Information on revison histories\n",
    "\n",
    "https://en.wikipedia.org/wiki/Help:Page_history\n",
    "\n",
    "https://en.wikipedia.org/wiki/Wikipedia:Edit_filter\n",
    "\n",
    "https://en.wikipedia.org/wiki/Special:Export\n",
    "\n",
    "\n",
    "\n",
    "## Packages which could be of interest\n",
    "\n",
    "https://radimrehurek.com/gensim/tutorial.html\n",
    "\n",
    "\n",
    "## Plan for approaching this question\n",
    "\n",
    "**Initial question:** \n",
    "\n",
    "Does pageview data correlate with editing frequency \n",
    "\n",
    "**Aproach:** \n",
    "\n",
    "1. Create a version of a wikipage editing history that is possible to interact with\n",
    "    * Length of text \n",
    "    * Number of sections\n",
    "    * Number of internal wikipedia links (intralinks)\n",
    "    * Number of external wikipedia links (interlinks)\n",
    "    * Timestamps of editing \n",
    "\n",
    "\n",
    "2. Gather logitudional pageview data for a page\n",
    "    * Number of views per day/week/year\n"
   ]
  },
  {
   "cell_type": "code",
   "execution_count": null,
   "metadata": {},
   "outputs": [],
   "source": []
  }
 ],
 "metadata": {
  "kernelspec": {
   "display_name": "Python 3",
   "language": "python",
   "name": "python3"
  },
  "language_info": {
   "codemirror_mode": {
    "name": "ipython",
    "version": 3
   },
   "file_extension": ".py",
   "mimetype": "text/x-python",
   "name": "python",
   "nbconvert_exporter": "python",
   "pygments_lexer": "ipython3",
   "version": "3.6.5"
  }
 },
 "nbformat": 4,
 "nbformat_minor": 2
}
