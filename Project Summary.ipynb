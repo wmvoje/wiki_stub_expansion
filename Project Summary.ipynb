{
 "cells": [
  {
   "cell_type": "markdown",
   "metadata": {},
   "source": [
    "# Summary\n",
    "\n",
    "A data science project which models the popularity of Wikipedia pages based on page attributes. Examples of these attributes are: number of links in an page, number of words in a page, and the number of edits a page has received. I am pursuing this project because I’ve been fascinated with Wikipedia since I discovered it 15 years ago. Thus far, I’ve written data collection scripts, metadata processing scripts, data cleaning scripts, and have started my analysis. Preliminary analysis on ~8000 wikipedia pages has identified that the length of a page and the number of pages that contain links that point to it positively correlate with its popularity. However, I have not yet been able to show that increases in these metrics directly result increased popularity."
   ]
  },
  {
   "cell_type": "markdown",
   "metadata": {},
   "source": [
    "# Hypotheses \n",
    "\n",
    "## 1. Characteristics of a wikipeida page impact its popularity\n",
    "\n",
    "A wikipedia page can contain an arbitrary amount of text, external links, wikipedia links, and image files. It is possible that there exists an optimal set of the characteristics for a pages popularity. \n",
    "\n",
    "    Coefficients: \n",
    "    'log10_wikifile_count: 0.7346930286215331', \n",
    "    'log10_external_link_count: 0.4306072022544607'\n",
    "    'log10_wikilink_count: 0.007713652176692614', \n",
    "    'log10_word_count: -0.00817192435281501'\n",
    "    'heading_count: -0.004087612641850506', \n",
    "    \n",
    "    Mean squared error: 0.48\n",
    "    Variance score: 0.33\n",
    "    \n",
    "\n",
    "\n",
    "## 2. Wikipedia page views are a predictor of high editing frequency\n",
    "\n",
    "\n",
    "## 3. Activity on wikipedia is succeptible to weekday and seasonal effects.\n"
   ]
  },
  {
   "cell_type": "markdown",
   "metadata": {},
   "source": [
    "# Data summary \n",
    "\n",
    "All data that were collected come from en.wikipedia. A description of the data and how it is stored is detailed below:\n",
    "\n",
    "## Description of Data\n",
    "\n",
    "**1. Revision history of pages with metadata from ~June 2015 - ~July 2018**\n",
    "\n",
    "* Description of data\n",
    "* Metadata includes: 'page_title', 'revid', 'parentid', 'user', 'userid', 'timestamp', 'comment', 'character_count',   'word_count', 'external_link_count', 'heading_count', 'wikifile_count', 'wikilink_count'\n",
    "* Data are stored in individual CSV files for each page - with each row corresponding registered revision\n",
    "* There is a unique CSV for \n",
    "    \n",
    "**2. Historical wiki link data for each page**\n",
    "    \n",
    "* Storage: single layer dictionary stored as a .json for each page\n",
    "* Storage Description: Keys are the title of a wikipage this linked to by the titular wikipage, value is a list of all revision IDs of the titular page which contain that wikilink\n",
    "    \n",
    "**3. Daily page views for each page from ~June 2015 - ~July 2018**\n",
    "\n",
    "* Data consists of 'page_title', 'timestamp', 'page_views'\n",
    "* Data is stored in a single CSV file\n",
    "    \n",
    "**4. Backlinks for each wikipedia page from a single day ~July 2018**\n",
    "\n",
    "* Description of data: This data enumarates all of the pages on wikpedia which point to a specific page\n",
    "* Storage: Single .json file \n",
    "* Storage description: .json dicitionary key is the wikipage and value is a list of tuples (page_ID, page_title) which each describe a single page which points to to this page\n",
    "\n",
    "## How data was collected\n",
    "\n",
    "Revision history and historical wiki link: [20180626_WEV_Collection_revision_history_and_links](data_collection_notebooks/20180626_WEV_Collection_revision_history_and_links.ipynb)\n",
    "\n",
    "Page view data: [20180628_WEV_Pageview_data_collection](data_collection_notebooks/20180628_WEV_Pageview_data_collection.ipynb)\n",
    "\n",
    "Backlinks: [20180706_WEV_Collecting_backinks](data_collection_notebooks/20180706_WEV_Collecting_backinks.ipynb)\n",
    "\n"
   ]
  },
  {
   "cell_type": "code",
   "execution_count": null,
   "metadata": {},
   "outputs": [],
   "source": []
  }
 ],
 "metadata": {
  "kernelspec": {
   "display_name": "Python 3",
   "language": "python",
   "name": "python3"
  },
  "language_info": {
   "codemirror_mode": {
    "name": "ipython",
    "version": 3
   },
   "file_extension": ".py",
   "mimetype": "text/x-python",
   "name": "python",
   "nbconvert_exporter": "python",
   "pygments_lexer": "ipython3",
   "version": "3.6.6"
  }
 },
 "nbformat": 4,
 "nbformat_minor": 2
}
