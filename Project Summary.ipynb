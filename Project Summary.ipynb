{
 "cells": [
  {
   "cell_type": "markdown",
   "metadata": {},
   "source": [
    "# Summary\n",
    "\n",
    "Key findings of hypotheses tested "
   ]
  },
  {
   "cell_type": "markdown",
   "metadata": {},
   "source": [
    "# Hypotheses \n",
    "\n",
    "## 1. Characteristics of a wikipeida page impact its popularity\n",
    "\n",
    "A wikipedia page can contain an arbitrary amount of text, external links, wikipedia links, and image files. It is possible that there exists an optimal set of the characteristics for a pages popularity. \n",
    "\n",
    "## 2. Wikipedia page views are a predictor of high editing frequency\n",
    "\n",
    "Things I'll do:\n",
    "* For each page which recieved a high frequency of edits in a 7 day span - was there a concurrent increase in pageviews on that page? Was there a preceding increase pageviews?\n",
    "\n",
    "\n",
    "## 3. Activity on wikipedia is succeptible to weekday and seasonal effects.\n"
   ]
  },
  {
   "cell_type": "markdown",
   "metadata": {},
   "source": [
    "# Data summary \n",
    "\n",
    "## Collection \n",
    "\n",
    "## Processing"
   ]
  },
  {
   "cell_type": "markdown",
   "metadata": {},
   "source": [
    "# Additional ideas \n",
    "\n",
    "The types of pages that get the most views - look at pageview data for all pages and then cluster pages see if there is a similarity there or not."
   ]
  },
  {
   "cell_type": "code",
   "execution_count": null,
   "metadata": {},
   "outputs": [],
   "source": []
  }
 ],
 "metadata": {
  "kernelspec": {
   "display_name": "Python 3",
   "language": "python",
   "name": "python3"
  },
  "language_info": {
   "codemirror_mode": {
    "name": "ipython",
    "version": 3
   },
   "file_extension": ".py",
   "mimetype": "text/x-python",
   "name": "python",
   "nbconvert_exporter": "python",
   "pygments_lexer": "ipython3",
   "version": "3.6.6"
  }
 },
 "nbformat": 4,
 "nbformat_minor": 2
}
