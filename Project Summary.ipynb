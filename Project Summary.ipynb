{
 "cells": [
  {
   "cell_type": "markdown",
   "metadata": {},
   "source": [
    "# Summary\n",
    "\n"
   ]
  },
  {
   "cell_type": "markdown",
   "metadata": {},
   "source": [
    "# Hypotheses \n",
    "\n",
    "## 1. Characteristics of a wikipeida page impact its popularity\n",
    "\n",
    "A wikipedia page can contain an arbitrary amount of text, external links, wikipedia links, and image files. It is possible that there exists an optimal set of the characteristics for a pages popularity. \n",
    "\n",
    "                                    coef\tstd err\t    t\t    P>|t|\t[0.025\t0.975]\n",
    "    intercept\t                    0.2170\t0.168\t    1.290\t0.197\t-0.113\t0.547\n",
    "    log10_external_link_count\t    0.4403\t0.036\t    12.310\t0.000\t0.370\t0.510\n",
    "    log10_backlink_wikilink_count\t0.3072\t0.026\t    11.906\t0.000\t0.257\t0.358\n",
    "    heading_count\t               -0.0055\t0.001\t   -4.007\t0.000\t-0.008\t-0.003\n",
    "    log10_wikifile_count\t        0.3749\t0.080\t    4.671\t0.000\t0.218\t0.532\n",
    "    log10_wikilink_count\t       -0.0062\t0.034\t   -0.183\t0.855\t-0.072\t0.060\n",
    "    log10_word_count\t            0.0469\t0.070\t    0.672\t0.502\t-0.090\t0.184\n",
    "    \n",
    "    \n",
    "\n",
    "\n",
    "\n",
    "## 2. Wikipedia page views are a predictor of high editing frequency\n",
    "\n",
    "\n",
    "## 3. Activity on wikipedia is succeptible to weekday and seasonal effects.\n"
   ]
  },
  {
   "cell_type": "markdown",
   "metadata": {},
   "source": [
    "# Data summary \n",
    "\n",
    "All data that were collected come from en.wikipedia. A description of the data and how it is stored is detailed below:\n",
    "\n",
    "## How data was collected\n",
    "\n",
    "Revision history and historical wiki link: [20180626_WEV_Collection_revision_history_and_links](data_collection_notebooks/20180626_WEV_Collection_revision_history_and_links.ipynb)\n",
    "\n",
    "Page view data: [20180628_WEV_Pageview_data_collection](data_collection_notebooks/20180628_WEV_Pageview_data_collection.ipynb)\n",
    "\n",
    "Backlinks: [20180706_WEV_Collecting_backinks](data_collection_notebooks/20180706_WEV_Collecting_backinks.ipynb)\n",
    "\n",
    "## Description of Data\n",
    "\n",
    "**1. Revision history of pages with metadata from ~June 2015 - ~July 2018**\n",
    "\n",
    "* Description of data\n",
    "* Metadata includes: 'page_title', 'revid', 'parentid', 'user', 'userid', 'timestamp', 'comment', 'character_count',   'word_count', 'external_link_count', 'heading_count', 'wikifile_count', 'wikilink_count'\n",
    "* Data are stored in individual CSV files for each page - with each row corresponding registered revision\n",
    "* There is a unique CSV for \n",
    "    \n",
    "**2. Historical wiki link data for each page**\n",
    "    \n",
    "* Storage: single layer dictionary stored as a .json for each page\n",
    "* Storage Description: Keys are the title of a wikipage this linked to by the titular wikipage, value is a list of all revision IDs of the titular page which contain that wikilink\n",
    "    \n",
    "**3. Daily page views for each page from ~June 2015 - ~July 2018**\n",
    "\n",
    "* Data consists of 'page_title', 'timestamp', 'page_views'\n",
    "* Data is stored in a single CSV file\n",
    "    \n",
    "**4. Backlinks for each wikipedia page from a single day ~July 2018**\n",
    "\n",
    "* Description of data: This data enumarates all of the pages on wikpedia which point to a specific page\n",
    "* Storage: Single .json file \n",
    "* Storage description: .json dicitionary key is the wikipage and value is a list of tuples (page_ID, page_title) which each describe a single page which points to to this page\n",
    "\n",
    "\n",
    "\n"
   ]
  },
  {
   "cell_type": "code",
   "execution_count": null,
   "metadata": {},
   "outputs": [],
   "source": []
  }
 ],
 "metadata": {
  "kernelspec": {
   "display_name": "Python 3",
   "language": "python",
   "name": "python3"
  },
  "language_info": {
   "codemirror_mode": {
    "name": "ipython",
    "version": 3
   },
   "file_extension": ".py",
   "mimetype": "text/x-python",
   "name": "python",
   "nbconvert_exporter": "python",
   "pygments_lexer": "ipython3",
   "version": "3.6.6"
  }
 },
 "nbformat": 4,
 "nbformat_minor": 2
}
