{
 "cells": [
  {
   "cell_type": "markdown",
   "metadata": {},
   "source": [
    "# Summary\n",
    "\n",
    "In investigating what attributes of a wikipedia page most correlate to the popularity of page it was found (1) that the number of images contained in a wikedia page, (2) the number of links contained in a page pointing outside of wikipedia, and (3) the number of wikipedia pages that point to a page are the most significant indicators of popularity. Specifically, these parameters were used to create a linear regression model which explains ~34% of pageveiw varience.  "
   ]
  },
  {
   "cell_type": "markdown",
   "metadata": {},
   "source": [
    "# Hypothesis\n",
    "\n",
    "## 1. Characteristics of a wikipeida page impact its popularity\n",
    "\n",
    "A wikipedia page can contain an arbitrary amount of text, external links, wikipedia links, and image files. It is possible that there exists an optimal set of the characteristics for a pages popularity.    \n",
    "    "
   ]
  },
  {
   "cell_type": "markdown",
   "metadata": {},
   "source": [
    "# Data summary \n",
    "\n",
    "All data that were collected come from en.wikipedia. A description of the data and how it is stored is detailed below:\n",
    "\n",
    "## How data was collected\n",
    "\n",
    "Revision history and historical wiki link: [20180626_WEV_Collection_revision_history_and_links](data_collection_notebooks/20180626_WEV_Collection_revision_history_and_links.ipynb)\n",
    "\n",
    "Page view data: [20180628_WEV_Pageview_data_collection](data_collection_notebooks/20180628_WEV_Pageview_data_collection.ipynb)\n",
    "\n",
    "Backlinks: [20180706_WEV_Collecting_backinks](data_collection_notebooks/20180706_WEV_Collecting_backinks.ipynb)\n",
    "\n",
    "## Description of Data\n",
    "\n",
    "**1. Revision history of pages with metadata from ~June 2015 - ~July 2018**\n",
    "\n",
    "* Description of data\n",
    "* Metadata includes: 'page_title', 'revid', 'parentid', 'user', 'userid', 'timestamp', 'comment', 'character_count',   'word_count', 'external_link_count', 'heading_count', 'wikifile_count', 'wikilink_count'\n",
    "* Data are stored in individual CSV files for each page - with each row corresponding registered revision\n",
    "* There is a unique CSV for \n",
    "    \n",
    "**2. Historical wiki link data for each page**\n",
    "    \n",
    "* Storage: single layer dictionary stored as a .json for each page\n",
    "* Storage Description: Keys are the title of a wikipage this linked to by the titular wikipage, value is a list of all revision IDs of the titular page which contain that wikilink\n",
    "    \n",
    "**3. Daily page views for each page from ~June 2015 - ~July 2018**\n",
    "\n",
    "* Data consists of 'page_title', 'timestamp', 'page_views'\n",
    "* Data is stored in a single CSV file\n",
    "    \n",
    "**4. Backlinks for each wikipedia page from a single day ~July 2018**\n",
    "\n",
    "* Description of data: This data enumarates all of the pages on wikpedia which point to a specific page\n",
    "* Storage: Single .json file \n",
    "* Storage description: .json dicitionary key is the wikipage and value is a list of tuples (page_ID, page_title) which each describe a single page which points to to this page\n",
    "\n",
    "\n",
    "\n"
   ]
  }
 ],
 "metadata": {
  "kernelspec": {
   "display_name": "Python 3",
   "language": "python",
   "name": "python3"
  },
  "language_info": {
   "codemirror_mode": {
    "name": "ipython",
    "version": 3
   },
   "file_extension": ".py",
   "mimetype": "text/x-python",
   "name": "python",
   "nbconvert_exporter": "python",
   "pygments_lexer": "ipython3",
   "version": "3.6.6"
  }
 },
 "nbformat": 4,
 "nbformat_minor": 2
}
