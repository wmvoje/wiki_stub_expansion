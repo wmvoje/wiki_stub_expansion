{
 "cells": [
  {
   "cell_type": "markdown",
   "metadata": {},
   "source": [
    "Need to find a fast api interface for quering backlinks and catogories of pages"
   ]
  },
  {
   "cell_type": "code",
   "execution_count": 1,
   "metadata": {},
   "outputs": [],
   "source": [
    "import mwapi"
   ]
  },
  {
   "cell_type": "code",
   "execution_count": 2,
   "metadata": {},
   "outputs": [
    {
     "name": "stderr",
     "output_type": "stream",
     "text": [
      "Sending requests with default User-Agent.  Set 'user_agent' on mwapi.Session to quiet this message.\n"
     ]
    }
   ],
   "source": [
    "session = mwapi.Session('https://en.wikipedia.org')"
   ]
  },
  {
   "cell_type": "code",
   "execution_count": 6,
   "metadata": {},
   "outputs": [
    {
     "name": "stdout",
     "output_type": "stream",
     "text": [
      "173 ms ± 2.53 ms per loop (mean ± std. dev. of 7 runs, 10 loops each)\n"
     ]
    }
   ],
   "source": [
    "%timeit session.get(action='query', meta='userinfo')"
   ]
  },
  {
   "cell_type": "code",
   "execution_count": 12,
   "metadata": {},
   "outputs": [
    {
     "ename": "APIError",
     "evalue": "missingparam: One of the parameters \"bltitle\" and \"blpageid\" is required. -- See https://en.wikipedia.org/w/api.php for API usage. Subscribe to the mediawiki-api-announce mailing list at &lt;https://lists.wikimedia.org/mailman/listinfo/mediawiki-api-announce&gt; for notice of API deprecations and breaking changes.",
     "output_type": "error",
     "traceback": [
      "\u001b[1;31m---------------------------------------------------------------------------\u001b[0m",
      "\u001b[1;31mAPIError\u001b[0m                                  Traceback (most recent call last)",
      "\u001b[1;32m<ipython-input-12-709e5d440431>\u001b[0m in \u001b[0;36m<module>\u001b[1;34m()\u001b[0m\n\u001b[1;32m----> 1\u001b[1;33m \u001b[0msession\u001b[0m\u001b[1;33m.\u001b[0m\u001b[0mget\u001b[0m\u001b[1;33m(\u001b[0m\u001b[0maction\u001b[0m\u001b[1;33m=\u001b[0m\u001b[1;34m'query'\u001b[0m\u001b[1;33m,\u001b[0m \u001b[0mtitles\u001b[0m \u001b[1;33m=\u001b[0m\u001b[1;34m'git'\u001b[0m\u001b[1;33m,\u001b[0m \u001b[0mprop\u001b[0m \u001b[1;33m=\u001b[0m \u001b[1;34m'info|revisions'\u001b[0m\u001b[1;33m,\u001b[0m \u001b[0mlist\u001b[0m\u001b[1;33m=\u001b[0m\u001b[1;34m'backlinks'\u001b[0m\u001b[1;33m)\u001b[0m\u001b[1;33m\u001b[0m\u001b[0m\n\u001b[0m",
      "\u001b[1;32mc:\\users\\willi\\appdata\\local\\programs\\python\\python36-32\\lib\\site-packages\\mwapi\\session.py\u001b[0m in \u001b[0;36mget\u001b[1;34m(self, query_continue, auth, continuation, **params)\u001b[0m\n\u001b[0;32m    307\u001b[0m         return self.request('GET', params=params, auth=auth,\n\u001b[0;32m    308\u001b[0m                             \u001b[0mquery_continue\u001b[0m\u001b[1;33m=\u001b[0m\u001b[0mquery_continue\u001b[0m\u001b[1;33m,\u001b[0m\u001b[1;33m\u001b[0m\u001b[0m\n\u001b[1;32m--> 309\u001b[1;33m                             continuation=continuation)\n\u001b[0m\u001b[0;32m    310\u001b[0m \u001b[1;33m\u001b[0m\u001b[0m\n\u001b[0;32m    311\u001b[0m     def post(self, query_continue=None, upload_file=None, auth=None,\n",
      "\u001b[1;32mc:\\users\\willi\\appdata\\local\\programs\\python\\python36-32\\lib\\site-packages\\mwapi\\session.py\u001b[0m in \u001b[0;36mrequest\u001b[1;34m(self, method, params, query_continue, files, auth, continuation)\u001b[0m\n\u001b[0;32m    169\u001b[0m         \u001b[1;32melse\u001b[0m\u001b[1;33m:\u001b[0m\u001b[1;33m\u001b[0m\u001b[0m\n\u001b[0;32m    170\u001b[0m             return self._request(method, params=normal_params, auth=auth,\n\u001b[1;32m--> 171\u001b[1;33m                                  files=files)\n\u001b[0m\u001b[0;32m    172\u001b[0m \u001b[1;33m\u001b[0m\u001b[0m\n\u001b[0;32m    173\u001b[0m     def continuation(self, method, params=None, query_continue=None,\n",
      "\u001b[1;32mc:\\users\\willi\\appdata\\local\\programs\\python\\python36-32\\lib\\site-packages\\mwapi\\session.py\u001b[0m in \u001b[0;36m_request\u001b[1;34m(self, method, params, files, auth)\u001b[0m\n\u001b[0;32m    124\u001b[0m \u001b[1;33m\u001b[0m\u001b[0m\n\u001b[0;32m    125\u001b[0m         \u001b[1;32mif\u001b[0m \u001b[1;34m'error'\u001b[0m \u001b[1;32min\u001b[0m \u001b[0mdoc\u001b[0m\u001b[1;33m:\u001b[0m\u001b[1;33m\u001b[0m\u001b[0m\n\u001b[1;32m--> 126\u001b[1;33m             \u001b[1;32mraise\u001b[0m \u001b[0mAPIError\u001b[0m\u001b[1;33m.\u001b[0m\u001b[0mfrom_doc\u001b[0m\u001b[1;33m(\u001b[0m\u001b[0mdoc\u001b[0m\u001b[1;33m[\u001b[0m\u001b[1;34m'error'\u001b[0m\u001b[1;33m]\u001b[0m\u001b[1;33m)\u001b[0m\u001b[1;33m\u001b[0m\u001b[0m\n\u001b[0m\u001b[0;32m    127\u001b[0m \u001b[1;33m\u001b[0m\u001b[0m\n\u001b[0;32m    128\u001b[0m         \u001b[1;32mif\u001b[0m \u001b[1;34m'warnings'\u001b[0m \u001b[1;32min\u001b[0m \u001b[0mdoc\u001b[0m\u001b[1;33m:\u001b[0m\u001b[1;33m\u001b[0m\u001b[0m\n",
      "\u001b[1;31mAPIError\u001b[0m: missingparam: One of the parameters \"bltitle\" and \"blpageid\" is required. -- See https://en.wikipedia.org/w/api.php for API usage. Subscribe to the mediawiki-api-announce mailing list at &lt;https://lists.wikimedia.org/mailman/listinfo/mediawiki-api-announce&gt; for notice of API deprecations and breaking changes."
     ]
    }
   ],
   "source": [
    "session.get(action='query', titles ='git', prop = 'info|revisions', list='backlinks')"
   ]
  },
  {
   "cell_type": "code",
   "execution_count": 36,
   "metadata": {},
   "outputs": [
    {
     "name": "stdout",
     "output_type": "stream",
     "text": [
      "6.26 s ± 492 ms per loop (mean ± std. dev. of 7 runs, 1 loop each)\n"
     ]
    }
   ],
   "source": [
    "%timeit [i for i in session.get(continuation=True, action='query', bltitle ='git', list='backlinks')]"
   ]
  },
  {
   "cell_type": "code",
   "execution_count": null,
   "metadata": {},
   "outputs": [],
   "source": [
    "dictionary = dict()\n",
    "for i in session.get(continuation=True, action='query', bltitle ='git', list='backlinks'):\n",
    "    \n",
    "    i['query']"
   ]
  },
  {
   "cell_type": "code",
   "execution_count": null,
   "metadata": {},
   "outputs": [],
   "source": []
  },
  {
   "cell_type": "code",
   "execution_count": null,
   "metadata": {},
   "outputs": [],
   "source": []
  },
  {
   "cell_type": "code",
   "execution_count": 50,
   "metadata": {},
   "outputs": [
    {
     "name": "stderr",
     "output_type": "stream",
     "text": [
      "The following query raised warnings: {'action': 'query', 'bltitle': 'firefox', 'list': 'backlinks|timestamp', 'format': 'json'}\n",
      "\t- query -- {'*': 'Unrecognized value for parameter \"list\": timestamp.'}\n"
     ]
    }
   ],
   "source": [
    "test = session.get(action='query', bltitle ='firefox', list='backlinks')"
   ]
  },
  {
   "cell_type": "code",
   "execution_count": 49,
   "metadata": {},
   "outputs": [
    {
     "data": {
      "text/plain": [
       "{'batchcomplete': '',\n",
       " 'continue': {'blcontinue': '0|12794', 'continue': '-||'},\n",
       " 'query': {'backlinks': [{'pageid': 4573, 'ns': 0, 'title': 'Bugzilla'},\n",
       "   {'pageid': 4647, 'ns': 0, 'title': 'Breton language'},\n",
       "   {'pageid': 6857, 'ns': 0, 'title': 'Computer multitasking'},\n",
       "   {'pageid': 7220, 'ns': 0, 'title': 'Common Gateway Interface'},\n",
       "   {'pageid': 7681, 'ns': 0, 'title': 'ClearType'},\n",
       "   {'pageid': 8242, 'ns': 0, 'title': 'Debian'},\n",
       "   {'pageid': 8743, 'ns': 0, 'title': 'Document Object Model'},\n",
       "   {'pageid': 8996, 'ns': 0, 'title': 'Dynamic HTML'},\n",
       "   {'pageid': 9845, 'ns': 0, 'title': 'JavaScript'},\n",
       "   {'pageid': 10635, 'ns': 0, 'title': 'Free software'}]}}"
      ]
     },
     "execution_count": 49,
     "metadata": {},
     "output_type": "execute_result"
    }
   ],
   "source": [
    "test"
   ]
  },
  {
   "cell_type": "code",
   "execution_count": 31,
   "metadata": {},
   "outputs": [
    {
     "data": {
      "text/plain": [
       "{'batchcomplete': '',\n",
       " 'continue': {'blcontinue': '0|1332019', 'continue': '-||'},\n",
       " 'query': {'backlinks': [{'pageid': 431195, 'ns': 0, 'title': 'Trac'},\n",
       "   {'pageid': 538358, 'ns': 3, 'title': 'User talk:Hendry'},\n",
       "   {'pageid': 620709, 'ns': 0, 'title': 'List of Linux distributions'},\n",
       "   {'pageid': 696598, 'ns': 1, 'title': 'Talk:GNU Privacy Guard'},\n",
       "   {'pageid': 845521, 'ns': 0, 'title': 'GNU arch'},\n",
       "   {'pageid': 856954, 'ns': 0, 'title': 'Otter (software)'},\n",
       "   {'pageid': 896870, 'ns': 0, 'title': 'SVK'},\n",
       "   {'pageid': 934487,\n",
       "    'ns': 4,\n",
       "    'title': 'Wikipedia:Featured article candidates/Archived nominations/Index/June 2004'},\n",
       "   {'pageid': 1073331, 'ns': 2, 'title': 'User:Liao'},\n",
       "   {'pageid': 1100024,\n",
       "    'ns': 4,\n",
       "    'title': 'Wikipedia:Articles for deletion/Git'}]}}"
      ]
     },
     "execution_count": 31,
     "metadata": {},
     "output_type": "execute_result"
    }
   ],
   "source": [
    "session.get(query_continue={'blcontinue': '0|431195'}, action='query', bltitle ='git', list='backlinks')"
   ]
  },
  {
   "cell_type": "code",
   "execution_count": 57,
   "metadata": {},
   "outputs": [
    {
     "data": {
      "text/plain": [
       "{'batchcomplete': '',\n",
       " 'query': {'normalized': [{'from': 'firefox', 'to': 'Firefox'}],\n",
       "  'pages': {'210892': {'pageid': 210892,\n",
       "    'ns': 0,\n",
       "    'title': 'Firefox',\n",
       "    'contentmodel': 'wikitext',\n",
       "    'pagelanguage': 'en',\n",
       "    'pagelanguagehtmlcode': 'en',\n",
       "    'pagelanguagedir': 'ltr',\n",
       "    'touched': '2018-06-14T02:11:33Z',\n",
       "    'lastrevid': 845698460,\n",
       "    'length': 107242}}}}"
      ]
     },
     "execution_count": 57,
     "metadata": {},
     "output_type": "execute_result"
    }
   ],
   "source": [
    "session.get(action='query', titles='firefox', prop='info')"
   ]
  },
  {
   "cell_type": "code",
   "execution_count": null,
   "metadata": {},
   "outputs": [],
   "source": []
  }
 ],
 "metadata": {
  "kernelspec": {
   "display_name": "Python 3",
   "language": "python",
   "name": "python3"
  },
  "language_info": {
   "codemirror_mode": {
    "name": "ipython",
    "version": 3
   },
   "file_extension": ".py",
   "mimetype": "text/x-python",
   "name": "python",
   "nbconvert_exporter": "python",
   "pygments_lexer": "ipython3",
   "version": "3.6.5"
  }
 },
 "nbformat": 4,
 "nbformat_minor": 2
}
