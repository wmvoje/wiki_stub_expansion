{
 "cells": [
  {
   "cell_type": "code",
   "execution_count": 1,
   "metadata": {},
   "outputs": [],
   "source": [
    "#Figuring out how to query all connected websites"
   ]
  },
  {
   "cell_type": "code",
   "execution_count": 15,
   "metadata": {},
   "outputs": [],
   "source": [
    "import mediawikiapi "
   ]
  },
  {
   "cell_type": "code",
   "execution_count": 16,
   "metadata": {},
   "outputs": [],
   "source": [
    "test = mediawikiapi.MediaWikiAPI()"
   ]
  },
  {
   "cell_type": "code",
   "execution_count": 17,
   "metadata": {},
   "outputs": [],
   "source": [
    "test_page = test.page('git')"
   ]
  },
  {
   "cell_type": "code",
   "execution_count": 1,
   "metadata": {},
   "outputs": [],
   "source": [
    "from mwviews.api import PageviewsClient\n",
    "\n",
    "p = PageviewsClient(user_agent = 'williamvoje@gmail.com')"
   ]
  },
  {
   "cell_type": "code",
   "execution_count": 5,
   "metadata": {},
   "outputs": [],
   "source": [
    "test = p.article_views('en.wikipedia', ['Cryptocurrency'])"
   ]
  },
  {
   "cell_type": "code",
   "execution_count": 6,
   "metadata": {},
   "outputs": [
    {
     "data": {
      "text/plain": [
       "defaultdict(dict,\n",
       "            {datetime.datetime(2018, 5, 19, 0, 0): {'Cryptocurrency': 5244},\n",
       "             datetime.datetime(2018, 5, 20, 0, 0): {'Cryptocurrency': 4913},\n",
       "             datetime.datetime(2018, 5, 21, 0, 0): {'Cryptocurrency': 6425},\n",
       "             datetime.datetime(2018, 5, 22, 0, 0): {'Cryptocurrency': 6910},\n",
       "             datetime.datetime(2018, 5, 23, 0, 0): {'Cryptocurrency': 6870},\n",
       "             datetime.datetime(2018, 5, 24, 0, 0): {'Cryptocurrency': 6351},\n",
       "             datetime.datetime(2018, 5, 25, 0, 0): {'Cryptocurrency': 6364},\n",
       "             datetime.datetime(2018, 5, 26, 0, 0): {'Cryptocurrency': 4042},\n",
       "             datetime.datetime(2018, 5, 27, 0, 0): {'Cryptocurrency': 5121},\n",
       "             datetime.datetime(2018, 5, 28, 0, 0): {'Cryptocurrency': 5580},\n",
       "             datetime.datetime(2018, 5, 29, 0, 0): {'Cryptocurrency': 6527},\n",
       "             datetime.datetime(2018, 5, 30, 0, 0): {'Cryptocurrency': 6533},\n",
       "             datetime.datetime(2018, 5, 31, 0, 0): {'Cryptocurrency': 6330},\n",
       "             datetime.datetime(2018, 6, 1, 0, 0): {'Cryptocurrency': 5062},\n",
       "             datetime.datetime(2018, 6, 2, 0, 0): {'Cryptocurrency': 4319},\n",
       "             datetime.datetime(2018, 6, 3, 0, 0): {'Cryptocurrency': 4478},\n",
       "             datetime.datetime(2018, 6, 4, 0, 0): {'Cryptocurrency': 6791},\n",
       "             datetime.datetime(2018, 6, 5, 0, 0): {'Cryptocurrency': 6630},\n",
       "             datetime.datetime(2018, 6, 6, 0, 0): {'Cryptocurrency': 8101},\n",
       "             datetime.datetime(2018, 6, 7, 0, 0): {'Cryptocurrency': 6696},\n",
       "             datetime.datetime(2018, 6, 8, 0, 0): {'Cryptocurrency': 6491},\n",
       "             datetime.datetime(2018, 6, 9, 0, 0): {'Cryptocurrency': 4968},\n",
       "             datetime.datetime(2018, 6, 10, 0, 0): {'Cryptocurrency': 5412},\n",
       "             datetime.datetime(2018, 6, 11, 0, 0): {'Cryptocurrency': 6716},\n",
       "             datetime.datetime(2018, 6, 12, 0, 0): {'Cryptocurrency': 7018},\n",
       "             datetime.datetime(2018, 6, 13, 0, 0): {'Cryptocurrency': 6649},\n",
       "             datetime.datetime(2018, 6, 14, 0, 0): {'Cryptocurrency': 6304},\n",
       "             datetime.datetime(2018, 6, 15, 0, 0): {'Cryptocurrency': 5533},\n",
       "             datetime.datetime(2018, 6, 16, 0, 0): {'Cryptocurrency': 4050},\n",
       "             datetime.datetime(2018, 6, 17, 0, 0): {'Cryptocurrency': 4313},\n",
       "             datetime.datetime(2018, 6, 18, 0, 0): {'Cryptocurrency': None}})"
      ]
     },
     "execution_count": 6,
     "metadata": {},
     "output_type": "execute_result"
    }
   ],
   "source": [
    "test"
   ]
  },
  {
   "cell_type": "code",
   "execution_count": 4,
   "metadata": {},
   "outputs": [
    {
     "ename": "Exception",
     "evalue": "The pageview API returned nothing useful at: https://wikimedia.org/api/rest_v1/metrics/pageviews/top/en.wikipedia/all-access/2015/june/13",
     "output_type": "error",
     "traceback": [
      "\u001b[1;31m---------------------------------------------------------------------------\u001b[0m",
      "\u001b[1;31mException\u001b[0m                                 Traceback (most recent call last)",
      "\u001b[1;32m<ipython-input-4-862748c0e1e7>\u001b[0m in \u001b[0;36m<module>\u001b[1;34m()\u001b[0m\n\u001b[1;32m----> 1\u001b[1;33m \u001b[0mp\u001b[0m\u001b[1;33m.\u001b[0m\u001b[0mtop_articles\u001b[0m\u001b[1;33m(\u001b[0m\u001b[1;34m'en.wikipedia'\u001b[0m\u001b[1;33m,\u001b[0m\u001b[0myear\u001b[0m\u001b[1;33m=\u001b[0m\u001b[1;34m'2015'\u001b[0m\u001b[1;33m,\u001b[0m \u001b[0mmonth\u001b[0m\u001b[1;33m=\u001b[0m\u001b[1;34m'june'\u001b[0m\u001b[1;33m,\u001b[0m \u001b[0mday\u001b[0m\u001b[1;33m=\u001b[0m\u001b[1;34m'13'\u001b[0m\u001b[1;33m)\u001b[0m\u001b[1;33m\u001b[0m\u001b[0m\n\u001b[0m",
      "\u001b[1;32mc:\\users\\willi\\appdata\\local\\programs\\python\\python36-32\\lib\\site-packages\\mwviews\\api\\pageviews.py\u001b[0m in \u001b[0;36mtop_articles\u001b[1;34m(self, project, access, year, month, day, limit)\u001b[0m\n\u001b[0;32m    299\u001b[0m \u001b[1;33m\u001b[0m\u001b[0m\n\u001b[0;32m    300\u001b[0m         raise Exception(\n\u001b[1;32m--> 301\u001b[1;33m             \u001b[1;34m'The pageview API returned nothing useful at: {}'\u001b[0m\u001b[1;33m.\u001b[0m\u001b[0mformat\u001b[0m\u001b[1;33m(\u001b[0m\u001b[0murl\u001b[0m\u001b[1;33m)\u001b[0m\u001b[1;33m\u001b[0m\u001b[0m\n\u001b[0m\u001b[0;32m    302\u001b[0m         )\n\u001b[0;32m    303\u001b[0m \u001b[1;33m\u001b[0m\u001b[0m\n",
      "\u001b[1;31mException\u001b[0m: The pageview API returned nothing useful at: https://wikimedia.org/api/rest_v1/metrics/pageviews/top/en.wikipedia/all-access/2015/june/13"
     ]
    }
   ],
   "source": [
    "p.top_articles('en.wikipedia',year='2015', month='june', day='13')"
   ]
  },
  {
   "cell_type": "code",
   "execution_count": 25,
   "metadata": {},
   "outputs": [],
   "source": [
    "p = PageviewsClient(user_agent = 'https://www.mediawiki.org/wiki/REST_API')"
   ]
  },
  {
   "cell_type": "code",
   "execution_count": 30,
   "metadata": {},
   "outputs": [
    {
     "ename": "Exception",
     "evalue": "The pageview API returned nothing useful at: https://wikimedia.org/api/rest_v1/metrics/pageviews/top/en.wikipedia.org/all-access/2018/06/14",
     "output_type": "error",
     "traceback": [
      "\u001b[1;31m---------------------------------------------------------------------------\u001b[0m",
      "\u001b[1;31mException\u001b[0m                                 Traceback (most recent call last)",
      "\u001b[1;32m<ipython-input-30-19f3f2d36f99>\u001b[0m in \u001b[0;36m<module>\u001b[1;34m()\u001b[0m\n\u001b[1;32m----> 1\u001b[1;33m \u001b[0mp\u001b[0m\u001b[1;33m.\u001b[0m\u001b[0mtop_articles\u001b[0m\u001b[1;33m(\u001b[0m\u001b[1;34m'en.wikipedia.org'\u001b[0m\u001b[1;33m)\u001b[0m\u001b[1;33m\u001b[0m\u001b[0m\n\u001b[0m",
      "\u001b[1;32mc:\\users\\willi\\appdata\\local\\programs\\python\\python36-32\\lib\\site-packages\\mwviews\\api\\pageviews.py\u001b[0m in \u001b[0;36mtop_articles\u001b[1;34m(self, project, access, year, month, day, limit)\u001b[0m\n\u001b[0;32m    299\u001b[0m \u001b[1;33m\u001b[0m\u001b[0m\n\u001b[0;32m    300\u001b[0m         raise Exception(\n\u001b[1;32m--> 301\u001b[1;33m             \u001b[1;34m'The pageview API returned nothing useful at: {}'\u001b[0m\u001b[1;33m.\u001b[0m\u001b[0mformat\u001b[0m\u001b[1;33m(\u001b[0m\u001b[0murl\u001b[0m\u001b[1;33m)\u001b[0m\u001b[1;33m\u001b[0m\u001b[0m\n\u001b[0m\u001b[0;32m    302\u001b[0m         )\n\u001b[0;32m    303\u001b[0m \u001b[1;33m\u001b[0m\u001b[0m\n",
      "\u001b[1;31mException\u001b[0m: The pageview API returned nothing useful at: https://wikimedia.org/api/rest_v1/metrics/pageviews/top/en.wikipedia.org/all-access/2018/06/14"
     ]
    }
   ],
   "source": [
    "p.top_articles('en.wikipedia.org')"
   ]
  },
  {
   "cell_type": "code",
   "execution_count": 19,
   "metadata": {},
   "outputs": [
    {
     "data": {
      "text/plain": [
       "['AccuRev SCM',\n",
       " 'Andrew Tridgell',\n",
       " 'Apache MINA',\n",
       " 'Apache Subversion',\n",
       " 'Apollo Computer',\n",
       " 'Apress',\n",
       " 'ArX',\n",
       " 'Arbitrary code execution',\n",
       " 'Bazaar (software)',\n",
       " 'Berkeley Software Distribution',\n",
       " 'Binary large object',\n",
       " 'BitKeeper',\n",
       " 'Black Duck Open Hub',\n",
       " 'Branching (version control)',\n",
       " 'British English',\n",
       " 'CA Harvest Software Change Manager',\n",
       " 'CVSNT',\n",
       " 'C (programming language)',\n",
       " 'Central processing unit',\n",
       " 'Changeset',\n",
       " 'Client–server',\n",
       " 'Code Co-op',\n",
       " 'Codeville',\n",
       " 'Cogito (software)',\n",
       " 'Commit (version control)',\n",
       " 'Comparison of source code hosting facilities',\n",
       " 'Comparison of version control software',\n",
       " 'Computer file',\n",
       " 'Computing platform',\n",
       " 'Concurrent Versions System',\n",
       " 'Content-addressable storage',\n",
       " 'Cryptographic hash function',\n",
       " 'Darcs',\n",
       " 'Data comparison',\n",
       " 'Data structure',\n",
       " 'Delta encoding',\n",
       " 'Diff',\n",
       " 'Digital signature',\n",
       " 'Dimensions CM',\n",
       " 'Directory (computing)',\n",
       " 'Distributed Concurrent Versions System',\n",
       " 'Distributed revision control',\n",
       " 'Distributed version control',\n",
       " 'Eclipse (software)',\n",
       " 'Eclipse Foundation',\n",
       " 'Endevor',\n",
       " 'File Transfer Protocol',\n",
       " 'Fork (software development)',\n",
       " 'Fossil (software)',\n",
       " 'Free and open-source software',\n",
       " 'Free and open source software',\n",
       " 'GNOME Core Applications',\n",
       " 'GNU Bazaar',\n",
       " 'GNU General Public License',\n",
       " 'GNU LGPL',\n",
       " 'GNU arch',\n",
       " 'GPL license',\n",
       " 'GTK+',\n",
       " 'Garbage (computer science)',\n",
       " 'Garbage collection (computer science)',\n",
       " 'Git client',\n",
       " 'Gated commit',\n",
       " 'Gerrit (software)',\n",
       " 'GitHub',\n",
       " 'GitLab',\n",
       " 'Git (disambiguation)',\n",
       " 'Go (programming language)',\n",
       " 'Haskell (programming language)',\n",
       " 'Heuristic (computer science)',\n",
       " 'Hypertext Transfer Protocol',\n",
       " 'IA-32',\n",
       " 'IBM Configuration Management Version Control (CMVC)',\n",
       " 'IBM Software Configuration and Library Manager',\n",
       " 'Inode',\n",
       " 'Integrated Authority File',\n",
       " 'Interleaved deltas',\n",
       " 'International Standard Book Number',\n",
       " 'JavaScript',\n",
       " 'Java (software platform)',\n",
       " 'Jetty (web server)',\n",
       " 'Junio Hamano',\n",
       " 'Kallithea (software)',\n",
       " 'Larry McVoy',\n",
       " 'Linus Torvalds',\n",
       " 'Linux',\n",
       " 'Linux kernel',\n",
       " 'List of revision control software',\n",
       " 'List of version control software',\n",
       " 'MIT license',\n",
       " 'MacOS',\n",
       " 'Man-in-the-middle attack',\n",
       " 'Man page',\n",
       " 'Mercurial',\n",
       " 'Merge (version control)',\n",
       " 'Merkle tree',\n",
       " 'Microsoft',\n",
       " 'Microsoft Visual SourceSafe',\n",
       " 'Microsoft Visual Studio',\n",
       " 'Microsoft Windows',\n",
       " 'Modified BSD license',\n",
       " 'Monotone (software)',\n",
       " 'Node (networking)',\n",
       " 'Open Hub',\n",
       " 'Operating system',\n",
       " 'Order of magnitude',\n",
       " 'POSIX',\n",
       " 'PTC Integrity',\n",
       " 'PVCS',\n",
       " 'Panvalet',\n",
       " 'Perforce',\n",
       " 'Perforce Helix',\n",
       " 'Perl',\n",
       " 'Phabricator',\n",
       " 'Plastic SCM',\n",
       " 'Porting',\n",
       " 'Proprietary software',\n",
       " 'Python (programming language)',\n",
       " 'QVCS',\n",
       " 'Rational ClearCase',\n",
       " 'Rational Synergy',\n",
       " 'Rational Team Concert',\n",
       " 'Repository (version control)',\n",
       " 'Reverse engineering',\n",
       " 'Revision Control System',\n",
       " 'Revision tag',\n",
       " 'Rsync',\n",
       " 'Ruby (programming language)',\n",
       " 'SHA-1',\n",
       " 'SVK',\n",
       " 'Secure Shell',\n",
       " 'Self-hosting',\n",
       " 'Shell (computing)',\n",
       " 'Software categories',\n",
       " 'Software developer',\n",
       " 'Software development',\n",
       " 'Software license',\n",
       " 'Software maintenance',\n",
       " 'Software release life cycle',\n",
       " 'Solaris (operating system)',\n",
       " 'Source Code Control System',\n",
       " 'StGIT',\n",
       " 'Source code',\n",
       " 'Source code management',\n",
       " 'Source control management',\n",
       " 'StarTeam',\n",
       " 'Sun WorkShop TeamWare',\n",
       " 'Surround SCM',\n",
       " 'Svk',\n",
       " 'TCP and UDP port',\n",
       " 'Tcl',\n",
       " 'Team Foundation Server',\n",
       " 'Three-way merge',\n",
       " 'Torvalds',\n",
       " 'Trac',\n",
       " 'Trunk (software)',\n",
       " 'Usenet newsgroup',\n",
       " 'Vault (version control system)',\n",
       " 'Veracity (software)',\n",
       " 'Version control',\n",
       " 'Version control system',\n",
       " 'Visual SourceSafe',\n",
       " 'Visual Studio Team Services',\n",
       " 'Wayback Machine',\n",
       " 'X86-64',\n",
       " 'Zlib',\n",
       " 'Wikipedia:Citation needed',\n",
       " 'Wikipedia:Please clarify',\n",
       " 'Wikipedia:Verifiability',\n",
       " 'Template:Latest preview software release/Git',\n",
       " 'Template:Latest stable software release/Git',\n",
       " 'Template:Version control software',\n",
       " 'Template talk:Version control software',\n",
       " 'Help:Authority control',\n",
       " 'Help:IPA/English',\n",
       " 'Help:Introduction to referencing with Wiki Markup/1',\n",
       " 'Help:Maintenance template removal',\n",
       " 'Category:Articles needing additional references from June 2018',\n",
       " 'Category:Articles with unsourced statements from April 2017',\n",
       " 'Category:Articles with unsourced statements from February 2017',\n",
       " 'Category:Use dmy dates from March 2012',\n",
       " 'Category:Version control systems',\n",
       " 'Category:Wikipedia articles needing clarification from June 2014',\n",
       " 'Portal:Free software',\n",
       " 'Portal:Internet',\n",
       " 'Portal:Linux']"
      ]
     },
     "execution_count": 19,
     "metadata": {},
     "output_type": "execute_result"
    }
   ],
   "source": [
    "test_page.backlinks"
   ]
  },
  {
   "cell_type": "code",
   "execution_count": null,
   "metadata": {},
   "outputs": [],
   "source": [
    "test_page.request"
   ]
  }
 ],
 "metadata": {
  "kernelspec": {
   "display_name": "Python 3",
   "language": "python",
   "name": "python3"
  },
  "language_info": {
   "codemirror_mode": {
    "name": "ipython",
    "version": 3
   },
   "file_extension": ".py",
   "mimetype": "text/x-python",
   "name": "python",
   "nbconvert_exporter": "python",
   "pygments_lexer": "ipython3",
   "version": "3.6.5"
  }
 },
 "nbformat": 4,
 "nbformat_minor": 2
}
