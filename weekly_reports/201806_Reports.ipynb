{
 "cells": [
  {
   "cell_type": "markdown",
   "metadata": {},
   "source": [
    "# Week of 20180618\n",
    "\n",
    "## Summary\n",
    "\n",
    "This week was spent trying to optimize gathering revision history from wikipedia. For the metrics I'm considering they are the most time intensive to query. In my effort I devloped code to process raw HTML dumps from wikipedia. Though these are faster at getting the raw data on my computer it took significantly longer to then parse the data. Consequnetly I'm going to stick with using the wikipedia API. \n",
    "\n",
    "I'm running into issues with non unicode text. This is especially troublesome for any non english text. \n",
    "\n",
    "## Projects\n",
    "\n",
    "### Editing History \n",
    "\n",
    "Editing hist\n",
    "\n",
    "### Pageview Data\n",
    "\n",
    "Pageview data is simple to collect\n",
    "\n",
    "## Thoughts/Ideas"
   ]
  }
 ],
 "metadata": {
  "kernelspec": {
   "display_name": "Python 3",
   "language": "python",
   "name": "python3"
  },
  "language_info": {
   "codemirror_mode": {
    "name": "ipython",
    "version": 3
   },
   "file_extension": ".py",
   "mimetype": "text/x-python",
   "name": "python",
   "nbconvert_exporter": "python",
   "pygments_lexer": "ipython3",
   "version": "3.6.5"
  }
 },
 "nbformat": 4,
 "nbformat_minor": 2
}
